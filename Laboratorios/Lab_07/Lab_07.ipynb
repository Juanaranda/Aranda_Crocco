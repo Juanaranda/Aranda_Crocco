{
  "cells": [
    {
      "cell_type": "markdown",
      "metadata": {
        "id": "XUZ1dFPHzAHl",
        "cell_id": "8dd9b572c805487a9fb430fdc4ab12bb",
        "deepnote_cell_height": 156.26666259765625,
        "deepnote_cell_type": "markdown"
      },
      "source": [
        "<h1><center>Laboratorio 7: La desperación de Mr. Lepin 🐼</center></h1>\n",
        "\n",
        "<center><strong>MDS7202: Laboratorio de Programación Científica para Ciencia de Datos</strong></center>"
      ]
    },
    {
      "cell_type": "markdown",
      "metadata": {
        "id": "UD8X1uhGzAHq",
        "cell_id": "d65413cd8566460dbceffcd13ca236e7",
        "deepnote_cell_type": "markdown"
      },
      "source": [
        "### Cuerpo Docente:\n",
        "\n",
        "- Profesor: Ignacio Meza, Gabriel Iturra\n",
        "- Auxiliar: Sebastián Tinoco\n",
        "- Ayudante: Arturo Lazcano, Angel Muñoz"
      ]
    },
    {
      "cell_type": "markdown",
      "metadata": {
        "id": "tXflExjqzAHr",
        "cell_id": "8e9217d02d124830a9b86046600a1605",
        "deepnote_cell_height": 172.13333129882812,
        "deepnote_cell_type": "markdown"
      },
      "source": [
        "### Equipo: SUPER IMPORTANTE - notebooks sin nombre no serán revisados\n",
        "\n",
        "- Nombre de alumno 1: Juan Aranda\n",
        "- Nombre de alumno 2: Nicolás Crocco"
      ]
    },
    {
      "cell_type": "markdown",
      "metadata": {
        "id": "AD-V0bbZzAHr",
        "cell_id": "010402b6d5f743b885a80d2e1c6ae11a",
        "deepnote_cell_height": 62.19999694824219,
        "deepnote_cell_type": "markdown"
      },
      "source": [
        "### **Link de repositorio de GitHub:** `https://github.com/Juanaranda/Aranda_Crocco`"
      ]
    },
    {
      "cell_type": "markdown",
      "metadata": {
        "id": "EcnsiQMkzAHr",
        "cell_id": "3abfe63b97c946e5ba1d4061b08e7913",
        "deepnote_cell_height": 165.06666564941406,
        "deepnote_cell_type": "markdown"
      },
      "source": [
        "### Indice\n",
        "\n",
        "1. [Temas a tratar](#Temas-a-tratar:)\n",
        "3. [Descripción del laboratorio](#Descripción-del-laboratorio.)\n",
        "4. [Desarrollo](#Desarrollo)"
      ]
    },
    {
      "cell_type": "markdown",
      "metadata": {
        "id": "6uBLPj1PzAHs",
        "deepnote_cell_height": 724.9000244140625,
        "cell_id": "ef0224c7a99e4b718b55493b0a1e99c4",
        "deepnote_cell_type": "markdown"
      },
      "source": [
        "# Temas a tratar\n",
        "\n",
        "- Aplicar Pandas para obtener características de un DataFrame.\n",
        "- Aplicar Pipelines.\n",
        "- Aplicar Clusters sobre un conjunto de datos.\n",
        "\n",
        "## Reglas:\n",
        "\n",
        "- **Grupos de 2 personas**\n",
        "- Cualquier duda fuera del horario de clases al foro. Mensajes al equipo docente serán respondidos por este medio.\n",
        "- Prohibidas las copias.\n",
        "- Pueden usar cualquer matrial del curso que estimen conveniente.\n",
        "- Código que no se pueda ejecutar, no será revisado.\n",
        "\n",
        "### Objetivos principales del laboratorio\n",
        "\n",
        "- Comprender y aprovechar las ventajas que nos ofrece la librería `pandas` con respecto a trabajar en Python 'puro'.\n",
        "- Crear nuevas características para entrenar un modelo de clustering.\n",
        "- Comprender como aplicar pipelines de Scikit-Learn para generar procesos más limpios.\n",
        "\n",
        "El laboratorio deberá ser desarrollado sin el uso indiscriminado de iteradores nativos de python (aka \"for\", \"while\"). La idea es que aprendan a exprimir al máximo las funciones optimizadas que nos entrega `numpy`, las cuales vale mencionar, son bastante más eficientes que los iteradores nativos sobre arreglos (*o tensores*)."
      ]
    },
    {
      "cell_type": "markdown",
      "metadata": {
        "id": "wrG4gYabzAHs",
        "cell_id": "59664481c26f4ac4a753765269b1db6a",
        "deepnote_cell_height": 69.86666870117188,
        "deepnote_cell_type": "markdown"
      },
      "source": [
        "## Descripción del laboratorio."
      ]
    },
    {
      "cell_type": "markdown",
      "metadata": {
        "id": "MhISwri4zAHy",
        "cell_id": "8c7bf8ea553d44c7a2efd61106a0bac2",
        "deepnote_cell_height": 61.866668701171875,
        "deepnote_cell_type": "markdown"
      },
      "source": [
        "### Importamos librerias utiles 😸"
      ]
    },
    {
      "cell_type": "code",
      "metadata": {
        "id": "uyc33dKdzAHy",
        "colab": {
          "base_uri": "https://localhost:8080/"
        },
        "cell_id": "67b4b29f0e6b48719b58d579276f2b19",
        "outputId": "3fc579ba-0daf-4410-b3bc-9059470310c3",
        "ExecuteTime": {
          "end_time": "2021-03-29T00:08:16.884674Z",
          "start_time": "2021-03-29T00:08:16.349846Z"
        },
        "source_hash": "a3741fd5",
        "execution_start": 1635469788590,
        "execution_millis": 8517,
        "deepnote_cell_height": 514.13330078125,
        "deepnote_to_be_reexecuted": false,
        "deepnote_cell_type": "code"
      },
      "source": [
        "# Libreria Core del lab.\n",
        "import numpy as np\n",
        "import pandas as pd\n",
        "import datetime\n",
        "from IPython.display import HTML\n",
        "\n",
        "# Libreria para plotear (En colab esta desactualizado plotly)\n",
        "!pip install --upgrade plotly\n",
        "import plotly.express as px\n",
        "import plotly.graph_objects as go\n",
        "\n",
        "# Librerias utiles\n",
        "from sklearn.manifold import TSNE\n",
        "from sklearn.cluster import KMeans\n",
        "from sklearn.base import BaseEstimator, TransformerMixin\n",
        "from sklearn.model_selection import train_test_split\n",
        "from sklearn.pipeline import Pipeline\n",
        "from sklearn.compose import ColumnTransformer\n",
        "from sklearn.preprocessing import FunctionTransformer"
      ],
      "execution_count": 1,
      "outputs": [
        {
          "output_type": "stream",
          "name": "stdout",
          "text": [
            "Requirement already satisfied: plotly in /usr/local/lib/python3.10/dist-packages (5.15.0)\n",
            "Collecting plotly\n",
            "  Downloading plotly-5.17.0-py2.py3-none-any.whl (15.6 MB)\n",
            "\u001b[2K     \u001b[90m━━━━━━━━━━━━━━━━━━━━━━━━━━━━━━━━━━━━━━━━\u001b[0m \u001b[32m15.6/15.6 MB\u001b[0m \u001b[31m108.3 MB/s\u001b[0m eta \u001b[36m0:00:00\u001b[0m\n",
            "\u001b[?25hRequirement already satisfied: tenacity>=6.2.0 in /usr/local/lib/python3.10/dist-packages (from plotly) (8.2.3)\n",
            "Requirement already satisfied: packaging in /usr/local/lib/python3.10/dist-packages (from plotly) (23.2)\n",
            "Installing collected packages: plotly\n",
            "  Attempting uninstall: plotly\n",
            "    Found existing installation: plotly 5.15.0\n",
            "    Uninstalling plotly-5.15.0:\n",
            "      Successfully uninstalled plotly-5.15.0\n",
            "\u001b[31mERROR: pip's dependency resolver does not currently take into account all the packages that are installed. This behaviour is the source of the following dependency conflicts.\n",
            "lida 0.0.10 requires fastapi, which is not installed.\n",
            "lida 0.0.10 requires kaleido, which is not installed.\n",
            "lida 0.0.10 requires python-multipart, which is not installed.\n",
            "lida 0.0.10 requires uvicorn, which is not installed.\u001b[0m\u001b[31m\n",
            "\u001b[0mSuccessfully installed plotly-5.17.0\n"
          ]
        }
      ]
    },
    {
      "cell_type": "code",
      "metadata": {
        "id": "gQ0-zPV4NNrq",
        "cell_id": "ce6a19ec6fc6486e832760ac3740d7ef",
        "source_hash": "c60dc4a7",
        "execution_start": 1635165625274,
        "execution_millis": 7,
        "deepnote_cell_height": 219.46665954589844,
        "deepnote_to_be_reexecuted": false,
        "deepnote_cell_type": "code",
        "outputId": "d6f0b9c4-8649-4028-8aa7-81c0d9942d44",
        "colab": {
          "base_uri": "https://localhost:8080/"
        }
      },
      "source": [
        "# Si usted está utilizando Colabolatory le puede ser útil este código para cargar los archivos.\n",
        "try:\n",
        "    from google.colab import drive\n",
        "    drive.mount(\"/content/drive\")\n",
        "    #path = '/content/drive/MyDrive/Laboratorios/Lab_07'\n",
        "    path = '/content/drive/MyDrive/12vo Semestre/Laboratorio de Programación Científica/Laboratorios/Lab_07'\n",
        "except:\n",
        "    print('Ignorando conexión drive-colab')"
      ],
      "execution_count": 2,
      "outputs": [
        {
          "output_type": "stream",
          "name": "stdout",
          "text": [
            "Mounted at /content/drive\n"
          ]
        }
      ]
    },
    {
      "cell_type": "markdown",
      "metadata": {
        "id": "QDwIXTh7bK_A",
        "cell_id": "28c7a8b483d84878ac5a4f7ba882b711",
        "owner_user_id": "badcc427-fd3d-4615-9296-faa43ec69cfb",
        "deepnote_cell_height": 133.86666870117188,
        "deepnote_cell_type": "markdown"
      },
      "source": [
        "# Segmentación de Clientes en Tienda de Retail 🛍️"
      ]
    },
    {
      "cell_type": "markdown",
      "metadata": {
        "tags": [],
        "cell_id": "6c6799ecc9e74272922d46a3b5a8b79e",
        "deepnote_cell_height": 294.683349609375,
        "deepnote_cell_type": "markdown",
        "id": "qY9ldj0ue3Ba"
      },
      "source": [
        "<p align=\"center\">\n",
        "  <img width=300 src=\"https://s1.eestatic.com/2018/04/14/social/la_jungla_-_social_299733421_73842361_854x640.jpg\">\n",
        "</p>"
      ]
    },
    {
      "cell_type": "markdown",
      "metadata": {
        "tags": [],
        "cell_id": "160bb2695f6547448bfb0f99420f952c",
        "deepnote_cell_height": 69.86666870117188,
        "deepnote_cell_type": "markdown",
        "id": "H8ZhiFZYe3Ba"
      },
      "source": [
        "## 1.1 Cargar Dataset"
      ]
    },
    {
      "cell_type": "markdown",
      "metadata": {
        "tags": [],
        "cell_id": "48d29c89e3b6455083f8fac764f97f3b",
        "deepnote_cell_height": 475.066650390625,
        "deepnote_cell_type": "markdown",
        "id": "MaIzog6Se3Bb"
      },
      "source": [
        "Mr. Lepin, en una nueva reunión, le cuenta a ud y su equipo que los resultados derivados del análisis exploratorio de dato presentaron una gran utilidad para la empresa y que tiene un gran entusiasmo por continuar trabajando con ustedes.\n",
        "Es por esto, que Mr. Lepin les pide que cargue y visualicen algunas de las filas que componen el Dataset.\n",
        "A continuación un extracto de lo parlamentado en la reunión:\n",
        "\n",
        "    - Usted: Es un gran logro para nuestro equipo que usted haya encontrado excelente el EDA. ¿Qué tiene en mente ahora?\n",
        "    - Mr. Lepin: Resulta que hace algún tiempo, mientras tomaba un mojito en una reunión de gerentes en Panamá, oí a un *chato* acerca de **LRMFP**, que es un modelo que permite personificar a los clientes a través de la fabricación de distintos atributos que describen a los clientes. Lo encontré es-tu-pendo ñatito.\n",
        "    - Usted: Ehh bueno. Investigaremos acerca de este modelo y veremos lo que podemos hacer.\n",
        "\n",
        "Por ende, su siguiente tarea es calcular **LRMFP** sobre cada cliente y luego hacer un análisis de las características generadas. Para esto, el área de ventas les entrega un nuevo archivo llamado `online_retail_II_cleaned.pickle`, quien posee los datos del DataFrame original limpios y listos para obtener las características solicitadas por Mr. Lepin."
      ]
    },
    {
      "cell_type": "code",
      "metadata": {
        "id": "7FNOu-CvjV5m",
        "colab": {
          "height": 206,
          "base_uri": "https://localhost:8080/"
        },
        "cell_id": "4d7d0f0855744e6c9d5a2198e5dcd690",
        "outputId": "167bdcb1-b605-4843-f673-24927decb89c",
        "source_hash": "d52b246c",
        "execution_start": 1635469797118,
        "execution_millis": 466,
        "deepnote_cell_height": 489.79998779296875,
        "deepnote_output_heights": [
          177
        ],
        "deepnote_to_be_reexecuted": false,
        "deepnote_cell_type": "code"
      },
      "source": [
        "df_retail = pd.read_pickle(path+\"/online_retail_II_cleaned.pickle\")\n",
        "df_retail = df_retail.astype(\n",
        "    {\n",
        "        \"Invoice\": \"category\",\n",
        "        \"StockCode\": \"category\",\n",
        "        \"Description\": \"category\",\n",
        "        \"Description\": str,\n",
        "        \"Customer ID\": \"category\",\n",
        "        \"Country\": \"category\"\n",
        "    }\n",
        ")\n",
        "df_retail.head()\n"
      ],
      "execution_count": 3,
      "outputs": [
        {
          "output_type": "execute_result",
          "data": {
            "text/plain": [
              "  Invoice StockCode                          Description  Quantity  \\\n",
              "0  489434     85048  15CM CHRISTMAS GLASS BALL 20 LIGHTS        12   \n",
              "1  489434    79323P                   PINK CHERRY LIGHTS        12   \n",
              "2  489434    79323W                  WHITE CHERRY LIGHTS        12   \n",
              "3  489434     22041         RECORD FRAME 7\" SINGLE SIZE         48   \n",
              "4  489434     21232       STRAWBERRY CERAMIC TRINKET BOX        24   \n",
              "\n",
              "          InvoiceDate  Price Customer ID         Country  \n",
              "0 2009-12-01 07:45:00   6.95     13085.0  United Kingdom  \n",
              "1 2009-12-01 07:45:00   6.75     13085.0  United Kingdom  \n",
              "2 2009-12-01 07:45:00   6.75     13085.0  United Kingdom  \n",
              "3 2009-12-01 07:45:00   2.10     13085.0  United Kingdom  \n",
              "4 2009-12-01 07:45:00   1.25     13085.0  United Kingdom  "
            ],
            "text/html": [
              "\n",
              "  <div id=\"df-aa648505-f90a-411c-85e8-7efafa9ec676\" class=\"colab-df-container\">\n",
              "    <div>\n",
              "<style scoped>\n",
              "    .dataframe tbody tr th:only-of-type {\n",
              "        vertical-align: middle;\n",
              "    }\n",
              "\n",
              "    .dataframe tbody tr th {\n",
              "        vertical-align: top;\n",
              "    }\n",
              "\n",
              "    .dataframe thead th {\n",
              "        text-align: right;\n",
              "    }\n",
              "</style>\n",
              "<table border=\"1\" class=\"dataframe\">\n",
              "  <thead>\n",
              "    <tr style=\"text-align: right;\">\n",
              "      <th></th>\n",
              "      <th>Invoice</th>\n",
              "      <th>StockCode</th>\n",
              "      <th>Description</th>\n",
              "      <th>Quantity</th>\n",
              "      <th>InvoiceDate</th>\n",
              "      <th>Price</th>\n",
              "      <th>Customer ID</th>\n",
              "      <th>Country</th>\n",
              "    </tr>\n",
              "  </thead>\n",
              "  <tbody>\n",
              "    <tr>\n",
              "      <th>0</th>\n",
              "      <td>489434</td>\n",
              "      <td>85048</td>\n",
              "      <td>15CM CHRISTMAS GLASS BALL 20 LIGHTS</td>\n",
              "      <td>12</td>\n",
              "      <td>2009-12-01 07:45:00</td>\n",
              "      <td>6.95</td>\n",
              "      <td>13085.0</td>\n",
              "      <td>United Kingdom</td>\n",
              "    </tr>\n",
              "    <tr>\n",
              "      <th>1</th>\n",
              "      <td>489434</td>\n",
              "      <td>79323P</td>\n",
              "      <td>PINK CHERRY LIGHTS</td>\n",
              "      <td>12</td>\n",
              "      <td>2009-12-01 07:45:00</td>\n",
              "      <td>6.75</td>\n",
              "      <td>13085.0</td>\n",
              "      <td>United Kingdom</td>\n",
              "    </tr>\n",
              "    <tr>\n",
              "      <th>2</th>\n",
              "      <td>489434</td>\n",
              "      <td>79323W</td>\n",
              "      <td>WHITE CHERRY LIGHTS</td>\n",
              "      <td>12</td>\n",
              "      <td>2009-12-01 07:45:00</td>\n",
              "      <td>6.75</td>\n",
              "      <td>13085.0</td>\n",
              "      <td>United Kingdom</td>\n",
              "    </tr>\n",
              "    <tr>\n",
              "      <th>3</th>\n",
              "      <td>489434</td>\n",
              "      <td>22041</td>\n",
              "      <td>RECORD FRAME 7\" SINGLE SIZE</td>\n",
              "      <td>48</td>\n",
              "      <td>2009-12-01 07:45:00</td>\n",
              "      <td>2.10</td>\n",
              "      <td>13085.0</td>\n",
              "      <td>United Kingdom</td>\n",
              "    </tr>\n",
              "    <tr>\n",
              "      <th>4</th>\n",
              "      <td>489434</td>\n",
              "      <td>21232</td>\n",
              "      <td>STRAWBERRY CERAMIC TRINKET BOX</td>\n",
              "      <td>24</td>\n",
              "      <td>2009-12-01 07:45:00</td>\n",
              "      <td>1.25</td>\n",
              "      <td>13085.0</td>\n",
              "      <td>United Kingdom</td>\n",
              "    </tr>\n",
              "  </tbody>\n",
              "</table>\n",
              "</div>\n",
              "    <div class=\"colab-df-buttons\">\n",
              "\n",
              "  <div class=\"colab-df-container\">\n",
              "    <button class=\"colab-df-convert\" onclick=\"convertToInteractive('df-aa648505-f90a-411c-85e8-7efafa9ec676')\"\n",
              "            title=\"Convert this dataframe to an interactive table.\"\n",
              "            style=\"display:none;\">\n",
              "\n",
              "  <svg xmlns=\"http://www.w3.org/2000/svg\" height=\"24px\" viewBox=\"0 -960 960 960\">\n",
              "    <path d=\"M120-120v-720h720v720H120Zm60-500h600v-160H180v160Zm220 220h160v-160H400v160Zm0 220h160v-160H400v160ZM180-400h160v-160H180v160Zm440 0h160v-160H620v160ZM180-180h160v-160H180v160Zm440 0h160v-160H620v160Z\"/>\n",
              "  </svg>\n",
              "    </button>\n",
              "\n",
              "  <style>\n",
              "    .colab-df-container {\n",
              "      display:flex;\n",
              "      gap: 12px;\n",
              "    }\n",
              "\n",
              "    .colab-df-convert {\n",
              "      background-color: #E8F0FE;\n",
              "      border: none;\n",
              "      border-radius: 50%;\n",
              "      cursor: pointer;\n",
              "      display: none;\n",
              "      fill: #1967D2;\n",
              "      height: 32px;\n",
              "      padding: 0 0 0 0;\n",
              "      width: 32px;\n",
              "    }\n",
              "\n",
              "    .colab-df-convert:hover {\n",
              "      background-color: #E2EBFA;\n",
              "      box-shadow: 0px 1px 2px rgba(60, 64, 67, 0.3), 0px 1px 3px 1px rgba(60, 64, 67, 0.15);\n",
              "      fill: #174EA6;\n",
              "    }\n",
              "\n",
              "    .colab-df-buttons div {\n",
              "      margin-bottom: 4px;\n",
              "    }\n",
              "\n",
              "    [theme=dark] .colab-df-convert {\n",
              "      background-color: #3B4455;\n",
              "      fill: #D2E3FC;\n",
              "    }\n",
              "\n",
              "    [theme=dark] .colab-df-convert:hover {\n",
              "      background-color: #434B5C;\n",
              "      box-shadow: 0px 1px 3px 1px rgba(0, 0, 0, 0.15);\n",
              "      filter: drop-shadow(0px 1px 2px rgba(0, 0, 0, 0.3));\n",
              "      fill: #FFFFFF;\n",
              "    }\n",
              "  </style>\n",
              "\n",
              "    <script>\n",
              "      const buttonEl =\n",
              "        document.querySelector('#df-aa648505-f90a-411c-85e8-7efafa9ec676 button.colab-df-convert');\n",
              "      buttonEl.style.display =\n",
              "        google.colab.kernel.accessAllowed ? 'block' : 'none';\n",
              "\n",
              "      async function convertToInteractive(key) {\n",
              "        const element = document.querySelector('#df-aa648505-f90a-411c-85e8-7efafa9ec676');\n",
              "        const dataTable =\n",
              "          await google.colab.kernel.invokeFunction('convertToInteractive',\n",
              "                                                    [key], {});\n",
              "        if (!dataTable) return;\n",
              "\n",
              "        const docLinkHtml = 'Like what you see? Visit the ' +\n",
              "          '<a target=\"_blank\" href=https://colab.research.google.com/notebooks/data_table.ipynb>data table notebook</a>'\n",
              "          + ' to learn more about interactive tables.';\n",
              "        element.innerHTML = '';\n",
              "        dataTable['output_type'] = 'display_data';\n",
              "        await google.colab.output.renderOutput(dataTable, element);\n",
              "        const docLink = document.createElement('div');\n",
              "        docLink.innerHTML = docLinkHtml;\n",
              "        element.appendChild(docLink);\n",
              "      }\n",
              "    </script>\n",
              "  </div>\n",
              "\n",
              "\n",
              "<div id=\"df-91ccb3c5-3f36-4453-9f3d-c5ef6fcc1a85\">\n",
              "  <button class=\"colab-df-quickchart\" onclick=\"quickchart('df-91ccb3c5-3f36-4453-9f3d-c5ef6fcc1a85')\"\n",
              "            title=\"Suggest charts.\"\n",
              "            style=\"display:none;\">\n",
              "\n",
              "<svg xmlns=\"http://www.w3.org/2000/svg\" height=\"24px\"viewBox=\"0 0 24 24\"\n",
              "     width=\"24px\">\n",
              "    <g>\n",
              "        <path d=\"M19 3H5c-1.1 0-2 .9-2 2v14c0 1.1.9 2 2 2h14c1.1 0 2-.9 2-2V5c0-1.1-.9-2-2-2zM9 17H7v-7h2v7zm4 0h-2V7h2v10zm4 0h-2v-4h2v4z\"/>\n",
              "    </g>\n",
              "</svg>\n",
              "  </button>\n",
              "\n",
              "<style>\n",
              "  .colab-df-quickchart {\n",
              "      --bg-color: #E8F0FE;\n",
              "      --fill-color: #1967D2;\n",
              "      --hover-bg-color: #E2EBFA;\n",
              "      --hover-fill-color: #174EA6;\n",
              "      --disabled-fill-color: #AAA;\n",
              "      --disabled-bg-color: #DDD;\n",
              "  }\n",
              "\n",
              "  [theme=dark] .colab-df-quickchart {\n",
              "      --bg-color: #3B4455;\n",
              "      --fill-color: #D2E3FC;\n",
              "      --hover-bg-color: #434B5C;\n",
              "      --hover-fill-color: #FFFFFF;\n",
              "      --disabled-bg-color: #3B4455;\n",
              "      --disabled-fill-color: #666;\n",
              "  }\n",
              "\n",
              "  .colab-df-quickchart {\n",
              "    background-color: var(--bg-color);\n",
              "    border: none;\n",
              "    border-radius: 50%;\n",
              "    cursor: pointer;\n",
              "    display: none;\n",
              "    fill: var(--fill-color);\n",
              "    height: 32px;\n",
              "    padding: 0;\n",
              "    width: 32px;\n",
              "  }\n",
              "\n",
              "  .colab-df-quickchart:hover {\n",
              "    background-color: var(--hover-bg-color);\n",
              "    box-shadow: 0 1px 2px rgba(60, 64, 67, 0.3), 0 1px 3px 1px rgba(60, 64, 67, 0.15);\n",
              "    fill: var(--button-hover-fill-color);\n",
              "  }\n",
              "\n",
              "  .colab-df-quickchart-complete:disabled,\n",
              "  .colab-df-quickchart-complete:disabled:hover {\n",
              "    background-color: var(--disabled-bg-color);\n",
              "    fill: var(--disabled-fill-color);\n",
              "    box-shadow: none;\n",
              "  }\n",
              "\n",
              "  .colab-df-spinner {\n",
              "    border: 2px solid var(--fill-color);\n",
              "    border-color: transparent;\n",
              "    border-bottom-color: var(--fill-color);\n",
              "    animation:\n",
              "      spin 1s steps(1) infinite;\n",
              "  }\n",
              "\n",
              "  @keyframes spin {\n",
              "    0% {\n",
              "      border-color: transparent;\n",
              "      border-bottom-color: var(--fill-color);\n",
              "      border-left-color: var(--fill-color);\n",
              "    }\n",
              "    20% {\n",
              "      border-color: transparent;\n",
              "      border-left-color: var(--fill-color);\n",
              "      border-top-color: var(--fill-color);\n",
              "    }\n",
              "    30% {\n",
              "      border-color: transparent;\n",
              "      border-left-color: var(--fill-color);\n",
              "      border-top-color: var(--fill-color);\n",
              "      border-right-color: var(--fill-color);\n",
              "    }\n",
              "    40% {\n",
              "      border-color: transparent;\n",
              "      border-right-color: var(--fill-color);\n",
              "      border-top-color: var(--fill-color);\n",
              "    }\n",
              "    60% {\n",
              "      border-color: transparent;\n",
              "      border-right-color: var(--fill-color);\n",
              "    }\n",
              "    80% {\n",
              "      border-color: transparent;\n",
              "      border-right-color: var(--fill-color);\n",
              "      border-bottom-color: var(--fill-color);\n",
              "    }\n",
              "    90% {\n",
              "      border-color: transparent;\n",
              "      border-bottom-color: var(--fill-color);\n",
              "    }\n",
              "  }\n",
              "</style>\n",
              "\n",
              "  <script>\n",
              "    async function quickchart(key) {\n",
              "      const quickchartButtonEl =\n",
              "        document.querySelector('#' + key + ' button');\n",
              "      quickchartButtonEl.disabled = true;  // To prevent multiple clicks.\n",
              "      quickchartButtonEl.classList.add('colab-df-spinner');\n",
              "      try {\n",
              "        const charts = await google.colab.kernel.invokeFunction(\n",
              "            'suggestCharts', [key], {});\n",
              "      } catch (error) {\n",
              "        console.error('Error during call to suggestCharts:', error);\n",
              "      }\n",
              "      quickchartButtonEl.classList.remove('colab-df-spinner');\n",
              "      quickchartButtonEl.classList.add('colab-df-quickchart-complete');\n",
              "    }\n",
              "    (() => {\n",
              "      let quickchartButtonEl =\n",
              "        document.querySelector('#df-91ccb3c5-3f36-4453-9f3d-c5ef6fcc1a85 button');\n",
              "      quickchartButtonEl.style.display =\n",
              "        google.colab.kernel.accessAllowed ? 'block' : 'none';\n",
              "    })();\n",
              "  </script>\n",
              "</div>\n",
              "    </div>\n",
              "  </div>\n"
            ]
          },
          "metadata": {},
          "execution_count": 3
        }
      ]
    },
    {
      "cell_type": "markdown",
      "metadata": {
        "tags": [],
        "cell_id": "060e1885d93d4325a313fded82de1921",
        "deepnote_cell_height": 109.86666870117188,
        "deepnote_cell_type": "markdown",
        "id": "WgWovIfJe3Bb"
      },
      "source": [
        "## 1.2 Creación de nuevas Caracteristicas [2 Puntos]"
      ]
    },
    {
      "cell_type": "markdown",
      "metadata": {
        "tags": [],
        "cell_id": "e650f364c9c64b079603f6d9312d2d13",
        "deepnote_cell_height": 862.933349609375,
        "deepnote_cell_type": "markdown",
        "id": "VnuQ7sHqe3Bb"
      },
      "source": [
        "Como ya se les comento, Mr. Lepin esta interesado en obtener las características **LRMFP**, para esto les señala que estas características se construyen en base a las siguientes definiciones:\n",
        "\n",
        "- **Length (L)**: Intervalo de tiempo, en días, entre la primera y la última visita del cliente. Mientras mas grande sea el valor, mas fiel es el cliente.\n",
        "\n",
        "- **Recency (R)**: Indica hace cuanto tiempo el cliente realizo su ultima compra. Notar que para este caso, mientras mas grande es el valor, menos interes posee el usuario para repetir una compra en uno de los locales.\n",
        "\n",
        "- **Monetary (M)**: El término \"monetario\" se refiere a la cantidad media de dinero gastada por cada visita del cliente durante el período de observación y refleja la contribución del cliente a los ingresos de la empresa.\n",
        "\n",
        "- **Frequency (F)**: Se refiere al número total de visitas del cliente durante el periodo de observación. Cuanto mayor sea la frecuencia, mayor será la fidelidad del cliente.\n",
        "\n",
        "- **Periodicity (P)**: Representa si los clientes visitan las tiendas con regularidad.\n",
        "\n",
        "$$Periodicity(n)=std(IVT_1, ..., IVT_n)$$\n",
        "\n",
        "&nbsp;&nbsp; &nbsp;&nbsp;&nbsp;&nbsp;&nbsp;&nbsp;Donde $IVT$ denota el tiempo entre visitas y n representa el número de valores de tiempo entre visitas de un cliente.\n",
        "\n",
        "\n",
        "$$IVT_i=date\\_diff(t_{i+1},t)$$\n",
        "\n",
        "En base a las definiciones señaladas, diseñe una función que permita obtener las características **LRMFP** recibiendo un DataFrame como entrada. Para esto, no estará permitido el uso de iteradores, utilice todas las herramientas que les ofrece `pandas` para realizar esto.\n",
        "\n",
        "Una referencia que le puede ser útil es el [documento original](https://www.researchgate.net/publication/315979555_LRFMP_model_for_customer_segmentation_in_the_grocery_retail_industry_a_case_study) en donde se propone este método."
      ]
    },
    {
      "cell_type": "markdown",
      "metadata": {
        "tags": [],
        "cell_id": "bee8d549c7c043a5b0cafae0543afadf",
        "deepnote_cell_height": 212.6666717529297,
        "deepnote_cell_type": "markdown",
        "id": "KOkyzr0ye3Bc"
      },
      "source": [
        "**<u>Formato</u> del Resultado Esperado:**\n",
        "\n",
        "| Customer ID | Length | Recency | Frequency | Monetary | Periodicity |\n",
        "|------------:|-------:|--------:|----------:|---------:|------------:|\n",
        "|   12346.0   |    294 |      67 |        46 |   -64.68 |        37.0 |\n",
        "|   12347.0   |     37 |       3 |        71 |  1323.32 |         0.0 |\n",
        "|   12349.0   |    327 |      43 |       107 |  2646.99 |        78.0 |\n",
        "|   12352.0   |     16 |      11 |        18 |   343.80 |         0.0 |\n",
        "|   12356.0   |     44 |      16 |        84 |  3562.25 |        12.0 |"
      ]
    },
    {
      "cell_type": "markdown",
      "metadata": {
        "tags": [],
        "cell_id": "3c7f8a4a06a44cbd8d50e8a4decf4c71",
        "deepnote_cell_height": 52.26666259765625,
        "deepnote_cell_type": "markdown",
        "id": "UsxvAAl6e3Bc"
      },
      "source": [
        "**Respuesta:**"
      ]
    },
    {
      "cell_type": "code",
      "source": [
        "# En uso\n",
        "def custom_features(dataframe_in):\n",
        "    # Calculamos Length (L)\n",
        "    grouped = dataframe_in.groupby('Customer ID')['InvoiceDate'].agg(['min', 'max'])\n",
        "    grouped['Length'] = (grouped['max'] - grouped['min']).dt.days\n",
        "\n",
        "    # Calculamos Recency (R)\n",
        "    current_date = dataframe_in['InvoiceDate'].max()\n",
        "    grouped['Recency'] = (current_date - grouped['max']).dt.days + 1\n",
        "\n",
        "    # Calculamos Frequency (F)\n",
        "    grouped['Frequency'] = dataframe_in.groupby('Customer ID').size()\n",
        "\n",
        "    # Calculamos Monetary (M)\n",
        "    dataframe_in['Monetary'] = dataframe_in['Price'] * dataframe_in['Quantity']\n",
        "    grouped['Monetary'] = np.round(dataframe_in.groupby('Customer ID')['Monetary'].mean(), decimals=2)\n",
        "\n",
        "    # Calculamos Periodicity (P)\n",
        "    dataframe_in['IVT'] = dataframe_in.groupby('Customer ID')['InvoiceDate'].diff().dt.days\n",
        "    grouped['Periodicity'] = np.round(dataframe_in.groupby('Customer ID')['IVT'].std(), decimals=2)\n",
        "\n",
        "    # Eliminamos columnas y filas que no sirven\n",
        "    dataframe_in.drop(columns='IVT', inplace=True)\n",
        "    grouped.drop(columns=['min', 'max'], inplace=True)\n",
        "    grouped = grouped[grouped['Length'] > 0]\n",
        "\n",
        "    # Rellenamos los valores NaN con ceros si es necesario\n",
        "    grouped = grouped.fillna(0)\n",
        "\n",
        "    return pd.DataFrame(grouped)"
      ],
      "metadata": {
        "id": "Cd4av07ATfIY"
      },
      "execution_count": 4,
      "outputs": []
    },
    {
      "cell_type": "code",
      "source": [
        "# Obtenemos el resultado\n",
        "df_retail_lrmfp = custom_features(df_retail)\n",
        "df_retail_lrmfp.head(10)"
      ],
      "metadata": {
        "colab": {
          "base_uri": "https://localhost:8080/",
          "height": 394
        },
        "id": "dbfGAIYMThyv",
        "outputId": "e0d3ebde-34c0-4d1f-d918-198d76d2df01"
      },
      "execution_count": 5,
      "outputs": [
        {
          "output_type": "execute_result",
          "data": {
            "text/plain": [
              "             Length  Recency  Frequency  Monetary  Periodicity\n",
              "Customer ID                                                   \n",
              "12346.0         196      165         33     11.30        21.72\n",
              "12347.0          37        3         71     18.64         4.42\n",
              "12349.0         181       43        102     26.19        16.20\n",
              "12352.0          16       11         18     19.10         3.88\n",
              "12356.0          44       16         83     42.90         3.66\n",
              "12358.0         356       11         58     46.88        32.96\n",
              "12359.0         308       61        117     21.91        15.16\n",
              "12360.0         276       15         88     18.08        19.63\n",
              "12361.0         220       98         19     16.91        35.48\n",
              "12369.0         228       49         93     19.26        20.31"
            ],
            "text/html": [
              "\n",
              "  <div id=\"df-eb59a497-69ce-436c-bef8-80fc9f41e8a3\" class=\"colab-df-container\">\n",
              "    <div>\n",
              "<style scoped>\n",
              "    .dataframe tbody tr th:only-of-type {\n",
              "        vertical-align: middle;\n",
              "    }\n",
              "\n",
              "    .dataframe tbody tr th {\n",
              "        vertical-align: top;\n",
              "    }\n",
              "\n",
              "    .dataframe thead th {\n",
              "        text-align: right;\n",
              "    }\n",
              "</style>\n",
              "<table border=\"1\" class=\"dataframe\">\n",
              "  <thead>\n",
              "    <tr style=\"text-align: right;\">\n",
              "      <th></th>\n",
              "      <th>Length</th>\n",
              "      <th>Recency</th>\n",
              "      <th>Frequency</th>\n",
              "      <th>Monetary</th>\n",
              "      <th>Periodicity</th>\n",
              "    </tr>\n",
              "    <tr>\n",
              "      <th>Customer ID</th>\n",
              "      <th></th>\n",
              "      <th></th>\n",
              "      <th></th>\n",
              "      <th></th>\n",
              "      <th></th>\n",
              "    </tr>\n",
              "  </thead>\n",
              "  <tbody>\n",
              "    <tr>\n",
              "      <th>12346.0</th>\n",
              "      <td>196</td>\n",
              "      <td>165</td>\n",
              "      <td>33</td>\n",
              "      <td>11.30</td>\n",
              "      <td>21.72</td>\n",
              "    </tr>\n",
              "    <tr>\n",
              "      <th>12347.0</th>\n",
              "      <td>37</td>\n",
              "      <td>3</td>\n",
              "      <td>71</td>\n",
              "      <td>18.64</td>\n",
              "      <td>4.42</td>\n",
              "    </tr>\n",
              "    <tr>\n",
              "      <th>12349.0</th>\n",
              "      <td>181</td>\n",
              "      <td>43</td>\n",
              "      <td>102</td>\n",
              "      <td>26.19</td>\n",
              "      <td>16.20</td>\n",
              "    </tr>\n",
              "    <tr>\n",
              "      <th>12352.0</th>\n",
              "      <td>16</td>\n",
              "      <td>11</td>\n",
              "      <td>18</td>\n",
              "      <td>19.10</td>\n",
              "      <td>3.88</td>\n",
              "    </tr>\n",
              "    <tr>\n",
              "      <th>12356.0</th>\n",
              "      <td>44</td>\n",
              "      <td>16</td>\n",
              "      <td>83</td>\n",
              "      <td>42.90</td>\n",
              "      <td>3.66</td>\n",
              "    </tr>\n",
              "    <tr>\n",
              "      <th>12358.0</th>\n",
              "      <td>356</td>\n",
              "      <td>11</td>\n",
              "      <td>58</td>\n",
              "      <td>46.88</td>\n",
              "      <td>32.96</td>\n",
              "    </tr>\n",
              "    <tr>\n",
              "      <th>12359.0</th>\n",
              "      <td>308</td>\n",
              "      <td>61</td>\n",
              "      <td>117</td>\n",
              "      <td>21.91</td>\n",
              "      <td>15.16</td>\n",
              "    </tr>\n",
              "    <tr>\n",
              "      <th>12360.0</th>\n",
              "      <td>276</td>\n",
              "      <td>15</td>\n",
              "      <td>88</td>\n",
              "      <td>18.08</td>\n",
              "      <td>19.63</td>\n",
              "    </tr>\n",
              "    <tr>\n",
              "      <th>12361.0</th>\n",
              "      <td>220</td>\n",
              "      <td>98</td>\n",
              "      <td>19</td>\n",
              "      <td>16.91</td>\n",
              "      <td>35.48</td>\n",
              "    </tr>\n",
              "    <tr>\n",
              "      <th>12369.0</th>\n",
              "      <td>228</td>\n",
              "      <td>49</td>\n",
              "      <td>93</td>\n",
              "      <td>19.26</td>\n",
              "      <td>20.31</td>\n",
              "    </tr>\n",
              "  </tbody>\n",
              "</table>\n",
              "</div>\n",
              "    <div class=\"colab-df-buttons\">\n",
              "\n",
              "  <div class=\"colab-df-container\">\n",
              "    <button class=\"colab-df-convert\" onclick=\"convertToInteractive('df-eb59a497-69ce-436c-bef8-80fc9f41e8a3')\"\n",
              "            title=\"Convert this dataframe to an interactive table.\"\n",
              "            style=\"display:none;\">\n",
              "\n",
              "  <svg xmlns=\"http://www.w3.org/2000/svg\" height=\"24px\" viewBox=\"0 -960 960 960\">\n",
              "    <path d=\"M120-120v-720h720v720H120Zm60-500h600v-160H180v160Zm220 220h160v-160H400v160Zm0 220h160v-160H400v160ZM180-400h160v-160H180v160Zm440 0h160v-160H620v160ZM180-180h160v-160H180v160Zm440 0h160v-160H620v160Z\"/>\n",
              "  </svg>\n",
              "    </button>\n",
              "\n",
              "  <style>\n",
              "    .colab-df-container {\n",
              "      display:flex;\n",
              "      gap: 12px;\n",
              "    }\n",
              "\n",
              "    .colab-df-convert {\n",
              "      background-color: #E8F0FE;\n",
              "      border: none;\n",
              "      border-radius: 50%;\n",
              "      cursor: pointer;\n",
              "      display: none;\n",
              "      fill: #1967D2;\n",
              "      height: 32px;\n",
              "      padding: 0 0 0 0;\n",
              "      width: 32px;\n",
              "    }\n",
              "\n",
              "    .colab-df-convert:hover {\n",
              "      background-color: #E2EBFA;\n",
              "      box-shadow: 0px 1px 2px rgba(60, 64, 67, 0.3), 0px 1px 3px 1px rgba(60, 64, 67, 0.15);\n",
              "      fill: #174EA6;\n",
              "    }\n",
              "\n",
              "    .colab-df-buttons div {\n",
              "      margin-bottom: 4px;\n",
              "    }\n",
              "\n",
              "    [theme=dark] .colab-df-convert {\n",
              "      background-color: #3B4455;\n",
              "      fill: #D2E3FC;\n",
              "    }\n",
              "\n",
              "    [theme=dark] .colab-df-convert:hover {\n",
              "      background-color: #434B5C;\n",
              "      box-shadow: 0px 1px 3px 1px rgba(0, 0, 0, 0.15);\n",
              "      filter: drop-shadow(0px 1px 2px rgba(0, 0, 0, 0.3));\n",
              "      fill: #FFFFFF;\n",
              "    }\n",
              "  </style>\n",
              "\n",
              "    <script>\n",
              "      const buttonEl =\n",
              "        document.querySelector('#df-eb59a497-69ce-436c-bef8-80fc9f41e8a3 button.colab-df-convert');\n",
              "      buttonEl.style.display =\n",
              "        google.colab.kernel.accessAllowed ? 'block' : 'none';\n",
              "\n",
              "      async function convertToInteractive(key) {\n",
              "        const element = document.querySelector('#df-eb59a497-69ce-436c-bef8-80fc9f41e8a3');\n",
              "        const dataTable =\n",
              "          await google.colab.kernel.invokeFunction('convertToInteractive',\n",
              "                                                    [key], {});\n",
              "        if (!dataTable) return;\n",
              "\n",
              "        const docLinkHtml = 'Like what you see? Visit the ' +\n",
              "          '<a target=\"_blank\" href=https://colab.research.google.com/notebooks/data_table.ipynb>data table notebook</a>'\n",
              "          + ' to learn more about interactive tables.';\n",
              "        element.innerHTML = '';\n",
              "        dataTable['output_type'] = 'display_data';\n",
              "        await google.colab.output.renderOutput(dataTable, element);\n",
              "        const docLink = document.createElement('div');\n",
              "        docLink.innerHTML = docLinkHtml;\n",
              "        element.appendChild(docLink);\n",
              "      }\n",
              "    </script>\n",
              "  </div>\n",
              "\n",
              "\n",
              "<div id=\"df-68f577cc-bfd5-4834-955e-41596301a908\">\n",
              "  <button class=\"colab-df-quickchart\" onclick=\"quickchart('df-68f577cc-bfd5-4834-955e-41596301a908')\"\n",
              "            title=\"Suggest charts.\"\n",
              "            style=\"display:none;\">\n",
              "\n",
              "<svg xmlns=\"http://www.w3.org/2000/svg\" height=\"24px\"viewBox=\"0 0 24 24\"\n",
              "     width=\"24px\">\n",
              "    <g>\n",
              "        <path d=\"M19 3H5c-1.1 0-2 .9-2 2v14c0 1.1.9 2 2 2h14c1.1 0 2-.9 2-2V5c0-1.1-.9-2-2-2zM9 17H7v-7h2v7zm4 0h-2V7h2v10zm4 0h-2v-4h2v4z\"/>\n",
              "    </g>\n",
              "</svg>\n",
              "  </button>\n",
              "\n",
              "<style>\n",
              "  .colab-df-quickchart {\n",
              "      --bg-color: #E8F0FE;\n",
              "      --fill-color: #1967D2;\n",
              "      --hover-bg-color: #E2EBFA;\n",
              "      --hover-fill-color: #174EA6;\n",
              "      --disabled-fill-color: #AAA;\n",
              "      --disabled-bg-color: #DDD;\n",
              "  }\n",
              "\n",
              "  [theme=dark] .colab-df-quickchart {\n",
              "      --bg-color: #3B4455;\n",
              "      --fill-color: #D2E3FC;\n",
              "      --hover-bg-color: #434B5C;\n",
              "      --hover-fill-color: #FFFFFF;\n",
              "      --disabled-bg-color: #3B4455;\n",
              "      --disabled-fill-color: #666;\n",
              "  }\n",
              "\n",
              "  .colab-df-quickchart {\n",
              "    background-color: var(--bg-color);\n",
              "    border: none;\n",
              "    border-radius: 50%;\n",
              "    cursor: pointer;\n",
              "    display: none;\n",
              "    fill: var(--fill-color);\n",
              "    height: 32px;\n",
              "    padding: 0;\n",
              "    width: 32px;\n",
              "  }\n",
              "\n",
              "  .colab-df-quickchart:hover {\n",
              "    background-color: var(--hover-bg-color);\n",
              "    box-shadow: 0 1px 2px rgba(60, 64, 67, 0.3), 0 1px 3px 1px rgba(60, 64, 67, 0.15);\n",
              "    fill: var(--button-hover-fill-color);\n",
              "  }\n",
              "\n",
              "  .colab-df-quickchart-complete:disabled,\n",
              "  .colab-df-quickchart-complete:disabled:hover {\n",
              "    background-color: var(--disabled-bg-color);\n",
              "    fill: var(--disabled-fill-color);\n",
              "    box-shadow: none;\n",
              "  }\n",
              "\n",
              "  .colab-df-spinner {\n",
              "    border: 2px solid var(--fill-color);\n",
              "    border-color: transparent;\n",
              "    border-bottom-color: var(--fill-color);\n",
              "    animation:\n",
              "      spin 1s steps(1) infinite;\n",
              "  }\n",
              "\n",
              "  @keyframes spin {\n",
              "    0% {\n",
              "      border-color: transparent;\n",
              "      border-bottom-color: var(--fill-color);\n",
              "      border-left-color: var(--fill-color);\n",
              "    }\n",
              "    20% {\n",
              "      border-color: transparent;\n",
              "      border-left-color: var(--fill-color);\n",
              "      border-top-color: var(--fill-color);\n",
              "    }\n",
              "    30% {\n",
              "      border-color: transparent;\n",
              "      border-left-color: var(--fill-color);\n",
              "      border-top-color: var(--fill-color);\n",
              "      border-right-color: var(--fill-color);\n",
              "    }\n",
              "    40% {\n",
              "      border-color: transparent;\n",
              "      border-right-color: var(--fill-color);\n",
              "      border-top-color: var(--fill-color);\n",
              "    }\n",
              "    60% {\n",
              "      border-color: transparent;\n",
              "      border-right-color: var(--fill-color);\n",
              "    }\n",
              "    80% {\n",
              "      border-color: transparent;\n",
              "      border-right-color: var(--fill-color);\n",
              "      border-bottom-color: var(--fill-color);\n",
              "    }\n",
              "    90% {\n",
              "      border-color: transparent;\n",
              "      border-bottom-color: var(--fill-color);\n",
              "    }\n",
              "  }\n",
              "</style>\n",
              "\n",
              "  <script>\n",
              "    async function quickchart(key) {\n",
              "      const quickchartButtonEl =\n",
              "        document.querySelector('#' + key + ' button');\n",
              "      quickchartButtonEl.disabled = true;  // To prevent multiple clicks.\n",
              "      quickchartButtonEl.classList.add('colab-df-spinner');\n",
              "      try {\n",
              "        const charts = await google.colab.kernel.invokeFunction(\n",
              "            'suggestCharts', [key], {});\n",
              "      } catch (error) {\n",
              "        console.error('Error during call to suggestCharts:', error);\n",
              "      }\n",
              "      quickchartButtonEl.classList.remove('colab-df-spinner');\n",
              "      quickchartButtonEl.classList.add('colab-df-quickchart-complete');\n",
              "    }\n",
              "    (() => {\n",
              "      let quickchartButtonEl =\n",
              "        document.querySelector('#df-68f577cc-bfd5-4834-955e-41596301a908 button');\n",
              "      quickchartButtonEl.style.display =\n",
              "        google.colab.kernel.accessAllowed ? 'block' : 'none';\n",
              "    })();\n",
              "  </script>\n",
              "</div>\n",
              "    </div>\n",
              "  </div>\n"
            ]
          },
          "metadata": {},
          "execution_count": 5
        }
      ]
    },
    {
      "cell_type": "markdown",
      "metadata": {
        "tags": [],
        "cell_id": "e227578abc624b36bedcf300ab03dec3",
        "deepnote_cell_height": 52.26666259765625,
        "deepnote_cell_type": "markdown",
        "id": "7xn7DZNOe3Bc"
      },
      "source": [
        "**Resúesta de Pauta:**\n",
        "\n",
        "La función comienza tomando un DataFrame de entrada y agrupa los datos por el id del cliente. Luego, calcula la diferencia de tiempo entre la primera y la última compra de cada cliente en términos de días, lo que representa el \"Length (L)\" de la relación con la empresa.<br>\n",
        "A continuación, se obtiene la fecha más reciente en el que cada cliente realizó una compra, y se calcula la \"Recency (R)\" para cada uno de ellos.<br>\n",
        "Luego, la función determina la \"Frecuency (F)\" de compra de cada cliente contando el número de transacciones en el conjunto de datos para cada cliente.<br>\n",
        "La función sigue por calcular el valor monetario promedio de las compras de cada cliente (\"Monetary (M)\"). Multiplica el precio y la cantidad de productos comprados en cada transacción para obtener el valor monetario de esa transacción y luego calcula el promedio de estos valores para cada cliente.<br>\n",
        "Después se calcula la \"Periodicity (P)\" de compra para cada cliente. Esto se hace calculando la diferencia en días entre las fechas de compra sucesivas y luego calculando la desviación estándar de estas diferencias para cada cliente.\n",
        "Finalmente, la función elimina las columnas temporales y de cálculo que ya no son necesarias, como la columna 'IVT', y filas donde la longitud de la relación con la empresa es igual a cero.<br>\n",
        "Finalmente, devuelve un nuevo dataframe con las métricas solicitadas para cada cliente."
      ]
    },
    {
      "cell_type": "markdown",
      "metadata": {
        "tags": [],
        "cell_id": "e4adca3e05c741df93087e2a0638ef7d",
        "deepnote_cell_height": 69.86666870117188,
        "deepnote_cell_type": "markdown",
        "id": "oI3o6FNye3Bc"
      },
      "source": [
        "## 1.3 Pipelines 👷"
      ]
    },
    {
      "cell_type": "markdown",
      "metadata": {
        "tags": [],
        "cell_id": "20e2c59abf64489d8cabc5c230e86fd2",
        "deepnote_cell_height": 133.46665954589844,
        "deepnote_cell_type": "markdown",
        "id": "V6qeimOFe3Bc"
      },
      "source": [
        "Finalmente *Don Mora* le pregunta si seria posible realizar un pipeline para realizar una segmentación de los clientes con los nuevos datos generados, a lo que usted responde que **sí** y propone la utilización de k-means para la segmentación.\n",
        "\n",
        "A continuación siga los pasos requeridos para obtener la segmentación de clientes."
      ]
    },
    {
      "cell_type": "markdown",
      "metadata": {
        "tags": [],
        "cell_id": "c6162b8b49a045bba12f9b17b51f21bf",
        "deepnote_cell_height": 61.866668701171875,
        "deepnote_cell_type": "markdown",
        "id": "T7pUwxose3Bc"
      },
      "source": [
        "### 1.3.1 Estandarizar Caracteristicas [0.5 puntos]"
      ]
    },
    {
      "cell_type": "markdown",
      "metadata": {
        "tags": [],
        "cell_id": "94c48775ecb4496d970fbd920f65c126",
        "deepnote_cell_height": 268.70001220703125,
        "deepnote_cell_type": "markdown",
        "id": "gu0x_NAMe3Bd"
      },
      "source": [
        "Construya una clase llamada ``MinMax()`` utilizando ``BaseEstimator`` y ``TransformerMixin`` para realizar una transformación de cada una de las columnas de un DataFrame utilizando ``ColumnTransformer()`` más tarde (tome como referencia el siguiente [enlace](https://sklearn-template.readthedocs.io/en/latest/user_guide.html#transformer)).\n",
        "\n",
        "\n",
        " Para esto considere que Min-Max escaler queda dada por la ecuación:\n",
        "\n",
        "$$MinMax = \\dfrac{x-min(x)}{max(x) - min(x)}$$\n",
        "\n",
        "Con esto buscamos que los valores que componen a las columnas se muevan en el rango de valores $[0, 1]$."
      ]
    },
    {
      "cell_type": "markdown",
      "metadata": {
        "tags": [],
        "cell_id": "c087d1fa8aa94d7485fe1292bf628660",
        "deepnote_cell_height": 52.26666259765625,
        "deepnote_cell_type": "markdown",
        "id": "bkTLWIxye3Bd"
      },
      "source": [
        "**Respuesta:**"
      ]
    },
    {
      "cell_type": "code",
      "metadata": {
        "tags": [],
        "cell_id": "07cb4dcf097c4c6baabb9ae2bda25caf",
        "deepnote_cell_height": 83.86666870117188,
        "deepnote_cell_type": "code",
        "id": "hG3rYJQ3e3Bd"
      },
      "source": [
        "class MinMax(BaseEstimator, TransformerMixin):\n",
        "    def __init__(self):\n",
        "        pass\n",
        "\n",
        "    def fit(self, X, y=None):\n",
        "        return self\n",
        "\n",
        "    def transform(self, X):\n",
        "        # Calcula el valor mínimo y máximo para cada columna\n",
        "        min_values = X.min()\n",
        "        max_values = X.max()\n",
        "\n",
        "        # Aplica la transformación Min-Max a cada columna\n",
        "        X_transformed = (X - min_values) / (max_values - min_values)\n",
        "\n",
        "        return X_transformed"
      ],
      "execution_count": 6,
      "outputs": []
    },
    {
      "cell_type": "markdown",
      "metadata": {
        "tags": [],
        "cell_id": "b280dbe181ce4d80a6a5b5f563c842e7",
        "deepnote_cell_height": 62.19999694824219,
        "deepnote_cell_type": "markdown",
        "id": "nsE7t2oye3Bd"
      },
      "source": [
        "### 1.3.2 `T-SNE` Pipeline [1.0 puntos]"
      ]
    },
    {
      "cell_type": "markdown",
      "metadata": {
        "tags": [],
        "cell_id": "c532e63f2fd541cda5b741d2f24c1ea8",
        "deepnote_cell_height": 413.8666687011719,
        "deepnote_cell_type": "markdown",
        "id": "06fY6jJXe3Bd"
      },
      "source": [
        "Para comenzar introduciéndose en el uso de pipeline, decide probar realizando un pipeline enfocado en la reducción de dimensionalidad y así hacer no decepcionar a Mr. Lepin con la clusterización del modelo.\n",
        "\n",
        "Configure un pipeline utilizando el algoritmo `T-SNE` sobre los datos **LRMFP**, donde, para la realización del pipeline considera los siguientes pasos:\n",
        "\n",
        "1. Como primer paso obtenga las características **LRMFP** desde el DataFrame ``df_retail_II_cleaned.pickle`` utilizando la función ``custom_features`` creada anteriormente, junto a ``FunctionTransformer()``. Considere esto como el primer paso de su pipeline.\n",
        "2. En segundo lugar usando ``ColumnTransformer()`` aplique el MinxMax scaler creado por usted sobre todas las columnas generadas en el paso anterior.\n",
        "3. Finalmente, aplique un último paso donde obtiene las 2 componentes más relevantes utilizando el algoritmo `T-SNE` de sckit-learn.\n",
        "\n",
        "Tras aplicar las transformaciones sobre el dataset **LRMFP**, gráfique las componentes obtenidas en la reducción de dimensionalidad."
      ]
    },
    {
      "cell_type": "markdown",
      "metadata": {
        "tags": [],
        "cell_id": "a480355952a34b6cb7e72afa764091d6",
        "deepnote_cell_height": 52.26666259765625,
        "deepnote_cell_type": "markdown",
        "id": "u5lgB06ze3Bd"
      },
      "source": [
        "**Respuesta:**"
      ]
    },
    {
      "cell_type": "code",
      "metadata": {
        "tags": [],
        "cell_id": "1889976b7a4c40c7825752979b577567",
        "deepnote_cell_height": 65.86666870117188,
        "deepnote_cell_type": "code",
        "id": "b0hqxEUbe3Bd",
        "colab": {
          "base_uri": "https://localhost:8080/",
          "height": 542
        },
        "outputId": "d9d71715-3fb8-4978-fb94-179f38c941c4"
      },
      "source": [
        "# Definir una función callable que obtiene las características LRMFP\n",
        "def select_LRMFP_features(dataframe):\n",
        "    return dataframe[['Length', 'Recency', 'Frequency', 'Monetary', 'Periodicity']]\n",
        "\n",
        "# Paso 1: Obtén las características LRMFP y escala con MinMax\n",
        "step1 = FunctionTransformer(func=select_LRMFP_features)\n",
        "\n",
        "# Paso 2: Aplicar MinMax\n",
        "step2 = MinMax()\n",
        "\n",
        "# Paso 3: Aplica T-SNE para reducción de dimensionalidad\n",
        "step3 = TSNE(n_components=2, random_state=42)\n",
        "\n",
        "# Crea el pipeline\n",
        "pipeline = Pipeline([\n",
        "    ('step1', step1),\n",
        "    ('step2', step2),\n",
        "    ('step3', step3)\n",
        "])\n",
        "\n",
        "# Ajusta el pipeline a los datos\n",
        "X_reduced = pipeline.fit_transform(df_retail_lrmfp)\n",
        "\n",
        "# Crea un DataFrame para las componentes reducidas\n",
        "reduced_df = pd.DataFrame(data=X_reduced, columns=['Component 1', 'Component 2'])\n",
        "\n",
        "# Gráfica las componentes obtenidas en la reducción de dimensionalidad con Plotly\n",
        "fig = px.scatter(reduced_df, x='Component 1', y='Component 2', title=\"T-SNE Reduced Dimensionality\")\n",
        "fig.show()"
      ],
      "execution_count": 7,
      "outputs": [
        {
          "output_type": "display_data",
          "data": {
            "text/html": [
              "<html>\n",
              "<head><meta charset=\"utf-8\" /></head>\n",
              "<body>\n",
              "    <div>            <script src=\"https://cdnjs.cloudflare.com/ajax/libs/mathjax/2.7.5/MathJax.js?config=TeX-AMS-MML_SVG\"></script><script type=\"text/javascript\">if (window.MathJax && window.MathJax.Hub && window.MathJax.Hub.Config) {window.MathJax.Hub.Config({SVG: {font: \"STIX-Web\"}});}</script>                <script type=\"text/javascript\">window.PlotlyConfig = {MathJaxConfig: 'local'};</script>\n",
              "        <script charset=\"utf-8\" src=\"https://cdn.plot.ly/plotly-2.26.0.min.js\"></script>                <div id=\"f1fd8239-d064-4ace-bda7-b1af0dc50474\" class=\"plotly-graph-div\" style=\"height:525px; width:100%;\"></div>            <script type=\"text/javascript\">                                    window.PLOTLYENV=window.PLOTLYENV || {};                                    if (document.getElementById(\"f1fd8239-d064-4ace-bda7-b1af0dc50474\")) {                    Plotly.newPlot(                        \"f1fd8239-d064-4ace-bda7-b1af0dc50474\",                        [{\"hovertemplate\":\"Component 1=%{x}\\u003cbr\\u003eComponent 2=%{y}\\u003cextra\\u003e\\u003c\\u002fextra\\u003e\",\"legendgroup\":\"\",\"marker\":{\"color\":\"#636efa\",\"symbol\":\"circle\"},\"mode\":\"markers\",\"name\":\"\",\"showlegend\":false,\"x\":[12.990497589111328,64.7469711303711,9.103100776672363,68.824462890625,59.60073471069336,-34.43972396850586,-29.2121524810791,-26.167144775390625,1.2110953330993652,-5.588587760925293,37.49327850341797,-6.60513973236084,36.91712951660156,14.904991149902344,60.66040802001953,-0.8714812994003296,31.55840301513672,9.031721115112305,23.854888916015625,-13.356643676757812,8.85737419128418,56.89345932006836,-10.032928466796875,-22.099584579467773,-26.504262924194336,-31.00895118713379,32.10016632080078,24.519664764404297,26.533159255981445,23.757160186767578,-34.0425910949707,-2.5816879272460938,62.31488800048828,36.756874084472656,-42.1468505859375,41.233673095703125,29.431074142456055,15.043049812316895,-42.240699768066406,33.95419692993164,-33.391746520996094,-49.85280990600586,35.415489196777344,-2.103905439376831,58.40510177612305,39.497589111328125,41.87837219238281,58.01224136352539,-12.343193054199219,40.40029525756836,21.762493133544922,44.39009475708008,-66.39342498779297,-65.72982788085938,-32.712284088134766,34.75167465209961,-5.917738437652588,32.20943832397461,-13.503231048583984,34.095191955566406,-34.180572509765625,9.186919212341309,-56.230674743652344,-0.17814901471138,-13.097647666931152,-3.1685314178466797,12.58467960357666,-11.166422843933105,14.414804458618164,-55.72676467895508,-29.622697830200195,21.6461238861084,43.666988372802734,-5.624704360961914,27.505552291870117,-11.388044357299805,-56.31883239746094,21.13575553894043,25.90504264831543,59.943607330322266,-29.50090980529785,56.20967102050781,-36.2318000793457,43.75782775878906,40.52102279663086,27.511066436767578,-38.4052734375,52.5101318359375,19.552518844604492,-58.19683837890625,-33.71001052856445,7.538398742675781,-19.669179916381836,65.91728210449219,-25.10797691345215,10.559741973876953,-0.65105140209198,-50.17888259887695,44.69765090942383,-52.201995849609375,-43.58306884765625,-4.152095794677734,-41.2752571105957,-19.41663932800293,35.84080505371094,60.16357421875,-0.3375779688358307,41.94823455810547,25.59608268737793,44.15946960449219,51.891719818115234,19.36598777770996,4.780692100524902,-6.362397193908691,-14.549297332763672,-19.92524528503418,-44.84722137451172,-14.186914443969727,-37.42609405517578,41.381187438964844,24.929733276367188,-15.899874687194824,37.26343536376953,-7.114087104797363,-14.40881061553955,-39.090972900390625,-18.014434814453125,42.562767028808594,39.061744689941406,27.00991439819336,-44.406349182128906,-68.01074981689453,-68.1591567993164,-58.78445816040039,28.6025333404541,23.36164093017578,38.846073150634766,28.09010124206543,36.67101287841797,23.909015655517578,-57.26477813720703,-66.65679931640625,36.0302848815918,-61.56543731689453,-53.104164123535156,28.4714412689209,40.569664001464844,19.21222496032715,-3.275101661682129,-10.262969970703125,3.448883056640625,6.670528888702393,-31.893329620361328,68.58059692382812,68.93867492675781,44.91843795776367,22.46503257751465,13.92211627960205,-61.2110595703125,-69.87071990966797,29.98596954345703,-41.433631896972656,-11.32801342010498,-48.27030944824219,47.53903579711914,17.11066246032715,63.92396926879883,65.17337036132812,-1.5055735111236572,-52.94780731201172,26.526853561401367,13.23194408416748,41.34459686279297,-7.836374759674072,-17.593795776367188,65.82205963134766,50.13322067260742,4.320361614227295,28.07077980041504,45.56281280517578,-34.016868591308594,20.529495239257812,41.88862609863281,34.10768508911133,21.71489715576172,56.115684509277344,15.503146171569824,58.6698112487793,-40.458091735839844,-26.0747013092041,23.551313400268555,-41.04450988769531,-31.76972007751465,-49.55086898803711,-7.110452175140381,-63.07258224487305,-3.3264553546905518,24.084461212158203,-18.99950408935547,-48.97023391723633,21.70201873779297,-2.000662088394165,-10.283477783203125,18.674203872680664,66.98123931884766,-4.455759048461914,39.812503814697266,-0.5962339043617249,40.22100830078125,45.41973114013672,-49.38736343383789,69.04479217529297,-14.228619575500488,-66.51657104492188,-18.679244995117188,14.340065002441406,1.7143988609313965,6.643085479736328,-29.557172775268555,7.708892345428467,29.998998641967773,7.285762310028076,13.063344955444336,4.736891746520996,28.686586380004883,37.04104995727539,-26.225234985351562,-4.9459452629089355,-11.964381217956543,-44.34572219848633,-2.32159686088562,-3.8492252826690674,-32.062095642089844,18.718156814575195,-69.16299438476562,8.956320762634277,-32.75849914550781,-32.328895568847656,17.736949920654297,-37.801300048828125,25.948640823364258,-44.33596420288086,-9.878849029541016,-10.527238845825195,-37.50599670410156,40.09975814819336,36.702293395996094,-56.08201599121094,-37.85478210449219,35.49154281616211,17.147579193115234,8.409246444702148,-11.444579124450684,21.64251136779785,70.65508270263672,-39.530086517333984,-58.175987243652344,-11.603407859802246,-23.588886260986328,-32.05669403076172,45.18064498901367,-43.95210647583008,-38.162654876708984,-3.432262420654297,-16.66739273071289,-15.727107048034668,-25.745668411254883,3.027024745941162,4.4166483879089355,-3.05069637298584,20.666528701782227,-50.41886901855469,61.37642288208008,-51.919532775878906,58.496490478515625,-21.436439514160156,-16.12200355529785,18.38146209716797,-59.003196716308594,17.071292877197266,-7.536168575286865,-37.6044807434082,28.937061309814453,-52.04158020019531,28.262773513793945,-4.284018039703369,-33.63718795776367,13.44437026977539,23.766035079956055,51.64599609375,65.47409057617188,-44.6873664855957,23.191444396972656,22.978836059570312,25.002573013305664,9.151944160461426,38.33763885498047,-54.222801208496094,-3.460378646850586,68.08423614501953,-66.19092559814453,37.84164810180664,-5.797163009643555,29.15550994873047,-0.4520423710346222,40.71329116821289,16.283309936523438,58.52265548706055,17.83539581298828,-3.480978488922119,60.47026443481445,10.926777839660645,-60.25204086303711,-68.08721160888672,6.420319080352783,-69.09466552734375,-25.92534828186035,34.174949645996094,-69.7512435913086,30.47660255432129,-14.376067161560059,-68.83252716064453,66.394287109375,-54.90302276611328,16.239660263061523,-6.623825550079346,23.516830444335938,-10.6997709274292,-15.043669700622559,49.80842971801758,-24.7042293548584,-17.299816131591797,-7.909865856170654,-17.473264694213867,52.48199462890625,42.198829650878906,-29.570619583129883,38.663665771484375,-11.443222999572754,64.30010223388672,-50.878047943115234,34.41304397583008,67.51533508300781,30.2677001953125,-50.41004943847656,-6.364759922027588,-52.64597702026367,14.743136405944824,39.18321228027344,-19.252954483032227,-31.55060577392578,30.381460189819336,-33.86985778808594,-7.004045009613037,-53.8387451171875,29.01667594909668,-59.828739166259766,-68.33736419677734,19.868284225463867,-48.89285659790039,-10.268284797668457,15.629596710205078,20.96570587158203,13.407848358154297,57.63104248046875,-66.00330352783203,23.724468231201172,-40.06256103515625,-42.59742736816406,-49.89318084716797,-9.563238143920898,-20.25566291809082,19.225299835205078,-48.90488815307617,12.678828239440918,-4.862357139587402,-11.347482681274414,-27.22405433654785,-20.200347900390625,-17.636089324951172,34.340702056884766,14.710031509399414,40.034324645996094,-30.681413650512695,1.549162745475769,12.47842788696289,25.218555450439453,-18.866817474365234,44.9140739440918,-10.003809928894043,-17.764976501464844,18.61111831665039,66.2637939453125,-35.6722297668457,5.9781413078308105,64.68905639648438,-31.63127899169922,-62.798763275146484,-62.409339904785156,-16.553525924682617,-9.96125602722168,14.530728340148926,-1.9735898971557617,-24.387670516967773,35.68688201904297,39.52677917480469,29.91914176940918,2.1835641860961914,-16.275245666503906,31.966493606567383,-26.426284790039062,0.9625283479690552,20.605281829833984,18.40865707397461,32.31166458129883,8.685211181640625,5.826155662536621,-26.372161865234375,27.42622947692871,66.77245330810547,-7.443516731262207,-11.22879409790039,-47.84559631347656,-67.34540557861328,55.4996452331543,25.633888244628906,-60.14401626586914,-44.88985061645508,7.42670202255249,-12.277109146118164,26.90934181213379,19.996347427368164,-12.072176933288574,23.004350662231445,24.6861515045166,-14.67697525024414,22.52642822265625,59.54100799560547,63.394989013671875,25.878925323486328,-31.510595321655273,58.48007583618164,-14.11514663696289,-51.979248046875,-24.351768493652344,32.86006164550781,60.98602294921875,22.754915237426758,-56.578216552734375,63.515411376953125,-5.1493940353393555,42.2095947265625,1.149314284324646,-16.42613410949707,-0.7068077325820923,-11.132575988769531,33.596946716308594,-67.34552001953125,-24.7479190826416,36.82415771484375,22.806880950927734,-6.56147575378418,26.142549514770508,-58.30910110473633,-14.671761512756348,37.17522048950195,-50.9378547668457,-1.4720408916473389,-13.203969955444336,40.960350036621094,14.765865325927734,-18.97456169128418,29.084714889526367,26.66956329345703,59.133209228515625,33.50160217285156,-0.06070341542363167,28.56330108642578,-2.606882095336914,-59.8332633972168,-9.437803268432617,-18.49381446838379,-46.827518463134766,34.58928680419922,70.17569732666016,36.43350601196289,5.398433685302734,-27.452547073364258,-4.5622944831848145,23.31878662109375,-3.495821714401245,-66.96167755126953,37.24114227294922,22.35386848449707,54.635704040527344,-7.130866527557373,-0.03291686624288559,7.924918174743652,47.032413482666016,-14.300025939941406,-49.34379577636719,-18.133007049560547,-50.7982063293457,0.6175785064697266,-42.41468811035156,-58.796913146972656,-45.21136474609375,-36.23463439941406,36.88235092163086,17.041032791137695,15.419142723083496,42.28913497924805,-50.39756393432617,7.15479850769043,1.9920716285705566,-12.334054946899414,3.641148805618286,-52.4700927734375,65.2326889038086,-18.007577896118164,-43.86870574951172,26.46766471862793,58.98561477661133,-26.63186264038086,17.122472763061523,5.345374584197998,14.920764923095703,-56.30781555175781,36.49764633178711,-7.048971176147461,18.224327087402344,59.0117073059082,-1.5642294883728027,52.612491607666016,-39.703819274902344,61.181617736816406,-31.967987060546875,41.40827941894531,-21.253774642944336,-29.92072105407715,-69.3777847290039,6.819981575012207,29.81277847290039,53.509700775146484,-54.458465576171875,-22.149316787719727,-56.305419921875,-44.445926666259766,-34.88964080810547,-12.657217025756836,16.61484146118164,12.297988891601562,2.4209580421447754,-20.215272903442383,-60.22924041748047,-21.666698455810547,-20.9388484954834,25.03817367553711,66.39071655273438,20.922889709472656,-63.14414978027344,19.310100555419922,13.12674331665039,9.304221153259277,-38.157020568847656,-53.484535217285156,5.978174209594727,18.514968872070312,-27.917072296142578,26.304603576660156,36.987098693847656,23.790163040161133,-50.11101150512695,21.55510139465332,-12.1646089553833,-2.6720802783966064,-43.010257720947266,-21.740137100219727,29.27098846435547,-45.26926040649414,27.936843872070312,-39.560035705566406,20.663896560668945,-36.686241149902344,-27.410024642944336,-49.598079681396484,-2.1316959857940674,34.954376220703125,-32.56393814086914,-8.685794830322266,-25.43880271911621,-23.152442932128906,31.882455825805664,-16.824602127075195,-50.99007797241211,30.604387283325195,30.4520206451416,-4.022936820983887,-9.069087028503418,-8.496944427490234,66.84624481201172,63.79597091674805,-49.85560989379883,-69.934326171875,-11.837408065795898,31.92183494567871,-13.601627349853516,-14.765241622924805,31.318008422851562,-4.346732139587402,-10.733890533447266,-29.11941909790039,9.511490821838379,-20.49642562866211,46.41154098510742,10.41015625,-5.223082542419434,-2.972925901412964,27.160539627075195,-44.277122497558594,-12.075212478637695,-23.07869529724121,32.43593978881836,-57.313941955566406,-30.795209884643555,-28.470043182373047,48.3728141784668,-26.89113998413086,-10.992513656616211,23.90053939819336,-58.859554290771484,-63.03809356689453,8.287209510803223,20.8098087310791,29.66984748840332,62.91865158081055,34.54731750488281,-67.78485107421875,37.27748107910156,-57.91071319580078,-25.11334991455078,26.69506072998047,-21.906476974487305,-16.638416290283203,-67.43099212646484,37.439483642578125,23.44780921936035,-11.886716842651367,13.57574462890625,60.038307189941406,57.71170425415039,-46.23118209838867,-1.8569823503494263,-15.2712984085083,3.1872618198394775,-67.85697174072266,7.434889793395996,-20.287620544433594,-32.373111724853516,6.548171520233154,61.19978713989258,-27.750347137451172,46.76020050048828,12.485716819763184,-15.020447731018066,33.63744354248047,-20.66649055480957,-32.56197738647461,-45.19281005859375,-18.81590461730957,26.732908248901367,-56.34905242919922,30.334735870361328,23.14716911315918,64.63764190673828,-5.602715015411377,-35.63117218017578,-37.760494232177734,-5.206542491912842,-35.80913162231445,-43.21328353881836,9.059224128723145,18.70334815979004,10.543941497802734,32.47008514404297,22.72450065612793,-39.5721321105957,-28.68628692626953,-23.591657638549805,12.845317840576172,-22.519556045532227,19.69095230102539,-45.308353424072266,1.3568732738494873,39.6753044128418,0.2925179898738861,-23.433500289916992,-36.38887405395508,41.26361083984375,10.078094482421875,-35.30279541015625,-37.292144775390625,-1.1924840211868286,27.446195602416992,10.80813980102539,0.11307627707719803,-9.333366394042969,-43.056400299072266,32.58202362060547,32.93921661376953,-25.419586181640625,6.614031791687012,30.923261642456055,26.862529754638672,-27.95444107055664,57.070220947265625,-20.973264694213867,-43.75503158569336,36.47055435180664,61.903778076171875,11.861296653747559,-43.38175964355469,39.89448547363281,-30.66026496887207,-23.468929290771484,-50.632266998291016,-35.15053939819336,-10.615321159362793,-50.89561080932617,31.161787033081055,-9.718405723571777,56.832340240478516,0.20175017416477203,-19.85120391845703,50.263214111328125,-16.340923309326172,-28.207448959350586,20.01494026184082,-48.44851303100586,2.6082332134246826,-41.376773834228516,-62.504024505615234,-46.605743408203125,-33.722591400146484,67.23783874511719,-15.567143440246582,36.53369140625,34.279537200927734,-52.7755126953125,-50.061729431152344,67.54020690917969,42.88511657714844,24.246915817260742,-59.078636169433594,-27.15730857849121,31.654512405395508,57.51734161376953,26.285324096679688,24.862218856811523,-16.904327392578125,6.491154193878174,-36.450172424316406,42.708168029785156,-3.6494405269622803,35.050662994384766,21.3602294921875,-67.04296112060547,-68.49811553955078,-41.79356002807617,0.691602349281311,-6.143405914306641,-18.02938461303711,-55.5126838684082,-1.1182321310043335,-18.65953254699707,-37.69794845581055,-37.44646453857422,-16.30282974243164,-64.35738372802734,34.00365447998047,18.724958419799805,-49.513484954833984,40.20500946044922,-28.25774383544922,0.23996879160404205,-56.513877868652344,-34.78965377807617,-16.173229217529297,57.9998779296875,33.32701873779297,41.95062255859375,26.397510528564453,-14.519206047058105,-28.488134384155273,-67.4577407836914,-36.099971771240234,-67.02655029296875,-30.475605010986328,60.18886947631836,32.63486099243164,-51.588314056396484,20.507854461669922,-57.49810028076172,-7.7761077880859375,13.382750511169434,-32.51721954345703,-12.494573593139648,36.82344436645508,-29.12364959716797,6.808495044708252,-52.044769287109375,-2.341374397277832,16.730892181396484,-18.250606536865234,-18.899015426635742,59.221256256103516,9.917969703674316,-39.02904510498047,-48.5485954284668,-63.598915100097656,-38.49252700805664,42.208953857421875,-19.702211380004883,17.38185691833496,-38.81945037841797,-15.6312894821167,35.37725067138672,-25.49323272705078,-39.14445877075195,-69.88296508789062,-17.006258010864258,-65.49586486816406,31.07706069946289,-56.28784942626953,26.57939338684082,6.26665735244751,16.09859848022461,60.511474609375,68.26422882080078,38.44450378417969,29.682861328125,-0.9286331534385681,70.70901489257812,-25.514867782592773,17.11273765563965,20.368051528930664,20.283220291137695,39.36785125732422,1.0525619983673096,69.24095916748047,-16.427335739135742,-37.89570236206055,3.7344279289245605,-31.404481887817383,31.93304443359375,10.309544563293457,-16.169652938842773,-30.44631004333496,-10.603675842285156,66.79802703857422,-36.16535186767578,-43.56822967529297,-33.02561950683594,-42.018699645996094,20.41879653930664,38.25844955444336,43.745479583740234,17.145185470581055,21.553621292114258,-17.360666275024414,-15.406524658203125,31.182106018066406,39.800559997558594,31.475624084472656,10.979869842529297,26.699064254760742,28.801443099975586,5.147669792175293,30.62516212463379,-28.479232788085938,33.84153747558594,22.618722915649414,42.32084655761719,-17.793794631958008,24.795318603515625,14.446293830871582,-25.15216064453125,-46.91999816894531,38.70713424682617,-10.430710792541504,22.097618103027344,42.79291915893555,-1.2036396265029907,-12.881113052368164,-28.64680290222168,-7.864931583404541,-35.32048416137695,36.10923385620117,10.799812316894531,-37.693275451660156,-26.502464294433594,-52.479339599609375,-4.42920446395874,-33.49311828613281,-21.933069229125977,16.85128402709961,-68.6820297241211,-65.17655181884766,-12.042719841003418,-20.453786849975586,60.434391021728516,2.4526028633117676,-19.20468521118164,-49.9976806640625,22.172367095947266,29.812238693237305,35.15828323364258,0.4401558041572571,22.320600509643555,55.95048141479492,-12.718159675598145,-18.771808624267578,40.824851989746094,-37.86983871459961,-54.59693908691406,61.081329345703125,23.87714958190918,-31.10152816772461,55.98117446899414,-17.825822830200195,-17.591176986694336,39.327579498291016,56.51842498779297,61.36042404174805,-23.06854248046875,58.816280364990234,46.51333236694336,-20.22614860534668,38.01925277709961,-0.42894065380096436,21.12152862548828,38.03236770629883,39.96536636352539,-41.63109588623047,16.898311614990234,55.64550018310547,-15.29999828338623,-59.592437744140625,28.086524963378906,-27.529794692993164,-8.73575496673584,-28.222414016723633,37.53894805908203,-52.94725036621094,-3.3437845706939697,0.20605775713920593,53.412410736083984,-17.560094833374023,-55.33803176879883,-30.98164176940918,18.187774658203125,-55.31714630126953,-14.280059814453125,-20.079513549804688,-17.246652603149414,23.69091796875,30.21060562133789,-36.67912292480469,-3.7781341075897217,-4.012056827545166,-46.60861587524414,-40.18429183959961,-20.867382049560547,71.4155502319336,53.40141296386719,-15.615487098693848,-38.03871154785156,28.655847549438477,-49.06931686401367,40.28179931640625,-28.407285690307617,-39.235782623291016,36.93920135498047,-18.18037986755371,-52.41019058227539,-48.140769958496094,-16.40967559814453,22.56360626220703,-14.35764217376709,-37.725799560546875,-42.94092559814453,-27.254968643188477,-22.50244140625,41.420814514160156,-27.661731719970703,41.104854583740234,71.57972717285156,13.126800537109375,62.282352447509766,9.418366432189941,-20.265869140625,-17.875308990478516,-16.534584045410156,23.091978073120117,41.25859069824219,-50.567657470703125,-10.010068893432617,-47.46254348754883,17.306119918823242,52.29099655151367,-37.18436813354492,14.8826904296875,-27.785987854003906,17.603668212890625,35.12552261352539,31.782651901245117,64.67652893066406,-28.93189811706543,-69.68175506591797,-30.30378532409668,-29.793001174926758,4.821038246154785,-8.366339683532715,-22.162134170532227,20.81422996520996,-50.227325439453125,-23.641990661621094,-55.33085632324219,-58.39863204956055,-6.364225387573242,-27.32560920715332,38.944305419921875,-21.8509578704834,-1.6913106441497803,35.52427673339844,-43.9761848449707,31.7041015625,32.37159729003906,-53.53413391113281,-27.668100357055664,36.26777267456055,-23.00214195251465,30.957138061523438,21.581066131591797,-0.17817768454551697,-41.32447814941406,-29.10274887084961,-12.048994064331055,-8.449995994567871,61.5439567565918,-30.0719051361084,-49.23836898803711,0.7535324692726135,52.792327880859375,30.476085662841797,-39.52305221557617,-69.66780090332031,-8.247784614562988,-30.071630477905273,-19.33049964904785,19.077880859375,21.37737464904785,20.837169647216797,20.543071746826172,64.42778778076172,14.07816219329834,18.609846115112305,-8.039849281311035,5.519913196563721,-51.76470184326172,-40.56930160522461,-3.7919483184814453,38.85272979736328,31.28826904296875,-12.662235260009766,-21.97769546508789,26.32579231262207,-25.247692108154297,-70.27212524414062,-31.739356994628906,-38.725276947021484,-8.605945587158203,9.929572105407715,-1.2875511646270752,2.8249499797821045,61.28956985473633,-25.202651977539062,14.661834716796875,-69.21865844726562,28.672697067260742,43.14122772216797,18.424009323120117,63.843875885009766,-10.79315185546875,-33.82862854003906,-68.92520904541016,-15.92841911315918,-9.814413070678711,22.977745056152344,-10.531582832336426,16.81003189086914,44.64602279663086,65.34427642822266,-12.296104431152344,34.02762985229492,11.421809196472168,57.15081787109375,36.57630157470703,39.274227142333984,-2.5540616512298584,-65.01262664794922,4.383167266845703,25.456663131713867,42.46229934692383,-53.8383903503418,-57.21260452270508,-66.48894500732422,-23.881580352783203,-4.2141852378845215,46.57076644897461,-59.53988265991211,20.67000389099121,-14.690595626831055,-42.797306060791016,65.49017333984375,27.72869110107422,-49.14080047607422,17.05915641784668,-64.74046325683594,-8.780983924865723,57.592960357666016,-1.944169521331787,24.34291648864746,63.07894515991211,-28.8989315032959,34.92721939086914,-18.41965103149414,-55.58877182006836,59.70563888549805,-2.583528995513916,15.548595428466797,-47.412506103515625,14.428864479064941,26.50453758239746,52.790897369384766,-48.67272186279297,38.65504837036133,-62.725868225097656,-23.193439483642578,53.56898880004883,-2.8592326641082764,-17.70929527282715,52.810142517089844,-13.456978797912598,-7.982182502746582,9.959425926208496,-0.7819162607192993,-35.58059310913086,-37.40917205810547,-18.748620986938477,-16.17825698852539,28.384071350097656,-46.074649810791016,51.81357955932617,34.41469955444336,33.15896224975586,-3.1860127449035645,-25.009929656982422,-23.47983169555664,-53.828975677490234,15.433236122131348,19.9805965423584,-44.172664642333984,21.702360153198242,-2.558403491973877,12.312262535095215,-31.46657943725586,21.160675048828125,8.539915084838867,-44.77913284301758,-16.162384033203125,41.44001388549805,-40.916629791259766,60.52063751220703,-42.021453857421875,-21.65531349182129,-5.824072360992432,21.411846160888672,41.677608489990234,-4.822256565093994,-31.439163208007812,-7.131094932556152,56.46267318725586,37.89162826538086,61.29598617553711,-18.98125457763672,-53.17374801635742,-61.587181091308594,-28.52412986755371,-60.37092208862305,29.54957389831543,17.15889549255371,62.476051330566406,-46.96578598022461,-10.456480026245117,0.5389634966850281,-69.54693603515625,-18.098819732666016,39.30559158325195,-49.67505645751953,6.941103935241699,-0.1854393482208252,30.602497100830078,38.805580139160156,-14.87680435180664,21.29007339477539,69.43553161621094,52.11410140991211,11.244302749633789,-23.058786392211914,-25.80596160888672,-24.48648452758789,-9.348711013793945,-2.557465076446533,-44.63690185546875,61.041446685791016,22.935440063476562,-57.312652587890625,40.30740737915039,24.85457420349121,-32.42023468017578,-19.24880599975586,-13.190423011779785,18.583580017089844,-19.754087448120117,-36.791072845458984,-19.731969833374023,-7.919699192047119,25.85024070739746,-14.678611755371094,13.065627098083496,-43.11787033081055,8.291038513183594,-69.6832275390625,14.287537574768066,64.14041137695312,-0.9143505096435547,14.547433853149414,9.173270225524902,20.753894805908203,29.89337921142578,-40.71957778930664,54.714111328125,47.06437301635742,-8.061444282531738,68.06401062011719,-22.864025115966797,-46.49210739135742,-44.43099594116211,10.719481468200684,54.83062744140625,-69.1240234375,41.59707260131836,-54.100833892822266,-17.60719108581543,40.6298942565918,-50.32883834838867,-5.892284393310547,-20.92692756652832,-26.488834381103516,-58.06010437011719,-68.67428588867188,9.408649444580078,-28.861845016479492,4.91497802734375,3.7712347507476807,-29.36264991760254,9.117560386657715,-26.320358276367188,56.46728515625,44.3987922668457,-0.31113773584365845,-65.98099517822266,-48.948482513427734,38.47918701171875,19.149385452270508,-18.81393051147461,36.306610107421875,-58.135841369628906,-9.169904708862305,-19.260805130004883,-20.304153442382812,36.68769073486328,44.13808059692383,4.53598165512085,45.71238708496094,17.95379638671875,38.307186126708984,-2.5646917819976807,60.27956008911133,9.79279899597168,7.945074558258057,-0.20124581456184387,13.70925521850586,21.075960159301758,20.973384857177734,-8.7158784866333,18.784608840942383,55.35120391845703,19.83524513244629,18.177385330200195,36.35883712768555,-49.26876449584961,34.59014129638672,38.37417221069336,37.379798889160156,18.072593688964844,58.32892608642578,57.15388488769531,-36.58901596069336,-17.209932327270508,-28.669292449951172,-11.622393608093262,-47.17592239379883,-1.799382209777832,-15.721994400024414,-24.605443954467773,41.44825744628906,-21.579362869262695,-2.0053658485412598,29.42772674560547,0.9530613422393799,-37.795833587646484,-62.33214569091797,-19.63176155090332,-24.249263763427734,-18.559293746948242,-0.9072380661964417,13.065851211547852,-46.50096893310547,19.36617088317871,6.709903240203857,-3.495440721511841,-34.109619140625,-20.196727752685547,-7.615579128265381,24.180973052978516,16.62714385986328,-9.508782386779785,39.56732177734375,69.54592895507812,-51.31452941894531,0.4688831567764282,8.246465682983398,40.101661682128906,28.158906936645508,8.352992057800293,-15.035455703735352,5.4270172119140625,9.007062911987305,43.521751403808594,-40.29177474975586,19.150100708007812,-60.36642837524414,57.6824951171875,33.18867874145508,24.91187286376953,-26.943103790283203,25.491546630859375,69.39515686035156,-36.713932037353516,32.11018753051758,5.668449401855469,57.851680755615234,28.2408447265625,-34.148746490478516,36.73395919799805,61.96782684326172,19.11941146850586,-21.05084228515625,-36.58268737792969,20.516315460205078,-21.608413696289062,-57.310890197753906,-17.85619354248047,-62.953250885009766,-15.294102668762207,45.38683319091797,26.575857162475586,48.48589324951172,21.26596450805664,26.053802490234375,-69.86280822753906,-43.19786071777344,62.52570343017578,-2.6254639625549316,28.84524154663086,-23.65278434753418,25.85249900817871,-52.005523681640625,27.726451873779297,25.79781723022461,-10.753080368041992,61.59584426879883,47.88906478881836,70.78662872314453,53.426353454589844,-62.164100646972656,55.22248077392578,-67.70245361328125,36.65211868286133,43.795249938964844,-19.06376075744629,29.165000915527344,-22.983421325683594,-9.427480697631836,-31.00688934326172,7.814095497131348,2.2936222553253174,-3.8504550457000732,61.2406120300293,44.8051872253418,-32.263511657714844,14.882792472839355,-59.952335357666016,-1.1424964666366577,-16.3687686920166,-14.981748580932617,65.64459228515625,53.773624420166016,18.809814453125,-39.3519287109375,19.07106590270996,27.03919219970703,-1.882887363433838,-7.651373386383057,41.71184158325195,33.9480094909668,5.128675937652588,16.705055236816406,-24.158504486083984,-48.94796371459961,-32.93001174926758,39.45663833618164,-21.35649299621582,-6.357255458831787,-28.413084030151367,41.53608703613281,-37.07823944091797,-13.134208679199219,-28.480512619018555,16.386568069458008,-38.1937255859375,29.567739486694336,15.455999374389648,31.51169204711914,-36.50312042236328,35.62428665161133,16.87541389465332,-57.952613830566406,-44.614654541015625,14.926194190979004,52.129337310791016,7.0894293785095215,-33.547237396240234,-35.2363166809082,13.427260398864746,-35.3250846862793,26.432109832763672,-29.909162521362305,-22.91267967224121,-6.999300479888916,-45.56526565551758,-64.42073059082031,64.89616394042969,14.857848167419434,23.023569107055664,40.300533294677734,-18.261754989624023,-44.3043212890625,-49.8662109375,-50.05758285522461,50.547359466552734,-35.848968505859375,-47.72952651977539,71.32395935058594,-43.00776290893555,67.94468688964844,17.763057708740234,56.071556091308594,32.24576187133789,10.013949394226074,-40.73331069946289,-65.6830062866211,-22.479515075683594,-49.548622131347656,21.276535034179688,-68.72904968261719,-26.078855514526367,-19.914567947387695,20.182327270507812,-9.052658081054688,-18.499149322509766,-21.423004150390625,-19.19200325012207,-54.26970291137695,-4.532299995422363,28.072216033935547,42.114532470703125,37.28901672363281,58.12239456176758,-33.47403335571289,-68.08206939697266,-19.020462036132812,29.464143753051758,33.86573791503906,-4.4233927726745605,30.352258682250977,29.193267822265625,17.896434783935547,-65.85724639892578,-48.15708923339844,-38.0208740234375,-21.10798454284668,20.198442459106445,-34.356117248535156,10.487062454223633,-53.38686752319336,31.12567901611328,-2.3352456092834473,-40.94846725463867,18.609067916870117,40.41348648071289,-58.69491958618164,38.875186920166016,9.490058898925781,24.237777709960938,-25.76763153076172,-16.21036148071289,21.262025833129883,-57.78053283691406,-44.94921112060547,62.87602615356445,63.97993469238281,66.1367416381836,29.026918411254883,12.734138488769531,39.43485641479492,-36.739410400390625,-15.61848258972168,-37.44652557373047,-0.7241771817207336,31.67634391784668,7.040389537811279,-5.098702907562256,46.00665283203125,6.784588813781738,-31.52798843383789,56.24467468261719,28.441261291503906,-63.01374816894531,13.333559036254883,31.36700439453125,15.609685897827148,-22.182506561279297,-47.39004135131836,32.11796188354492,-18.921663284301758,4.259259223937988,36.4970703125,54.47380065917969,25.856433868408203,-50.020687103271484,-30.822429656982422,28.217769622802734,38.94561767578125,-60.075374603271484,14.349977493286133,-66.89525604248047,8.135894775390625,19.06220817565918,-37.299720764160156,48.10418701171875,66.24404907226562,56.47734451293945,-36.19104766845703,31.951223373413086,-59.51374053955078,13.788110733032227,-39.84783935546875,-66.76740264892578,-10.803973197937012,44.229488372802734,20.64335060119629,-56.149391174316406,20.914072036743164,0.3581685423851013,55.46757507324219,1.8307851552963257,-9.183255195617676,-37.966819763183594,31.1981201171875,-8.39513874053955,10.51547908782959,38.63911437988281,4.702064514160156,-49.91563034057617,28.79434585571289,8.792241096496582,27.39801788330078,-3.0881826877593994,-29.72447967529297,-17.66100311279297,-15.41811752319336,27.70000648498535,15.63129997253418,18.09518051147461,0.5348267555236816,-48.4384880065918,-14.395037651062012,-68.3408432006836,39.47734069824219,-28.09429931640625,68.88211822509766,-24.710878372192383,6.221076488494873,28.363168716430664,7.6016364097595215,-3.2484941482543945,-37.950374603271484,39.3507194519043,-42.946533203125,59.21521759033203,-35.29005432128906,-32.660552978515625,19.447233200073242,22.063791275024414,2.6680819988250732,-48.060890197753906,-51.57123947143555,-68.0689926147461,-62.5035514831543,-60.55856704711914,0.7085598111152649,-57.688568115234375,27.972265243530273,-17.833620071411133,-65.77197265625,56.0295524597168,14.761582374572754,45.80025863647461,-38.139854431152344,57.96407699584961,17.887889862060547,-33.509639739990234,-37.64572525024414,-18.24834632873535,-36.318824768066406,11.788527488708496,20.997648239135742,27.272289276123047,-58.447113037109375,-12.156725883483887,-66.5762710571289,21.13844108581543,37.70072555541992,-37.92901611328125,46.38233184814453,45.167762756347656,-29.120031356811523,28.871959686279297,-23.28384017944336,-58.61581802368164,25.41063690185547,-24.665498733520508,-14.209734916687012,62.91034698486328,38.45893859863281,36.806243896484375,37.1878662109375,-27.12708282470703,-28.04387664794922,24.20904541015625,-40.14623260498047,-49.605262756347656,-29.983129501342773,16.037988662719727,21.19679069519043,51.08552551269531,-63.0308952331543,-57.95454788208008,32.73039245605469,-17.106569290161133,20.945093154907227,48.54198455810547,23.8151912689209,0.7568889260292053,38.66000747680664,-5.3619465827941895,-45.27317810058594,-66.97962188720703,27.723350524902344,71.71248626708984,28.264572143554688,-31.684078216552734,21.420888900756836,52.57015609741211,-4.284362316131592,66.40375518798828,-55.438270568847656,-38.60987854003906,7.610395908355713,52.27752685546875,21.886322021484375,-18.446962356567383,62.59444808959961,-63.67766189575195,28.915382385253906,-38.47283172607422,-22.110111236572266,64.9532470703125,-23.572538375854492,-22.951452255249023,-49.497108459472656,21.142789840698242,-2.2006163597106934,-38.297149658203125,42.054779052734375,33.221282958984375,65.5741958618164,5.105586051940918,28.94558334350586,2.9795641899108887,12.164817810058594,46.572418212890625,38.72852325439453,38.075035095214844,13.154879570007324,27.030895233154297,66.64874267578125,3.8020167350769043,4.564549922943115,18.423934936523438,-5.1517205238342285,38.16897201538086,20.03275489807129,35.370849609375,27.748815536499023,25.478933334350586,29.493200302124023,38.13908386230469,48.65997314453125,-37.74563217163086,69.70741271972656,-38.808433532714844,-47.32936096191406,-18.997406005859375,43.62825012207031,29.482812881469727,36.96700668334961,-9.125833511352539,-5.171987056732178,-52.57019805908203,-5.312053203582764,27.540233612060547,-37.676551818847656,-31.39898681640625,17.038803100585938,8.732409477233887,10.284972190856934,7.8063883781433105,-31.519804000854492,12.731058120727539,50.265586853027344,-26.92909812927246,-60.6171760559082,-56.68402862548828,29.170007705688477,35.266204833984375,4.957797050476074,-48.45881652832031,30.475601196289062,-16.0062198638916,29.10331916809082,-0.7247964143753052,36.60966110229492,48.27035140991211,-55.25202560424805,10.398974418640137,-23.81261444091797,-52.483516693115234,24.458656311035156,18.656808853149414,-50.34701919555664,11.860221862792969,-3.372122287750244,-40.75245666503906,-43.564781188964844,-16.0869197845459,-28.406850814819336,-63.719581604003906,-22.788524627685547,44.358970642089844,27.81524658203125,36.66377639770508,4.22614860534668,6.00032901763916,42.09384536743164,3.803178071975708,66.13008117675781,-59.17705535888672,-39.936614990234375,-43.38252639770508,-7.702359676361084,-15.449725151062012,-56.34121322631836,-31.210844039916992,28.47323989868164,-27.78965187072754,21.76853370666504,-35.26256561279297,-21.829927444458008,13.916911125183105,-67.06262969970703,61.61803436279297,37.03462219238281,14.120847702026367,32.3941535949707,68.35983276367188,-24.31228256225586,61.78030776977539,43.24632263183594,67.34407043457031,13.284133911132812,-3.703547954559326,26.650501251220703,-45.640419006347656,37.024662017822266,41.14210510253906,42.096923828125,62.79325866699219,-19.57541847229004,6.142714500427246,70.15550231933594,-30.32619285583496,-14.996695518493652,-42.64698791503906,27.61492156982422,-19.683103561401367,5.003754138946533,53.20145797729492,60.70387649536133,66.23694610595703,-11.109458923339844,13.655815124511719,38.224063873291016,19.875417709350586,25.333770751953125,45.85002517700195,-4.314831733703613,-15.919586181640625,0.3693770468235016,-5.247967720031738,23.209096908569336,-37.537017822265625,36.49378967285156,-4.02357292175293,-48.822906494140625,29.12700080871582,56.70808410644531,-3.906074047088623,-9.531542778015137,48.87075424194336,21.468442916870117,-34.975242614746094,-9.906917572021484,40.62636184692383,33.1565055847168,41.56691360473633,0.029637502506375313,25.118364334106445,-29.71190071105957,-35.1874885559082,-66.02830505371094,-25.880990982055664,-6.162829399108887,1.7172657251358032,19.47007942199707,17.63840675354004,-0.008169339969754219,30.498327255249023,13.574968338012695,20.279645919799805,-19.873842239379883,54.72483825683594,-33.83179473876953,-49.878211975097656,-2.4214229583740234,11.962593078613281,-31.035011291503906,-49.72042465209961,22.988826751708984,13.295531272888184,1.4703466892242432,62.3944206237793,9.664515495300293,64.33402252197266,20.607845306396484,-27.057485580444336,15.42829704284668,-23.417362213134766,-10.043493270874023,21.4370174407959,22.62027359008789,21.282833099365234,-66.67266082763672,-48.730289459228516,-45.729740142822266,17.659698486328125,6.509803295135498,57.846683502197266,-54.737098693847656,54.18257522583008,-26.91666603088379,-14.530244827270508,32.40648651123047,-22.646547317504883,63.618526458740234,32.42942810058594,40.964447021484375,-45.05278015136719,37.30760955810547,-21.033742904663086,-3.6675925254821777,45.380210876464844,33.878047943115234,55.673561096191406,-0.6559996604919434,25.731325149536133,-13.214064598083496,64.51871490478516,34.52605438232422,34.59910202026367,17.725849151611328,35.70267105102539,44.01671600341797,40.23690414428711,-14.418378829956055,-17.113344192504883,15.54429817199707,36.50595474243164,60.154300689697266,-20.202457427978516,9.276778221130371,46.73966979980469,-46.491512298583984,-17.364381790161133,14.53781509399414,32.85528564453125,-24.61866569519043,33.38580322265625,48.10287857055664,12.90379524230957,38.383548736572266,-33.41261672973633,17.972183227539062,13.298113822937012,23.829608917236328,-40.574119567871094,-12.456600189208984,19.702144622802734,19.287473678588867,-20.76971435546875,-30.289003372192383,-6.876179218292236,60.08479690551758,-19.90715980529785,-0.37096935510635376,-65.4599380493164,42.564945220947266,52.513771057128906,-33.40745544433594,-19.96954345703125,39.81979751586914,20.75241470336914,21.457677841186523,48.72845458984375,-19.01667022705078,-67.79962158203125,-24.71059799194336,-24.710594177246094,-42.66615295410156,-57.978355407714844,-65.90663146972656,-39.281089782714844,-33.73046112060547,16.532255172729492,-11.117613792419434,29.201147079467773,-14.00550365447998,-8.346100807189941,-6.721831798553467,32.681556701660156,-17.83328628540039,-4.893797397613525,30.009366989135742,3.840353012084961,12.250319480895996,64.92256164550781,-51.45341873168945,-29.644399642944336,-40.92371368408203,-21.0242862701416,-37.07235336303711,-14.986997604370117,43.7210807800293,60.048851013183594,9.887962341308594,6.250536918640137,-8.184657096862793,-45.965110778808594,10.352937698364258,-25.321184158325195,-43.04543685913086,7.552160739898682,28.53856086730957,-13.094382286071777,16.629425048828125,35.6782112121582,-37.53923034667969,3.7388806343078613,32.943397521972656,32.54587936401367,26.137371063232422,34.6388053894043,-6.007134437561035,-14.035226821899414,-17.789838790893555,-27.916988372802734,-14.967948913574219,-14.647510528564453,16.68155860900879,-10.930487632751465,-45.72385787963867,56.18134307861328,63.99199676513672,-10.806336402893066,11.491324424743652,44.66977310180664,-68.40318298339844,-52.844093322753906,46.94223403930664,15.37353515625,58.9638557434082,-10.84372615814209,-45.73680114746094,-63.69712829589844,-30.50543212890625,-29.048532485961914,36.869815826416016,-48.267730712890625,-9.715253829956055,-52.44137954711914,-67.49522399902344,-20.57537269592285,-67.20759582519531,-60.10036849975586,-49.51078414916992,-59.98073196411133,-34.29112243652344,-63.46453857421875,-20.97991371154785,-51.23341369628906,63.755393981933594,-31.26776695251465,-37.530799865722656,-45.14919662475586,9.29074764251709,8.5701904296875,20.970651626586914,-55.65955352783203,-43.17524337768555,23.65479850769043,-26.228788375854492,-8.900809288024902,-8.13097858428955,17.227750778198242,-47.457366943359375,-2.57529616355896,35.113548278808594,-11.212736129760742,-24.098102569580078,-19.684329986572266,-8.603983879089355,46.508731842041016,-4.409214496612549,-68.99736022949219,-19.98513412475586,-69.47293090820312,-14.236237525939941,-31.009647369384766,-17.757925033569336,-55.50491714477539,-37.95819091796875,-14.776224136352539,-41.53546905517578,-49.2625846862793,18.09742546081543,59.37095260620117,34.80177688598633,22.362689971923828,19.17498016357422,15.583988189697266,70.82121276855469,-15.701601028442383,38.68741226196289,52.43217468261719,-45.42014694213867,17.268789291381836,7.377016067504883,-20.426868438720703,57.24268341064453,11.634979248046875,-0.25193601846694946,11.56542682647705,22.9079532623291,-35.23841094970703,33.39801025390625,-17.617393493652344,-30.024045944213867,42.69384002685547,35.479339599609375,53.415367126464844,-4.4946441650390625,60.190555572509766,-56.67806625366211,-5.378405570983887,5.647928237915039,29.967363357543945,20.887649536132812,58.431922912597656,14.53196907043457,6.309694766998291,56.7884635925293,-2.9955806732177734,-17.09798812866211,-60.438480377197266,43.35640335083008,-28.31261444091797,-21.28211784362793,11.183769226074219,28.500947952270508,-62.12593460083008,17.10338592529297,72.33898162841797,43.90149688720703,0.10818195343017578,-2.861283540725708,67.87244415283203,61.714412689208984,62.88628005981445,-54.966705322265625,21.79773712158203,20.62302589416504,37.963226318359375,-25.877357482910156,12.60582447052002,61.31534194946289,-31.380342483520508,34.3661003112793,20.95319938659668,-40.16087341308594,21.14249610900879,-36.21481704711914,67.71492767333984,21.22899055480957,-46.21699905395508,-11.039634704589844,60.46229934692383,-21.63087272644043,20.795276641845703,-12.008613586425781,33.184104919433594,-45.97896194458008,-24.347305297851562,10.609539985656738,-5.170636177062988,-40.609439849853516,-20.771320343017578,-39.21221923828125,-37.2216682434082,-21.337993621826172,18.948549270629883,46.616050720214844,41.253047943115234,37.8547248840332,-14.62572193145752,51.113800048828125,46.2242431640625,-17.215091705322266,-53.14194869995117,-0.3462236225605011,-40.76045227050781,-27.999235153198242,28.032854080200195,61.027679443359375,65.6953125,-14.791563034057617,8.395495414733887,9.905235290527344,59.91278076171875,26.618608474731445,-14.434643745422363,38.46146774291992,-49.46571350097656,-27.131711959838867,-67.0958480834961,28.461429595947266,20.83820152282715,-17.329368591308594,-19.426212310791016,48.389686584472656,-18.925172805786133,23.368650436401367,-24.980436325073242,0.23856221139431,17.613248825073242,34.42435836791992,16.541839599609375,6.304757595062256,-39.40946960449219,-54.455284118652344,55.897518157958984,13.28601360321045,-23.91909408569336,-5.305243492126465,-26.888011932373047,-36.75804901123047,12.451799392700195,-41.66328048706055,46.80707550048828,-36.52240753173828,36.91595458984375,-19.59140968322754,-49.19581604003906,-35.01314163208008,-25.127225875854492,-25.53099822998047,18.658437728881836,-21.562915802001953,-31.677309036254883,-13.542572021484375,-66.96712493896484,28.350507736206055,-60.20960235595703,-2.5895190238952637,-23.39082145690918,18.114477157592773,51.4242057800293,14.225545883178711,17.45726776123047,-27.122941970825195,37.4106330871582,30.269290924072266,24.588529586791992,17.10080909729004,32.10703659057617,24.146175384521484,43.79523468017578,-24.45822525024414,46.56123733520508,17.297000885009766,-3.11238169670105,-16.349809646606445,-28.33648681640625,-37.84878921508789,-20.452592849731445,-24.192195892333984,34.89694595336914,23.13125228881836,-2.804896116256714,-3.168469190597534,-48.31242752075195,12.216038703918457,-7.7202277183532715,29.205055236816406,19.980741500854492,-64.68733978271484,1.5499075651168823,-44.3812255859375,51.75606918334961,69.224853515625,-19.216941833496094,20.759151458740234,13.34749698638916,-17.556196212768555,-12.645777702331543,-16.43519401550293,16.930400848388672,40.488948822021484,-12.767165184020996,17.783828735351562,-9.182088851928711,-66.13729858398438,-18.43963050842285,72.6069107055664,-17.20223045349121,23.35785675048828,17.037208557128906,16.82961654663086,29.960344314575195,-50.70503616333008,46.37157440185547,-51.025455474853516,-41.881412506103516,-18.364925384521484,40.2270622253418,6.724663257598877,72.11231994628906,1.3870909214019775,-41.16929626464844,-27.63356590270996,18.764760971069336,-54.67396926879883,-18.33279800415039,15.448951721191406,-6.0351386070251465,71.06126403808594,-67.92335510253906,19.054235458374023,-27.580270767211914,-1.6752408742904663,-68.58934020996094,-31.21164321899414,-7.059286117553711,-25.918350219726562,53.200775146484375,26.35059356689453,-17.537647247314453,-30.739625930786133,-29.14999008178711,22.48736572265625,-20.766624450683594,-2.84283447265625,-33.740760803222656,37.654449462890625,53.01243209838867,37.927223205566406,-66.08944702148438,67.92972564697266,-26.213315963745117,-44.8383903503418,27.338796615600586,-41.82625961303711,-23.591999053955078,55.543888092041016,39.255828857421875,59.99604034423828,-30.851303100585938,57.448612213134766,-18.480119705200195,23.81894874572754,-27.4395809173584,-42.86876678466797,53.28341293334961,-40.06536102294922,10.963113784790039,-40.19584655761719,-29.524229049682617,-53.8626823425293,-9.952986717224121,29.537385940551758,-10.030186653137207,37.161094665527344,27.79966163635254,26.024477005004883,-19.86240577697754,-20.589754104614258,13.649333000183105,-41.101505279541016,16.417757034301758,-35.11326599121094,-39.849849700927734,-47.59336853027344,-15.308061599731445,7.1771769523620605,-14.683321952819824,-27.38624382019043,-25.114139556884766,15.487829208374023,24.324676513671875,-24.741390228271484,57.85224151611328,-31.260093688964844,66.60389709472656,-58.0153694152832,-33.28759765625,59.13245391845703,-44.437015533447266,27.241357803344727,-56.285274505615234,-9.721871376037598,27.95907974243164,-69.67129516601562,32.2367057800293,23.612648010253906,24.53466033935547,-25.65380096435547,-67.36248016357422,38.66039276123047,48.63469696044922,23.58916664123535,-55.54796600341797,-25.842937469482422,-61.5230712890625,45.21778106689453,-27.173175811767578,-24.408836364746094,-60.42898941040039,12.842350006103516,-21.072402954101562,-47.18893814086914,-40.62494659423828,66.87126922607422,-29.967439651489258,20.8763484954834,6.48121452331543,-67.24439239501953,58.61768341064453,29.824085235595703,-48.438690185546875,-20.01735496520996,8.099746704101562,-28.38857078552246,24.433393478393555,-48.536495208740234,57.47389221191406,0.4230108857154846,42.2824592590332,-43.39326477050781,-40.319149017333984,42.068511962890625,29.667924880981445,-29.854198455810547,-36.46308898925781,28.067886352539062,55.651145935058594,-23.539047241210938,38.45206069946289,-9.319083213806152,36.16706848144531,38.83756637573242,9.278172492980957,-8.432380676269531,43.74007797241211,24.769947052001953,-12.566032409667969,-32.99102020263672,39.73533248901367,-52.569297790527344,-69.6516342163086,-11.84606647491455,39.31487274169922,21.55731773376465,5.23903226852417,-62.84162521362305,57.4783935546875,59.370567321777344,-51.43703842163086,31.125642776489258,-46.31779479980469,30.04064178466797,7.277956008911133,-14.546721458435059,28.465267181396484,-2.0111300945281982,12.080086708068848,-19.195297241210938,68.18011474609375,-25.710208892822266,-16.723417282104492,15.756852149963379,18.868671417236328,-18.010421752929688,-43.65550994873047,40.84279251098633,48.05349349975586,-33.591487884521484,-67.67558288574219,37.638309478759766,42.372276306152344,58.05744934082031,-65.36451721191406,13.269335746765137,6.7151875495910645,56.15052032470703,-9.971877098083496,-19.35107421875,-38.2713623046875,-35.30635452270508,20.95494270324707,-60.085418701171875,18.248647689819336,20.332639694213867,27.820880889892578,-16.331695556640625,18.708541870117188,0.5889062881469727,16.545650482177734,-31.869338989257812,-50.86143493652344,39.10408020019531,41.54230499267578,-37.698509216308594,61.46869659423828,-32.73617935180664,-18.807146072387695,-12.121115684509277,60.26917266845703,-27.039228439331055,69.7830581665039,17.816417694091797,29.735342025756836,39.361236572265625,-13.128583908081055,-24.304113388061523,27.729127883911133,-24.029613494873047,-58.52989959716797,47.18577575683594,44.447059631347656,57.11787414550781,70.06893157958984,33.267547607421875,-4.651566028594971,22.260461807250977,42.93603515625,1.397379755973816,18.985689163208008,71.51525115966797,-20.228609085083008,-19.074119567871094,-64.95755767822266,-15.685308456420898,-64.45634460449219,11.512149810791016,18.709774017333984,30.524032592773438,-28.334247589111328,15.127700805664062,-34.25569152832031,30.20945930480957,38.753326416015625,-37.55241775512695,12.9247407913208,23.38494300842285,41.706520080566406,-19.591291427612305,-51.01093292236328,36.96332931518555,-55.648094177246094,67.11763763427734,26.841938018798828,-43.75547409057617,-33.63249588012695,63.26303482055664,23.170455932617188,18.145381927490234,36.70109176635742,-49.392974853515625,-4.223367214202881,72.27104949951172,-28.118864059448242,55.76093292236328,-2.5641188621520996,37.28959655761719,32.63932418823242,27.16364860534668,30.890743255615234,-8.520092964172363,-54.888084411621094,-20.944156646728516,13.341673851013184,-29.074739456176758,37.58423614501953,23.108728408813477,-2.387322187423706,-51.69536590576172,68.56417083740234,-45.101287841796875,23.16546058654785,8.147974014282227,-24.256103515625,38.00370407104492,-30.995742797851562,-33.027896881103516,-38.38093185424805,14.790176391601562,17.57016944885254,-25.24490737915039,-29.755874633789062,37.24825668334961,25.10047721862793,18.886598587036133,46.90016174316406,37.40506362915039,55.511268615722656,-39.277374267578125,-51.86968994140625,-2.7437283992767334,-59.047760009765625,-38.780242919921875,-32.298484802246094,41.90119552612305,-44.46638870239258,37.33219528198242,52.76299285888672,19.901044845581055,59.7943115234375,-28.316932678222656,60.062408447265625,-41.15987014770508,23.683122634887695,23.566343307495117,-10.990984916687012,59.78474044799805,-27.384552001953125,-69.56556701660156,42.76644515991211,21.7353458404541,-32.03993606567383,21.316312789916992,-69.88513946533203,-30.689542770385742,-30.411367416381836,-30.11077308654785,-10.295644760131836,-15.800566673278809,-61.65449905395508,-41.40578842163086,-51.37562942504883,13.607930183410645,-30.1179141998291,58.404266357421875,-66.42618560791016,0.9750528931617737,-35.655452728271484,14.976676940917969,58.291500091552734,-30.7879695892334,-51.594383239746094,-14.963223457336426,29.163808822631836,27.35539436340332,-65.61063385009766,20.154258728027344,-50.405948638916016,-13.951101303100586,34.71061706542969,-5.350532531738281,27.68715476989746,-37.93916320800781,-51.53453063964844,-49.33259201049805,26.14971351623535,45.409854888916016,-69.03404998779297,28.357221603393555,43.34353256225586,49.12359619140625,23.775110244750977,-29.421064376831055,-11.383798599243164,-22.9046630859375,-28.567956924438477,-34.13474655151367,27.966663360595703,-35.9927864074707,-43.35922622680664,64.96035766601562,16.873580932617188,-60.68330383300781,38.398624420166016,22.374727249145508,-66.18737030029297,21.576013565063477,6.7424635887146,-66.12652587890625,30.581817626953125,58.93555450439453,27.607566833496094,9.036206245422363,64.6493148803711,31.6036434173584,-34.132957458496094,-44.18695831298828,16.506010055541992,-4.807382106781006,-28.522979736328125,-12.482076644897461,70.08885192871094,15.171937942504883,-28.53071403503418,71.84917449951172,-20.507911682128906,-37.44612503051758,-29.57887840270996,-25.572673797607422,27.38689613342285,1.8880345821380615,-15.386284828186035,63.41991424560547,45.34969711303711,21.653730392456055,-11.867351531982422,46.17865753173828,-45.53618240356445,-25.170368194580078,-26.052932739257812,-44.979087829589844,14.361515045166016,19.971574783325195,29.165821075439453,45.09767150878906,62.96405792236328,-31.27019691467285,22.10971450805664,20.382455825805664,-64.60597229003906,5.964584827423096,-15.130607604980469,-1.067873477935791,-46.85055923461914,62.08415603637695,-21.219362258911133,-34.160037994384766,28.27349090576172,31.525293350219727,-59.0421257019043,3.2748048305511475,68.68923950195312,-17.843687057495117,-44.20335388183594,-44.671180725097656,12.40074348449707,-5.071595668792725,13.421903610229492,40.125,-32.315879821777344,-36.28883361816406,-36.507713317871094,6.996899604797363,22.578828811645508,23.1093692779541,19.73088836669922,62.58364486694336,73.05474853515625,30.680557250976562,-14.795145988464355,55.91065216064453,8.283308982849121,-41.1146240234375,-49.054420471191406,-7.492805004119873,-4.971651554107666,36.92738723754883,-62.3943977355957,-40.95072555541992,-2.575122833251953,-50.4555778503418,18.39506721496582,-22.12004852294922,21.436351776123047,-38.58522415161133,6.045071125030518,26.42762565612793,51.59832763671875,-5.073879718780518,18.45058250427246,-30.6501407623291,43.581077575683594,10.795204162597656,44.65315246582031,34.74690246582031,-50.62876510620117,-29.10063934326172,-51.00348663330078,-65.75016021728516,-21.098987579345703,-45.126121520996094,18.838037490844727,-29.962879180908203,-2.4075374603271484,56.69184875488281,4.003604888916016,-4.570300102233887,38.237056732177734,-20.605281829833984,-2.9278697967529297,-24.906230926513672,17.699298858642578,5.852374076843262,35.812496185302734,-31.84569549560547,-54.15550994873047,6.2537970542907715,23.986637115478516,24.268558502197266,28.59640121459961,18.073389053344727,-39.678226470947266,38.272377014160156,-27.387657165527344,-2.843580484390259,12.772997856140137],\"xaxis\":\"x\",\"y\":[21.145591735839844,-17.379573822021484,-31.038427352905273,-10.4529390335083,-16.614055633544922,33.5755500793457,9.24006175994873,-21.020904541015625,10.609613418579102,-10.981528282165527,38.971702575683594,-9.845755577087402,38.69753646850586,-11.997118949890137,-11.015802383422852,-28.58368492126465,-9.742012023925781,3.024561882019043,-0.935352623462677,-7.326629161834717,2.968076705932617,-17.177513122558594,-30.961122512817383,-19.07452392578125,-16.386371612548828,-13.218831062316895,-25.23101806640625,-10.261764526367188,-23.8289794921875,-35.76704406738281,8.627171516418457,-10.48287582397461,-11.648330688476562,-16.3410587310791,8.411002159118652,-20.744291305541992,-10.028475761413574,-35.05352020263672,-23.294639587402344,-31.865888595581055,17.685312271118164,5.7907280921936035,43.61398696899414,14.170028686523438,-2.3478214740753174,-14.908234596252441,11.137998580932617,-5.909890174865723,10.69686222076416,-10.540945053100586,16.285926818847656,23.116744995117188,4.214560031890869,5.848541736602783,-27.872121810913086,-25.128084182739258,-19.53890609741211,-23.741147994995117,-30.21017074584961,31.259864807128906,-22.108802795410156,4.59541130065918,15.353744506835938,-29.772340774536133,-4.004499912261963,-0.5508508086204529,-19.28696632385254,10.988632202148438,-11.302740097045898,19.91810417175293,-20.292787551879883,12.815125465393066,18.092498779296875,-13.936148643493652,36.69975280761719,11.441758155822754,12.82837200164795,8.457101821899414,27.707775115966797,-13.891890525817871,37.20066833496094,-17.09910011291504,-22.913143157958984,-24.711078643798828,10.81940746307373,-24.631519317626953,31.618122100830078,-19.557132720947266,-10.288810729980469,16.69965934753418,32.66661834716797,-23.983339309692383,-12.071948051452637,-5.76165246963501,-23.76584815979004,0.24227023124694824,-34.69804382324219,29.750511169433594,-24.649621963500977,22.08814239501953,11.605523109436035,-14.48650074005127,-28.007699966430664,-15.290014266967773,16.079195022583008,-13.463969230651855,0.9053063988685608,20.58706283569336,-32.410362243652344,24.763391494750977,-18.400577545166016,-34.11857604980469,-9.470535278320312,-27.356870651245117,2.4510111808776855,-10.723044395446777,-24.92836570739746,2.488856554031372,-16.594568252563477,-22.31197738647461,-10.894852638244629,-32.0594596862793,38.97272872924805,27.381589889526367,27.96448516845703,-28.391658782958984,27.31768226623535,26.833768844604492,-13.633078575134277,25.998483657836914,-22.6068058013916,3.2426328659057617,9.109329223632812,23.083547592163086,-23.926006317138672,21.04636573791504,-10.22287368774414,21.43548011779785,39.35930633544922,-32.654090881347656,21.06316375732422,18.222932815551758,36.950801849365234,24.764015197753906,6.569343090057373,-32.697906494140625,-21.836687088012695,-29.64206886291504,-32.1317253112793,-26.12233543395996,-2.1338350772857666,-3.497295618057251,-16.12844467163086,-10.712138175964355,-6.698477268218994,23.884689331054688,2.8073089122772217,14.505655288696289,20.09171485900879,-2.189026117324829,-23.164180755615234,-18.584125518798828,9.896624565124512,19.468708038330078,16.256210327148438,4.081226348876953,-18.77968978881836,-8.161877632141113,-25.226417541503906,28.50052261352539,-32.97832107543945,22.229507446289062,11.70677661895752,28.155290603637695,-4.27938985824585,-15.256056785583496,-23.113733291625977,11.330665588378906,-10.324471473693848,14.862279891967773,-16.441665649414062,-7.742687702178955,-23.369529724121094,29.973791122436523,20.580249786376953,-18.702831268310547,15.142792701721191,-10.28027629852295,11.848970413208008,2.5326762199401855,19.648773193359375,33.60786056518555,5.213389873504639,10.147584915161133,-34.5830192565918,18.445663452148438,1.789772868156433,-34.02809143066406,33.41225051879883,14.271651268005371,-3.182936191558838,-31.692426681518555,-12.809835433959961,24.098491668701172,-15.14795970916748,1.062951683998108,-10.83082103729248,-28.36456298828125,-24.11159324645996,15.989256858825684,3.769998073577881,-11.67444896697998,-27.181161880493164,13.421649932861328,25.846946716308594,-28.07046127319336,13.95620059967041,-27.79117774963379,-17.992286682128906,-24.882627487182617,-26.40616226196289,0.7990204095840454,-20.32379722595215,10.845430374145508,27.537065505981445,-19.987821578979492,1.5907455682754517,-10.633929252624512,-27.047115325927734,31.562976837158203,-29.87318992614746,2.822049856185913,18.565258026123047,28.26420021057129,4.015970706939697,-24.877479553222656,17.74137306213379,9.925111770629883,-34.53626251220703,23.276758193969727,21.772323608398438,23.860374450683594,-32.58192825317383,11.24793529510498,21.971481323242188,27.701419830322266,45.9978141784668,7.1718339920043945,-25.700532913208008,43.933876037597656,22.922693252563477,-26.7491455078125,-15.038315773010254,-34.984474182128906,-10.362433433532715,30.819091796875,20.10136604309082,-14.592972755432129,12.394251823425293,-23.6626033782959,20.96935272216797,21.73571014404297,22.757688522338867,-35.87982940673828,-13.595067977905273,1.033868432044983,4.559517860412598,-9.008471488952637,1.132203459739685,-25.597606658935547,11.908858299255371,3.2098050117492676,0.7214625477790833,6.040621280670166,3.0170724391937256,32.73268508911133,29.42024040222168,-8.543651580810547,13.797741889953613,-6.206028938293457,-15.540084838867188,31.83618927001953,25.850879669189453,26.177316665649414,5.796200752258301,10.935141563415527,-20.080949783325195,-20.454530715942383,-27.55202865600586,-18.54692268371582,-15.395363807678223,7.753177165985107,31.325223922729492,0.9305827021598816,32.27730941772461,16.53569984436035,-17.2866268157959,13.41985034942627,-1.1150530576705933,-5.512396335601807,5.861990928649902,30.539175033569336,-15.816326141357422,21.503154754638672,-15.605533599853516,26.975990295410156,-34.56970977783203,-1.5294559001922607,-37.81522750854492,14.527698516845703,-0.6323603391647339,20.420379638671875,22.380897521972656,10.265810012817383,-21.871545791625977,0.13569405674934387,9.584583282470703,43.57122802734375,-0.4318809509277344,-32.44512939453125,-15.766670227050781,2.57924747467041,-12.587835311889648,5.515929698944092,14.892219543457031,-34.657630920410156,-2.2858760356903076,-1.6043893098831177,-15.649744987487793,-22.549211502075195,10.801379203796387,-31.220006942749023,-33.93978500366211,-30.391881942749023,-22.327552795410156,13.210700988769531,-24.350889205932617,10.524170875549316,-14.15255069732666,-1.931711196899414,22.345264434814453,-33.26516342163086,-13.889959335327148,-31.205463409423828,9.76511001586914,-27.387666702270508,5.967036247253418,9.708025932312012,40.89216995239258,-15.237268447875977,17.691917419433594,-31.031478881835938,-13.479089736938477,-16.467233657836914,18.139333724975586,29.54710578918457,22.833980560302734,3.9771459102630615,29.34227180480957,4.016708850860596,-22.294635772705078,26.685422897338867,22.57331085205078,-5.286234378814697,-15.78501033782959,21.569759368896484,14.379541397094727,12.73918342590332,12.936888694763184,3.7494897842407227,27.398418426513672,12.84948444366455,14.876826286315918,20.833049774169922,-35.18717575073242,-16.055728912353516,-1.6597578525543213,9.505781173706055,-35.969791412353516,22.850467681884766,42.929237365722656,-16.311431884765625,-9.677583694458008,-23.644245147705078,7.167275428771973,-4.141408443450928,-28.824129104614258,-0.0764114260673523,13.739066123962402,-1.6559141874313354,20.261749267578125,-23.15622329711914,-10.946687698364258,-28.390274047851562,-23.277767181396484,-6.056298732757568,9.368992805480957,19.699533462524414,23.73326301574707,-4.505958557128906,-20.326204299926758,-25.997053146362305,-24.897310256958008,-22.071468353271484,29.74652862548828,37.43218994140625,34.187225341796875,9.556519508361816,-17.721057891845703,-10.18553352355957,-16.35147476196289,-30.773944854736328,-9.733803749084473,-29.549978256225586,-10.641962051391602,-25.06035614013672,1.2677357196807861,-24.509342193603516,7.236544609069824,-9.971504211425781,10.867159843444824,-22.823490142822266,10.348617553710938,9.59825611114502,2.9404966831207275,-10.534393310546875,17.11223793029785,33.1840934753418,0.042417943477630615,-6.924159049987793,21.75074005126953,23.213285446166992,-11.136129379272461,3.5444424152374268,13.65338134765625,2.50545334815979,6.773415565490723,-18.01300048828125,0.6854698061943054,15.095772743225098,10.524251937866211,-0.9479959607124329,-6.858405590057373,19.51844024658203,14.079318046569824,-25.14775276184082,0.20821379125118256,30.64601707458496,14.541655540466309,-3.0125010013580322,2.345665454864502,12.52847671508789,-32.178348541259766,35.243896484375,13.332245826721191,27.34126853942871,31.140260696411133,17.173860549926758,32.709877014160156,39.96916198730469,4.040003776550293,10.279114723205566,23.07982063293457,15.034385681152344,-16.902883529663086,16.29033851623535,13.334221839904785,13.118462562561035,-16.27381706237793,28.774682998657227,15.313800811767578,-2.6539461612701416,-27.250335693359375,-25.413610458374023,1.8517577648162842,42.88251876831055,-0.18542076647281647,-27.943683624267578,-3.1437690258026123,12.376617431640625,-31.853355407714844,-35.81595230102539,32.89543914794922,44.2291374206543,-8.044356346130371,38.38538360595703,-15.956046104431152,17.348533630371094,-24.661767959594727,-1.5648233890533447,-9.29704761505127,10.445931434631348,10.071146965026855,30.177465438842773,3.5866646766662598,-9.469804763793945,1.6061044931411743,3.5093414783477783,14.548347473144531,-0.592755138874054,27.471519470214844,-3.1925573348999023,25.59979248046875,14.680094718933105,-25.069833755493164,16.959285736083984,32.99068832397461,-14.605585098266602,13.607338905334473,-17.423452377319336,4.190201759338379,-25.04571533203125,15.601157188415527,-25.674951553344727,8.744091033935547,-0.7523739337921143,9.57734203338623,23.722238540649414,-16.98147964477539,-15.930187225341797,33.83987045288086,-32.558650970458984,2.218409776687622,-15.311772346496582,-10.117252349853516,11.06775951385498,-17.458999633789062,11.544144630432129,39.345069885253906,-15.531697273254395,-26.66472625732422,-15.519082069396973,-3.8582868576049805,-26.042325973510742,-26.385427474975586,3.9582908153533936,8.811671257019043,23.092262268066406,-30.440807342529297,-15.882232666015625,0.933558464050293,-4.842329978942871,-12.208045959472656,-24.181285858154297,9.684744834899902,-19.51467514038086,19.731046676635742,22.291540145874023,-14.778364181518555,27.738880157470703,14.884723663330078,21.4356746673584,9.764153480529785,14.760285377502441,13.268012046813965,14.567817687988281,-32.13950729370117,16.446956634521484,-1.8657565116882324,12.461657524108887,24.886381149291992,-28.224239349365234,-28.785015106201172,-26.4705867767334,-25.649505615234375,26.323530197143555,0.5848413705825806,-27.602781295776367,-30.642135620117188,26.82659339904785,-13.455290794372559,22.58667755126953,21.043485641479492,8.719673156738281,-11.1146879196167,-25.874675750732422,-23.85325813293457,14.220765113830566,38.36262130737305,22.96137046813965,14.57613754272461,12.242375373840332,-35.0720100402832,-16.417333602905273,-19.58899688720703,24.18332862854004,-29.529407501220703,14.371590614318848,-22.743528366088867,-15.993471145629883,-21.587509155273438,-19.380266189575195,-25.74331283569336,34.610755920410156,10.01496410369873,23.01612091064453,-22.63312530517578,11.186298370361328,9.348796844482422,-25.82235336303711,-9.926285743713379,-0.23882333934307098,26.68177032470703,2.5346457958221436,-2.4317452907562256,32.84846878051758,-1.076671838760376,-27.551836013793945,-11.492569923400879,2.1911706924438477,27.400447845458984,14.786031723022461,-31.67095947265625,-34.81620788574219,14.553237915039062,-34.01182556152344,-12.923319816589355,-26.133865356445312,34.74693298339844,11.902835845947266,-0.28950852155685425,31.561429977416992,19.040597915649414,8.99406623840332,6.556262969970703,15.759514808654785,-16.47556495666504,35.0206184387207,-27.11077117919922,32.501441955566406,20.285768508911133,25.49968910217285,-29.848491668701172,13.302225112915039,33.07247543334961,1.864723801612854,30.46446990966797,10.860779762268066,45.7575798034668,21.055999755859375,17.147798538208008,21.31931495666504,-31.471765518188477,27.107229232788086,20.323787689208984,14.757258415222168,33.2667121887207,10.214972496032715,13.679924964904785,4.034103870391846,2.5672249794006348,33.02863693237305,3.268996477127075,-6.259480953216553,-2.5950403213500977,17.57547950744629,-3.2899889945983887,20.867658615112305,-28.550092697143555,-10.727398872375488,4.5959577560424805,35.20710372924805,-17.38929557800293,20.07052230834961,-17.03131866455078,43.09816360473633,-10.693480491638184,-14.331083297729492,22.029146194458008,-26.916908264160156,36.432254791259766,21.743255615234375,29.999073028564453,19.568458557128906,-2.8507936000823975,-34.47795867919922,-23.017786026000977,23.034330368041992,-24.53089714050293,-13.030521392822266,-20.151756286621094,19.2962646484375,3.32084321975708,-33.70140838623047,-8.365727424621582,3.233388900756836,-29.488752365112305,-27.41646957397461,11.852441787719727,20.67689323425293,-18.96114158630371,13.87458324432373,9.980143547058105,12.485981941223145,26.891372680664062,-34.006351470947266,-34.093994140625,9.371086120605469,-25.152462005615234,-32.46529006958008,-16.064794540405273,33.395450592041016,-32.37541961669922,6.914885520935059,20.712818145751953,8.2959623336792,-25.718557357788086,-21.966379165649414,38.931121826171875,-10.259638786315918,-24.807846069335938,2.587533950805664,-9.798981666564941,-10.766510009765625,18.450719833374023,3.386791229248047,-13.388258934020996,10.761396408081055,34.78572463989258,-12.910016059875488,-6.265837669372559,28.680450439453125,-20.420494079589844,34.192108154296875,31.092742919921875,11.442684173583984,22.528736114501953,-4.9288859367370605,19.788785934448242,-23.311153411865234,-33.46925354003906,-15.110190391540527,12.176575660705566,-35.1812744140625,-16.780094146728516,-14.25639820098877,-30.67537498474121,13.898256301879883,7.447999954223633,-2.3903653621673584,-21.168920516967773,19.20615577697754,33.15885543823242,-22.600801467895508,-10.195281028747559,-5.514629364013672,8.869058609008789,-19.18773651123047,18.95908546447754,14.702083587646484,-6.582586288452148,21.38758659362793,-0.13389529287815094,15.036101341247559,18.076047897338867,-30.984378814697266,-12.857953071594238,20.70897102355957,6.358786106109619,-4.153501033782959,-24.617488861083984,-28.70597267150879,13.699640274047852,-31.01021385192871,7.47660493850708,6.855243682861328,6.401368141174316,9.491839408874512,33.15974807739258,-17.515460968017578,10.552671432495117,-0.4667200744152069,5.926488876342773,12.566624641418457,-18.067909240722656,22.113452911376953,-22.72699737548828,-36.34524917602539,24.682764053344727,-18.965499877929688,29.012666702270508,21.36398696899414,11.42559814453125,-24.206443786621094,14.39643383026123,17.366647720336914,22.226266860961914,-13.572028160095215,-13.778848648071289,34.58165740966797,20.044076919555664,-23.328899383544922,-28.642045974731445,16.654909133911133,3.9751713275909424,32.57958984375,6.014597415924072,17.617956161499023,-4.713030815124512,38.985382080078125,15.692403793334961,8.350679397583008,13.648551940917969,-23.79339599609375,-31.818525314331055,10.19323444366455,10.90506649017334,46.08020782470703,6.480612754821777,-2.505988597869873,25.016780853271484,-24.698890686035156,12.900629043579102,34.321205139160156,33.30970764160156,-17.0859375,-31.579957962036133,31.721057891845703,13.62783432006836,25.438833236694336,12.023161888122559,15.660759925842285,-3.318808078765869,0.5388065576553345,-25.13077735900879,-7.011444091796875,43.110504150390625,-20.710351943969727,-24.907011032104492,-2.2838919162750244,-3.474107265472412,3.9173953533172607,35.48358154296875,24.371408462524414,15.30962085723877,3.182764768600464,-17.125749588012695,3.679462194442749,-12.023898124694824,37.630043029785156,41.36885452270508,-15.33479118347168,-11.556313514709473,-25.29314422607422,-35.19636917114258,-14.416682243347168,-6.446598052978516,-13.28458023071289,-4.495391845703125,-13.050207138061523,35.20827865600586,-28.948949813842773,8.793977737426758,-14.536941528320312,-7.843536853790283,-22.537933349609375,-4.985660076141357,10.372210502624512,-21.160717010498047,-6.195039749145508,-26.400720596313477,-22.936845779418945,9.460590362548828,33.9365348815918,-35.13996505737305,-15.235690116882324,28.126718521118164,-4.924643516540527,-30.69512367248535,-11.912257194519043,-16.188154220581055,-10.600508689880371,-14.052400588989258,-8.57934856414795,0.305711567401886,14.717841148376465,-29.32272720336914,-22.408241271972656,41.641822814941406,8.0739107131958,-31.641149520874023,-28.309106826782227,12.129260063171387,-17.744382858276367,8.287881851196289,15.019025802612305,-24.471208572387695,12.635833740234375,11.954904556274414,-27.97237777709961,5.809302806854248,27.733882904052734,-26.0925350189209,-7.4766387939453125,10.413647651672363,28.332414627075195,-22.379653930664062,8.426036834716797,20.16344451904297,11.265902519226074,18.475664138793945,13.740408897399902,-14.571288108825684,34.614013671875,13.91094970703125,-16.019174575805664,0.49069762229919434,20.576154708862305,-6.690946102142334,20.56415367126465,-1.4074195623397827,-30.875202178955078,28.024965286254883,27.0283203125,-13.853281021118164,-30.264238357543945,30.000320434570312,-9.847009658813477,22.868927001953125,2.8846282958984375,25.526826858520508,24.076982498168945,11.421813011169434,-16.585222244262695,12.53529167175293,-13.650649070739746,-10.501344680786133,9.421625137329102,2.26198673248291,-15.74775505065918,-30.75562858581543,-11.116296768188477,-18.17729949951172,-0.5333247184753418,-20.26192855834961,-13.223394393920898,-16.75741195678711,24.914440155029297,41.495365142822266,1.907731294631958,-3.0512421131134033,8.003933906555176,-21.084741592407227,-24.88412857055664,-10.227377891540527,-24.480741500854492,-35.964900970458984,25.218040466308594,-23.04214859008789,-29.336627960205078,-5.429829120635986,8.655372619628906,30.876468658447266,23.829090118408203,13.305453300476074,-32.64429473876953,-25.342273712158203,0.8142132759094238,4.891551494598389,-13.549154281616211,15.072242736816406,11.67639446258545,28.76991844177246,20.385465621948242,-34.955772399902344,9.145646095275879,19.769737243652344,-13.390901565551758,-31.694597244262695,1.4297558069229126,31.97272491455078,-21.934431076049805,-13.59937858581543,-10.701041221618652,-26.427732467651367,-4.852532863616943,-29.336273193359375,-24.02193832397461,26.369470596313477,-9.942458152770996,28.914487838745117,-29.231672286987305,30.152563095092773,-13.503860473632812,23.240537643432617,9.681087493896484,-15.313096046447754,32.65699768066406,29.850893020629883,32.04007339477539,34.241756439208984,27.419118881225586,-12.545538902282715,-25.139833450317383,28.146484375,20.40940284729004,-10.548572540283203,-5.97051477432251,-1.6455934047698975,-6.120151042938232,-31.0760440826416,33.98149108886719,-26.320140838623047,-28.790361404418945,-25.543664932250977,3.0330584049224854,-30.575937271118164,23.02993392944336,-31.71286964416504,-22.249008178710938,30.983802795410156,-17.513601303100586,6.543087959289551,-29.618837356567383,43.703285217285156,33.498741149902344,-0.06117938458919525,6.715193748474121,-0.9127786755561829,-30.330312728881836,-31.330524444580078,-15.894845008850098,-20.19400978088379,-32.31684494018555,20.396936416625977,20.169113159179688,-11.008566856384277,18.08437156677246,11.147439956665039,11.054214477539062,15.20340347290039,-21.99141502380371,-11.17062759399414,-28.97539520263672,-13.100221633911133,22.36870765686035,34.288963317871094,41.79658126831055,18.49397087097168,-28.752254486083984,16.11686134338379,14.683228492736816,-7.073544502258301,-2.106640338897705,-15.38526725769043,-19.725780487060547,29.836334228515625,-29.756072998046875,-14.072540283203125,-14.995144844055176,6.915228366851807,4.515187740325928,9.728922843933105,-20.97635841369629,-24.668373107910156,32.350135803222656,-3.201249837875366,10.484618186950684,34.2086067199707,-0.7222551107406616,-21.61396598815918,-2.9603543281555176,-29.142366409301758,-37.012813568115234,-2.0043811798095703,-28.48240852355957,14.93212890625,-33.604339599609375,-13.398165702819824,15.363726615905762,10.95805835723877,3.6552512645721436,-23.136320114135742,-12.065902709960938,-15.877503395080566,-13.342833518981934,36.0472297668457,20.106464385986328,-1.01483154296875,5.821127414703369,-27.75889778137207,-20.535205841064453,18.680416107177734,-27.04527473449707,-14.91982650756836,4.1439714431762695,14.520363807678223,-11.538208961486816,4.44758415222168,37.00693130493164,26.373706817626953,16.4846134185791,-18.427959442138672,-22.379796981811523,31.760648727416992,1.6694495677947998,28.683061599731445,-12.847098350524902,29.663610458374023,-15.095769882202148,-23.16289710998535,-25.833900451660156,-5.011731147766113,-31.272003173828125,-12.084128379821777,20.6708927154541,-19.83824348449707,-10.599210739135742,-12.584954261779785,-1.432789921760559,13.185654640197754,-10.692131042480469,-9.585395812988281,-23.244277954101562,16.847816467285156,13.065938949584961,13.513466835021973,-12.067378997802734,2.156996488571167,17.386903762817383,24.881044387817383,-24.88260269165039,-26.419157028198242,11.115896224975586,-17.95718002319336,-11.433798789978027,11.100075721740723,27.57827377319336,20.45945167541504,-16.60698699951172,-19.97963523864746,-33.399776458740234,14.532251358032227,-1.2046822309494019,-24.290082931518555,44.29545593261719,-12.293561935424805,14.22265625,-15.587401390075684,-25.190622329711914,-36.89503860473633,5.973326683044434,3.2932116985321045,36.0047607421875,-18.720041275024414,26.259042739868164,-15.84986686706543,12.192974090576172,-18.75502586364746,-26.42226791381836,-23.698991775512695,-2.937340259552002,-23.488195419311523,-27.970857620239258,-20.43000030517578,0.13463525474071503,12.185120582580566,-12.92358112335205,-13.913579940795898,-27.106355667114258,-32.102752685546875,29.832090377807617,14.289204597473145,-23.135751724243164,43.47301483154297,20.048664093017578,0.19597886502742767,18.475460052490234,-10.132929801940918,26.21151351928711,-6.7953996658325195,-14.433693885803223,-24.67211151123047,-11.161296844482422,-14.964567184448242,-12.719828605651855,-16.342041015625,3.539051055908203,-3.9212324619293213,24.05278778076172,35.80738830566406,-28.904420852661133,12.021883010864258,-15.594319343566895,13.054916381835938,-11.046814918518066,11.514850616455078,9.611761093139648,20.834117889404297,-8.447174072265625,-27.5939998626709,-24.64199447631836,1.8931663036346436,38.49758529663086,0.7547884583473206,21.80312728881836,7.530999183654785,23.281795501708984,15.201689720153809,23.69661521911621,-31.862712860107422,-25.336894989013672,-0.9139560461044312,28.662893295288086,-30.532146453857422,-2.4467904567718506,-3.664238691329956,-0.09549745917320251,-25.00775909423828,26.929790496826172,-10.749428749084473,-17.17251968383789,-24.039846420288086,38.18477249145508,34.874202728271484,3.298800468444824,-13.368945121765137,-21.70089340209961,-34.992313385009766,30.566774368286133,30.9283390045166,-25.823936462402344,-25.760101318359375,13.197710990905762,8.77768325805664,1.9443703889846802,32.8277473449707,11.572763442993164,26.019147872924805,-32.8729133605957,29.706064224243164,20.341712951660156,-15.711352348327637,-8.080702781677246,28.131105422973633,-13.299948692321777,34.60396957397461,-33.60416030883789,35.329429626464844,-32.90141677856445,-11.813514709472656,-22.501562118530273,4.241913318634033,0.3502255976200104,9.865774154663086,-4.081971645355225,-32.158203125,4.677209854125977,17.475055694580078,-28.688663482666016,-32.71135330200195,-28.682018280029297,-25.11873435974121,-23.394784927368164,-25.369775772094727,-14.616143226623535,-18.34868812561035,7.308438777923584,30.029645919799805,-36.360477447509766,-24.2923526763916,0.3933561146259308,11.138257026672363,7.20004940032959,-15.488018035888672,-10.902383804321289,24.354846954345703,10.36601448059082,14.691905975341797,-21.880525588989258,11.717602729797363,17.108243942260742,-6.837179183959961,13.770312309265137,-13.662923812866211,-12.816441535949707,33.97194290161133,-24.52253532409668,-14.804710388183594,2.5513408184051514,18.354928970336914,13.357039451599121,12.785649299621582,31.568477630615234,-10.8175630569458,-35.359649658203125,-2.976921558380127,29.763154983520508,16.898542404174805,27.66094398498535,-12.774797439575195,34.02889633178711,16.5799617767334,24.188764572143555,-9.844216346740723,-23.51085090637207,28.869264602661133,-17.01938247680664,-29.83058738708496,-14.005252838134766,-0.9501895904541016,-6.730672359466553,-9.910344123840332,10.038446426391602,3.823686361312866,20.09658432006836,-34.0149040222168,-23.248245239257812,-16.944501876831055,18.79151725769043,2.796272039413452,-13.209416389465332,15.374396324157715,30.953943252563477,7.920288562774658,-11.577005386352539,28.155248641967773,-11.600557327270508,-19.61529541015625,-27.776735305786133,-18.91732406616211,32.669593811035156,-29.619369506835938,9.285479545593262,-29.956783294677734,35.51189422607422,-25.020235061645508,26.595928192138672,33.29239273071289,9.168756484985352,-28.7744083404541,10.745704650878906,-13.222983360290527,24.646814346313477,20.09499740600586,32.497684478759766,24.223865509033203,-33.55784606933594,-11.038329124450684,9.208556175231934,-16.716596603393555,-25.28163719177246,-25.172027587890625,-28.391551971435547,-3.932969093322754,10.487517356872559,34.894737243652344,16.00123405456543,-24.045377731323242,-10.557822227478027,-12.516642570495605,26.05193519592285,-3.3535404205322266,-30.538148880004883,12.912617683410645,-13.008567810058594,-5.996828079223633,-14.825746536254883,-12.556591033935547,-30.788455963134766,25.97893524169922,12.795516014099121,14.740073204040527,14.261733055114746,-17.653635025024414,-21.504892349243164,33.16378402709961,29.54875946044922,6.608764171600342,-7.898735046386719,11.712000846862793,-32.89195251464844,-2.449367046356201,-12.33025074005127,26.1186580657959,-16.799938201904297,13.679231643676758,-21.164152145385742,-22.25478744506836,34.16622543334961,-20.298276901245117,-1.7568100690841675,-26.571975708007812,18.488527297973633,-16.806169509887695,18.671398162841797,32.65113830566406,-25.676509857177734,26.679279327392578,-16.621355056762695,13.500374794006348,34.24509811401367,-1.535419225692749,13.583952903747559,0.3655202090740204,-1.8664038181304932,25.530405044555664,-29.35806655883789,33.459373474121094,23.23190689086914,15.0693359375,-34.06419372558594,-13.893720626831055,3.736846923828125,-24.46743392944336,-9.632685661315918,-24.619857788085938,22.487524032592773,-24.864404678344727,7.178783416748047,42.65896224975586,23.332874298095703,19.63692283630371,-27.28240394592285,-12.87992000579834,-16.5009765625,8.833664894104004,19.50090789794922,5.309078693389893,-32.51674270629883,-12.621413230895996,13.763049125671387,35.82595443725586,-14.167285919189453,12.531028747558594,-28.61980438232422,31.2977294921875,31.56313705444336,-3.2967662811279297,-22.1679630279541,27.553913116455078,10.839029312133789,-16.360700607299805,3.6193687915802,-34.906856536865234,27.248510360717773,28.4305477142334,44.980377197265625,11.539739608764648,-10.556770324707031,12.523833274841309,9.841227531433105,-22.651094436645508,30.057899475097656,-25.207988739013672,-34.296390533447266,30.82709503173828,12.392152786254883,-14.14691162109375,-6.542224884033203,29.89336395263672,4.0427069664001465,31.272321701049805,21.22130012512207,-10.254236221313477,-25.67759132385254,9.41746711730957,-17.104732513427734,1.2790762186050415,21.740097045898438,20.166675567626953,-30.044313430786133,-21.140033721923828,2.931520462036133,30.93058967590332,-25.994972229003906,22.216094970703125,34.43025207519531,3.656235694885254,-15.804463386535645,-31.61974334716797,10.722207069396973,14.446798324584961,9.017901420593262,-1.0933165550231934,-35.90934371948242,16.478076934814453,-24.863567352294922,27.0944881439209,-23.47391700744629,22.826295852661133,13.742973327636719,-20.015567779541016,-28.69028091430664,13.238544464111328,-9.52367115020752,8.118163108825684,-15.479720115661621,-37.26277160644531,-10.962553024291992,18.940673828125,18.98337745666504,-26.98066520690918,4.319587230682373,-10.361029624938965,24.48272705078125,-29.641435623168945,4.33950662612915,-18.997631072998047,21.51439094543457,14.933686256408691,28.831851959228516,33.75580596923828,-26.071533203125,-34.94135665893555,5.866393089294434,-29.891077041625977,35.763267517089844,-25.852237701416016,45.575870513916016,-16.9973087310791,-27.202316284179688,8.034333229064941,-8.048198699951172,33.0854606628418,-18.995784759521484,-29.316322326660156,30.383647918701172,-32.42318344116211,-8.375737190246582,10.817662239074707,32.373172760009766,-12.615682601928711,-26.377317428588867,23.129243850708008,-23.667314529418945,-5.230064392089844,5.811095714569092,-23.691675186157227,-14.783303260803223,11.592230796813965,-33.87551498413086,11.124356269836426,21.5416316986084,8.318721771240234,17.907855987548828,-1.6948071718215942,18.371904373168945,-6.004342079162598,-2.2970805168151855,15.222026824951172,8.033039093017578,0.6757868528366089,-17.305789947509766,-12.419049263000488,20.478981018066406,-13.556233406066895,-24.052995681762695,34.205474853515625,29.63884162902832,-20.673166275024414,-33.58644104003906,41.82709884643555,-0.15202167630195618,-14.520356178283691,16.274417877197266,-2.5758750438690186,7.568986415863037,1.2686525583267212,-24.041522979736328,23.723318099975586,-33.89168167114258,32.570770263671875,27.62867546081543,33.110015869140625,31.572689056396484,32.97300338745117,-11.527243614196777,11.551799774169922,15.523171424865723,-23.69084930419922,25.860742568969727,25.221195220947266,34.751956939697266,3.971179962158203,27.46019172668457,22.80451202392578,-12.014257431030273,2.6793313026428223,-3.0774409770965576,-11.451616287231445,-29.176000595092773,-17.63636016845703,-1.87871515750885,-17.933141708374023,-20.337390899658203,-7.0782904624938965,14.171919822692871,9.648118019104004,-22.40885353088379,14.422968864440918,10.265430450439453,-25.795143127441406,12.626237869262695,14.376051902770996,-32.16056823730469,14.607614517211914,3.078481674194336,13.09798526763916,8.749893188476562,23.195470809936523,33.21147537231445,-14.437212944030762,-23.30221939086914,10.879865646362305,11.259371757507324,15.022436141967773,-12.417008399963379,-5.862777233123779,21.23560905456543,-8.538143157958984,34.75325012207031,-11.937702178955078,-31.838407516479492,30.048425674438477,14.67585563659668,-3.4651379585266113,7.989742279052734,10.32081127166748,-0.9688766598701477,6.182468414306641,10.635088920593262,-16.52281951904297,-14.595718383789062,9.42533016204834,-22.41696548461914,-12.135103225708008,-5.376089096069336,11.422450065612793,33.63600540161133,10.079194068908691,-21.91005516052246,-18.450380325317383,23.328765869140625,30.74773406982422,-23.550260543823242,22.006752014160156,-7.911863803863525,22.806325912475586,22.75899314880371,9.572418212890625,17.68535614013672,23.140914916992188,0.28916385769844055,9.543071746826172,35.9840202331543,1.3624027967453003,5.574590682983398,-12.543834686279297,-29.99309539794922,21.168724060058594,-26.318639755249023,-2.8065507411956787,26.626628875732422,10.315353393554688,34.21072769165039,31.78588104248047,-25.69812774658203,-12.88969612121582,-14.391838073730469,-21.600488662719727,24.484899520874023,27.43587303161621,6.0083327293396,-13.192948341369629,8.462843894958496,-11.56040096282959,-23.879552841186523,18.636863708496094,-30.768516540527344,36.29332733154297,12.286779403686523,26.466062545776367,33.2782096862793,14.223078727722168,-6.234625816345215,1.769575595855713,-20.276384353637695,8.575736045837402,41.657127380371094,30.789772033691406,35.39452362060547,9.51662540435791,-26.79818344116211,31.57460594177246,-25.182031631469727,27.68761444091797,-14.752813339233398,-22.29734992980957,22.03859519958496,10.67708969116211,-8.08590316772461,33.8079719543457,2.298377275466919,-17.344722747802734,-27.42336654663086,-8.973067283630371,15.17484188079834,-19.30493927001953,34.126712799072266,10.947614669799805,-10.571721076965332,-10.488327980041504,24.03324317932129,34.15978240966797,12.898181915283203,-17.390840530395508,-9.227866172790527,-16.321557998657227,3.3878579139709473,30.972244262695312,3.8216631412506104,-27.036853790283203,-32.61849594116211,-32.176368713378906,-17.21356773376465,21.41248321533203,-23.158143997192383,23.250747680664062,-11.693737983703613,-18.019458770751953,-10.241913795471191,32.85762405395508,12.359267234802246,-28.57736587524414,7.285132884979248,23.3392276763916,10.351555824279785,-32.035484313964844,-3.986435651779175,-11.781510353088379,23.284770965576172,-8.676912307739258,-6.431089401245117,-22.974584579467773,-23.645038604736328,-12.616537094116211,-27.751144409179688,-32.47529602050781,-9.052351951599121,-13.88076114654541,-12.901264190673828,15.442914009094238,-34.76287078857422,-18.631134033203125,-32.883304595947266,-31.64821434020996,25.17432403564453,20.488243103027344,-13.184165000915527,16.238088607788086,-18.776016235351562,-20.656085968017578,-7.203751087188721,-25.70387840270996,32.93518829345703,29.006515502929688,29.10742950439453,-25.363698959350586,15.727836608886719,-33.078857421875,-9.292798042297363,22.67735481262207,-9.36758804321289,-10.732476234436035,-26.283100128173828,8.458852767944336,-6.440682411193848,-4.798211574554443,-33.376949310302734,-27.198570251464844,18.450889587402344,-32.09304428100586,-23.124921798706055,15.756083488464355,16.216670989990234,14.2925443649292,-30.54071044921875,-13.465307235717773,-12.418701171875,28.683780670166016,23.224576950073242,-32.688846588134766,-11.486474990844727,-29.038909912109375,45.55686569213867,-22.970375061035156,25.09973907470703,-35.98593521118164,-13.731301307678223,22.986215591430664,-10.878382682800293,-30.885652542114258,19.722793579101562,19.74864387512207,13.55278205871582,-29.711931228637695,34.016571044921875,23.56348419189453,16.807161331176758,19.503820419311523,-30.989660263061523,14.96452522277832,14.492826461791992,10.011664390563965,-12.636250495910645,-4.205595016479492,14.397984504699707,-3.915186882019043,-3.721816301345825,14.181516647338867,10.947080612182617,28.73779296875,10.358642578125,-7.235951900482178,8.752732276916504,10.850894927978516,-28.067102432250977,33.70088577270508,-28.582500457763672,-26.524011611938477,-30.001522064208984,-25.53064727783203,20.666553497314453,1.6645386219024658,38.038211822509766,-35.273983001708984,-31.78736686706543,-12.149421691894531,-29.649219512939453,-13.89612102508545,17.732818603515625,-7.052242279052734,-34.644004821777344,-30.175365447998047,-11.561310768127441,33.1298713684082,11.971378326416016,-24.712547302246094,-21.062297821044922,-20.140405654907227,-33.39550018310547,1.2973451614379883,-10.216902732849121,9.377948760986328,-26.22889518737793,-24.653278350830078,7.6416425704956055,-31.486591339111328,-14.053647994995117,-18.908626556396484,4.597695827484131,-7.441061019897461,-13.334050178527832,2.5453944206237793,42.164886474609375,6.890865325927734,7.047830104827881,17.373172760009766,-35.77701950073242,23.673002243041992,13.657305717468262,-16.436613082885742,7.859711647033691,-12.082239151000977,8.001871109008789,-29.342287063598633,30.572132110595703,36.98733139038086,-12.078279495239258,-1.8155150413513184,-22.075075149536133,-22.82265281677246,-9.310917854309082,22.963563919067383,-3.662738084793091,-21.165449142456055,-29.978235244750977,26.95905876159668,0.6767405867576599,37.124916076660156,8.847060203552246,-26.543094635009766,5.26563024520874,13.815019607543945,-7.849393844604492,-8.890762329101562,-8.418407440185547,22.951465606689453,-10.080005645751953,-12.205432891845703,-6.317330360412598,14.165135383605957,-31.37609100341797,-22.258621215820312,8.323480606079102,30.321866989135742,-31.737825393676758,-25.869510650634766,-21.5579891204834,30.59922981262207,31.01860237121582,-6.135390281677246,-15.910531044006348,-12.430249214172363,-34.23906326293945,-4.546594619750977,-15.28885555267334,-30.271705627441406,-10.997843742370605,-19.874065399169922,-24.583017349243164,19.969280242919922,-30.5860595703125,-12.746087074279785,12.070906639099121,6.818390846252441,7.559201717376709,-36.16423034667969,0.16828936338424683,-13.998175621032715,6.274277210235596,-24.508895874023438,-15.641390800476074,2.5146267414093018,31.62087059020996,-25.23602294921875,-0.6234534978866577,30.665864944458008,-23.73349952697754,-23.9914493560791,-13.050060272216797,26.11514663696289,2.52203369140625,22.320053100585938,42.75083923339844,-18.032602310180664,-10.01943302154541,34.19713592529297,-33.93524932861328,-9.559188842773438,32.4707145690918,31.842052459716797,26.564781188964844,38.739559173583984,24.257905960083008,37.74641418457031,-27.797964096069336,-32.74110412597656,-37.13008117675781,34.133033752441406,1.378538966178894,-32.23744583129883,20.211666107177734,16.782203674316406,6.51179313659668,-7.7836527824401855,-10.899748802185059,-30.997196197509766,11.603147506713867,30.688547134399414,-16.711997985839844,-5.151294231414795,-10.613693237304688,8.235190391540527,-35.02956771850586,-26.411909103393555,-28.94293212890625,-20.74551773071289,-20.948610305786133,-33.3512077331543,-16.527820587158203,-3.631962537765503,-24.772890090942383,-14.870707511901855,4.125432968139648,-13.067460060119629,8.151658058166504,20.59427833557129,14.418743133544922,-20.834911346435547,23.092220306396484,26.322885513305664,26.458446502685547,-34.23146438598633,18.35867691040039,-24.666738510131836,-37.569461822509766,7.9801554679870605,15.19796371459961,-29.1752872467041,13.289822578430176,14.09073257446289,14.193798065185547,11.844758033752441,17.192014694213867,-18.07759666442871,29.2097110748291,37.75482940673828,-31.617143630981445,-20.451627731323242,-7.0369415283203125,-9.938526153564453,29.108074188232422,-6.920833110809326,31.253164291381836,9.389077186584473,-34.38905334472656,-2.408750534057617,14.58635425567627,31.221031188964844,-25.645668029785156,34.4909553527832,31.557415008544922,-4.527249813079834,27.6387939453125,-2.007249593734741,-34.76742935180664,0.7007532715797424,-17.97530174255371,25.896041870117188,-22.940086364746094,-20.189037322998047,22.31330680847168,-28.142669677734375,-11.692428588867188,28.752939224243164,4.47226619720459,12.474355697631836,-15.432486534118652,-2.779662847518921,-30.47935676574707,-7.031764984130859,3.335228443145752,-12.296319961547852,-18.55632972717285,-28.209152221679688,-17.813230514526367,9.993965148925781,-28.046205520629883,29.662109375,23.95058250427246,-25.862768173217773,8.052543640136719,3.645343065261841,-2.2243945598602295,-4.715508937835693,-25.665130615234375,23.72243881225586,18.228843688964844,5.743646621704102,-16.969501495361328,-17.39742660522461,-5.351046562194824,-15.39681625366211,25.539535522460938,21.470216751098633,8.0389404296875,14.080588340759277,37.95754623413086,4.132354736328125,-24.16794776916504,14.3889799118042,7.137853145599365,34.28291320800781,4.742147922515869,26.194576263427734,29.334922790527344,18.961925506591797,32.082645416259766,22.23975944519043,15.055797576904297,27.692045211791992,-10.849264144897461,-16.050582885742188,11.278334617614746,8.954577445983887,18.743572235107422,17.943016052246094,2.3510513305664062,6.131134033203125,12.304445266723633,32.18830108642578,1.7187124490737915,10.585021018981934,-17.75096893310547,-8.899611473083496,20.712425231933594,12.41024112701416,-30.886491775512695,10.321738243103027,16.838138580322266,20.395048141479492,-13.608663558959961,-25.709491729736328,-13.53077220916748,4.931191444396973,26.86629295349121,-0.4692513346672058,-30.196269989013672,-15.581241607666016,-19.209569931030273,9.511921882629395,-16.17506217956543,-32.205814361572266,-23.775205612182617,6.942147731781006,23.72185707092285,3.449340581893921,43.319271087646484,29.96973419189453,4.13093376159668,-6.703884601593018,-7.822707176208496,-35.66831588745117,8.754704475402832,-23.985883712768555,20.701133728027344,-27.446958541870117,-23.12152862548828,15.20875072479248,2.221475601196289,-10.622396469116211,-33.72490692138672,-22.542469024658203,20.56205940246582,-22.238494873046875,33.151947021484375,-13.623514175415039,6.950929641723633,27.78778839111328,31.18866539001465,-21.66227912902832,-9.017009735107422,0.5413720011711121,21.667545318603516,-11.060611724853516,0.705621063709259,-24.553884506225586,23.47171401977539,-20.59746742248535,-16.124492645263672,-27.241989135742188,2.0186660289764404,-2.8433494567871094,-12.845989227294922,22.970083236694336,27.05497169494629,30.04102897644043,24.753864288330078,-31.739221572875977,6.2858452796936035,17.166128158569336,26.621774673461914,-10.789294242858887,19.274072647094727,-1.9403831958770752,-32.915157318115234,-10.288739204406738,-15.684879302978516,-19.97484016418457,24.453889846801758,-9.715486526489258,-35.18842315673828,40.73457336425781,15.17212963104248,-29.907527923583984,-18.670692443847656,6.542972564697266,-31.91733169555664,-3.3287906646728516,-29.02388572692871,-34.46186828613281,-19.666547775268555,-15.159770011901855,-10.445806503295898,9.655431747436523,-27.701932907104492,-15.476052284240723,-35.65198516845703,9.38184928894043,9.286417961120605,20.053943634033203,8.038517951965332,-22.8355770111084,0.18756011128425598,-7.4608869552612305,-21.37940216064453,15.06093978881836,-25.687835693359375,-12.020875930786133,-31.646703720092773,-24.97260093688965,-22.67870330810547,20.853796005249023,-11.71115493774414,-4.531117916107178,-20.502771377563477,-25.367481231689453,-36.407470703125,21.177227020263672,-0.3910336494445801,31.85797691345215,-28.102401733398438,5.1989264488220215,-14.291297912597656,-3.067173480987549,-30.04654884338379,-0.5805736184120178,-31.730701446533203,-10.998613357543945,5.803987503051758,-21.888198852539062,42.1562614440918,32.89360046386719,33.144779205322266,12.085946083068848,22.9494686126709,-6.6034674644470215,1.1577051877975464,-3.435309648513794,-16.31814193725586,18.623985290527344,30.537443161010742,-17.85052490234375,-28.340665817260742,23.142900466918945,-15.774445533752441,30.04253387451172,-26.59652328491211,31.783079147338867,20.831371307373047,-19.435070037841797,-5.322907447814941,13.635912895202637,2.2973217964172363,-26.21186065673828,-14.738033294677734,-4.419800758361816,-25.664525985717773,-25.375240325927734,10.397632598876953,45.52760314941406,-36.16423034667969,28.583290100097656,-16.592815399169922,10.426915168762207,32.859500885009766,-25.428730010986328,-25.87005615234375,18.147216796875,-15.614378929138184,3.019794464111328,-28.147672653198242,16.793989181518555,-2.2309651374816895,13.027606964111328,-35.6767692565918,-24.2081356048584,-25.6256160736084,-25.55535888671875,-29.809795379638672,-17.076871871948242,20.62928009033203,28.742225646972656,23.695846557617188,-22.680370330810547,-1.5403908491134644,-25.570663452148438,17.302064895629883,13.822853088378906,0.6771404147148132,-33.436004638671875,-15.797569274902344,-28.680980682373047,-28.54380226135254,-11.527078628540039,-12.408498764038086,-12.496123313903809,15.188400268554688,-2.504593849182129,2.7172255516052246,26.709440231323242,20.410938262939453,11.012298583984375,23.766490936279297,8.367570877075195,11.090768814086914,9.70740795135498,23.306499481201172,-21.685224533081055,-10.382096290588379,21.963726043701172,19.693666458129883,-32.90932846069336,-16.482816696166992,28.79621696472168,34.52610778808594,28.662979125976562,36.957237243652344,10.59473705291748,25.97736167907715,-18.149280548095703,14.08901309967041,34.27254867553711,-10.314607620239258,26.500829696655273,16.501623153686523,-34.72019958496094,-16.640226364135742,39.24177932739258,28.18960189819336,14.643568992614746,29.62556266784668,-24.991994857788086,-15.209912300109863,36.886688232421875,4.3253326416015625,-9.963958740234375,8.456225395202637,-20.270845413208008,-24.90079689025879,24.019987106323242,4.591666221618652,19.62257194519043,-35.04423904418945,-11.804856300354004,-8.749380111694336,5.935211181640625,-24.057008743286133,-28.026458740234375,6.495242595672607,5.151464939117432,32.153255462646484,27.899503707885742,33.40203094482422,-17.932703018188477,6.7501301765441895,-1.2472022771835327,-24.46352195739746,36.66740798950195,10.856955528259277,14.020087242126465,13.815256118774414,-20.232139587402344,8.286433219909668,-18.250099182128906,39.657981872558594,13.245695114135742,-3.816925525665283,-25.365873336791992,22.367961883544922,6.149603843688965,11.806206703186035,-18.83539581298828,3.6080193519592285,-21.211360931396484,-5.086650371551514,-18.86853790283203,-6.074371337890625,27.67143440246582,-37.548519134521484,-15.90705394744873,11.295021057128906,-26.274229049682617,-19.34673500061035,-33.65501403808594,32.030906677246094,-17.84975814819336,24.320341110229492,-4.057157039642334,-22.175457000732422,27.10718536376953,46.078121185302734,22.509279251098633,20.779531478881836,26.975067138671875,-35.548927307128906,-20.488431930541992,-28.31606674194336,-35.388729095458984,-12.618905067443848,32.32383728027344,28.21395492553711,-36.00727081298828,-4.69055700302124,-26.236888885498047,-15.282470703125,11.619250297546387,9.18443489074707,24.490631103515625,-19.03376579284668,-16.457483291625977,-14.91727352142334,-2.8555006980895996,7.644304275512695,-28.711652755737305,3.419489622116089,24.33032989501953,36.420310974121094,9.411942481994629,-4.719899654388428,-21.625015258789062,0.18273861706256866,-7.584476947784424,-37.2746467590332,-1.7537308931350708,15.633685111999512,20.047395706176758,-13.779830932617188,-24.359914779663086,29.969100952148438,22.683565139770508,4.3966474533081055,25.116262435913086,20.414897918701172,9.905797004699707,33.55310821533203,24.320085525512695,-19.603477478027344,21.41140365600586,5.82746696472168,-21.77220916748047,-14.483039855957031,32.260501861572266,-32.803627014160156,-1.7355141639709473,12.66843032836914,-11.132417678833008,-27.566877365112305,19.49874496459961,32.73006057739258,-1.6532037258148193,-27.1754093170166,12.671350479125977,8.768352508544922,-6.088211536407471,1.645524024963379,-23.641544342041016,28.554933547973633,-23.087722778320312,27.65964698791504,20.70018196105957,8.396150588989258,8.734267234802246,-33.03129196166992,-10.56391716003418,32.99702835083008,38.260047912597656,-4.900127410888672,13.27216625213623,30.013757705688477,-25.709980010986328,-32.19038391113281,15.12997055053711,26.807676315307617,28.694128036499023,-27.49759292602539,27.076618194580078,14.47805404663086,2.4943830966949463,10.79153060913086,-16.727598190307617,-30.116636276245117,-11.41769790649414,24.537500381469727,-12.442092895507812,-10.235475540161133,29.903154373168945,34.64496612548828,33.803165435791016,21.269393920898438,-1.6704851388931274,28.54584312438965,35.80221176147461,-28.16899871826172,-33.10039138793945,27.063005447387695,-9.882389068603516,-30.047304153442383,-29.15011215209961,8.763254165649414,-9.090383529663086,-7.719809055328369,20.62406349182129,29.41696548461914,-23.342592239379883,33.13194274902344,9.040761947631836,41.56949234008789,13.797346115112305,-19.00402069091797,11.340906143188477,-4.371471405029297,3.4424877166748047,4.931314945220947,-24.444442749023438,-37.08856964111328,-12.709145545959473,9.70832347869873,-2.50650954246521,17.892200469970703,-9.608880996704102,3.3416085243225098,35.49778747558594,-14.467490196228027,-3.80525803565979,-17.7650146484375,22.925722122192383,5.41835355758667,12.561857223510742,-22.723535537719727,-28.908672332763672,-27.73223304748535,-2.204564332962036,10.043943405151367,19.07660484313965,9.152334213256836,-12.367094039916992,34.45608901977539,-8.078703880310059,-9.108885765075684,41.481895446777344,-22.851703643798828,-26.91981315612793,14.658122062683105,-27.341461181640625,-29.59602928161621,21.07595443725586,17.007211685180664,19.189332962036133,-21.099864959716797,-10.863236427307129,42.381736755371094,-15.85103702545166,6.966961860656738,14.317317008972168,-2.962892532348633,3.427532434463501,-11.283101081848145,-11.394081115722656,-33.035919189453125,9.646190643310547,-28.54730224609375,9.48117733001709,20.086366653442383,-21.622303009033203,32.68465805053711,-24.71414566040039,-29.54833221435547,-21.74750518798828,-11.633862495422363,-20.00266456604004,-19.278480529785156,-27.479225158691406,-29.01703643798828,19.547794342041016,25.25249671936035,10.653263092041016,11.764314651489258,14.976530075073242,-7.950130462646484,3.6989364624023438,-24.82794761657715,33.51322555541992,-2.499126434326172,4.475488662719727,-33.11670684814453,-11.821247100830078,5.80281400680542,-33.54899978637695,-11.009782791137695,-15.527812957763672,-11.20340633392334,-35.00382995605469,38.45458984375,-31.164897918701172,20.52754020690918,-32.66405487060547,-20.681241989135742,20.786033630371094,26.827085494995117,-19.640857696533203,8.830933570861816,12.299287796020508,6.515552043914795,8.14975643157959,23.19408416748047,-11.56032657623291,-25.385549545288086,-10.291046142578125,-25.704652786254883,-18.573381423950195,42.48627853393555,17.722198486328125,31.449951171875,-27.281625747680664,-16.38195037841797,15.799277305603027,-29.884498596191406,30.542081832885742,43.05885696411133,-0.3556925654411316,-33.86827850341797,16.56305694580078,44.28581619262695,-23.926694869995117,10.977155685424805,5.273588180541992,2.801650285720825,11.17175006866455,33.18355941772461,-14.388690948486328,26.559484481811523,29.966203689575195,43.151222229003906,-26.920209884643555,-34.96210479736328,-18.66077423095703,34.864566802978516,-17.502033233642578,30.05583953857422,-11.001922607421875,34.094478607177734,-15.89478588104248,-0.15028639137744904,-25.086397171020508,-3.5966248512268066,27.0421142578125,18.279640197753906,8.152193069458008,8.025080680847168,-2.164668083190918,8.73848819732666,30.9488468170166,17.372724533081055,11.52530574798584,33.379146575927734,19.73860740661621,32.999080657958984,8.92043399810791,-31.17148208618164,-24.516551971435547,-14.893025398254395,4.523819923400879,14.110980987548828,10.893054962158203,-34.42331314086914,-5.879271030426025,-14.253843307495117,16.434345245361328,32.421905517578125,39.23430252075195,23.402565002441406,13.308934211730957,-7.233351707458496,15.863853454589844,-26.260799407958984,-31.352842330932617,-34.369239807128906,3.5327858924865723,-22.907745361328125,21.01546859741211,4.948760032653809,37.25663375854492,21.1621036529541,1.4346649646759033,-31.614795684814453,23.219200134277344,-15.897207260131836,-1.484474539756775,37.16627502441406,-22.447423934936523,-30.630929946899414,29.474468231201172,23.451791763305664,30.511646270751953,23.325973510742188,-19.322566986083984,-14.31796932220459,-30.771013259887695,22.004108428955078,42.89826583862305,18.813629150390625,10.807779312133789,23.408811569213867,3.859187602996826,7.108870029449463,33.214019775390625,-19.729326248168945,-32.149696350097656,17.77480125427246,-10.311153411865234,-32.355690002441406,35.15300750732422,20.128252029418945,-34.31770706176758,10.997639656066895,33.638553619384766,-33.59661102294922,-7.151668071746826,-29.31659698486328,34.077720642089844,-11.405118942260742,13.335352897644043,32.75312042236328,31.62840461730957,3.9006805419921875,22.28349494934082,-30.81403160095215,-0.35224929451942444,-3.5158114433288574,21.969736099243164,-32.38093185424805,-28.9035587310791,21.322927474975586,10.647588729858398,18.841793060302734,-24.44145965576172,-25.2247257232666,-32.59275436401367,-7.218223571777344,37.483394622802734,23.344844818115234,-19.728382110595703,-15.768745422363281,19.435714721679688,-13.809488296508789,24.409582138061523,-23.02836036682129,35.1237678527832,0.5180591940879822,9.983884811401367,-11.602760314941406,-35.06370162963867,35.29214859008789,-27.62717056274414,-31.88820457458496,26.668447494506836,-9.319704055786133,-5.5301103591918945,-4.404621124267578,28.24346160888672,30.33260726928711,-10.140209197998047,3.183345079421997,-12.636019706726074,-8.971973419189453,30.09573745727539,-12.543107032775879,23.487539291381836,4.233190536499023,33.325679779052734,-34.29763412475586,-16.40909767150879,-17.151275634765625,-11.84981918334961,32.36643600463867,-6.386670112609863,-10.216415405273438,-26.176498413085938,29.875463485717773,19.646379470825195,-17.64781379699707,-11.557372093200684,-21.32329750061035,16.888690948486328,-19.581663131713867,8.581755638122559,9.090882301330566,26.789260864257812,-30.27777099609375,19.329345703125,12.778363227844238,-11.077890396118164,34.68564987182617,-20.754596710205078,4.691092491149902,4.394046783447266,32.403404235839844,24.20018768310547,-5.439609050750732,22.180238723754883,32.96498489379883,30.688209533691406,28.640607833862305,9.540838241577148,14.71341323852539,-33.49323272705078,31.460649490356445,-26.08477020263672,-31.075712203979492,-26.75795555114746,-20.10687828063965,-13.180071830749512,2.5024962425231934,-10.274710655212402,-33.21300506591797,-9.51945972442627,3.9118685722351074,24.64418601989746,-2.7914397716522217,7.972256660461426,35.086673736572266,13.169736862182617,-22.694334030151367,31.381160736083984,35.20100021362305,23.71604347229004,28.966068267822266,13.583517074584961,-21.66600799560547,-27.122529983520508,12.237452507019043,-34.04771423339844],\"yaxis\":\"y\",\"type\":\"scattergl\"}],                        {\"template\":{\"data\":{\"histogram2dcontour\":[{\"type\":\"histogram2dcontour\",\"colorbar\":{\"outlinewidth\":0,\"ticks\":\"\"},\"colorscale\":[[0.0,\"#0d0887\"],[0.1111111111111111,\"#46039f\"],[0.2222222222222222,\"#7201a8\"],[0.3333333333333333,\"#9c179e\"],[0.4444444444444444,\"#bd3786\"],[0.5555555555555556,\"#d8576b\"],[0.6666666666666666,\"#ed7953\"],[0.7777777777777778,\"#fb9f3a\"],[0.8888888888888888,\"#fdca26\"],[1.0,\"#f0f921\"]]}],\"choropleth\":[{\"type\":\"choropleth\",\"colorbar\":{\"outlinewidth\":0,\"ticks\":\"\"}}],\"histogram2d\":[{\"type\":\"histogram2d\",\"colorbar\":{\"outlinewidth\":0,\"ticks\":\"\"},\"colorscale\":[[0.0,\"#0d0887\"],[0.1111111111111111,\"#46039f\"],[0.2222222222222222,\"#7201a8\"],[0.3333333333333333,\"#9c179e\"],[0.4444444444444444,\"#bd3786\"],[0.5555555555555556,\"#d8576b\"],[0.6666666666666666,\"#ed7953\"],[0.7777777777777778,\"#fb9f3a\"],[0.8888888888888888,\"#fdca26\"],[1.0,\"#f0f921\"]]}],\"heatmap\":[{\"type\":\"heatmap\",\"colorbar\":{\"outlinewidth\":0,\"ticks\":\"\"},\"colorscale\":[[0.0,\"#0d0887\"],[0.1111111111111111,\"#46039f\"],[0.2222222222222222,\"#7201a8\"],[0.3333333333333333,\"#9c179e\"],[0.4444444444444444,\"#bd3786\"],[0.5555555555555556,\"#d8576b\"],[0.6666666666666666,\"#ed7953\"],[0.7777777777777778,\"#fb9f3a\"],[0.8888888888888888,\"#fdca26\"],[1.0,\"#f0f921\"]]}],\"heatmapgl\":[{\"type\":\"heatmapgl\",\"colorbar\":{\"outlinewidth\":0,\"ticks\":\"\"},\"colorscale\":[[0.0,\"#0d0887\"],[0.1111111111111111,\"#46039f\"],[0.2222222222222222,\"#7201a8\"],[0.3333333333333333,\"#9c179e\"],[0.4444444444444444,\"#bd3786\"],[0.5555555555555556,\"#d8576b\"],[0.6666666666666666,\"#ed7953\"],[0.7777777777777778,\"#fb9f3a\"],[0.8888888888888888,\"#fdca26\"],[1.0,\"#f0f921\"]]}],\"contourcarpet\":[{\"type\":\"contourcarpet\",\"colorbar\":{\"outlinewidth\":0,\"ticks\":\"\"}}],\"contour\":[{\"type\":\"contour\",\"colorbar\":{\"outlinewidth\":0,\"ticks\":\"\"},\"colorscale\":[[0.0,\"#0d0887\"],[0.1111111111111111,\"#46039f\"],[0.2222222222222222,\"#7201a8\"],[0.3333333333333333,\"#9c179e\"],[0.4444444444444444,\"#bd3786\"],[0.5555555555555556,\"#d8576b\"],[0.6666666666666666,\"#ed7953\"],[0.7777777777777778,\"#fb9f3a\"],[0.8888888888888888,\"#fdca26\"],[1.0,\"#f0f921\"]]}],\"surface\":[{\"type\":\"surface\",\"colorbar\":{\"outlinewidth\":0,\"ticks\":\"\"},\"colorscale\":[[0.0,\"#0d0887\"],[0.1111111111111111,\"#46039f\"],[0.2222222222222222,\"#7201a8\"],[0.3333333333333333,\"#9c179e\"],[0.4444444444444444,\"#bd3786\"],[0.5555555555555556,\"#d8576b\"],[0.6666666666666666,\"#ed7953\"],[0.7777777777777778,\"#fb9f3a\"],[0.8888888888888888,\"#fdca26\"],[1.0,\"#f0f921\"]]}],\"mesh3d\":[{\"type\":\"mesh3d\",\"colorbar\":{\"outlinewidth\":0,\"ticks\":\"\"}}],\"scatter\":[{\"fillpattern\":{\"fillmode\":\"overlay\",\"size\":10,\"solidity\":0.2},\"type\":\"scatter\"}],\"parcoords\":[{\"type\":\"parcoords\",\"line\":{\"colorbar\":{\"outlinewidth\":0,\"ticks\":\"\"}}}],\"scatterpolargl\":[{\"type\":\"scatterpolargl\",\"marker\":{\"colorbar\":{\"outlinewidth\":0,\"ticks\":\"\"}}}],\"bar\":[{\"error_x\":{\"color\":\"#2a3f5f\"},\"error_y\":{\"color\":\"#2a3f5f\"},\"marker\":{\"line\":{\"color\":\"#E5ECF6\",\"width\":0.5},\"pattern\":{\"fillmode\":\"overlay\",\"size\":10,\"solidity\":0.2}},\"type\":\"bar\"}],\"scattergeo\":[{\"type\":\"scattergeo\",\"marker\":{\"colorbar\":{\"outlinewidth\":0,\"ticks\":\"\"}}}],\"scatterpolar\":[{\"type\":\"scatterpolar\",\"marker\":{\"colorbar\":{\"outlinewidth\":0,\"ticks\":\"\"}}}],\"histogram\":[{\"marker\":{\"pattern\":{\"fillmode\":\"overlay\",\"size\":10,\"solidity\":0.2}},\"type\":\"histogram\"}],\"scattergl\":[{\"type\":\"scattergl\",\"marker\":{\"colorbar\":{\"outlinewidth\":0,\"ticks\":\"\"}}}],\"scatter3d\":[{\"type\":\"scatter3d\",\"line\":{\"colorbar\":{\"outlinewidth\":0,\"ticks\":\"\"}},\"marker\":{\"colorbar\":{\"outlinewidth\":0,\"ticks\":\"\"}}}],\"scattermapbox\":[{\"type\":\"scattermapbox\",\"marker\":{\"colorbar\":{\"outlinewidth\":0,\"ticks\":\"\"}}}],\"scatterternary\":[{\"type\":\"scatterternary\",\"marker\":{\"colorbar\":{\"outlinewidth\":0,\"ticks\":\"\"}}}],\"scattercarpet\":[{\"type\":\"scattercarpet\",\"marker\":{\"colorbar\":{\"outlinewidth\":0,\"ticks\":\"\"}}}],\"carpet\":[{\"aaxis\":{\"endlinecolor\":\"#2a3f5f\",\"gridcolor\":\"white\",\"linecolor\":\"white\",\"minorgridcolor\":\"white\",\"startlinecolor\":\"#2a3f5f\"},\"baxis\":{\"endlinecolor\":\"#2a3f5f\",\"gridcolor\":\"white\",\"linecolor\":\"white\",\"minorgridcolor\":\"white\",\"startlinecolor\":\"#2a3f5f\"},\"type\":\"carpet\"}],\"table\":[{\"cells\":{\"fill\":{\"color\":\"#EBF0F8\"},\"line\":{\"color\":\"white\"}},\"header\":{\"fill\":{\"color\":\"#C8D4E3\"},\"line\":{\"color\":\"white\"}},\"type\":\"table\"}],\"barpolar\":[{\"marker\":{\"line\":{\"color\":\"#E5ECF6\",\"width\":0.5},\"pattern\":{\"fillmode\":\"overlay\",\"size\":10,\"solidity\":0.2}},\"type\":\"barpolar\"}],\"pie\":[{\"automargin\":true,\"type\":\"pie\"}]},\"layout\":{\"autotypenumbers\":\"strict\",\"colorway\":[\"#636efa\",\"#EF553B\",\"#00cc96\",\"#ab63fa\",\"#FFA15A\",\"#19d3f3\",\"#FF6692\",\"#B6E880\",\"#FF97FF\",\"#FECB52\"],\"font\":{\"color\":\"#2a3f5f\"},\"hovermode\":\"closest\",\"hoverlabel\":{\"align\":\"left\"},\"paper_bgcolor\":\"white\",\"plot_bgcolor\":\"#E5ECF6\",\"polar\":{\"bgcolor\":\"#E5ECF6\",\"angularaxis\":{\"gridcolor\":\"white\",\"linecolor\":\"white\",\"ticks\":\"\"},\"radialaxis\":{\"gridcolor\":\"white\",\"linecolor\":\"white\",\"ticks\":\"\"}},\"ternary\":{\"bgcolor\":\"#E5ECF6\",\"aaxis\":{\"gridcolor\":\"white\",\"linecolor\":\"white\",\"ticks\":\"\"},\"baxis\":{\"gridcolor\":\"white\",\"linecolor\":\"white\",\"ticks\":\"\"},\"caxis\":{\"gridcolor\":\"white\",\"linecolor\":\"white\",\"ticks\":\"\"}},\"coloraxis\":{\"colorbar\":{\"outlinewidth\":0,\"ticks\":\"\"}},\"colorscale\":{\"sequential\":[[0.0,\"#0d0887\"],[0.1111111111111111,\"#46039f\"],[0.2222222222222222,\"#7201a8\"],[0.3333333333333333,\"#9c179e\"],[0.4444444444444444,\"#bd3786\"],[0.5555555555555556,\"#d8576b\"],[0.6666666666666666,\"#ed7953\"],[0.7777777777777778,\"#fb9f3a\"],[0.8888888888888888,\"#fdca26\"],[1.0,\"#f0f921\"]],\"sequentialminus\":[[0.0,\"#0d0887\"],[0.1111111111111111,\"#46039f\"],[0.2222222222222222,\"#7201a8\"],[0.3333333333333333,\"#9c179e\"],[0.4444444444444444,\"#bd3786\"],[0.5555555555555556,\"#d8576b\"],[0.6666666666666666,\"#ed7953\"],[0.7777777777777778,\"#fb9f3a\"],[0.8888888888888888,\"#fdca26\"],[1.0,\"#f0f921\"]],\"diverging\":[[0,\"#8e0152\"],[0.1,\"#c51b7d\"],[0.2,\"#de77ae\"],[0.3,\"#f1b6da\"],[0.4,\"#fde0ef\"],[0.5,\"#f7f7f7\"],[0.6,\"#e6f5d0\"],[0.7,\"#b8e186\"],[0.8,\"#7fbc41\"],[0.9,\"#4d9221\"],[1,\"#276419\"]]},\"xaxis\":{\"gridcolor\":\"white\",\"linecolor\":\"white\",\"ticks\":\"\",\"title\":{\"standoff\":15},\"zerolinecolor\":\"white\",\"automargin\":true,\"zerolinewidth\":2},\"yaxis\":{\"gridcolor\":\"white\",\"linecolor\":\"white\",\"ticks\":\"\",\"title\":{\"standoff\":15},\"zerolinecolor\":\"white\",\"automargin\":true,\"zerolinewidth\":2},\"scene\":{\"xaxis\":{\"backgroundcolor\":\"#E5ECF6\",\"gridcolor\":\"white\",\"linecolor\":\"white\",\"showbackground\":true,\"ticks\":\"\",\"zerolinecolor\":\"white\",\"gridwidth\":2},\"yaxis\":{\"backgroundcolor\":\"#E5ECF6\",\"gridcolor\":\"white\",\"linecolor\":\"white\",\"showbackground\":true,\"ticks\":\"\",\"zerolinecolor\":\"white\",\"gridwidth\":2},\"zaxis\":{\"backgroundcolor\":\"#E5ECF6\",\"gridcolor\":\"white\",\"linecolor\":\"white\",\"showbackground\":true,\"ticks\":\"\",\"zerolinecolor\":\"white\",\"gridwidth\":2}},\"shapedefaults\":{\"line\":{\"color\":\"#2a3f5f\"}},\"annotationdefaults\":{\"arrowcolor\":\"#2a3f5f\",\"arrowhead\":0,\"arrowwidth\":1},\"geo\":{\"bgcolor\":\"white\",\"landcolor\":\"#E5ECF6\",\"subunitcolor\":\"white\",\"showland\":true,\"showlakes\":true,\"lakecolor\":\"white\"},\"title\":{\"x\":0.05},\"mapbox\":{\"style\":\"light\"}}},\"xaxis\":{\"anchor\":\"y\",\"domain\":[0.0,1.0],\"title\":{\"text\":\"Component 1\"}},\"yaxis\":{\"anchor\":\"x\",\"domain\":[0.0,1.0],\"title\":{\"text\":\"Component 2\"}},\"legend\":{\"tracegroupgap\":0},\"title\":{\"text\":\"T-SNE Reduced Dimensionality\"}},                        {\"responsive\": true}                    ).then(function(){\n",
              "                            \n",
              "var gd = document.getElementById('f1fd8239-d064-4ace-bda7-b1af0dc50474');\n",
              "var x = new MutationObserver(function (mutations, observer) {{\n",
              "        var display = window.getComputedStyle(gd).display;\n",
              "        if (!display || display === 'none') {{\n",
              "            console.log([gd, 'removed!']);\n",
              "            Plotly.purge(gd);\n",
              "            observer.disconnect();\n",
              "        }}\n",
              "}});\n",
              "\n",
              "// Listen for the removal of the full notebook cells\n",
              "var notebookContainer = gd.closest('#notebook-container');\n",
              "if (notebookContainer) {{\n",
              "    x.observe(notebookContainer, {childList: true});\n",
              "}}\n",
              "\n",
              "// Listen for the clearing of the current output cell\n",
              "var outputEl = gd.closest('.output');\n",
              "if (outputEl) {{\n",
              "    x.observe(outputEl, {childList: true});\n",
              "}}\n",
              "\n",
              "                        })                };                            </script>        </div>\n",
              "</body>\n",
              "</html>"
            ]
          },
          "metadata": {}
        }
      ]
    },
    {
      "cell_type": "markdown",
      "metadata": {
        "tags": [],
        "cell_id": "75015b8bec9f4985ae3535276edb9cf6",
        "deepnote_cell_height": 61.866668701171875,
        "deepnote_cell_type": "markdown",
        "id": "TbYkvUBIe3Be"
      },
      "source": [
        "### 1.3.3 Clustering"
      ]
    },
    {
      "cell_type": "markdown",
      "metadata": {
        "tags": [],
        "cell_id": "01eb144ba7b844c98b0f68dc07f1ba38",
        "deepnote_cell_height": 53.866668701171875,
        "deepnote_cell_type": "markdown",
        "id": "HhVn9yAie3Be"
      },
      "source": [
        "#### 1.3.3.1 Método del Codo [1 puntos]"
      ]
    },
    {
      "cell_type": "markdown",
      "metadata": {
        "tags": [],
        "cell_id": "de1f59f512af42618d3a5b084f84b460",
        "deepnote_cell_height": 223.06666564941406,
        "deepnote_cell_type": "markdown",
        "id": "VB6AmlWte3Be"
      },
      "source": [
        "Utilizando la clase creada para escalamiento, aplique el método del codo para visualizar cual es el número de clusters que mejor se ajustan a los datos. Realice esto utilizando el algoritmo K-means dentro de un pipeline para un $k \\in [1,20]$, donde k representa el número de clusters del k-means. Para la realización de esta sección y la próxima (1.3.3.2), considere los mismos pasos utilizados para el t-sne, pero **permutando el algoritmo de reducción de dimensionalidad por k-means.**\n",
        "\n",
        "A través del grafico obtenido, comente y justifique que valor de k escogería para realizar el k-means."
      ]
    },
    {
      "cell_type": "markdown",
      "metadata": {
        "tags": [],
        "cell_id": "a268dbe1c26b4dccbaa8c976005c9141",
        "deepnote_cell_height": 52.26666259765625,
        "deepnote_cell_type": "markdown",
        "id": "OF55k5V9e3Be"
      },
      "source": [
        "**Respuesta:**"
      ]
    },
    {
      "cell_type": "code",
      "metadata": {
        "tags": [],
        "cell_id": "36239002cba54f98a3778e66878b1041",
        "deepnote_cell_height": 65.86666870117188,
        "deepnote_cell_type": "code",
        "id": "F6d0wYbHe3Be",
        "colab": {
          "base_uri": "https://localhost:8080/",
          "height": 1000
        },
        "outputId": "990e17aa-9037-41dd-ac19-ee40e772c425"
      },
      "source": [
        "# Lista para almacenar las sumas de los cuadrados de las distancias\n",
        "sse = []\n",
        "\n",
        "# Rango de valores para el número de clusters\n",
        "k_values = list(range(1, 21))\n",
        "\n",
        "for k in k_values:\n",
        "    # Creamos el pipeline\n",
        "    pipeline = Pipeline([\n",
        "        ('features', step1),\n",
        "        ('scaler', step2),\n",
        "        ('kmeans', KMeans(n_clusters=k))\n",
        "    ])\n",
        "\n",
        "    # Aplicamos el pipeline\n",
        "    pipeline.fit(df_retail_lrmfp)\n",
        "\n",
        "    # Obtenemos la suma de los cuadrados de las distancias\n",
        "    sse.append(pipeline.named_steps['kmeans'].inertia_)\n",
        "\n",
        "# Creamos el plot\n",
        "fig = go.Figure()\n",
        "fig.add_trace(go.Scatter(x=k_values, y=sse, mode='lines+markers'))\n",
        "fig.update_layout(\n",
        "    title='Método del codo',\n",
        "    xaxis_title='Número de clusters (k)',\n",
        "    yaxis_title='SSE'\n",
        ")\n",
        "fig.show()"
      ],
      "execution_count": 8,
      "outputs": [
        {
          "output_type": "stream",
          "name": "stderr",
          "text": [
            "/usr/local/lib/python3.10/dist-packages/sklearn/cluster/_kmeans.py:870: FutureWarning:\n",
            "\n",
            "The default value of `n_init` will change from 10 to 'auto' in 1.4. Set the value of `n_init` explicitly to suppress the warning\n",
            "\n",
            "/usr/local/lib/python3.10/dist-packages/sklearn/cluster/_kmeans.py:870: FutureWarning:\n",
            "\n",
            "The default value of `n_init` will change from 10 to 'auto' in 1.4. Set the value of `n_init` explicitly to suppress the warning\n",
            "\n",
            "/usr/local/lib/python3.10/dist-packages/sklearn/cluster/_kmeans.py:870: FutureWarning:\n",
            "\n",
            "The default value of `n_init` will change from 10 to 'auto' in 1.4. Set the value of `n_init` explicitly to suppress the warning\n",
            "\n",
            "/usr/local/lib/python3.10/dist-packages/sklearn/cluster/_kmeans.py:870: FutureWarning:\n",
            "\n",
            "The default value of `n_init` will change from 10 to 'auto' in 1.4. Set the value of `n_init` explicitly to suppress the warning\n",
            "\n",
            "/usr/local/lib/python3.10/dist-packages/sklearn/cluster/_kmeans.py:870: FutureWarning:\n",
            "\n",
            "The default value of `n_init` will change from 10 to 'auto' in 1.4. Set the value of `n_init` explicitly to suppress the warning\n",
            "\n",
            "/usr/local/lib/python3.10/dist-packages/sklearn/cluster/_kmeans.py:870: FutureWarning:\n",
            "\n",
            "The default value of `n_init` will change from 10 to 'auto' in 1.4. Set the value of `n_init` explicitly to suppress the warning\n",
            "\n",
            "/usr/local/lib/python3.10/dist-packages/sklearn/cluster/_kmeans.py:870: FutureWarning:\n",
            "\n",
            "The default value of `n_init` will change from 10 to 'auto' in 1.4. Set the value of `n_init` explicitly to suppress the warning\n",
            "\n",
            "/usr/local/lib/python3.10/dist-packages/sklearn/cluster/_kmeans.py:870: FutureWarning:\n",
            "\n",
            "The default value of `n_init` will change from 10 to 'auto' in 1.4. Set the value of `n_init` explicitly to suppress the warning\n",
            "\n",
            "/usr/local/lib/python3.10/dist-packages/sklearn/cluster/_kmeans.py:870: FutureWarning:\n",
            "\n",
            "The default value of `n_init` will change from 10 to 'auto' in 1.4. Set the value of `n_init` explicitly to suppress the warning\n",
            "\n",
            "/usr/local/lib/python3.10/dist-packages/sklearn/cluster/_kmeans.py:870: FutureWarning:\n",
            "\n",
            "The default value of `n_init` will change from 10 to 'auto' in 1.4. Set the value of `n_init` explicitly to suppress the warning\n",
            "\n",
            "/usr/local/lib/python3.10/dist-packages/sklearn/cluster/_kmeans.py:870: FutureWarning:\n",
            "\n",
            "The default value of `n_init` will change from 10 to 'auto' in 1.4. Set the value of `n_init` explicitly to suppress the warning\n",
            "\n",
            "/usr/local/lib/python3.10/dist-packages/sklearn/cluster/_kmeans.py:870: FutureWarning:\n",
            "\n",
            "The default value of `n_init` will change from 10 to 'auto' in 1.4. Set the value of `n_init` explicitly to suppress the warning\n",
            "\n",
            "/usr/local/lib/python3.10/dist-packages/sklearn/cluster/_kmeans.py:870: FutureWarning:\n",
            "\n",
            "The default value of `n_init` will change from 10 to 'auto' in 1.4. Set the value of `n_init` explicitly to suppress the warning\n",
            "\n",
            "/usr/local/lib/python3.10/dist-packages/sklearn/cluster/_kmeans.py:870: FutureWarning:\n",
            "\n",
            "The default value of `n_init` will change from 10 to 'auto' in 1.4. Set the value of `n_init` explicitly to suppress the warning\n",
            "\n",
            "/usr/local/lib/python3.10/dist-packages/sklearn/cluster/_kmeans.py:870: FutureWarning:\n",
            "\n",
            "The default value of `n_init` will change from 10 to 'auto' in 1.4. Set the value of `n_init` explicitly to suppress the warning\n",
            "\n",
            "/usr/local/lib/python3.10/dist-packages/sklearn/cluster/_kmeans.py:870: FutureWarning:\n",
            "\n",
            "The default value of `n_init` will change from 10 to 'auto' in 1.4. Set the value of `n_init` explicitly to suppress the warning\n",
            "\n",
            "/usr/local/lib/python3.10/dist-packages/sklearn/cluster/_kmeans.py:870: FutureWarning:\n",
            "\n",
            "The default value of `n_init` will change from 10 to 'auto' in 1.4. Set the value of `n_init` explicitly to suppress the warning\n",
            "\n",
            "/usr/local/lib/python3.10/dist-packages/sklearn/cluster/_kmeans.py:870: FutureWarning:\n",
            "\n",
            "The default value of `n_init` will change from 10 to 'auto' in 1.4. Set the value of `n_init` explicitly to suppress the warning\n",
            "\n",
            "/usr/local/lib/python3.10/dist-packages/sklearn/cluster/_kmeans.py:870: FutureWarning:\n",
            "\n",
            "The default value of `n_init` will change from 10 to 'auto' in 1.4. Set the value of `n_init` explicitly to suppress the warning\n",
            "\n",
            "/usr/local/lib/python3.10/dist-packages/sklearn/cluster/_kmeans.py:870: FutureWarning:\n",
            "\n",
            "The default value of `n_init` will change from 10 to 'auto' in 1.4. Set the value of `n_init` explicitly to suppress the warning\n",
            "\n"
          ]
        },
        {
          "output_type": "display_data",
          "data": {
            "text/html": [
              "<html>\n",
              "<head><meta charset=\"utf-8\" /></head>\n",
              "<body>\n",
              "    <div>            <script src=\"https://cdnjs.cloudflare.com/ajax/libs/mathjax/2.7.5/MathJax.js?config=TeX-AMS-MML_SVG\"></script><script type=\"text/javascript\">if (window.MathJax && window.MathJax.Hub && window.MathJax.Hub.Config) {window.MathJax.Hub.Config({SVG: {font: \"STIX-Web\"}});}</script>                <script type=\"text/javascript\">window.PlotlyConfig = {MathJaxConfig: 'local'};</script>\n",
              "        <script charset=\"utf-8\" src=\"https://cdn.plot.ly/plotly-2.26.0.min.js\"></script>                <div id=\"1f7d7c51-6d9d-4aee-a545-d782c25dd740\" class=\"plotly-graph-div\" style=\"height:525px; width:100%;\"></div>            <script type=\"text/javascript\">                                    window.PLOTLYENV=window.PLOTLYENV || {};                                    if (document.getElementById(\"1f7d7c51-6d9d-4aee-a545-d782c25dd740\")) {                    Plotly.newPlot(                        \"1f7d7c51-6d9d-4aee-a545-d782c25dd740\",                        [{\"mode\":\"lines+markers\",\"x\":[1,2,3,4,5,6,7,8,9,10,11,12,13,14,15,16,17,18,19,20],\"y\":[382.3781051477944,174.1313200573482,123.84350074194847,88.09490263361764,75.60971787149468,66.03110403206537,57.65294782088729,52.89374665079193,48.854526319883334,45.28558311775711,42.918974680682645,40.366580905517104,38.38317481481651,36.184969743666926,34.46620242470596,33.142597464093356,31.063870925034657,29.501418231453627,28.434333846896138,27.692878372954382],\"type\":\"scatter\"}],                        {\"template\":{\"data\":{\"histogram2dcontour\":[{\"type\":\"histogram2dcontour\",\"colorbar\":{\"outlinewidth\":0,\"ticks\":\"\"},\"colorscale\":[[0.0,\"#0d0887\"],[0.1111111111111111,\"#46039f\"],[0.2222222222222222,\"#7201a8\"],[0.3333333333333333,\"#9c179e\"],[0.4444444444444444,\"#bd3786\"],[0.5555555555555556,\"#d8576b\"],[0.6666666666666666,\"#ed7953\"],[0.7777777777777778,\"#fb9f3a\"],[0.8888888888888888,\"#fdca26\"],[1.0,\"#f0f921\"]]}],\"choropleth\":[{\"type\":\"choropleth\",\"colorbar\":{\"outlinewidth\":0,\"ticks\":\"\"}}],\"histogram2d\":[{\"type\":\"histogram2d\",\"colorbar\":{\"outlinewidth\":0,\"ticks\":\"\"},\"colorscale\":[[0.0,\"#0d0887\"],[0.1111111111111111,\"#46039f\"],[0.2222222222222222,\"#7201a8\"],[0.3333333333333333,\"#9c179e\"],[0.4444444444444444,\"#bd3786\"],[0.5555555555555556,\"#d8576b\"],[0.6666666666666666,\"#ed7953\"],[0.7777777777777778,\"#fb9f3a\"],[0.8888888888888888,\"#fdca26\"],[1.0,\"#f0f921\"]]}],\"heatmap\":[{\"type\":\"heatmap\",\"colorbar\":{\"outlinewidth\":0,\"ticks\":\"\"},\"colorscale\":[[0.0,\"#0d0887\"],[0.1111111111111111,\"#46039f\"],[0.2222222222222222,\"#7201a8\"],[0.3333333333333333,\"#9c179e\"],[0.4444444444444444,\"#bd3786\"],[0.5555555555555556,\"#d8576b\"],[0.6666666666666666,\"#ed7953\"],[0.7777777777777778,\"#fb9f3a\"],[0.8888888888888888,\"#fdca26\"],[1.0,\"#f0f921\"]]}],\"heatmapgl\":[{\"type\":\"heatmapgl\",\"colorbar\":{\"outlinewidth\":0,\"ticks\":\"\"},\"colorscale\":[[0.0,\"#0d0887\"],[0.1111111111111111,\"#46039f\"],[0.2222222222222222,\"#7201a8\"],[0.3333333333333333,\"#9c179e\"],[0.4444444444444444,\"#bd3786\"],[0.5555555555555556,\"#d8576b\"],[0.6666666666666666,\"#ed7953\"],[0.7777777777777778,\"#fb9f3a\"],[0.8888888888888888,\"#fdca26\"],[1.0,\"#f0f921\"]]}],\"contourcarpet\":[{\"type\":\"contourcarpet\",\"colorbar\":{\"outlinewidth\":0,\"ticks\":\"\"}}],\"contour\":[{\"type\":\"contour\",\"colorbar\":{\"outlinewidth\":0,\"ticks\":\"\"},\"colorscale\":[[0.0,\"#0d0887\"],[0.1111111111111111,\"#46039f\"],[0.2222222222222222,\"#7201a8\"],[0.3333333333333333,\"#9c179e\"],[0.4444444444444444,\"#bd3786\"],[0.5555555555555556,\"#d8576b\"],[0.6666666666666666,\"#ed7953\"],[0.7777777777777778,\"#fb9f3a\"],[0.8888888888888888,\"#fdca26\"],[1.0,\"#f0f921\"]]}],\"surface\":[{\"type\":\"surface\",\"colorbar\":{\"outlinewidth\":0,\"ticks\":\"\"},\"colorscale\":[[0.0,\"#0d0887\"],[0.1111111111111111,\"#46039f\"],[0.2222222222222222,\"#7201a8\"],[0.3333333333333333,\"#9c179e\"],[0.4444444444444444,\"#bd3786\"],[0.5555555555555556,\"#d8576b\"],[0.6666666666666666,\"#ed7953\"],[0.7777777777777778,\"#fb9f3a\"],[0.8888888888888888,\"#fdca26\"],[1.0,\"#f0f921\"]]}],\"mesh3d\":[{\"type\":\"mesh3d\",\"colorbar\":{\"outlinewidth\":0,\"ticks\":\"\"}}],\"scatter\":[{\"fillpattern\":{\"fillmode\":\"overlay\",\"size\":10,\"solidity\":0.2},\"type\":\"scatter\"}],\"parcoords\":[{\"type\":\"parcoords\",\"line\":{\"colorbar\":{\"outlinewidth\":0,\"ticks\":\"\"}}}],\"scatterpolargl\":[{\"type\":\"scatterpolargl\",\"marker\":{\"colorbar\":{\"outlinewidth\":0,\"ticks\":\"\"}}}],\"bar\":[{\"error_x\":{\"color\":\"#2a3f5f\"},\"error_y\":{\"color\":\"#2a3f5f\"},\"marker\":{\"line\":{\"color\":\"#E5ECF6\",\"width\":0.5},\"pattern\":{\"fillmode\":\"overlay\",\"size\":10,\"solidity\":0.2}},\"type\":\"bar\"}],\"scattergeo\":[{\"type\":\"scattergeo\",\"marker\":{\"colorbar\":{\"outlinewidth\":0,\"ticks\":\"\"}}}],\"scatterpolar\":[{\"type\":\"scatterpolar\",\"marker\":{\"colorbar\":{\"outlinewidth\":0,\"ticks\":\"\"}}}],\"histogram\":[{\"marker\":{\"pattern\":{\"fillmode\":\"overlay\",\"size\":10,\"solidity\":0.2}},\"type\":\"histogram\"}],\"scattergl\":[{\"type\":\"scattergl\",\"marker\":{\"colorbar\":{\"outlinewidth\":0,\"ticks\":\"\"}}}],\"scatter3d\":[{\"type\":\"scatter3d\",\"line\":{\"colorbar\":{\"outlinewidth\":0,\"ticks\":\"\"}},\"marker\":{\"colorbar\":{\"outlinewidth\":0,\"ticks\":\"\"}}}],\"scattermapbox\":[{\"type\":\"scattermapbox\",\"marker\":{\"colorbar\":{\"outlinewidth\":0,\"ticks\":\"\"}}}],\"scatterternary\":[{\"type\":\"scatterternary\",\"marker\":{\"colorbar\":{\"outlinewidth\":0,\"ticks\":\"\"}}}],\"scattercarpet\":[{\"type\":\"scattercarpet\",\"marker\":{\"colorbar\":{\"outlinewidth\":0,\"ticks\":\"\"}}}],\"carpet\":[{\"aaxis\":{\"endlinecolor\":\"#2a3f5f\",\"gridcolor\":\"white\",\"linecolor\":\"white\",\"minorgridcolor\":\"white\",\"startlinecolor\":\"#2a3f5f\"},\"baxis\":{\"endlinecolor\":\"#2a3f5f\",\"gridcolor\":\"white\",\"linecolor\":\"white\",\"minorgridcolor\":\"white\",\"startlinecolor\":\"#2a3f5f\"},\"type\":\"carpet\"}],\"table\":[{\"cells\":{\"fill\":{\"color\":\"#EBF0F8\"},\"line\":{\"color\":\"white\"}},\"header\":{\"fill\":{\"color\":\"#C8D4E3\"},\"line\":{\"color\":\"white\"}},\"type\":\"table\"}],\"barpolar\":[{\"marker\":{\"line\":{\"color\":\"#E5ECF6\",\"width\":0.5},\"pattern\":{\"fillmode\":\"overlay\",\"size\":10,\"solidity\":0.2}},\"type\":\"barpolar\"}],\"pie\":[{\"automargin\":true,\"type\":\"pie\"}]},\"layout\":{\"autotypenumbers\":\"strict\",\"colorway\":[\"#636efa\",\"#EF553B\",\"#00cc96\",\"#ab63fa\",\"#FFA15A\",\"#19d3f3\",\"#FF6692\",\"#B6E880\",\"#FF97FF\",\"#FECB52\"],\"font\":{\"color\":\"#2a3f5f\"},\"hovermode\":\"closest\",\"hoverlabel\":{\"align\":\"left\"},\"paper_bgcolor\":\"white\",\"plot_bgcolor\":\"#E5ECF6\",\"polar\":{\"bgcolor\":\"#E5ECF6\",\"angularaxis\":{\"gridcolor\":\"white\",\"linecolor\":\"white\",\"ticks\":\"\"},\"radialaxis\":{\"gridcolor\":\"white\",\"linecolor\":\"white\",\"ticks\":\"\"}},\"ternary\":{\"bgcolor\":\"#E5ECF6\",\"aaxis\":{\"gridcolor\":\"white\",\"linecolor\":\"white\",\"ticks\":\"\"},\"baxis\":{\"gridcolor\":\"white\",\"linecolor\":\"white\",\"ticks\":\"\"},\"caxis\":{\"gridcolor\":\"white\",\"linecolor\":\"white\",\"ticks\":\"\"}},\"coloraxis\":{\"colorbar\":{\"outlinewidth\":0,\"ticks\":\"\"}},\"colorscale\":{\"sequential\":[[0.0,\"#0d0887\"],[0.1111111111111111,\"#46039f\"],[0.2222222222222222,\"#7201a8\"],[0.3333333333333333,\"#9c179e\"],[0.4444444444444444,\"#bd3786\"],[0.5555555555555556,\"#d8576b\"],[0.6666666666666666,\"#ed7953\"],[0.7777777777777778,\"#fb9f3a\"],[0.8888888888888888,\"#fdca26\"],[1.0,\"#f0f921\"]],\"sequentialminus\":[[0.0,\"#0d0887\"],[0.1111111111111111,\"#46039f\"],[0.2222222222222222,\"#7201a8\"],[0.3333333333333333,\"#9c179e\"],[0.4444444444444444,\"#bd3786\"],[0.5555555555555556,\"#d8576b\"],[0.6666666666666666,\"#ed7953\"],[0.7777777777777778,\"#fb9f3a\"],[0.8888888888888888,\"#fdca26\"],[1.0,\"#f0f921\"]],\"diverging\":[[0,\"#8e0152\"],[0.1,\"#c51b7d\"],[0.2,\"#de77ae\"],[0.3,\"#f1b6da\"],[0.4,\"#fde0ef\"],[0.5,\"#f7f7f7\"],[0.6,\"#e6f5d0\"],[0.7,\"#b8e186\"],[0.8,\"#7fbc41\"],[0.9,\"#4d9221\"],[1,\"#276419\"]]},\"xaxis\":{\"gridcolor\":\"white\",\"linecolor\":\"white\",\"ticks\":\"\",\"title\":{\"standoff\":15},\"zerolinecolor\":\"white\",\"automargin\":true,\"zerolinewidth\":2},\"yaxis\":{\"gridcolor\":\"white\",\"linecolor\":\"white\",\"ticks\":\"\",\"title\":{\"standoff\":15},\"zerolinecolor\":\"white\",\"automargin\":true,\"zerolinewidth\":2},\"scene\":{\"xaxis\":{\"backgroundcolor\":\"#E5ECF6\",\"gridcolor\":\"white\",\"linecolor\":\"white\",\"showbackground\":true,\"ticks\":\"\",\"zerolinecolor\":\"white\",\"gridwidth\":2},\"yaxis\":{\"backgroundcolor\":\"#E5ECF6\",\"gridcolor\":\"white\",\"linecolor\":\"white\",\"showbackground\":true,\"ticks\":\"\",\"zerolinecolor\":\"white\",\"gridwidth\":2},\"zaxis\":{\"backgroundcolor\":\"#E5ECF6\",\"gridcolor\":\"white\",\"linecolor\":\"white\",\"showbackground\":true,\"ticks\":\"\",\"zerolinecolor\":\"white\",\"gridwidth\":2}},\"shapedefaults\":{\"line\":{\"color\":\"#2a3f5f\"}},\"annotationdefaults\":{\"arrowcolor\":\"#2a3f5f\",\"arrowhead\":0,\"arrowwidth\":1},\"geo\":{\"bgcolor\":\"white\",\"landcolor\":\"#E5ECF6\",\"subunitcolor\":\"white\",\"showland\":true,\"showlakes\":true,\"lakecolor\":\"white\"},\"title\":{\"x\":0.05},\"mapbox\":{\"style\":\"light\"}}},\"title\":{\"text\":\"M\\u00e9todo del codo\"},\"xaxis\":{\"title\":{\"text\":\"N\\u00famero de clusters (k)\"}},\"yaxis\":{\"title\":{\"text\":\"SSE\"}}},                        {\"responsive\": true}                    ).then(function(){\n",
              "                            \n",
              "var gd = document.getElementById('1f7d7c51-6d9d-4aee-a545-d782c25dd740');\n",
              "var x = new MutationObserver(function (mutations, observer) {{\n",
              "        var display = window.getComputedStyle(gd).display;\n",
              "        if (!display || display === 'none') {{\n",
              "            console.log([gd, 'removed!']);\n",
              "            Plotly.purge(gd);\n",
              "            observer.disconnect();\n",
              "        }}\n",
              "}});\n",
              "\n",
              "// Listen for the removal of the full notebook cells\n",
              "var notebookContainer = gd.closest('#notebook-container');\n",
              "if (notebookContainer) {{\n",
              "    x.observe(notebookContainer, {childList: true});\n",
              "}}\n",
              "\n",
              "// Listen for the clearing of the current output cell\n",
              "var outputEl = gd.closest('.output');\n",
              "if (outputEl) {{\n",
              "    x.observe(outputEl, {childList: true});\n",
              "}}\n",
              "\n",
              "                        })                };                            </script>        </div>\n",
              "</body>\n",
              "</html>"
            ]
          },
          "metadata": {}
        }
      ]
    },
    {
      "cell_type": "markdown",
      "source": [
        "En base al método del codo que se puede ver en el gráfico anterior, decidimos utilizar 4 clusters. Esto debido a que la varianza en los datos disminuye considerablemente a partir del 4to cluster."
      ],
      "metadata": {
        "id": "Dp2POOVpxHim"
      }
    },
    {
      "cell_type": "markdown",
      "metadata": {
        "tags": [],
        "cell_id": "3bb5d86bc1e54cf18a851e71c2c3a3c1",
        "deepnote_cell_height": 53.866668701171875,
        "deepnote_cell_type": "markdown",
        "id": "m1cw9Ouae3Be"
      },
      "source": [
        "#### 1.3.3.2 Segmentación de Clientes con K-Means 🎁 [1 punto]"
      ]
    },
    {
      "cell_type": "markdown",
      "metadata": {
        "tags": [],
        "cell_id": "f8c3b4d105754ccb8a1ce6dfd606a40e",
        "deepnote_cell_height": 200.6666717529297,
        "deepnote_cell_type": "markdown",
        "id": "OkekjPpHe3Be"
      },
      "source": [
        "En base a la elección de k realizada en la sección anterior, utilice este valor escogido y entrene un modelo de K-means utilizando el mismo pipeline de scikit-learn utilizado anteriormente.\n",
        "\n",
        "Una vez ajustado los datos, genere una tabla con los promedios (o medianas) para cada uno de los atributos, agrupando estos por el clúster que pertenecen. ¿Es posible observar agrupaciones coherentes?, ¿Qué tipo de clientes posee el retail?, Justifique su respuesta y no decepcione a Mr. Lepin.\n"
      ]
    },
    {
      "cell_type": "markdown",
      "metadata": {
        "tags": [],
        "cell_id": "dbce893901024a828d2b875798e27674",
        "deepnote_cell_height": 52.26666259765625,
        "deepnote_cell_type": "markdown",
        "id": "qURk5yUwe3Be"
      },
      "source": [
        "**Respuesta:**"
      ]
    },
    {
      "cell_type": "code",
      "metadata": {
        "tags": [],
        "cell_id": "375d5f6e310c442d82a9c940805fc6d2",
        "deepnote_cell_height": 65.86666870117188,
        "deepnote_cell_type": "code",
        "id": "LSM5EQq8e3Bk",
        "colab": {
          "base_uri": "https://localhost:8080/"
        },
        "outputId": "2b041106-02bb-4ed1-c684-df9d34efefd0"
      },
      "source": [
        "# Crear el pipeline con los pasos definidos\n",
        "pipeline = Pipeline([\n",
        "      ('features', step1),\n",
        "      ('scaler', step2),\n",
        "      ('kmeans', KMeans(n_clusters=4))\n",
        "])\n",
        "# Ajustamos el pipeline\n",
        "pipeline.fit(df_retail_lrmfp)\n",
        "\n",
        "# Obtenemos la labels\n",
        "cluster_labels = pipeline.named_steps['kmeans'].labels_\n",
        "\n",
        "# Creamos una nueva columna 'Cluster' en el DataFrame de LRMFP\n",
        "df_retail_lrmfp['Cluster'] = cluster_labels\n",
        "\n",
        "# Calcular los promedios por cluster para cada atributo\n",
        "cluster_means = df_retail_lrmfp.groupby('Cluster').mean()\n",
        "\n",
        "# Mostrar la tabla de promedios por cluster\n",
        "print(np.round(cluster_means, 2))\n"
      ],
      "execution_count": 18,
      "outputs": [
        {
          "output_type": "stream",
          "name": "stderr",
          "text": [
            "/usr/local/lib/python3.10/dist-packages/sklearn/cluster/_kmeans.py:870: FutureWarning:\n",
            "\n",
            "The default value of `n_init` will change from 10 to 'auto' in 1.4. Set the value of `n_init` explicitly to suppress the warning\n",
            "\n"
          ]
        },
        {
          "output_type": "stream",
          "name": "stdout",
          "text": [
            "         Length  Recency  Frequency  Monetary  Periodicity\n",
            "Cluster                                                   \n",
            "0        329.45    20.94     222.00     37.51        20.10\n",
            "1         91.01   206.38      56.29     32.65        13.84\n",
            "2        207.96    55.87     100.76     27.64        21.62\n",
            "3         63.38    37.02      71.17     25.94         8.34\n"
          ]
        }
      ]
    },
    {
      "cell_type": "markdown",
      "source": [
        "Analizando la tabla anterior, podemos decir que sí se crearon 4 clusters de clientes coherentes. Las cluster creados se pueden definir de la siguiente manera:\n",
        "- Cluster 0: Posee un lenght y frequency muy altos, lo que indica que son clientes que compran hace mucho tiempo en la tienda de Mr. Lepin, y además, con harta frecuencia, lo que se condice también con el alto nivel de periodicity. Son los clientes que además tiene una recency más baja, lo que indicaría que compraron hace menos tiempo y, por otro lado, son el grupo de clientes que gasta más dinero en la tienda. Podríamos decir que este el cluster de *clientes frecuentes*.\n",
        "- Cluster 1: Este cluster difiere mucho del anterior en varios aspectos. En primer lugar, posee una length y frecuency considerablemente más baja, lo que indeicaría que son clientes relativamente nuevos y que no compran muy seguido en la tienda, esto último se condice también con un score de periodicity más bajo que en el cluster anterior. Por otro lado, tienen un nivel de recency muy alto, el más alto de los 4 clusters, lo que quiiere decir que realizaron su última compra hace más tiempo. En comparación con los otros clusters, poseen un nivel monetario relativamente alto, por lo que este no nos indicaría mucho. Podríamos decir que este es el cluster de *clientes inactivos*, considerando sobretodo los niveles de lenght, recency y frecuency.\n",
        "- Cluster 3: Los clientes de este cluster, al igual que los del primero, son clientes más antiguos, ya que poseen un nivel de lemnght bastanto alto en comparación a los otros clusters. Tienen un recency, frecuency y monetary más bien moderados, y la periodicity más alta de todas, esto nos indica que este grupo de clientes realiza compras de forma regular. Podríamos definir este cluster como los *clientes regulares*, valga la redundancia.\n",
        "- Cluster 4: En este cluster nos encontramos con clientes más nuevos, que realizaron su primera compra hace un menor tiempo que los clientes regulares, y, además, tienen una frecuencia un tanto mayor que ese mismo segmento de clientes y un gasto monetrio relativamente parecido. Por otro laod, poseen la preiiodicity más baja de todas, estando 5 puntos por debajo que la del grupo de clientes inactivo. Esto nos indicaría que son clientes esporádicos, podriamos definirlo como el grupo de *clientes casuales*."
      ],
      "metadata": {
        "id": "QLuV9rh3VLgD"
      }
    },
    {
      "cell_type": "markdown",
      "metadata": {
        "tags": [],
        "cell_id": "18e50ee0240543d692bcde6d9c29fe73",
        "deepnote_cell_height": 261.4666748046875,
        "deepnote_cell_type": "markdown",
        "id": "CtGJK5B0e3Bk"
      },
      "source": [
        "**Respuesta Esperada:**\n",
        "\n",
        "|         | Length  | Recency   | Frequency | Monetary | Periodicity |       |\n",
        "|---------|---------|-----------|----------|-------------|-------|-------|\n",
        "| Cluster |         |           |          |             |       |       |\n",
        "|    0    |   258.8 |      45.2 |     76.1 |      1107.7 | 107.6 |   449 |\n",
        "|    1    |    76.1 |     217.6 |     45.5 |       791.7 |  14.1 |   466 |\n",
        "|    2    |   368.5 |       4.8 |   2715.0 |    226621.6 |   4.2 |     4 |\n",
        "|    3    |    85.3 |      45.7 |     65.8 |      1047.0 |  10.5 |   987 |\n",
        "|    4    |   347.2 |      15.9 |   1658.0 |     35829.3 |   8.0 |    25 |\n",
        "|    5    |   298.0 |      29.8 |    183.8 |      3639.9 |  32.0 |  1188 |"
      ]
    },
    {
      "cell_type": "markdown",
      "metadata": {
        "tags": [],
        "cell_id": "f79d1fa6b1a64b6f97bffc62b037a663",
        "deepnote_cell_height": 53.866668701171875,
        "deepnote_cell_type": "markdown",
        "id": "ABTzZK5ce3Bk"
      },
      "source": [
        "#### 1.3.3.3 Plot de K-Means 📈 [0.5 puntos]\n",
        "\n"
      ]
    },
    {
      "cell_type": "markdown",
      "metadata": {
        "tags": [],
        "cell_id": "2d0348435e814f16b8957dfbc6384a88",
        "owner_user_id": "d50c3174-babb-4861-9c71-7e3af66458b8",
        "deepnote_cell_height": 192.26666259765625,
        "deepnote_cell_type": "markdown",
        "id": "dDMcb83Xe3Bk"
      },
      "source": [
        "Por último, Mr. Lepin, impaciente de no entender lo que usted intenta explicarle, le solicita que por favor muestre algún resultado \"visual\" de los grupos encontrados.\n",
        "\n",
        "Para esto, grafique nuevamente las características encontradas usando `T-SNE` (no calcule de nuevo, simplemente utilice las proyecciones encontradas) y agregue las labels calculadas con kmeans como el argumento `color`.   \n",
        "\n",
        "Comente: ¿Se separan bien los distintos clusters en la visualización?\n"
      ]
    },
    {
      "cell_type": "markdown",
      "metadata": {
        "tags": [],
        "cell_id": "e805388b96c04ea8a06a262229c2f799",
        "deepnote_cell_height": 52.26666259765625,
        "deepnote_cell_type": "markdown",
        "id": "lmW6eKOQe3Bk"
      },
      "source": [
        "**Respuesta:**"
      ]
    },
    {
      "cell_type": "code",
      "source": [
        "# Nombres de los clusters\n",
        "cluster_labels_mapping = {\n",
        "    0: 'Clientes Frecuentes',\n",
        "    1: 'Clientes Inactivos',\n",
        "    2: 'Clientes Regulares',\n",
        "    3: 'Clientes Casuales'\n",
        "}\n",
        "\n",
        "# Asignamos etiquetas a los clusters\n",
        "df_retail_lrmfp['Cluster_Label'] = df_retail_lrmfp['Cluster'].map(cluster_labels_mapping)\n",
        "\n",
        "# Creamos el plot\n",
        "fig = px.scatter(x=X_reduced[:, 0], y=X_reduced[:, 1], color=df_retail_lrmfp['Cluster_Label'])\n",
        "fig.update_layout(\n",
        "    title='Clusters según LRMFP',\n",
        "    xaxis_title='Componente 1',\n",
        "    yaxis_title='Componente 2'\n",
        ")\n",
        "fig.show()"
      ],
      "metadata": {
        "colab": {
          "base_uri": "https://localhost:8080/",
          "height": 542
        },
        "id": "yz7IUQ2AckJy",
        "outputId": "ea935d17-4c07-45c9-e65e-e2baf8f56215"
      },
      "execution_count": 21,
      "outputs": [
        {
          "output_type": "display_data",
          "data": {
            "text/html": [
              "<html>\n",
              "<head><meta charset=\"utf-8\" /></head>\n",
              "<body>\n",
              "    <div>            <script src=\"https://cdnjs.cloudflare.com/ajax/libs/mathjax/2.7.5/MathJax.js?config=TeX-AMS-MML_SVG\"></script><script type=\"text/javascript\">if (window.MathJax && window.MathJax.Hub && window.MathJax.Hub.Config) {window.MathJax.Hub.Config({SVG: {font: \"STIX-Web\"}});}</script>                <script type=\"text/javascript\">window.PlotlyConfig = {MathJaxConfig: 'local'};</script>\n",
              "        <script charset=\"utf-8\" src=\"https://cdn.plot.ly/plotly-2.26.0.min.js\"></script>                <div id=\"4fc2a917-e6bc-42d6-bd8d-47635961d3b0\" class=\"plotly-graph-div\" style=\"height:525px; width:100%;\"></div>            <script type=\"text/javascript\">                                    window.PLOTLYENV=window.PLOTLYENV || {};                                    if (document.getElementById(\"4fc2a917-e6bc-42d6-bd8d-47635961d3b0\")) {                    Plotly.newPlot(                        \"4fc2a917-e6bc-42d6-bd8d-47635961d3b0\",                        [{\"hovertemplate\":\"color=Clientes Regulares\\u003cbr\\u003ex=%{x}\\u003cbr\\u003ey=%{y}\\u003cextra\\u003e\\u003c\\u002fextra\\u003e\",\"legendgroup\":\"Clientes Regulares\",\"marker\":{\"color\":\"#636efa\",\"symbol\":\"circle\"},\"mode\":\"markers\",\"name\":\"Clientes Regulares\",\"showlegend\":true,\"x\":[12.990497589111328,9.103100776672363,1.2110953330993652,-5.588587760925293,-6.60513973236084,14.904991149902344,-0.8714812994003296,9.031721115112305,23.854888916015625,-13.356643676757812,8.85737419128418,-10.032928466796875,-22.099584579467773,24.519664764404297,23.757160186767578,-2.5816879272460938,15.043049812316895,-2.103905439376831,-12.343193054199219,-5.917738437652588,-13.503231048583984,9.186919212341309,-0.17814901471138,-13.097647666931152,-3.1685314178466797,12.58467960357666,-11.166422843933105,14.414804458618164,-5.624704360961914,-11.388044357299805,21.13575553894043,19.552518844604492,7.538398742675781,-19.669179916381836,10.559741973876953,-0.65105140209198,-4.152095794677734,-0.3375779688358307,25.59608268737793,19.36598777770996,4.780692100524902,-6.362397193908691,-14.549297332763672,-19.92524528503418,-14.186914443969727,24.929733276367188,-15.899874687194824,-7.114087104797363,-14.40881061553955,23.909015655517578,19.21222496032715,-3.275101661682129,-10.262969970703125,3.448883056640625,6.670528888702393,22.46503257751465,13.92211627960205,-11.32801342010498,17.11066246032715,-1.5055735111236572,26.526853561401367,-7.836374759674072,-17.593795776367188,4.320361614227295,20.529495239257812,15.503146171569824,-7.110452175140381,-3.3264553546905518,24.084461212158203,21.70201873779297,-2.000662088394165,-10.283477783203125,-4.455759048461914,-0.5962339043617249,-14.228619575500488,14.340065002441406,1.7143988609313965,6.643085479736328,7.708892345428467,7.285762310028076,13.063344955444336,4.736891746520996,-26.225234985351562,-4.9459452629089355,-11.964381217956543,-2.32159686088562,-3.8492252826690674,8.956320762634277,17.736949920654297,-9.878849029541016,-10.527238845825195,8.409246444702148,-11.444579124450684,21.64251136779785,-11.603407859802246,-3.432262420654297,-16.66739273071289,-15.727107048034668,3.027024745941162,4.4166483879089355,-3.05069637298584,20.666528701782227,18.38146209716797,17.071292877197266,-7.536168575286865,-4.284018039703369,13.44437026977539,23.766035079956055,22.978836059570312,9.151944160461426,-3.460378646850586,-5.797163009643555,-0.4520423710346222,16.283309936523438,17.83539581298828,-3.480978488922119,10.926777839660645,6.420319080352783,-14.376067161560059,16.239660263061523,-6.623825550079346,23.516830444335938,-10.6997709274292,-15.043669700622559,-17.299816131591797,-7.909865856170654,-11.443222999572754,-6.364759922027588,14.743136405944824,-7.004045009613037,-10.268284797668457,13.407848358154297,-9.563238143920898,12.678828239440918,-4.862357139587402,-11.347482681274414,-17.636089324951172,14.710031509399414,1.549162745475769,12.47842788696289,-10.003809928894043,-17.764976501464844,18.61111831665039,5.9781413078308105,-16.553525924682617,-9.96125602722168,14.530728340148926,-1.9735898971557617,2.1835641860961914,-16.275245666503906,0.9625283479690552,20.605281829833984,18.40865707397461,8.685211181640625,5.826155662536621,-7.443516731262207,-11.22879409790039,7.42670202255249,-12.277109146118164,-12.072176933288574,23.004350662231445,-14.67697525024414,22.52642822265625,-14.11514663696289,-5.1493940353393555,1.149314284324646,-0.7068077325820923,-11.132575988769531,22.806880950927734,-6.56147575378418,-14.671761512756348,-1.4720408916473389,-13.203969955444336,14.765865325927734,-0.06070341542363167,-2.606882095336914,-9.437803268432617,-18.49381446838379,5.398433685302734,-4.5622944831848145,23.31878662109375,-3.495821714401245,-7.130866527557373,-0.03291686624288559,7.924918174743652,-14.300025939941406,-18.133007049560547,0.6175785064697266,17.041032791137695,15.419142723083496,7.15479850769043,1.9920716285705566,-12.334054946899414,3.641148805618286,-18.007577896118164,17.122472763061523,5.345374584197998,14.920764923095703,-7.048971176147461,18.224327087402344,-1.5642294883728027,-21.253774642944336,6.819981575012207,-22.149316787719727,-12.657217025756836,16.61484146118164,12.297988891601562,2.4209580421447754,-20.9388484954834,20.922889709472656,19.310100555419922,13.12674331665039,9.304221153259277,5.978174209594727,18.514968872070312,21.55510139465332,-12.1646089553833,-2.6720802783966064,20.663896560668945,-2.1316959857940674,-8.685794830322266,-4.022936820983887,-9.069087028503418,-8.496944427490234,-11.837408065795898,-13.601627349853516,-14.765241622924805,-4.346732139587402,-10.733890533447266,9.511490821838379,10.41015625,-5.223082542419434,-2.972925901412964,-12.075212478637695,-10.992513656616211,8.287209510803223,-21.906476974487305,-16.638416290283203,-11.886716842651367,13.57574462890625,-1.8569823503494263,-15.2712984085083,3.1872618198394775,7.434889793395996,6.548171520233154,12.485716819763184,-15.020447731018066,-20.66649055480957,-18.81590461730957,-5.602715015411377,-5.206542491912842,9.059224128723145,18.70334815979004,10.543941497802734,12.845317840576172,-22.519556045532227,19.69095230102539,1.3568732738494873,0.2925179898738861,10.078094482421875,-1.1924840211868286,10.80813980102539,0.11307627707719803,-9.333366394042969,6.614031791687012,11.861296653747559,-10.615321159362793,-9.718405723571777,0.20175017416477203,-16.340923309326172,2.6082332134246826,-15.567143440246582,-16.904327392578125,6.491154193878174,-3.6494405269622803,21.3602294921875,0.691602349281311,-6.143405914306641,-1.1182321310043335,-18.65953254699707,-16.30282974243164,0.23996879160404205,-16.173229217529297,26.397510528564453,-14.519206047058105,20.507854461669922,-7.7761077880859375,13.382750511169434,-12.494573593139648,6.808495044708252,-2.341374397277832,16.730892181396484,9.917969703674316,17.38185691833496,-15.6312894821167,-17.006258010864258,6.26665735244751,16.09859848022461,-0.9286331534385681,17.11273765563965,20.368051528930664,20.283220291137695,1.0525619983673096,3.7344279289245605,10.309544563293457,-16.169652938842773,-10.603675842285156,20.41879653930664,17.145185470581055,21.553621292114258,-17.360666275024414,-15.406524658203125,10.979869842529297,5.147669792175293,22.618722915649414,-17.793794631958008,14.446293830871582,-10.430710792541504,22.097618103027344,-1.2036396265029907,-12.881113052368164,-7.864931583404541,10.799812316894531,-4.42920446395874,16.85128402709961,-12.042719841003418,2.4526028633117676,22.172367095947266,0.4401558041572571,-12.718159675598145,23.87714958190918,-17.825822830200195,-0.42894065380096436,21.12152862548828,16.898311614990234,-15.29999828338623,-8.73575496673584,-3.3437845706939697,0.20605775713920593,18.187774658203125,-14.280059814453125,-17.246652603149414,-3.7781341075897217,-4.012056827545166,-15.615487098693848,-18.18037986755371,-16.40967559814453,-14.35764217376709,-22.50244140625,13.126800537109375,9.418366432189941,-20.265869140625,-16.534584045410156,23.091978073120117,-10.010068893432617,17.306119918823242,14.8826904296875,17.603668212890625,4.821038246154785,-8.366339683532715,-22.162134170532227,-6.364225387573242,-21.8509578704834,-1.6913106441497803,21.581066131591797,-0.17817768454551697,-12.048994064331055,-8.449995994567871,0.7535324692726135,-8.247784614562988,21.37737464904785,20.837169647216797,20.543071746826172,14.07816219329834,18.609846115112305,-8.039849281311035,5.519913196563721,-3.7919483184814453,-12.662235260009766,-8.605945587158203,9.929572105407715,-1.2875511646270752,2.8249499797821045,14.661834716796875,-10.79315185546875,-15.92841911315918,-9.814413070678711,-10.531582832336426,16.81003189086914,-12.296104431152344,11.421809196472168,-2.5540616512298584,4.383167266845703,25.456663131713867,-4.2141852378845215,20.67000389099121,-14.690595626831055,-8.780983924865723,-1.944169521331787,-18.41965103149414,-2.583528995513916,15.548595428466797,14.428864479064941,-2.8592326641082764,-17.70929527282715,-13.456978797912598,-7.982182502746582,9.959425926208496,-0.7819162607192993,-18.748620986938477,-16.17825698852539,-3.1860127449035645,15.433236122131348,19.9805965423584,21.702360153198242,-2.558403491973877,12.312262535095215,21.160675048828125,8.539915084838867,-21.65531349182129,-5.824072360992432,21.411846160888672,-4.822256565093994,-7.131094932556152,17.15889549255371,-10.456480026245117,0.5389634966850281,6.941103935241699,-0.1854393482208252,-14.87680435180664,21.29007339477539,11.244302749633789,-9.348711013793945,-2.557465076446533,24.85457420349121,-13.190423011779785,18.583580017089844,-7.919699192047119,-14.678611755371094,13.065627098083496,8.291038513183594,14.287537574768066,-0.9143505096435547,14.547433853149414,9.173270225524902,20.753894805908203,-8.061444282531738,10.719481468200684,-17.60719108581543,-5.892284393310547,9.408649444580078,4.91497802734375,3.7712347507476807,9.117560386657715,-0.31113773584365845,19.149385452270508,-9.169904708862305,-19.260805130004883,4.53598165512085,-2.5646917819976807,9.79279899597168,7.945074558258057,-0.20124581456184387,13.70925521850586,21.075960159301758,-8.7158784866333,18.784608840942383,18.177385330200195,-17.209932327270508,-11.622393608093262,-1.799382209777832,-2.0053658485412598,0.9530613422393799,-0.9072380661964417,13.065851211547852,6.709903240203857,-3.495440721511841,-7.615579128265381,16.62714385986328,-9.508782386779785,0.4688831567764282,8.246465682983398,8.352992057800293,-15.035455703735352,5.4270172119140625,9.007062911987305,25.491546630859375,5.668449401855469,20.516315460205078,-21.608413696289062,-17.85619354248047,-2.6254639625549316,-23.65278434753418,25.79781723022461,-10.753080368041992,-22.983421325683594,-9.427480697631836,7.814095497131348,2.2936222553253174,-3.8504550457000732,14.882792472839355,-1.1424964666366577,19.07106590270996,-1.882887363433838,-7.651373386383057,5.128675937652588,16.705055236816406,-21.35649299621582,-6.357255458831787,-13.134208679199219,16.386568069458008,15.455999374389648,16.87541389465332,14.926194190979004,7.0894293785095215,26.432109832763672,-6.999300479888916,14.857848167419434,17.763057708740234,10.013949394226074,21.276535034179688,-9.052658081054688,-21.423004150390625,-19.19200325012207,-4.532299995422363,-4.4233927726745605,17.896434783935547,-21.10798454284668,10.487062454223633,-2.3352456092834473,18.609067916870117,9.490058898925781,24.237777709960938,-16.21036148071289,21.262025833129883,12.734138488769531,-15.61848258972168,-0.7241771817207336,7.040389537811279,-5.098702907562256,6.784588813781738,13.333559036254883,-18.921663284301758,4.259259223937988,14.349977493286133,8.135894775390625,19.06220817565918,13.788110733032227,-10.803973197937012,20.64335060119629,20.914072036743164,0.3581685423851013,1.8307851552963257,-9.183255195617676,-8.39513874053955,10.51547908782959,4.702064514160156,8.792241096496582,-3.0881826877593994,-17.66100311279297,-15.41811752319336,15.63129997253418,18.09518051147461,0.5348267555236816,-14.395037651062012,6.221076488494873,7.6016364097595215,-3.2484941482543945,19.447233200073242,2.6680819988250732,0.7085598111152649,14.761582374572754,11.788527488708496,20.997648239135742,-12.156725883483887,21.13844108581543,-14.209734916687012,21.19679069519043,20.945093154907227,23.8151912689209,0.7568889260292053,-5.3619465827941895,21.420888900756836,-4.284362316131592,7.610395908355713,21.886322021484375,-18.446962356567383,-22.110111236572266,21.142789840698242,-2.2006163597106934,5.105586051940918,2.9795641899108887,12.164817810058594,13.154879570007324,3.8020167350769043,4.564549922943115,-5.1517205238342285,20.03275489807129,-9.125833511352539,-5.171987056732178,-5.312053203582764,17.038803100585938,8.732409477233887,10.284972190856934,7.8063883781433105,12.731058120727539,4.957797050476074,-16.0062198638916,-0.7247964143753052,10.398974418640137,24.458656311035156,18.656808853149414,11.860221862792969,-3.372122287750244,-16.0869197845459,-22.788524627685547,4.22614860534668,6.00032901763916,3.803178071975708,-7.702359676361084,-15.449725151062012,21.76853370666504,-21.829927444458008,13.916911125183105,14.120847702026367,-24.31228256225586,13.284133911132812,-3.703547954559326,-19.57541847229004,6.142714500427246,-14.996695518493652,-19.683103561401367,5.003754138946533,-11.109458923339844,13.655815124511719,19.875417709350586,25.333770751953125,-4.314831733703613,-15.919586181640625,0.3693770468235016,-5.247967720031738,23.209096908569336,-4.02357292175293,-3.906074047088623,-9.531542778015137,21.468442916870117,-9.906917572021484,0.029637502506375313,-6.162829399108887,1.7172657251358032,19.47007942199707,-0.008169339969754219,13.574968338012695,-19.873842239379883,-2.4214229583740234,11.962593078613281,13.295531272888184,1.4703466892242432,9.664515495300293,20.607845306396484,15.42829704284668,-10.043493270874023,22.62027359008789,21.282833099365234,17.659698486328125,6.509803295135498,-14.530244827270508,-22.646547317504883,-3.6675925254821777,-0.6559996604919434,-13.214064598083496,-14.418378829956055,-17.113344192504883,15.54429817199707,-20.202457427978516,9.276778221130371,-17.364381790161133,14.53781509399414,12.90379524230957,17.972183227539062,13.298113822937012,-12.456600189208984,19.702144622802734,19.287473678588867,-6.876179218292236,-19.90715980529785,-0.37096935510635376,-33.40745544433594,20.75241470336914,-19.01667022705078,16.532255172729492,-11.117613792419434,-14.00550365447998,-8.346100807189941,-6.721831798553467,-4.893797397613525,3.840353012084961,12.250319480895996,-14.986997604370117,9.887962341308594,6.250536918640137,-8.184657096862793,10.352937698364258,7.552160739898682,-13.094382286071777,16.629425048828125,3.7388806343078613,26.137371063232422,-6.007134437561035,-14.035226821899414,-17.789838790893555,-14.967948913574219,-14.647510528564453,-10.930487632751465,-10.806336402893066,11.491324424743652,15.37353515625,-10.84372615814209,-9.715253829956055,9.29074764251709,8.5701904296875,20.970651626586914,-8.900809288024902,-8.13097858428955,17.227750778198242,-2.57529616355896,-11.212736129760742,-8.603983879089355,-4.409214496612549,-14.236237525939941,-17.757925033569336,-14.776224136352539,19.17498016357422,15.583988189697266,-15.701601028442383,17.268789291381836,7.377016067504883,11.634979248046875,-0.25193601846694946,11.56542682647705,-17.617393493652344,-4.4946441650390625,-5.378405570983887,5.647928237915039,14.53196907043457,6.309694766998291,-2.9955806732177734,-17.09798812866211,11.183769226074219,0.10818195343017578,-2.861283540725708,21.79773712158203,20.62302589416504,12.60582447052002,20.95319938659668,21.14249610900879,21.22899055480957,-11.039634704589844,20.795276641845703,-12.008613586425781,10.609539985656738,-5.170636177062988,-21.337993621826172,18.948549270629883,-14.62572193145752,-17.215091705322266,-0.3462236225605011,-14.791563034057617,8.395495414733887,9.905235290527344,-14.434643745422363,20.83820152282715,-18.925172805786133,0.23856221139431,6.304757595062256,13.28601360321045,-5.305243492126465,12.451799392700195,-19.59140968322754,18.658437728881836,-21.562915802001953,-13.542572021484375,-2.5895190238952637,18.114477157592773,14.225545883178711,17.45726776123047,24.146175384521484,17.297000885009766,-3.11238169670105,-16.349809646606445,-20.452592849731445,-2.804896116256714,-3.168469190597534,12.216038703918457,-7.7202277183532715,19.980741500854492,1.5499075651168823,13.34749698638916,-17.556196212768555,-12.645777702331543,-9.182088851928711,-17.20223045349121,17.037208557128906,16.82961654663086,-18.364925384521484,6.724663257598877,1.3870909214019775,-18.33279800415039,15.448951721191406,-6.0351386070251465,19.054235458374023,-1.6752408742904663,-17.537647247314453,-2.84283447265625,23.81894874572754,10.963113784790039,-9.952986717224121,-10.030186653137207,13.649333000183105,16.417757034301758,-15.308061599731445,7.1771769523620605,-14.683321952819824,-9.721871376037598,23.612648010253906,24.53466033935547,12.842350006103516,20.8763484954834,6.48121452331543,8.099746704101562,0.4230108857154846,-9.319083213806152,9.278172492980957,-8.432380676269531,-12.566032409667969,-11.84606647491455,21.55731773376465,5.23903226852417,7.277956008911133,-14.546721458435059,-2.0111300945281982,12.080086708068848,-16.723417282104492,15.756852149963379,18.868671417236328,-18.010421752929688,13.269335746765137,6.7151875495910645,-9.971877098083496,-19.35107421875,20.95494270324707,18.248647689819336,20.332639694213867,-16.331695556640625,18.708541870117188,0.5889062881469727,-12.121115684509277,17.816417694091797,-13.128583908081055,-4.651566028594971,22.260461807250977,1.397379755973816,18.985689163208008,-20.228609085083008,-19.074119567871094,-15.685308456420898,11.512149810791016,15.127700805664062,12.9247407913208,23.38494300842285,23.170455932617188,18.145381927490234,-4.223367214202881,-2.5641188621520996,-8.520092964172363,13.341673851013184,23.108728408813477,-2.387322187423706,23.16546058654785,8.147974014282227,14.790176391601562,17.57016944885254,18.886598587036133,-2.7437283992767334,19.901044845581055,23.683122634887695,-10.990984916687012,21.316312789916992,-10.295644760131836,13.607930183410645,0.9750528931617737,14.976676940917969,20.154258728027344,-13.951101303100586,-5.350532531738281,23.775110244750977,-11.383798599243164,-22.9046630859375,16.873580932617188,6.7424635887146,9.036206245422363,16.506010055541992,-4.807382106781006,-12.482076644897461,15.171937942504883,1.8880345821380615,-15.386284828186035,21.653730392456055,-11.867351531982422,14.361515045166016,19.971574783325195,20.382455825805664,5.964584827423096,-15.130607604980469,-1.067873477935791,3.2748048305511475,-17.843687057495117,12.40074348449707,-5.071595668792725,13.421903610229492,6.996899604797363,23.1093692779541,19.73088836669922,-14.795145988464355,8.283308982849121,-7.492805004119873,-4.971651554107666,-2.575122833251953,-22.12004852294922,6.045071125030518,-5.073879718780518,18.45058250427246,10.795204162597656,18.838037490844727,-2.4075374603271484,4.003604888916016,-4.570300102233887,-2.9278697967529297,-24.906230926513672,5.852374076843262,6.2537970542907715,-2.843580484390259,12.772997856140137],\"xaxis\":\"x\",\"y\":[21.145591735839844,-31.038427352905273,10.609613418579102,-10.981528282165527,-9.845755577087402,-11.997118949890137,-28.58368492126465,3.024561882019043,-0.935352623462677,-7.326629161834717,2.968076705932617,-30.961122512817383,-19.07452392578125,-10.261764526367188,-35.76704406738281,-10.48287582397461,-35.05352020263672,14.170028686523438,10.69686222076416,-19.53890609741211,-30.21017074584961,4.59541130065918,-29.772340774536133,-4.004499912261963,-0.5508508086204529,-19.28696632385254,10.988632202148438,-11.302740097045898,-13.936148643493652,11.441758155822754,8.457101821899414,-10.288810729980469,-23.983339309692383,-12.071948051452637,0.24227023124694824,-34.69804382324219,-14.48650074005127,0.9053063988685608,-32.410362243652344,-34.11857604980469,-9.470535278320312,-27.356870651245117,2.4510111808776855,-10.723044395446777,2.488856554031372,-10.894852638244629,-32.0594596862793,27.381589889526367,27.96448516845703,-32.654090881347656,-29.64206886291504,-32.1317253112793,-26.12233543395996,-2.1338350772857666,-3.497295618057251,2.8073089122772217,14.505655288696289,9.896624565124512,4.081226348876953,-25.226417541503906,-32.97832107543945,28.155290603637695,-4.27938985824585,11.330665588378906,-7.742687702178955,15.142792701721191,-34.5830192565918,1.789772868156433,-34.02809143066406,-3.182936191558838,-31.692426681518555,-12.809835433959961,1.062951683998108,-28.36456298828125,-27.181161880493164,-28.07046127319336,13.95620059967041,-27.79117774963379,-24.882627487182617,0.7990204095840454,-20.32379722595215,10.845430374145508,1.5907455682754517,-10.633929252624512,-27.047115325927734,-29.87318992614746,2.822049856185913,-24.877479553222656,-34.53626251220703,-32.58192825317383,11.24793529510498,-26.7491455078125,-15.038315773010254,-34.984474182128906,-14.592972755432129,-35.87982940673828,-13.595067977905273,1.033868432044983,-9.008471488952637,1.132203459739685,-25.597606658935547,11.908858299255371,-8.543651580810547,-6.206028938293457,-15.540084838867188,10.935141563415527,-20.454530715942383,-27.55202865600586,0.9305827021598816,16.53569984436035,-1.1150530576705933,-15.816326141357422,-15.605533599853516,-34.56970977783203,-37.81522750854492,14.527698516845703,20.420379638671875,-21.871545791625977,-15.766670227050781,14.892219543457031,-34.657630920410156,-2.2858760356903076,-1.6043893098831177,-15.649744987487793,-31.220006942749023,-33.93978500366211,-14.15255069732666,-27.387666702270508,9.708025932312012,-16.467233657836914,-22.294635772705078,-5.286234378814697,27.398418426513672,-35.18717575073242,-16.055728912353516,-1.6597578525543213,22.850467681884766,-16.311431884765625,7.167275428771973,-4.141408443450928,-1.6559141874313354,20.261749267578125,-23.15622329711914,-23.277767181396484,-4.505958557128906,-20.326204299926758,-25.997053146362305,-24.897310256958008,9.556519508361816,-17.721057891845703,-30.773944854736328,-9.733803749084473,-29.549978256225586,-25.06035614013672,1.2677357196807861,10.867159843444824,-22.823490142822266,0.042417943477630615,-6.924159049987793,-11.136129379272461,3.5444424152374268,2.50545334815979,6.773415565490723,-6.858405590057373,2.345665454864502,-32.178348541259766,13.332245826721191,27.34126853942871,4.040003776550293,10.279114723205566,-16.902883529663086,13.118462562561035,-16.27381706237793,15.313800811767578,-0.18542076647281647,-3.1437690258026123,-31.853355407714844,-35.81595230102539,-15.956046104431152,-24.661767959594727,-1.5648233890533447,-9.29704761505127,-9.469804763793945,1.6061044931411743,3.5093414783477783,-0.592755138874054,-3.1925573348999023,14.680094718933105,-17.423452377319336,4.190201759338379,-25.674951553344727,8.744091033935547,-0.7523739337921143,9.57734203338623,-15.930187225341797,-10.117252349853516,11.06775951385498,-17.458999633789062,-15.531697273254395,-26.66472625732422,-3.8582868576049805,-30.440807342529297,-4.842329978942871,-19.51467514038086,27.738880157470703,14.884723663330078,21.4356746673584,9.764153480529785,-32.13950729370117,12.461657524108887,-28.224239349365234,-28.785015106201172,-26.4705867767334,0.5848413705825806,-27.602781295776367,8.719673156738281,-11.1146879196167,-25.874675750732422,-35.0720100402832,-29.529407501220703,-15.993471145629883,11.186298370361328,9.348796844482422,-25.82235336303711,-2.4317452907562256,-1.076671838760376,-27.551836013793945,2.1911706924438477,27.400447845458984,-31.67095947265625,-34.01182556152344,-12.923319816589355,-26.133865356445312,-0.28950852155685425,-27.11077117919922,-29.848491668701172,-31.471765518188477,27.107229232788086,10.214972496032715,13.679924964904785,3.268996477127075,-6.259480953216553,-2.5950403213500977,-3.2899889945983887,-10.727398872375488,20.07052230834961,-17.03131866455078,-10.693480491638184,-26.916908264160156,-34.47795867919922,-24.53089714050293,19.2962646484375,3.32084321975708,-33.70140838623047,20.67689323425293,-18.96114158630371,13.87458324432373,12.485981941223145,-34.006351470947266,-32.46529006958008,-32.37541961669922,20.712818145751953,8.2959623336792,-25.718557357788086,2.587533950805664,-6.265837669372559,-4.9288859367370605,-33.46925354003906,12.176575660705566,-14.25639820098877,-2.3903653621673584,-5.514629364013672,-4.153501033782959,-24.617488861083984,-31.01021385192871,6.855243682861328,-17.515460968017578,10.552671432495117,12.566624641418457,-18.067909240722656,-36.34524917602539,14.39643383026123,-13.572028160095215,-23.328899383544922,-28.642045974731445,8.350679397583008,-23.79339599609375,-31.818525314331055,10.90506649017334,-2.505988597869873,-24.698890686035156,12.900629043579102,-31.579957962036133,0.5388065576553345,-7.011444091796875,-3.474107265472412,3.182764768600464,-17.125749588012695,-15.33479118347168,-35.19636917114258,-14.416682243347168,-6.446598052978516,-4.495391845703125,8.793977737426758,-22.537933349609375,-4.985660076141357,-21.160717010498047,-35.13996505737305,-4.924643516540527,-30.69512367248535,-11.912257194519043,-16.188154220581055,0.305711567401886,-22.408241271972656,-28.309106826782227,-17.744382858276367,15.019025802612305,-27.97237777709961,5.809302806854248,-26.0925350189209,-7.4766387939453125,28.332414627075195,20.16344451904297,-14.571288108825684,-16.019174575805664,-6.690946102142334,-30.875202178955078,-13.853281021118164,-9.847009658813477,25.526826858520508,-10.501344680786133,-15.74775505065918,1.907731294631958,-3.0512421131134033,-10.227377891540527,-35.964900970458984,-5.429829120635986,13.305453300476074,-32.64429473876953,15.072242736816406,28.76991844177246,-34.955772399902344,-31.694597244262695,1.4297558069229126,-4.852532863616943,-13.503860473632812,-15.313096046447754,29.850893020629883,-12.545538902282715,-5.97051477432251,-6.120151042938232,-31.0760440826416,-26.320140838623047,-28.790361404418945,-30.575937271118164,-31.71286964416504,-17.513601303100586,-29.618837356567383,-15.894845008850098,-20.19400978088379,-32.31684494018555,11.054214477539062,-11.17062759399414,-28.97539520263672,-2.106640338897705,-15.38526725769043,-29.756072998046875,-14.072540283203125,9.728922843933105,10.484618186950684,-2.9603543281555176,-29.142366409301758,-37.012813568115234,-28.48240852355957,14.93212890625,-33.604339599609375,-13.398165702819824,3.6552512645721436,-15.877503395080566,-20.535205841064453,18.680416107177734,-27.04527473449707,-14.91982650756836,-11.538208961486816,-22.379796981811523,28.683061599731445,-12.847098350524902,-15.095769882202148,-23.16289710998535,-31.272003173828125,20.6708927154541,-1.432789921760559,-10.692131042480469,-9.585395812988281,2.156996488571167,-24.88260269165039,-26.419157028198242,-16.60698699951172,-33.399776458740234,-12.293561935424805,-25.190622329711914,-36.89503860473633,3.2932116985321045,-23.698991775512695,-2.937340259552002,-27.970857620239258,-20.43000030517578,0.13463525474071503,12.185120582580566,-27.106355667114258,-32.102752685546875,0.19597886502742767,-6.7953996658325195,-14.433693885803223,-11.161296844482422,-14.964567184448242,-12.719828605651855,3.539051055908203,-3.9212324619293213,-11.046814918518066,11.514850616455078,9.611761093139648,-8.447174072265625,-24.64199447631836,-25.336894989013672,-30.532146453857422,-2.4467904567718506,-10.749428749084473,-17.17251968383789,34.874202728271484,3.298800468444824,-34.992313385009766,-25.760101318359375,13.197710990905762,-32.8729133605957,-15.711352348327637,-8.080702781677246,-33.60416030883789,-32.90141677856445,-11.813514709472656,4.241913318634033,9.865774154663086,-32.158203125,4.677209854125977,17.475055694580078,-28.688663482666016,-25.369775772094727,-36.360477447509766,-15.488018035888672,10.36601448059082,-6.837179183959961,-13.662923812866211,-12.816441535949707,-24.52253532409668,13.357039451599121,-35.359649658203125,27.66094398498535,-12.774797439575195,-9.844216346740723,-29.83058738708496,-0.9501895904541016,-6.730672359466553,-9.910344123840332,10.038446426391602,3.823686361312866,-34.0149040222168,-23.248245239257812,2.796272039413452,-18.91732406616211,-29.619369506835938,-29.956783294677734,9.168756484985352,10.745704650878906,-33.55784606933594,-11.038329124450684,-25.28163719177246,-25.172027587890625,10.487517356872559,16.00123405456543,-24.045377731323242,-3.3535404205322266,-30.538148880004883,-5.996828079223633,-14.825746536254883,-12.556591033935547,-30.788455963134766,6.608764171600342,-2.449367046356201,-1.7568100690841675,-26.571975708007812,-16.806169509887695,-1.8664038181304932,-29.35806655883789,-34.06419372558594,-13.893720626831055,-12.87992000579834,-16.5009765625,19.50090789794922,5.309078693389893,-32.51674270629883,-14.167285919189453,-28.61980438232422,-16.360700607299805,-34.906856536865234,27.248510360717773,11.539739608764648,-10.556770324707031,-25.207988739013672,-34.296390533447266,-6.542224884033203,4.0427069664001465,-10.254236221313477,1.2790762186050415,-30.044313430786133,2.931520462036133,3.656235694885254,10.722207069396973,-35.90934371948242,-37.26277160644531,18.98337745666504,-29.641435623168945,28.831851959228516,-26.071533203125,-34.94135665893555,-29.891077041625977,-29.316322326660156,-8.375737190246582,-26.377317428588867,-5.230064392089844,-14.783303260803223,-33.87551498413086,17.907855987548828,-1.6948071718215942,-6.004342079162598,-2.2970805168151855,-13.556233406066895,29.63884162902832,-33.58644104003906,-0.15202167630195618,-14.520356178283691,-2.5758750438690186,-33.89168167114258,-11.527243614196777,11.551799774169922,-12.014257431030273,-3.0774409770965576,-11.451616287231445,9.648118019104004,10.265430450439453,12.626237869262695,-32.16056823730469,14.607614517211914,13.09798526763916,8.749893188476562,-14.437212944030762,-23.30221939086914,11.259371757507324,-5.862777233123779,-8.538143157958984,-11.937702178955078,-31.838407516479492,14.67585563659668,-3.4651379585266113,7.989742279052734,-0.9688766598701477,-22.41696548461914,-5.376089096069336,11.422450065612793,-23.550260543823242,-7.911863803863525,0.28916385769844055,-29.99309539794922,-12.88969612121582,-14.391838073730469,27.43587303161621,-13.192948341369629,-6.234625816345215,-14.752813339233398,2.298377275466919,-27.42336654663086,-8.973067283630371,-19.30493927001953,12.898181915283203,-9.227866172790527,3.8216631412506104,-32.61849594116211,-32.176368713378906,-11.693737983703613,-28.57736587524414,7.285132884979248,-11.781510353088379,-8.676912307739258,-6.431089401245117,-27.751144409179688,-13.88076114654541,-12.901264190673828,-34.76287078857422,-32.883304595947266,-33.078857421875,-9.292798042297363,-9.36758804321289,-6.440682411193848,-4.798211574554443,-33.376949310302734,-27.198570251464844,-32.09304428100586,-12.418701171875,-32.688846588134766,-29.038909912109375,-35.98593521118164,-10.878382682800293,-30.885652542114258,19.74864387512207,13.55278205871582,23.56348419189453,-30.989660263061523,-12.636250495910645,-4.205595016479492,-3.915186882019043,10.358642578125,-7.235951900482178,-28.582500457763672,-30.001522064208984,-25.53064727783203,-35.273983001708984,-29.649219512939453,-34.644004821777344,-30.175365447998047,-33.39550018310547,1.2973451614379883,-26.22889518737793,-31.486591339111328,-14.053647994995117,-13.334050178527832,2.5453944206237793,6.890865325927734,7.047830104827881,-35.77701950073242,23.673002243041992,13.657305717468262,-16.436613082885742,7.859711647033691,-29.342287063598633,-1.8155150413513184,-22.075075149536133,-9.310917854309082,-3.662738084793091,0.6767405867576599,-7.849393844604492,-8.890762329101562,-8.418407440185547,-10.080005645751953,-6.317330360412598,-31.37609100341797,-31.737825393676758,-25.869510650634766,-6.135390281677246,-15.910531044006348,-34.23906326293945,-15.28885555267334,-10.997843742370605,-24.583017349243164,-30.5860595703125,-12.746087074279785,-36.16423034667969,0.16828936338424683,2.5146267414093018,-25.23602294921875,2.52203369140625,-10.01943302154541,-33.93524932861328,-27.797964096069336,-32.74110412597656,-37.13008117675781,-32.23744583129883,20.211666107177734,-7.7836527824401855,-10.899748802185059,-5.151294231414795,-35.02956771850586,-26.411909103393555,-20.948610305786133,-33.3512077331543,-16.527820587158203,-14.870707511901855,-13.067460060119629,8.151658058166504,23.092220306396484,-34.23146438598633,-37.569461822509766,-18.07759666442871,29.2097110748291,-31.617143630981445,-20.451627731323242,-7.0369415283203125,-6.920833110809326,9.389077186584473,-34.38905334472656,-4.527249813079834,-34.76742935180664,0.7007532715797424,-17.97530174255371,-22.940086364746094,-28.142669677734375,28.752939224243164,4.47226619720459,-2.779662847518921,3.335228443145752,-18.55632972717285,-28.209152221679688,-17.813230514526367,-28.046205520629883,29.662109375,-25.862768173217773,-4.715508937835693,-25.665130615234375,-17.39742660522461,-15.39681625366211,-24.16794776916504,18.743572235107422,17.943016052246094,2.3510513305664062,10.585021018981934,-17.75096893310547,-8.899611473083496,12.41024112701416,10.321738243103027,-13.608663558959961,-13.53077220916748,-30.196269989013672,-19.209569931030273,-32.205814361572266,4.13093376159668,-6.703884601593018,-35.66831588745117,-27.446958541870117,-23.12152862548828,-10.622396469116211,-33.72490692138672,-22.542469024658203,-13.623514175415039,-9.017009735107422,-11.060611724853516,0.705621063709259,-16.124492645263672,-27.241989135742188,-2.8433494567871094,-12.845989227294922,-31.739221572875977,-1.9403831958770752,-32.915157318115234,-9.715486526489258,-35.18842315673828,-29.907527923583984,-3.3287906646728516,-34.46186828613281,-10.445806503295898,-27.701932907104492,9.38184928894043,9.286417961120605,0.18756011128425598,-7.4608869552612305,-31.646703720092773,-24.97260093688965,-4.531117916107178,-36.407470703125,-0.3910336494445801,-30.04654884338379,-0.5805736184120178,-31.730701446533203,-21.888198852539062,-6.6034674644470215,18.623985290527344,-28.340665817260742,-26.59652328491211,-5.322907447814941,2.2973217964172363,-4.419800758361816,-36.16423034667969,-25.428730010986328,-25.87005615234375,-15.614378929138184,-2.2309651374816895,-35.6767692565918,-25.6256160736084,-25.55535888671875,-1.5403908491134644,0.6771404147148132,-33.436004638671875,-15.797569274902344,-11.527078628540039,-2.504593849182129,2.7172255516052246,20.410938262939453,11.012298583984375,8.367570877075195,9.70740795135498,-32.90932846069336,-16.482816696166992,28.79621696472168,-18.149280548095703,26.500829696655273,-34.72019958496094,-16.640226364135742,-15.209912300109863,4.3253326416015625,8.456225395202637,19.62257194519043,-35.04423904418945,-11.804856300354004,-24.057008743286133,6.495242595672607,-1.2472022771835327,13.815256118774414,-37.548519134521484,-33.65501403808594,-4.057157039642334,27.10718536376953,-20.488431930541992,-35.388729095458984,-36.00727081298828,-4.69055700302124,-26.236888885498047,-4.719899654388428,-37.2746467590332,-1.7537308931350708,-19.603477478027344,-32.803627014160156,-1.7355141639709473,-1.6532037258148193,1.645524024963379,-4.900127410888672,-25.709980010986328,-32.19038391113281,28.694128036499023,10.79153060913086,-30.116636276245117,-11.41769790649414,-1.6704851388931274,28.54584312438965,-28.16899871826172,-33.10039138793945,-29.15011215209961,8.763254165649414,-9.090383529663086,-7.719809055328369,-4.371471405029297,3.4424877166748047,-24.444442749023438,-37.08856964111328,-2.50650954246521,-9.608880996704102,3.3416085243225098,-14.467490196228027,-3.80525803565979,-17.7650146484375,9.152334213256836,-9.108885765075684,-26.91981315612793,-15.85103702545166,6.966961860656738,-2.962892532348633,3.427532434463501,-11.394081115722656,-33.035919189453125,-28.54730224609375,20.086366653442383,-29.54833221435547,-27.479225158691406,-29.01703643798828,4.475488662719727,-33.11670684814453,-33.54899978637695,-35.00382995605469,-20.681241989135742,-19.640857696533203,6.515552043914795,8.14975643157959,-10.291046142578125,-25.704652786254883,-16.38195037841797,15.799277305603027,-33.86827850341797,2.801650285720825,-34.96210479736328,-11.001922607421875,-15.89478588104248,8.025080680847168,11.52530574798584,-31.17148208618164,14.110980987548828,-34.42331314086914,-7.233351707458496,-26.260799407958984,-34.369239807128906,-1.484474539756775,-22.447423934936523,-30.630929946899414,-30.771013259887695,3.859187602996826,17.77480125427246,-34.31770706176758,10.997639656066895,-33.59661102294922,-29.31659698486328,-30.81403160095215,-0.35224929451942444,-32.38093185424805,-28.9035587310791,-32.59275436401367,-7.218223571777344,-13.809488296508789,-23.02836036682129,35.1237678527832,0.5180591940879822,-9.319704055786133,-4.404621124267578,-10.140209197998047,3.183345079421997,-12.636019706726074,4.233190536499023,-34.29763412475586,-16.40909767150879,-6.386670112609863,-26.176498413085938,-17.64781379699707,-11.557372093200684,8.581755638122559,-30.27777099609375,-11.077890396118164,4.691092491149902,4.394046783447266,-5.439609050750732,-26.08477020263672,-26.75795555114746,-13.180071830749512,2.5024962425231934,-9.51945972442627,3.9118685722351074,-2.7914397716522217,-22.694334030151367,12.237452507019043,-34.04771423339844],\"yaxis\":\"y\",\"type\":\"scattergl\"},{\"hovertemplate\":\"color=Clientes Casuales\\u003cbr\\u003ex=%{x}\\u003cbr\\u003ey=%{y}\\u003cextra\\u003e\\u003c\\u002fextra\\u003e\",\"legendgroup\":\"Clientes Casuales\",\"marker\":{\"color\":\"#EF553B\",\"symbol\":\"circle\"},\"mode\":\"markers\",\"name\":\"Clientes Casuales\",\"showlegend\":true,\"x\":[64.7469711303711,68.824462890625,59.60073471069336,60.66040802001953,31.55840301513672,56.89345932006836,32.10016632080078,26.533159255981445,62.31488800048828,36.756874084472656,41.233673095703125,29.431074142456055,33.95419692993164,58.40510177612305,39.497589111328125,41.87837219238281,58.01224136352539,40.40029525756836,34.75167465209961,32.20943832397461,59.943607330322266,56.20967102050781,43.75782775878906,40.52102279663086,27.511066436767578,52.5101318359375,65.91728210449219,44.69765090942383,60.16357421875,51.891719818115234,41.381187438964844,39.061744689941406,28.6025333404541,38.846073150634766,28.4714412689209,40.569664001464844,68.58059692382812,68.93867492675781,29.98596954345703,47.53903579711914,63.92396926879883,65.17337036132812,41.34459686279297,65.82205963134766,50.13322067260742,28.07077980041504,45.56281280517578,41.88862609863281,56.115684509277344,58.6698112487793,66.98123931884766,39.812503814697266,40.22100830078125,45.41973114013672,69.04479217529297,29.998998641967773,37.04104995727539,70.65508270263672,61.37642288208008,58.496490478515625,28.262773513793945,51.64599609375,65.47409057617188,38.33763885498047,68.08423614501953,58.52265548706055,60.47026443481445,30.47660255432129,66.394287109375,49.80842971801758,52.48199462890625,42.198829650878906,38.663665771484375,64.30010223388672,34.41304397583008,67.51533508300781,30.2677001953125,30.381460189819336,57.63104248046875,40.034324645996094,25.218555450439453,44.9140739440918,66.2637939453125,64.68905639648438,31.966493606567383,32.31166458129883,66.77245330810547,55.4996452331543,25.633888244628906,59.54100799560547,63.394989013671875,58.48007583618164,32.86006164550781,60.98602294921875,63.515411376953125,42.2095947265625,29.084714889526367,26.66956329345703,59.133209228515625,28.56330108642578,70.17569732666016,37.24114227294922,54.635704040527344,47.032413482666016,42.28913497924805,65.2326889038086,26.46766471862793,58.98561477661133,59.0117073059082,52.612491607666016,61.181617736816406,29.81277847290039,53.509700775146484,66.39071655273438,36.987098693847656,31.882455825805664,30.4520206451416,66.84624481201172,63.79597091674805,31.318008422851562,46.41154098510742,48.3728141784668,62.91865158081055,60.038307189941406,57.71170425415039,61.19978713989258,46.76020050048828,64.63764190673828,32.47008514404297,22.72450065612793,41.26361083984375,27.446195602416992,32.93921661376953,30.923261642456055,26.862529754638672,57.070220947265625,61.903778076171875,39.89448547363281,31.161787033081055,56.832340240478516,50.263214111328125,67.23783874511719,36.53369140625,34.279537200927734,67.54020690917969,24.246915817260742,31.654512405395508,57.51734161376953,42.708168029785156,35.050662994384766,34.00365447998047,40.20500946044922,57.9998779296875,60.18886947631836,59.221256256103516,42.208953857421875,60.511474609375,68.26422882080078,70.70901489257812,39.36785125732422,69.24095916748047,31.93304443359375,66.79802703857422,38.25844955444336,31.182106018066406,39.800559997558594,31.475624084472656,28.801443099975586,33.84153747558594,42.32084655761719,38.70713424682617,36.10923385620117,60.434391021728516,29.812238693237305,55.95048141479492,40.824851989746094,61.081329345703125,55.98117446899414,39.327579498291016,56.51842498779297,61.36042404174805,58.816280364990234,46.51333236694336,38.03236770629883,39.96536636352539,55.64550018310547,28.086524963378906,53.412410736083984,71.4155502319336,53.40141296386719,28.655847549438477,40.28179931640625,41.420814514160156,71.57972717285156,62.282352447509766,41.25859069824219,52.29099655151367,64.67652893066406,38.944305419921875,35.52427673339844,30.957138061523438,61.5439567565918,52.792327880859375,30.476085662841797,19.077880859375,64.42778778076172,38.85272979736328,31.28826904296875,61.28956985473633,63.843875885009766,44.64602279663086,65.34427642822266,34.02762985229492,57.15081787109375,36.57630157470703,39.274227142333984,42.46229934692383,46.57076644897461,65.49017333984375,27.72869110107422,57.592960357666016,63.07894515991211,59.70563888549805,52.790897369384766,38.65504837036133,53.56898880004883,52.810142517089844,51.81357955932617,41.44001388549805,60.52063751220703,56.46267318725586,61.29598617553711,29.54957389831543,62.476051330566406,39.30559158325195,30.602497100830078,69.43553161621094,52.11410140991211,61.041446685791016,64.14041137695312,29.89337921142578,54.714111328125,47.06437301635742,68.06401062011719,54.83062744140625,41.59707260131836,40.6298942565918,56.46728515625,44.3987922668457,38.47918701171875,45.71238708496094,38.307186126708984,60.27956008911133,55.35120391845703,36.35883712768555,38.37417221069336,37.379798889160156,58.32892608642578,57.15388488769531,29.42772674560547,19.36617088317871,39.56732177734375,69.54592895507812,40.101661682128906,28.158906936645508,57.6824951171875,33.18867874145508,69.39515686035156,32.11018753051758,57.851680755615234,61.96782684326172,19.11941146850586,45.38683319091797,48.48589324951172,62.52570343017578,61.59584426879883,47.88906478881836,70.78662872314453,53.426353454589844,55.22248077392578,29.165000915527344,61.2406120300293,44.8051872253418,65.64459228515625,53.773624420166016,27.03919219970703,41.53608703613281,31.51169204711914,35.62428665161133,52.129337310791016,64.89616394042969,40.300533294677734,50.547359466552734,71.32395935058594,67.94468688964844,56.071556091308594,42.114532470703125,58.12239456176758,33.86573791503906,29.193267822265625,31.12567901611328,40.41348648071289,38.875186920166016,62.87602615356445,63.97993469238281,66.1367416381836,39.43485641479492,46.00665283203125,56.24467468261719,28.441261291503906,54.47380065917969,28.217769622802734,48.10418701171875,66.24404907226562,56.47734451293945,31.951223373413086,44.229488372802734,55.46757507324219,38.63911437988281,28.79434585571289,39.47734069824219,68.88211822509766,28.363168716430664,39.3507194519043,59.21521759033203,56.0295524597168,45.80025863647461,57.96407699584961,27.272289276123047,37.70072555541992,46.38233184814453,45.167762756347656,62.91034698486328,38.45893859863281,36.806243896484375,51.08552551269531,32.73039245605469,48.54198455810547,27.723350524902344,71.71248626708984,52.57015609741211,66.40375518798828,52.27752685546875,62.59444808959961,28.915382385253906,64.9532470703125,42.054779052734375,33.221282958984375,65.5741958618164,46.572418212890625,38.72852325439453,38.075035095214844,27.030895233154297,66.64874267578125,38.16897201538086,35.370849609375,29.493200302124023,48.65997314453125,69.70741271972656,29.482812881469727,27.540233612060547,50.265586853027344,29.170007705688477,35.266204833984375,29.10331916809082,48.27035140991211,44.358970642089844,36.66377639770508,42.09384536743164,66.13008117675781,28.47323989868164,61.61803436279297,32.3941535949707,68.35983276367188,61.78030776977539,67.34407043457031,26.650501251220703,37.024662017822266,41.14210510253906,42.096923828125,62.79325866699219,70.15550231933594,53.20145797729492,60.70387649536133,66.23694610595703,45.85002517700195,36.49378967285156,56.70808410644531,48.87075424194336,40.62636184692383,33.1565055847168,30.498327255249023,54.72483825683594,62.3944206237793,64.33402252197266,57.846683502197266,54.18257522583008,63.618526458740234,40.964447021484375,37.30760955810547,55.673561096191406,64.51871490478516,60.154300689697266,46.73966979980469,32.85528564453125,48.10287857055664,38.383548736572266,23.829608917236328,60.08479690551758,42.564945220947266,52.513771057128906,48.72845458984375,32.681556701660156,64.92256164550781,60.048851013183594,28.53856086730957,32.943397521972656,32.54587936401367,34.6388053894043,56.18134307861328,63.99199676513672,46.94223403930664,58.9638557434082,63.755393981933594,35.113548278808594,46.508731842041016,59.37095260620117,70.82121276855469,38.68741226196289,52.43217468261719,57.24268341064453,53.415367126464844,60.190555572509766,29.967363357543945,58.431922912597656,56.7884635925293,28.500947952270508,72.33898162841797,67.87244415283203,61.714412689208984,62.88628005981445,61.31534194946289,34.3661003112793,67.71492767333984,60.46229934692383,46.616050720214844,37.8547248840332,51.113800048828125,46.2242431640625,28.032854080200195,61.027679443359375,65.6953125,59.91278076171875,26.618608474731445,48.389686584472656,34.42435836791992,55.897518157958984,46.80707550048828,28.350507736206055,51.4242057800293,37.4106330871582,32.10703659057617,43.79523468017578,46.56123733520508,34.89694595336914,51.75606918334961,69.224853515625,72.6069107055664,46.37157440185547,72.11231994628906,71.06126403808594,53.200775146484375,37.654449462890625,53.01243209838867,67.92972564697266,27.338796615600586,55.543888092041016,39.255828857421875,59.99604034423828,57.448612213134766,53.28341293334961,29.537385940551758,57.85224151611328,66.60389709472656,59.13245391845703,27.95907974243164,32.2367057800293,38.66039276123047,48.63469696044922,66.87126922607422,58.61768341064453,29.824085235595703,57.47389221191406,42.2824592590332,28.067886352539062,55.651145935058594,43.74007797241211,39.31487274169922,57.4783935546875,59.370567321777344,68.18011474609375,48.05349349975586,42.372276306152344,58.05744934082031,56.15052032470703,39.10408020019531,41.54230499267578,61.46869659423828,60.26917266845703,69.7830581665039,39.361236572265625,27.729127883911133,47.18577575683594,57.11787414550781,70.06893157958984,42.93603515625,71.51525115966797,18.709774017333984,30.20945930480957,38.753326416015625,36.96332931518555,67.11763763427734,26.841938018798828,63.26303482055664,36.70109176635742,72.27104949951172,55.76093292236328,32.63932418823242,30.890743255615234,37.58423614501953,68.56417083740234,25.10047721862793,46.90016174316406,55.511268615722656,52.76299285888672,59.7943115234375,60.062408447265625,59.78474044799805,58.404266357421875,58.291500091552734,34.71061706542969,27.68715476989746,28.357221603393555,49.12359619140625,64.96035766601562,58.93555450439453,27.607566833496094,64.6493148803711,31.6036434173584,70.08885192871094,71.84917449951172,63.41991424560547,62.96405792236328,62.08415603637695,28.27349090576172,31.525293350219727,68.68923950195312,40.125,62.58364486694336,73.05474853515625,55.91065216064453,36.92738723754883,51.59832763671875,56.69184875488281,38.237056732177734,35.812496185302734,38.272377014160156],\"xaxis\":\"x\",\"y\":[-17.379573822021484,-10.4529390335083,-16.614055633544922,-11.015802383422852,-9.742012023925781,-17.177513122558594,-25.23101806640625,-23.8289794921875,-11.648330688476562,-16.3410587310791,-20.744291305541992,-10.028475761413574,-31.865888595581055,-2.3478214740753174,-14.908234596252441,11.137998580932617,-5.909890174865723,-10.540945053100586,-25.128084182739258,-23.741147994995117,-13.891890525817871,-17.09910011291504,-24.711078643798828,10.81940746307373,-24.631519317626953,-19.557132720947266,-5.76165246963501,-24.649621963500977,-13.463969230651855,-18.400577545166016,-22.31197738647461,-13.633078575134277,-23.926006317138672,-10.22287368774414,-32.697906494140625,-21.836687088012695,-10.712138175964355,-6.698477268218994,-23.164180755615234,16.256210327148438,-18.77968978881836,-8.161877632141113,11.70677661895752,-15.256056785583496,-23.113733291625977,-10.324471473693848,14.862279891967773,-23.369529724121094,-18.702831268310547,-10.28027629852295,-15.14795970916748,-10.83082103729248,-24.11159324645996,15.989256858825684,-11.67444896697998,-26.40616226196289,-19.987821578979492,-10.362433433532715,0.7214625477790833,3.0170724391937256,5.796200752258301,-18.54692268371582,-15.395363807678223,-17.2866268157959,-5.512396335601807,-1.5294559001922607,-0.6323603391647339,-32.44512939453125,-12.587835311889648,-22.549211502075195,-22.327552795410156,13.210700988769531,10.524170875549316,-1.931711196899414,-33.26516342163086,-13.889959335327148,-31.205463409423828,-31.031478881835938,-15.78501033782959,-9.677583694458008,-28.824129104614258,13.739066123962402,-10.946687698364258,-6.056298732757568,-10.18553352355957,-10.641962051391602,-9.971504211425781,2.9404966831207275,-10.534393310546875,-18.01300048828125,0.6854698061943054,-0.9479959607124329,-25.14775276184082,0.20821379125118256,-3.0125010013580322,12.52847671508789,-27.250335693359375,-25.413610458374023,1.8517577648162842,-27.943683624267578,-8.044356346130371,10.071146965026855,3.5866646766662598,14.548347473144531,-25.04571533203125,-16.98147964477539,-32.558650970458984,2.218409776687622,-15.519082069396973,-26.042325973510742,3.9582908153533936,-12.208045959472656,-24.181285858154297,-1.8657565116882324,-13.455290794372559,-25.74331283569336,-22.63312530517578,-9.926285743713379,-0.23882333934307098,-11.492569923400879,14.553237915039062,-16.47556495666504,1.864723801612854,4.034103870391846,2.5672249794006348,4.5959577560424805,-17.38929557800293,-2.8507936000823975,-8.365727424621582,3.233388900756836,-25.152462005615234,6.914885520935059,-10.259638786315918,-9.798981666564941,-10.766510009765625,3.386791229248047,-12.910016059875488,-20.420494079589844,-23.311153411865234,-15.110190391540527,-16.780094146728516,-10.195281028747559,8.869058609008789,-19.18773651123047,-6.582586288452148,-0.13389529287815094,-30.984378814697266,-12.857953071594238,13.699640274047852,7.47660493850708,-18.965499877929688,11.42559814453125,-13.778848648071289,-4.713030815124512,-17.0859375,15.660759925842285,3.679462194442749,-12.023898124694824,-11.556313514709473,-13.28458023071289,-13.050207138061523,-7.843536853790283,-6.195039749145508,-15.235690116882324,-10.600508689880371,-14.052400588989258,-8.57934856414795,-29.32272720336914,-31.641149520874023,12.129260063171387,11.954904556274414,8.426036834716797,-1.4074195623397827,-30.264238357543945,2.8846282958984375,11.421813011169434,-13.650649070739746,2.26198673248291,-11.116296768188477,-18.17729949951172,-0.5333247184753418,-13.223394393920898,-16.75741195678711,8.003933906555176,-21.084741592407227,-24.480741500854492,-23.04214859008789,-25.342273712158203,-10.701041221618652,-26.427732467651367,-24.02193832397461,-9.942458152770996,-25.139833450317383,-10.548572540283203,-1.6455934047698975,-25.543664932250977,-22.249008178710938,-0.06117938458919525,-21.99141502380371,-13.100221633911133,-7.073544502258301,-14.995144844055176,-20.97635841369629,-24.668373107910156,-21.61396598815918,-2.0043811798095703,-23.136320114135742,-12.065902709960938,4.1439714431762695,-18.427959442138672,-25.833900451660156,-5.011731147766113,-12.084128379821777,-19.83824348449707,-10.599210739135742,-12.584954261779785,-23.244277954101562,17.386903762817383,-17.95718002319336,-11.433798789978027,-19.97963523864746,-1.2046822309494019,-15.587401390075684,-18.720041275024414,-15.84986686706543,-26.42226791381836,-23.488195419311523,-23.135751724243164,-28.904420852661133,-15.594319343566895,1.8931663036346436,0.7547884583473206,-31.862712860107422,-0.9139560461044312,-25.00775909423828,-24.039846420288086,-13.368945121765137,-21.70089340209961,1.9443703889846802,-4.081971645355225,-32.71135330200195,-25.11873435974121,-23.394784927368164,-14.616143226623535,-24.2923526763916,11.138257026672363,-10.902383804321289,2.5513408184051514,18.354928970336914,-10.8175630569458,-23.51085090637207,-17.01938247680664,-14.005252838134766,-16.944501876831055,-13.209416389465332,7.920288562774658,-11.577005386352539,-11.600557327270508,-19.61529541015625,-28.7744083404541,-16.716596603393555,-10.557822227478027,-12.516642570495605,12.912617683410645,-13.008567810058594,-17.653635025024414,-21.504892349243164,-7.898735046386719,-32.89195251464844,-12.33025074005127,-21.164152145385742,-22.25478744506836,-25.676509857177734,-16.621355056762695,0.3655202090740204,3.736846923828125,-24.46743392944336,-9.632685661315918,-24.619857788085938,-24.864404678344727,-27.28240394592285,-12.621413230895996,13.763049125671387,-3.2967662811279297,-22.1679630279541,3.6193687915802,12.392152786254883,-25.67759132385254,-17.104732513427734,-21.140033721923828,-1.0933165550231934,-24.863567352294922,-20.015567779541016,-9.52367115020752,-15.479720115661621,-10.962553024291992,-25.852237701416016,-16.9973087310791,-18.995784759521484,-32.42318344116211,-23.691675186157227,11.124356269836426,8.318721771240234,0.6757868528366089,-17.305789947509766,-12.419049263000488,-24.052995681762695,16.274417877197266,1.2686525583267212,-24.041522979736328,-23.69084930419922,3.971179962158203,-17.63636016845703,-1.87871515750885,-17.933141708374023,-7.0782904624938965,-25.795143127441406,3.078481674194336,10.879865646362305,-12.417008399963379,10.635088920593262,-14.595718383789062,-12.135103225708008,10.079194068908691,-18.450380325317383,-12.543834686279297,21.168724060058594,-2.8065507411956787,-21.600488662719727,8.462843894958496,-23.879552841186523,18.636863708496094,1.769575595855713,-20.276384353637695,8.575736045837402,-22.29734992980957,-8.08590316772461,-17.344722747802734,-10.571721076965332,-10.488327980041504,-17.390840530395508,-16.321557998657227,-27.036853790283203,-17.21356773376465,-23.158143997192383,-18.019458770751953,10.351555824279785,-32.035484313964844,-3.986435651779175,-22.974584579467773,-23.645038604736328,-12.616537094116211,-32.47529602050781,-9.052351951599121,-18.631134033203125,-31.64821434020996,-13.184165000915527,-18.776016235351562,-7.203751087188721,-25.363698959350586,-10.732476234436035,-23.124921798706055,-30.54071044921875,-13.465307235717773,-11.486474990844727,-22.970375061035156,14.96452522277832,10.011664390563965,14.397984504699707,-3.721816301345825,-28.067102432250977,1.6645386219024658,-31.78736686706543,-12.149421691894531,-13.89612102508545,-7.052242279052734,-11.561310768127441,11.971378326416016,-24.712547302246094,-21.062297821044922,-20.140405654907227,-10.216902732849121,-18.908626556396484,4.597695827484131,-7.441061019897461,17.373172760009766,8.001871109008789,-12.078279495239258,-22.82265281677246,-21.165449142456055,-29.978235244750977,-12.205432891845703,-22.258621215820312,-12.430249214172363,-4.546594619750977,-13.998175621032715,-24.508895874023438,-0.6234534978866577,-23.73349952697754,-13.050060272216797,-18.032602310180664,-9.559188842773438,1.378538966178894,16.782203674316406,-30.997196197509766,-16.711997985839844,-10.613693237304688,-28.94293212890625,4.125432968139648,14.418743133544922,-20.834911346435547,-24.666738510131836,-9.938526153564453,-2.408750534057617,-2.007249593734741,-11.692428588867188,-30.47935676574707,-7.031764984130859,-12.296319961547852,3.645343065261841,-2.2243945598602295,-16.969501495361328,-5.351046562194824,-10.849264144897461,-30.886491775512695,-25.709491729736328,3.449340581893921,-7.822707176208496,8.754704475402832,-23.985883712768555,2.221475601196289,-21.66227912902832,0.5413720011711121,-24.553884506225586,-20.59746742248535,2.0186660289764404,6.2858452796936035,-10.789294242858887,-10.288739204406738,-15.684879302978516,-19.97484016418457,-18.670692443847656,-31.91733169555664,-15.159770011901855,-15.476052284240723,-22.67870330810547,-11.71115493774414,-20.502771377563477,-25.367481231689453,5.1989264488220215,-14.291297912597656,-3.067173480987549,-10.998613357543945,5.803987503051758,-16.31814193725586,-15.774445533752441,-19.435070037841797,-25.375240325927734,-28.147672653198242,-24.2081356048584,-17.076871871948242,-22.680370330810547,-25.570663452148438,13.822853088378906,-12.496123313903809,-21.685224533081055,-10.382096290588379,-10.314607620239258,14.643568992614746,-9.963958740234375,-8.749380111694336,-17.932703018188477,8.286433219909668,-18.250099182128906,-3.816925525665283,6.149603843688965,3.6080193519592285,-21.211360931396484,-5.086650371551514,-6.074371337890625,-26.274229049682617,-22.175457000732422,-16.457483291625977,-2.8555006980895996,3.419489622116089,-21.625015258789062,-7.584476947784424,-13.779830932617188,-24.359914779663086,-14.483039855957031,-11.132417678833008,-27.566877365112305,-6.088211536407471,-23.641544342041016,-33.03129196166992,-10.56391716003418,15.12997055053711,-16.727598190307617,-12.442092895507812,-10.235475540161133,-9.882389068603516,-23.342592239379883,13.797346115112305,-19.00402069091797,4.931314945220947,-22.723535537719727,-28.908672332763672,-2.204564332962036,-12.367094039916992,-8.078703880310059,-22.851703643798828,-27.341461181640625,17.007211685180664,-21.099864959716797,-10.863236427307129,14.317317008972168,-11.283101081848145,-21.622303009033203,-11.633862495422363,-20.00266456604004,11.764314651489258,-7.950130462646484,3.6989364624023438,-2.499126434326172,-11.821247100830078,-11.009782791137695,-11.20340633392334,-31.164897918701172,-32.66405487060547,12.299287796020508,-11.56032657623291,-0.3556925654411316,16.56305694580078,-23.926694869995117,-26.920209884643555,-18.66077423095703,-17.502033233642578,-0.15028639137744904,-14.893025398254395,-5.879271030426025,-31.352842330932617,3.5327858924865723,-31.614795684814453,-15.897207260131836,-14.31796932220459,-19.729326248168945,-32.149696350097656,-10.311153411865234,-32.355690002441406,-7.151668071746826,-11.405118942260742,-3.5158114433288574,-19.728382110595703,-11.602760314941406,-27.62717056274414,-31.88820457458496,-5.5301103591918945,-8.971973419189453,-17.151275634765625,-11.84981918334961,-10.216415405273438,-21.32329750061035,-20.754596710205078,-20.10687828063965,-10.274710655212402,7.972256660461426,-21.66600799560547],\"yaxis\":\"y\",\"type\":\"scattergl\"},{\"hovertemplate\":\"color=Clientes Frecuentes\\u003cbr\\u003ex=%{x}\\u003cbr\\u003ey=%{y}\\u003cextra\\u003e\\u003c\\u002fextra\\u003e\",\"legendgroup\":\"Clientes Frecuentes\",\"marker\":{\"color\":\"#00cc96\",\"symbol\":\"circle\"},\"mode\":\"markers\",\"name\":\"Clientes Frecuentes\",\"showlegend\":true,\"x\":[-34.43972396850586,-29.2121524810791,-26.167144775390625,-26.504262924194336,-31.00895118713379,-34.0425910949707,-42.1468505859375,-42.240699768066406,-33.391746520996094,-49.85280990600586,-66.39342498779297,-65.72982788085938,-32.712284088134766,-34.180572509765625,-56.230674743652344,-55.72676467895508,-29.622697830200195,-56.31883239746094,-29.50090980529785,-36.2318000793457,-38.4052734375,-58.19683837890625,-33.71001052856445,-25.10797691345215,-50.17888259887695,-52.201995849609375,-43.58306884765625,-41.2752571105957,-19.41663932800293,-44.84722137451172,-37.42609405517578,-39.090972900390625,-18.014434814453125,-44.406349182128906,-68.01074981689453,-68.1591567993164,-58.78445816040039,-57.26477813720703,-66.65679931640625,-61.56543731689453,-53.104164123535156,-31.893329620361328,-61.2110595703125,-69.87071990966797,-41.433631896972656,-48.27030944824219,-52.94780731201172,-34.016868591308594,-40.458091735839844,-26.0747013092041,-41.04450988769531,-31.76972007751465,-49.55086898803711,-63.07258224487305,-18.99950408935547,-48.97023391723633,-49.38736343383789,-66.51657104492188,-18.679244995117188,-29.557172775268555,-44.34572219848633,-32.062095642089844,-69.16299438476562,-32.75849914550781,-32.328895568847656,-37.801300048828125,-44.33596420288086,-37.50599670410156,-56.08201599121094,-37.85478210449219,-39.530086517333984,-58.175987243652344,-23.588886260986328,-32.05669403076172,-43.95210647583008,-38.162654876708984,-25.745668411254883,-50.41886901855469,-51.919532775878906,-21.436439514160156,-16.12200355529785,-59.003196716308594,-37.6044807434082,-52.04158020019531,-33.63718795776367,-44.6873664855957,-54.222801208496094,-66.19092559814453,-60.25204086303711,-68.08721160888672,-69.09466552734375,-25.92534828186035,-69.7512435913086,-68.83252716064453,-54.90302276611328,-24.7042293548584,-17.473264694213867,-29.570619583129883,-50.878047943115234,-50.41004943847656,-52.64597702026367,-19.252954483032227,-31.55060577392578,-33.86985778808594,-53.8387451171875,-59.828739166259766,-68.33736419677734,-48.89285659790039,-66.00330352783203,-40.06256103515625,-42.59742736816406,-49.89318084716797,-20.25566291809082,-48.90488815307617,-27.22405433654785,-20.200347900390625,-30.681413650512695,-18.866817474365234,-35.6722297668457,-31.63127899169922,-62.798763275146484,-62.409339904785156,-24.387670516967773,-26.426284790039062,-26.372161865234375,-47.84559631347656,-67.34540557861328,-60.14401626586914,-44.88985061645508,-31.510595321655273,-51.979248046875,-24.351768493652344,-56.578216552734375,-16.42613410949707,-67.34552001953125,-24.7479190826416,-58.30910110473633,-50.9378547668457,-18.97456169128418,-59.8332633972168,-46.827518463134766,-27.452547073364258,-66.96167755126953,-49.34379577636719,-50.7982063293457,-42.41468811035156,-58.796913146972656,-45.21136474609375,-36.23463439941406,-50.39756393432617,-52.4700927734375,-43.86870574951172,-26.63186264038086,-56.30781555175781,-39.703819274902344,-31.967987060546875,-29.92072105407715,-69.3777847290039,-54.458465576171875,-56.305419921875,-44.445926666259766,-34.88964080810547,-20.215272903442383,-60.22924041748047,-21.666698455810547,-63.14414978027344,-38.157020568847656,-53.484535217285156,-27.917072296142578,-50.11101150512695,-43.010257720947266,-21.740137100219727,-45.26926040649414,-39.560035705566406,-36.686241149902344,-27.410024642944336,-49.598079681396484,-32.56393814086914,-25.43880271911621,-23.152442932128906,-16.824602127075195,-50.99007797241211,-49.85560989379883,-69.934326171875,-29.11941909790039,-20.49642562866211,-44.277122497558594,-23.07869529724121,-57.313941955566406,-30.795209884643555,-28.470043182373047,-26.89113998413086,-58.859554290771484,-63.03809356689453,-67.78485107421875,-57.91071319580078,-25.11334991455078,-67.43099212646484,-46.23118209838867,-67.85697174072266,-20.287620544433594,-32.373111724853516,-27.750347137451172,-32.56197738647461,-45.19281005859375,-56.34905242919922,-35.63117218017578,-37.760494232177734,-35.80913162231445,-43.21328353881836,-39.5721321105957,-28.68628692626953,-23.591657638549805,-45.308353424072266,-23.433500289916992,-36.38887405395508,-35.30279541015625,-37.292144775390625,-43.056400299072266,-25.419586181640625,-27.95444107055664,-20.973264694213867,-43.75503158569336,-43.38175964355469,-30.66026496887207,-23.468929290771484,-50.632266998291016,-35.15053939819336,-50.89561080932617,-19.85120391845703,-28.207448959350586,-48.44851303100586,-41.376773834228516,-62.504024505615234,-46.605743408203125,-33.722591400146484,-52.7755126953125,-50.061729431152344,-59.078636169433594,-27.15730857849121,-36.450172424316406,-67.04296112060547,-68.49811553955078,-41.79356002807617,-18.02938461303711,-55.5126838684082,-37.69794845581055,-37.44646453857422,-64.35738372802734,-49.513484954833984,-28.25774383544922,-56.513877868652344,-34.78965377807617,-28.488134384155273,-67.4577407836914,-36.099971771240234,-67.02655029296875,-30.475605010986328,-51.588314056396484,-57.49810028076172,-32.51721954345703,-29.12364959716797,-52.044769287109375,-18.250606536865234,-18.899015426635742,-39.02904510498047,-48.5485954284668,-63.598915100097656,-38.49252700805664,-19.702211380004883,-38.81945037841797,-25.49323272705078,-39.14445877075195,-69.88296508789062,-65.49586486816406,-56.28784942626953,-25.514867782592773,-16.427335739135742,-37.89570236206055,-31.404481887817383,-30.44631004333496,-36.16535186767578,-43.56822967529297,-33.02561950683594,-42.018699645996094,-28.479232788085938,-25.15216064453125,-46.91999816894531,-28.64680290222168,-35.32048416137695,-37.693275451660156,-26.502464294433594,-52.479339599609375,-33.49311828613281,-21.933069229125977,-68.6820297241211,-65.17655181884766,-20.453786849975586,-19.20468521118164,-49.9976806640625,-18.771808624267578,-37.86983871459961,-54.59693908691406,-31.10152816772461,-17.591176986694336,-23.06854248046875,-20.22614860534668,-41.63109588623047,-59.592437744140625,-27.529794692993164,-28.222414016723633,-52.94725036621094,-17.560094833374023,-55.33803176879883,-30.98164176940918,-55.31714630126953,-20.079513549804688,-36.67912292480469,-46.60861587524414,-40.18429183959961,-20.867382049560547,-38.03871154785156,-49.06931686401367,-28.407285690307617,-39.235782623291016,-52.41019058227539,-48.140769958496094,-37.725799560546875,-42.94092559814453,-27.254968643188477,-27.661731719970703,-17.875308990478516,-50.567657470703125,-47.46254348754883,-37.18436813354492,-27.785987854003906,-28.93189811706543,-69.68175506591797,-30.30378532409668,-29.793001174926758,-50.227325439453125,-23.641990661621094,-55.33085632324219,-58.39863204956055,-27.32560920715332,-43.9761848449707,-53.53413391113281,-27.668100357055664,-23.00214195251465,-41.32447814941406,-29.10274887084961,-30.0719051361084,-49.23836898803711,-39.52305221557617,-69.66780090332031,-30.071630477905273,-19.33049964904785,-51.76470184326172,-40.56930160522461,-21.97769546508789,-25.247692108154297,-70.27212524414062,-31.739356994628906,-38.725276947021484,-25.202651977539062,-69.21865844726562,-33.82862854003906,-68.92520904541016,-65.01262664794922,-53.8383903503418,-57.21260452270508,-66.48894500732422,-23.881580352783203,-59.53988265991211,-42.797306060791016,-49.14080047607422,-64.74046325683594,-28.8989315032959,-55.58877182006836,-47.412506103515625,-48.67272186279297,-62.725868225097656,-23.193439483642578,-35.58059310913086,-37.40917205810547,-46.074649810791016,-25.009929656982422,-23.47983169555664,-53.828975677490234,-44.172664642333984,-31.46657943725586,-44.77913284301758,-16.162384033203125,-40.916629791259766,-42.021453857421875,-31.439163208007812,-18.98125457763672,-53.17374801635742,-61.587181091308594,-28.52412986755371,-60.37092208862305,-46.96578598022461,-69.54693603515625,-18.098819732666016,-49.67505645751953,-23.058786392211914,-25.80596160888672,-24.48648452758789,-44.63690185546875,-57.312652587890625,-32.42023468017578,-19.24880599975586,-19.754087448120117,-36.791072845458984,-19.731969833374023,-43.11787033081055,-69.6832275390625,-40.71957778930664,-22.864025115966797,-46.49210739135742,-44.43099594116211,-69.1240234375,-54.100833892822266,-50.32883834838867,-20.92692756652832,-26.488834381103516,-58.06010437011719,-68.67428588867188,-28.861845016479492,-29.36264991760254,-26.320358276367188,-65.98099517822266,-48.948482513427734,-18.81393051147461,-58.135841369628906,-20.304153442382812,-49.26876449584961,-36.58901596069336,-28.669292449951172,-47.17592239379883,-15.721994400024414,-24.605443954467773,-21.579362869262695,-37.795833587646484,-62.33214569091797,-19.63176155090332,-24.249263763427734,-18.559293746948242,-46.50096893310547,-34.109619140625,-20.196727752685547,-51.31452941894531,-40.29177474975586,-60.36642837524414,-26.943103790283203,-36.713932037353516,-34.148746490478516,-21.05084228515625,-36.58268737792969,-57.310890197753906,-62.953250885009766,-15.294102668762207,-69.86280822753906,-43.19786071777344,-52.005523681640625,-62.164100646972656,-67.70245361328125,-19.06376075744629,-31.00688934326172,-32.263511657714844,-59.952335357666016,-16.3687686920166,-14.981748580932617,-39.3519287109375,-24.158504486083984,-48.94796371459961,-32.93001174926758,-28.413084030151367,-37.07823944091797,-28.480512619018555,-38.1937255859375,-36.50312042236328,-57.952613830566406,-44.614654541015625,-33.547237396240234,-35.2363166809082,-35.3250846862793,-29.909162521362305,-22.91267967224121,-45.56526565551758,-64.42073059082031,-18.261754989624023,-44.3043212890625,-49.8662109375,-50.05758285522461,-35.848968505859375,-47.72952651977539,-43.00776290893555,-40.73331069946289,-65.6830062866211,-22.479515075683594,-49.548622131347656,-68.72904968261719,-26.078855514526367,-19.914567947387695,-18.499149322509766,-54.26970291137695,-33.47403335571289,-68.08206939697266,-19.020462036132812,-65.85724639892578,-48.15708923339844,-38.0208740234375,-34.356117248535156,-53.38686752319336,-40.94846725463867,-58.69491958618164,-25.76763153076172,-57.78053283691406,-44.94921112060547,-36.739410400390625,-37.44652557373047,-31.52798843383789,-63.01374816894531,-22.182506561279297,-47.39004135131836,-50.020687103271484,-30.822429656982422,-60.075374603271484,-66.89525604248047,-37.299720764160156,-36.19104766845703,-59.51374053955078,-39.84783935546875,-66.76740264892578,-56.149391174316406,-37.966819763183594,-49.91563034057617,-29.72447967529297,-48.4384880065918,-68.3408432006836,-28.09429931640625,-24.710878372192383,-37.950374603271484,-42.946533203125,-35.29005432128906,-32.660552978515625,-48.060890197753906,-51.57123947143555,-68.0689926147461,-62.5035514831543,-60.55856704711914,-57.688568115234375,-17.833620071411133,-65.77197265625,-38.139854431152344,-33.509639739990234,-37.64572525024414,-18.24834632873535,-36.318824768066406,-58.447113037109375,-66.5762710571289,-37.92901611328125,-29.120031356811523,-23.28384017944336,-58.61581802368164,-24.665498733520508,-27.12708282470703,-28.04387664794922,-40.14623260498047,-49.605262756347656,-29.983129501342773,-63.0308952331543,-57.95454788208008,-17.106569290161133,-45.27317810058594,-66.97962188720703,-31.684078216552734,-55.438270568847656,-38.60987854003906,-63.67766189575195,-38.47283172607422,-23.572538375854492,-22.951452255249023,-49.497108459472656,-38.297149658203125,-37.74563217163086,-38.808433532714844,-47.32936096191406,-18.997406005859375,-52.57019805908203,-37.676551818847656,-31.39898681640625,-31.519804000854492,-26.92909812927246,-60.6171760559082,-56.68402862548828,-48.45881652832031,-55.25202560424805,-23.81261444091797,-52.483516693115234,-50.34701919555664,-40.75245666503906,-43.564781188964844,-28.406850814819336,-63.719581604003906,-59.17705535888672,-39.936614990234375,-43.38252639770508,-56.34121322631836,-31.210844039916992,-27.78965187072754,-35.26256561279297,-67.06262969970703,-45.640419006347656,-30.32619285583496,-42.64698791503906,-37.537017822265625,-48.822906494140625,-34.975242614746094,-29.71190071105957,-35.1874885559082,-66.02830505371094,-25.880990982055664,-33.83179473876953,-49.878211975097656,-31.035011291503906,-49.72042465209961,-27.057485580444336,-23.417362213134766,-66.67266082763672,-48.730289459228516,-45.729740142822266,-54.737098693847656,-26.91666603088379,-45.05278015136719,-21.033742904663086,-46.491512298583984,-24.61866569519043,-33.41261672973633,-40.574119567871094,-20.76971435546875,-30.289003372192383,-65.4599380493164,-19.96954345703125,-67.79962158203125,-24.71059799194336,-24.710594177246094,-42.66615295410156,-57.978355407714844,-65.90663146972656,-39.281089782714844,-33.73046112060547,-17.83328628540039,-51.45341873168945,-29.644399642944336,-40.92371368408203,-21.0242862701416,-37.07235336303711,-45.965110778808594,-25.321184158325195,-43.04543685913086,-37.53923034667969,-27.916988372802734,-45.72385787963867,-68.40318298339844,-52.844093322753906,-45.73680114746094,-63.69712829589844,-30.50543212890625,-29.048532485961914,-48.267730712890625,-52.44137954711914,-67.49522399902344,-20.57537269592285,-67.20759582519531,-60.10036849975586,-49.51078414916992,-59.98073196411133,-34.29112243652344,-63.46453857421875,-20.97991371154785,-51.23341369628906,-31.26776695251465,-37.530799865722656,-45.14919662475586,-55.65955352783203,-43.17524337768555,-26.228788375854492,-47.457366943359375,-24.098102569580078,-19.684329986572266,-68.99736022949219,-19.98513412475586,-69.47293090820312,-31.009647369384766,-55.50491714477539,-37.95819091796875,-41.53546905517578,-49.2625846862793,-45.42014694213867,-20.426868438720703,-35.23841094970703,-30.024045944213867,-56.67806625366211,-60.438480377197266,-28.31261444091797,-21.28211784362793,-62.12593460083008,-54.966705322265625,-25.877357482910156,-31.380342483520508,-40.16087341308594,-36.21481704711914,-46.21699905395508,-21.63087272644043,-45.97896194458008,-24.347305297851562,-40.609439849853516,-20.771320343017578,-39.21221923828125,-37.2216682434082,-53.14194869995117,-40.76045227050781,-27.999235153198242,-49.46571350097656,-27.131711959838867,-67.0958480834961,-17.329368591308594,-19.426212310791016,-24.980436325073242,-39.40946960449219,-54.455284118652344,-23.91909408569336,-26.888011932373047,-36.75804901123047,-41.66328048706055,-36.52240753173828,-49.19581604003906,-35.01314163208008,-25.127225875854492,-25.53099822998047,-31.677309036254883,-66.96712493896484,-60.20960235595703,-23.39082145690918,-27.122941970825195,-24.45822525024414,-28.33648681640625,-37.84878921508789,-24.192195892333984,-48.31242752075195,-64.68733978271484,-44.3812255859375,-19.216941833496094,-16.43519401550293,-12.767165184020996,-66.13729858398438,-18.43963050842285,-50.70503616333008,-51.025455474853516,-41.881412506103516,-41.16929626464844,-27.63356590270996,-54.67396926879883,-67.92335510253906,-27.580270767211914,-68.58934020996094,-31.21164321899414,-25.918350219726562,-30.739625930786133,-29.14999008178711,-20.766624450683594,-33.740760803222656,-66.08944702148438,-26.213315963745117,-44.8383903503418,-41.82625961303711,-23.591999053955078,-30.851303100585938,-18.480119705200195,-27.4395809173584,-42.86876678466797,-40.06536102294922,-40.19584655761719,-29.524229049682617,-53.8626823425293,-19.86240577697754,-20.589754104614258,-41.101505279541016,-35.11326599121094,-39.849849700927734,-47.59336853027344,-27.38624382019043,-25.114139556884766,-24.741390228271484,-31.260093688964844,-58.0153694152832,-33.28759765625,-44.437015533447266,-56.285274505615234,-69.67129516601562,-25.65380096435547,-67.36248016357422,-55.54796600341797,-25.842937469482422,-61.5230712890625,-27.173175811767578,-24.408836364746094,-60.42898941040039,-21.072402954101562,-47.18893814086914,-40.62494659423828,-29.967439651489258,-67.24439239501953,-48.438690185546875,-20.01735496520996,-28.38857078552246,-48.536495208740234,-43.39326477050781,-40.319149017333984,-29.854198455810547,-36.46308898925781,-23.539047241210938,-32.99102020263672,-52.569297790527344,-69.6516342163086,-62.84162521362305,-51.43703842163086,-46.31779479980469,-19.195297241210938,-25.710208892822266,-43.65550994873047,-33.591487884521484,-67.67558288574219,-65.36451721191406,-38.2713623046875,-35.30635452270508,-60.085418701171875,-31.869338989257812,-50.86143493652344,-37.698509216308594,-32.73617935180664,-18.807146072387695,-27.039228439331055,-24.304113388061523,-24.029613494873047,-58.52989959716797,-64.95755767822266,-64.45634460449219,-28.334247589111328,-34.25569152832031,-37.55241775512695,-19.591291427612305,-51.01093292236328,-55.648094177246094,-43.75547409057617,-33.63249588012695,-49.392974853515625,-28.118864059448242,-54.888084411621094,-20.944156646728516,-29.074739456176758,-51.69536590576172,-45.101287841796875,-24.256103515625,-30.995742797851562,-33.027896881103516,-38.38093185424805,-25.24490737915039,-29.755874633789062,-39.277374267578125,-51.86968994140625,-59.047760009765625,-38.780242919921875,-32.298484802246094,-44.46638870239258,-28.316932678222656,-41.15987014770508,-27.384552001953125,-69.56556701660156,-32.03993606567383,-69.88513946533203,-30.689542770385742,-30.411367416381836,-30.11077308654785,-15.800566673278809,-61.65449905395508,-41.40578842163086,-51.37562942504883,-30.1179141998291,-66.42618560791016,-35.655452728271484,-30.7879695892334,-51.594383239746094,-14.963223457336426,-65.61063385009766,-50.405948638916016,-37.93916320800781,-51.53453063964844,-49.33259201049805,-69.03404998779297,-29.421064376831055,-28.567956924438477,-34.13474655151367,-35.9927864074707,-43.35922622680664,-60.68330383300781,-66.18737030029297,-66.12652587890625,-34.132957458496094,-44.18695831298828,-28.522979736328125,-28.53071403503418,-20.507911682128906,-37.44612503051758,-29.57887840270996,-25.572673797607422,-45.53618240356445,-25.170368194580078,-26.052932739257812,-44.979087829589844,-31.27019691467285,-64.60597229003906,-46.85055923461914,-21.219362258911133,-34.160037994384766,-59.0421257019043,-44.20335388183594,-44.671180725097656,-32.315879821777344,-36.28883361816406,-36.507713317871094,-41.1146240234375,-49.054420471191406,-62.3943977355957,-40.95072555541992,-50.4555778503418,-38.58522415161133,-30.6501407623291,-50.62876510620117,-29.10063934326172,-51.00348663330078,-65.75016021728516,-21.098987579345703,-45.126121520996094,-29.962879180908203,-20.605281829833984,-31.84569549560547,-54.15550994873047,-39.678226470947266,-27.387657165527344],\"xaxis\":\"x\",\"y\":[33.5755500793457,9.24006175994873,-21.020904541015625,-16.386371612548828,-13.218831062316895,8.627171516418457,8.411002159118652,-23.294639587402344,17.685312271118164,5.7907280921936035,4.214560031890869,5.848541736602783,-27.872121810913086,-22.108802795410156,15.353744506835938,19.91810417175293,-20.292787551879883,12.82837200164795,37.20066833496094,-22.913143157958984,31.618122100830078,16.69965934753418,32.66661834716797,-23.76584815979004,29.750511169433594,22.08814239501953,11.605523109436035,-28.007699966430664,-15.290014266967773,-24.92836570739746,-16.594568252563477,-28.391658782958984,27.31768226623535,-22.6068058013916,3.2426328659057617,9.109329223632812,23.083547592163086,21.06316375732422,18.222932815551758,24.764015197753906,6.569343090057373,-16.12844467163086,20.09171485900879,-2.189026117324829,-18.584125518798828,19.468708038330078,28.50052261352539,-16.441665649414062,11.848970413208008,2.5326762199401855,33.60786056518555,5.213389873504639,10.147584915161133,18.445663452148438,33.41225051879883,14.271651268005371,3.769998073577881,13.421649932861328,25.846946716308594,-17.992286682128906,31.562976837158203,18.565258026123047,4.015970706939697,17.74137306213379,9.925111770629883,23.276758193969727,23.860374450683594,21.971481323242188,7.1718339920043945,-25.700532913208008,30.819091796875,20.10136604309082,12.394251823425293,-23.6626033782959,21.73571014404297,22.757688522338867,4.559517860412598,3.2098050117492676,6.040621280670166,32.73268508911133,29.42024040222168,13.797741889953613,31.83618927001953,26.177316665649414,-20.080949783325195,7.753177165985107,13.41985034942627,5.861990928649902,22.380897521972656,10.265810012817383,0.13569405674934387,9.584583282470703,-0.4318809509277344,2.57924747467041,5.515929698944092,10.801379203796387,-30.391881942749023,-24.350889205932617,22.345264434814453,9.76511001586914,5.967036247253418,-15.237268447875977,17.691917419433594,-13.479089736938477,18.139333724975586,22.833980560302734,3.9771459102630615,4.016708850860596,21.569759368896484,12.73918342590332,12.936888694763184,3.7494897842407227,12.84948444366455,20.833049774169922,9.505781173706055,-35.969791412353516,-23.644245147705078,-0.0764114260673523,-28.390274047851562,9.368992805480957,19.699533462524414,23.73326301574707,-22.071468353271484,-16.35147476196289,-24.509342193603516,10.348617553710938,9.59825611114502,17.11223793029785,33.1840934753418,10.524251937866211,19.51844024658203,14.079318046569824,14.541655540466309,35.243896484375,17.173860549926758,32.709877014160156,15.034385681152344,13.334221839904785,-2.6539461612701416,12.376617431640625,32.89543914794922,17.348533630371094,10.445931434631348,27.471519470214844,25.59979248046875,-25.069833755493164,16.959285736083984,32.99068832397461,-14.605585098266602,15.601157188415527,23.722238540649414,33.83987045288086,-15.311772346496582,11.544144630432129,-26.385427474975586,8.811671257019043,-15.882232666015625,0.933558464050293,9.684744834899902,19.731046676635742,22.291540145874023,-14.778364181518555,14.760285377502441,13.268012046813965,14.567817687988281,24.886381149291992,-25.649505615234375,26.323530197143555,-30.642135620117188,21.043485641479492,-23.85325813293457,14.220765113830566,22.96137046813965,12.242375373840332,-16.417333602905273,-19.58899688720703,24.18332862854004,-22.743528366088867,-21.587509155273438,-19.380266189575195,34.610755920410156,10.01496410369873,26.68177032470703,2.5346457958221436,14.786031723022461,-34.81620788574219,11.902835845947266,31.561429977416992,8.99406623840332,6.556262969970703,15.759514808654785,35.0206184387207,20.285768508911133,25.49968910217285,10.860779762268066,21.055999755859375,17.147798538208008,20.323787689208984,33.02863693237305,17.57547950744629,20.867658615112305,-28.550092697143555,35.20710372924805,-14.331083297729492,22.029146194458008,21.743255615234375,-23.017786026000977,23.034330368041992,-13.030521392822266,-20.151756286621094,-29.488752365112305,-27.41646957397461,11.852441787719727,9.980143547058105,-34.093994140625,9.371086120605469,-16.064794540405273,33.395450592041016,-21.966379165649414,-24.807846069335938,18.450719833374023,-13.388258934020996,10.761396408081055,28.680450439453125,34.192108154296875,31.092742919921875,11.442684173583984,22.528736114501953,19.788785934448242,-35.1812744140625,-30.67537498474121,7.447999954223633,-21.168920516967773,19.20615577697754,33.15885543823242,-22.600801467895508,18.95908546447754,14.702083587646484,15.036101341247559,18.076047897338867,-28.70597267150879,6.401368141174316,9.491839408874512,33.15974807739258,-0.4667200744152069,5.926488876342773,22.113452911376953,-22.72699737548828,24.682764053344727,21.36398696899414,-24.206443786621094,17.366647720336914,22.226266860961914,16.654909133911133,3.9751713275909424,32.57958984375,6.014597415924072,17.617956161499023,15.692403793334961,13.648551940917969,10.19323444366455,6.480612754821777,25.016780853271484,34.321205139160156,33.30970764160156,31.721057891845703,13.62783432006836,25.438833236694336,12.023161888122559,-3.318808078765869,-25.13077735900879,-20.710351943969727,-24.907011032104492,-2.2838919162750244,3.9173953533172607,24.371408462524414,-25.29314422607422,35.20827865600586,-28.948949813842773,-14.536941528320312,10.372210502624512,-26.400720596313477,-22.936845779418945,9.460590362548828,33.9365348815918,8.0739107131958,-24.471208572387695,12.635833740234375,10.413647651672363,-22.379653930664062,11.265902519226074,18.475664138793945,13.740408897399902,34.614013671875,13.91094970703125,0.49069762229919434,20.576154708862305,20.56415367126465,28.024965286254883,27.0283203125,24.076982498168945,-16.585222244262695,12.53529167175293,9.421625137329102,-30.75562858581543,-20.26192855834961,24.914440155029297,-24.88412857055664,25.218040466308594,-29.336627960205078,8.655372619628906,23.829090118408203,0.8142132759094238,4.891551494598389,-13.549154281616211,11.67639446258545,20.385465621948242,-13.390901565551758,31.97272491455078,-21.934431076049805,-13.59937858581543,-29.336273193359375,26.369470596313477,28.914487838745117,-29.231672286987305,23.240537643432617,9.681087493896484,32.04007339477539,34.241756439208984,27.419118881225586,28.146484375,33.98149108886719,3.0330584049224854,23.02993392944336,30.983802795410156,6.543087959289551,6.715193748474121,-0.9127786755561829,-30.330312728881836,-31.330524444580078,20.169113159179688,-11.008566856384277,18.08437156677246,11.147439956665039,15.20340347290039,22.36870765686035,18.49397087097168,-28.752254486083984,14.683228492736816,-19.725780487060547,29.836334228515625,6.915228366851807,4.515187740325928,32.350135803222656,-3.201249837875366,34.2086067199707,-0.7222551107406616,15.363726615905762,10.95805835723877,-13.342833518981934,20.106464385986328,-1.01483154296875,5.821127414703369,-27.75889778137207,14.520363807678223,4.44758415222168,31.760648727416992,1.6694495677947998,13.185654640197754,16.847816467285156,13.065938949584961,13.513466835021973,-12.067378997802734,24.881044387817383,11.115896224975586,11.100075721740723,20.45945167541504,-24.290082931518555,14.22265625,5.973326683044434,26.259042739868164,12.192974090576172,-18.75502586364746,-12.92358112335205,-13.913579940795898,14.289204597473145,18.475460052490234,-10.132929801940918,26.21151351928711,-24.67211151123047,-16.342041015625,24.05278778076172,35.80738830566406,12.021883010864258,13.054916381835938,-27.5939998626709,21.80312728881836,7.530999183654785,23.281795501708984,15.201689720153809,23.69661521911621,28.662893295288086,-3.664238691329956,-0.09549745917320251,26.929790496826172,30.566774368286133,30.9283390045166,-25.823936462402344,8.77768325805664,11.572763442993164,29.706064224243164,20.341712951660156,28.131105422973633,-13.299948692321777,34.60396957397461,-22.501562118530273,0.3502255976200104,-28.682018280029297,-18.34868812561035,7.308438777923584,30.029645919799805,0.3933561146259308,7.20004940032959,24.354846954345703,14.691905975341797,-21.880525588989258,11.717602729797363,17.108243942260742,13.770312309265137,33.97194290161133,-14.804710388183594,12.785649299621582,31.568477630615234,-2.976921558380127,16.898542404174805,34.02889633178711,15.374396324157715,-27.776735305786133,32.669593811035156,9.285479545593262,35.51189422607422,-25.020235061645508,33.29239273071289,-13.222983360290527,24.646814346313477,20.09499740600586,32.497684478759766,24.223865509033203,9.208556175231934,-28.391551971435547,-3.932969093322754,26.05193519592285,12.795516014099121,14.261733055114746,29.54875946044922,11.712000846862793,-16.799938201904297,34.16622543334961,-20.298276901245117,18.488527297973633,18.671398162841797,32.65113830566406,-1.535419225692749,13.583952903747559,23.23190689086914,22.487524032592773,7.178783416748047,19.63692283630371,8.833664894104004,35.82595443725586,12.531028747558594,31.2977294921875,31.56313705444336,10.839029312133789,12.523833274841309,9.841227531433105,-22.651094436645508,30.82709503173828,-14.14691162109375,29.89336395263672,31.272321701049805,9.41746711730957,21.740097045898438,20.166675567626953,30.93058967590332,-25.994972229003906,34.43025207519531,-15.804463386535645,-31.61974334716797,14.446798324584961,9.017901420593262,27.0944881439209,-23.47391700744629,22.826295852661133,13.742973327636719,-28.69028091430664,13.238544464111328,8.118163108825684,-26.98066520690918,4.319587230682373,-10.361029624938965,24.48272705078125,4.33950662612915,-18.997631072998047,21.51439094543457,33.75580596923828,5.866393089294434,-27.202316284179688,8.034333229064941,-8.048198699951172,10.817662239074707,32.373172760009766,-12.615682601928711,-23.667314529418945,5.811095714569092,11.592230796813965,21.5416316986084,18.371904373168945,15.222026824951172,8.033039093017578,34.205474853515625,-20.673166275024414,7.568986415863037,23.723318099975586,33.110015869140625,31.572689056396484,25.221195220947266,34.751956939697266,22.80451202392578,2.6793313026428223,-29.176000595092773,-20.337390899658203,14.171919822692871,-22.40885353088379,14.422968864440918,14.376051902770996,23.195470809936523,15.022436141967773,34.75325012207031,10.32081127166748,6.182468414306641,-16.52281951904297,9.42533016204834,33.63600540161133,-21.91005516052246,23.328765869140625,30.74773406982422,22.806325912475586,22.75899314880371,9.572418212890625,17.68535614013672,23.140914916992188,9.543071746826172,1.3624027967453003,5.574590682983398,-26.318639755249023,10.315353393554688,34.21072769165039,31.78588104248047,-25.69812774658203,24.484899520874023,6.0083327293396,-11.56040096282959,-30.768516540527344,12.286779403686523,26.466062545776367,14.223078727722168,30.789772033691406,35.39452362060547,-26.79818344116211,31.57460594177246,-25.182031631469727,22.03859519958496,10.67708969116211,33.8079719543457,34.126712799072266,10.947614669799805,34.15978240966797,3.3878579139709473,30.972244262695312,21.41248321533203,23.250747680664062,-10.241913795471191,32.85762405395508,12.359267234802246,23.3392276763916,-20.656085968017578,-25.70387840270996,32.93518829345703,29.006515502929688,22.67735481262207,-26.283100128173828,8.458852767944336,18.450889587402344,15.756083488464355,16.216670989990234,14.2925443649292,28.683780670166016,25.09973907470703,-13.731301307678223,22.986215591430664,19.722793579101562,-29.711931228637695,34.016571044921875,16.807161331176758,19.503820419311523,14.181516647338867,10.947080612182617,28.73779296875,8.752732276916504,10.850894927978516,33.70088577270508,-26.524011611938477,20.666553497314453,33.1298713684082,9.377948760986328,-24.653278350830078,-12.082239151000977,30.572132110595703,22.963563919067383,8.847060203552246,-26.543094635009766,5.26563024520874,13.815019607543945,8.323480606079102,30.321866989135742,-21.5579891204834,30.59922981262207,-30.271705627441406,-19.874065399169922,12.070906639099121,6.818390846252441,7.559201717376709,6.274277210235596,-15.641390800476074,-23.9914493560791,26.11514663696289,6.51179313659668,11.603147506713867,8.235190391540527,-20.74551773071289,-3.631962537765503,-24.772890090942383,20.59427833557129,26.322885513305664,7.9801554679870605,15.19796371459961,-29.1752872467041,13.289822578430176,14.09073257446289,14.193798065185547,11.844758033752441,17.192014694213867,29.108074188232422,14.58635425567627,31.221031188964844,-25.645668029785156,34.4909553527832,31.557415008544922,25.896041870117188,-20.189037322998047,22.31330680847168,-15.432486534118652,9.993965148925781,8.052543640136719,18.228843688964844,5.743646621704102,25.539535522460938,21.470216751098633,8.0389404296875,14.080588340759277,4.132354736328125,14.3889799118042,7.137853145599365,34.28291320800781,4.742147922515869,26.194576263427734,29.334922790527344,18.961925506591797,32.082645416259766,22.23975944519043,15.055797576904297,27.692045211791992,-16.050582885742188,11.278334617614746,8.954577445983887,6.131134033203125,12.304445266723633,1.7187124490737915,20.712425231933594,16.838138580322266,20.395048141479492,4.931191444396973,26.86629295349121,-0.4692513346672058,-15.581241607666016,9.511921882629395,-16.17506217956543,-23.775205612182617,6.942147731781006,20.701133728027344,15.20875072479248,-22.238494873046875,6.950929641723633,21.667545318603516,22.970083236694336,30.04102897644043,24.753864288330078,17.166128158569336,24.453889846801758,15.17212963104248,6.542972564697266,-29.02388572692871,-19.666547775268555,9.655431747436523,-35.65198516845703,8.038517951965332,-22.8355770111084,-21.37940216064453,15.06093978881836,-25.687835693359375,-12.020875930786133,21.177227020263672,31.85797691345215,-28.102401733398438,32.89360046386719,33.144779205322266,12.085946083068848,1.1577051877975464,-3.435309648513794,-17.85052490234375,31.783079147338867,20.831371307373047,13.635912895202637,-26.21186065673828,-14.738033294677734,-25.664525985717773,10.397632598876953,28.583290100097656,-16.592815399169922,10.426915168762207,32.859500885009766,18.147216796875,3.019794464111328,16.793989181518555,13.027606964111328,-29.809795379638672,17.302064895629883,-28.680980682373047,-28.54380226135254,-12.408498764038086,26.709440231323242,11.090768814086914,23.306499481201172,21.963726043701172,34.52610778808594,10.59473705291748,14.08901309967041,34.27254867553711,28.18960189819336,29.62556266784668,-24.991994857788086,-20.270845413208008,-24.90079689025879,4.591666221618652,5.935211181640625,-28.026458740234375,5.151464939117432,32.153255462646484,33.40203094482422,-24.46352195739746,36.66740798950195,14.020087242126465,-20.232139587402344,13.245695114135742,-25.365873336791992,22.367961883544922,11.806206703186035,-18.83539581298828,-18.86853790283203,27.67143440246582,-15.90705394744873,11.295021057128906,-19.34673500061035,32.030906677246094,-17.84975814819336,24.320341110229492,26.975067138671875,-35.548927307128906,-28.31606674194336,-12.618905067443848,32.32383728027344,28.21395492553711,-15.282470703125,11.619250297546387,-19.03376579284668,-14.91727352142334,7.644304275512695,-28.711652755737305,24.33032989501953,9.411942481994629,0.18273861706256866,15.633685111999512,20.047395706176758,22.683565139770508,4.3966474533081055,25.116262435913086,9.905797004699707,33.55310821533203,24.320085525512695,21.41140365600586,5.82746696472168,-21.77220916748047,32.260501861572266,12.66843032836914,19.49874496459961,32.73006057739258,-27.1754093170166,8.768352508544922,28.554933547973633,-23.087722778320312,8.396150588989258,8.734267234802246,32.99702835083008,-27.49759292602539,14.47805404663086,2.4943830966949463,24.537500381469727,29.903154373168945,33.803165435791016,27.063005447387695,-30.047304153442383,20.62406349182129,33.13194274902344,9.040761947631836,11.340906143188477,-12.709145545959473,9.70832347869873,17.892200469970703,5.41835355758667,12.561857223510742,-27.73223304748535,10.043943405151367,19.07660484313965,34.45608901977539,14.658122062683105,-29.59602928161621,21.07595443725586,9.646190643310547,9.48117733001709,-24.71414566040039,-21.74750518798828,-19.278480529785156,25.25249671936035,10.653263092041016,14.976530075073242,-24.82794761657715,33.51322555541992,5.80281400680542,-15.527812957763672,20.786033630371094,26.827085494995117,8.830933570861816,23.19408416748047,-25.385549545288086,-18.573381423950195,17.722198486328125,31.449951171875,-27.281625747680664,-29.884498596191406,30.542081832885742,10.977155685424805,5.273588180541992,11.17175006866455,33.18355941772461,-14.388690948486328,29.966203689575195,34.864566802978516,30.05583953857422,-25.086397171020508,-3.5966248512268066,8.152193069458008,-2.164668083190918,8.73848819732666,30.9488468170166,17.372724533081055,33.379146575927734,19.73860740661621,32.999080657958984,8.92043399810791,-24.516551971435547,4.523819923400879,10.893054962158203,-14.253843307495117,16.434345245361328,32.421905517578125,13.308934211730957,15.863853454589844,-22.907745361328125,21.01546859741211,4.948760032653809,1.4346649646759033,37.16627502441406,29.474468231201172,23.451791763305664,23.325973510742188,-19.322566986083984,22.004108428955078,10.807779312133789,7.108870029449463,35.15300750732422,20.128252029418945,33.638553619384766,34.077720642089844,13.335352897644043,32.75312042236328,31.62840461730957,3.9006805419921875,10.647588729858398,18.841793060302734,-24.44145965576172,-25.2247257232666,-15.768745422363281,24.409582138061523,9.983884811401367,-35.06370162963867,35.29214859008789,26.668447494506836,28.24346160888672,30.33260726928711,30.09573745727539,-12.543107032775879,23.487539291381836,29.875463485717773,19.646379470825195,16.888690948486328,-19.581663131713867,9.090882301330566,12.778363227844238,32.403404235839844,30.688209533691406,28.640607833862305,9.540838241577148,14.71341323852539,-33.49323272705078,31.460649490356445,-31.075712203979492,-33.21300506591797,35.086673736572266,13.169736862182617,13.583517074584961,-27.122529983520508],\"yaxis\":\"y\",\"type\":\"scattergl\"},{\"hovertemplate\":\"color=Clientes Inactivos\\u003cbr\\u003ex=%{x}\\u003cbr\\u003ey=%{y}\\u003cextra\\u003e\\u003c\\u002fextra\\u003e\",\"legendgroup\":\"Clientes Inactivos\",\"marker\":{\"color\":\"#ab63fa\",\"symbol\":\"circle\"},\"mode\":\"markers\",\"name\":\"Clientes Inactivos\",\"showlegend\":true,\"x\":[37.49327850341797,36.91712951660156,35.415489196777344,21.762493133544922,44.39009475708008,34.095191955566406,21.6461238861084,43.666988372802734,27.505552291870117,25.90504264831543,35.84080505371094,41.94823455810547,44.15946960449219,37.26343536376953,42.562767028808594,27.00991439819336,23.36164093017578,28.09010124206543,36.67101287841797,36.0302848815918,44.91843795776367,13.23194408416748,34.10768508911133,21.71489715576172,23.551313400268555,18.674203872680664,28.686586380004883,18.718156814575195,25.948640823364258,40.09975814819336,36.702293395996094,35.49154281616211,17.147579193115234,45.18064498901367,28.937061309814453,23.191444396972656,25.002573013305664,37.84164810180664,29.15550994873047,40.71329116821289,34.174949645996094,39.18321228027344,29.01667594909668,19.868284225463867,15.629596710205078,20.96570587158203,23.724468231201172,19.225299835205078,34.340702056884766,35.68688201904297,39.52677917480469,29.91914176940918,27.42622947692871,26.90934181213379,19.996347427368164,24.6861515045166,25.878925323486328,22.754915237426758,33.596946716308594,36.82415771484375,26.142549514770508,37.17522048950195,40.960350036621094,33.50160217285156,34.58928680419922,36.43350601196289,22.35386848449707,36.88235092163086,36.49764633178711,41.40827941894531,25.03817367553711,26.304603576660156,23.790163040161133,29.27098846435547,27.936843872070312,34.954376220703125,30.604387283325195,31.92183494567871,27.160539627075195,32.43593978881836,23.90053939819336,20.8098087310791,29.66984748840332,34.54731750488281,37.27748107910156,26.69506072998047,37.439483642578125,23.44780921936035,33.63744354248047,26.732908248901367,30.334735870361328,23.14716911315918,39.6753044128418,32.58202362060547,36.47055435180664,20.01494026184082,42.88511657714844,26.285324096679688,24.862218856811523,18.724958419799805,33.32701873779297,41.95062255859375,32.63486099243164,36.82344436645508,35.37725067138672,31.07706069946289,26.57939338684082,38.44450378417969,29.682861328125,43.745479583740234,26.699064254760742,30.62516212463379,24.795318603515625,42.79291915893555,35.15828323364258,22.320600509643555,38.01925277709961,37.53894805908203,23.69091796875,30.21060562133789,36.93920135498047,22.56360626220703,41.104854583740234,35.12552261352539,31.782651901245117,20.81422996520996,31.7041015625,32.37159729003906,36.26777267456055,26.32579231262207,28.672697067260742,43.14122772216797,18.424009323120117,22.977745056152344,17.05915641784668,24.34291648864746,34.92721939086914,26.50453758239746,28.384071350097656,34.41469955444336,33.15896224975586,41.677608489990234,37.89162826538086,38.805580139160156,22.935440063476562,40.30740737915039,25.85024070739746,36.306610107421875,36.68769073486328,44.13808059692383,17.95379638671875,20.973384857177734,19.83524513244629,34.59014129638672,18.072593688964844,41.44825744628906,24.180973052978516,43.521751403808594,19.150100708007812,24.91187286376953,28.2408447265625,36.73395919799805,26.575857162475586,21.26596450805664,26.053802490234375,28.84524154663086,25.85249900817871,27.726451873779297,36.65211868286133,43.795249938964844,18.809814453125,41.71184158325195,33.9480094909668,39.45663833618164,29.567739486694336,13.427260398864746,23.023569107055664,32.24576187133789,20.182327270507812,28.072216033935547,37.28901672363281,29.464143753051758,30.352258682250977,20.198442459106445,29.026918411254883,31.67634391784668,31.36700439453125,15.609685897827148,32.11796188354492,36.4970703125,25.856433868408203,38.94561767578125,31.1981201171875,27.39801788330078,27.70000648498535,22.063791275024414,27.972265243530273,17.887889862060547,28.871959686279297,25.41063690185547,37.1878662109375,24.20904541015625,16.037988662719727,38.66000747680664,28.264572143554688,28.94558334350586,18.423934936523438,27.748815536499023,25.478933334350586,38.13908386230469,43.62825012207031,36.96700668334961,30.475601196289062,36.60966110229492,27.81524658203125,37.03462219238281,43.24632263183594,27.61492156982422,38.224063873291016,29.12700080871582,41.56691360473633,25.118364334106445,17.63840675354004,20.279645919799805,22.988826751708984,21.4370174407959,32.40648651123047,32.42942810058594,45.380210876464844,33.878047943115234,25.731325149536133,34.52605438232422,34.59910202026367,17.725849151611328,35.70267105102539,44.01671600341797,40.23690414428711,36.50595474243164,33.38580322265625,39.81979751586914,21.457677841186523,29.201147079467773,30.009366989135742,43.7210807800293,35.6782112121582,16.68155860900879,44.66977310180664,36.869815826416016,23.65479850769043,18.09742546081543,34.80177688598633,22.362689971923828,22.9079532623291,33.39801025390625,42.69384002685547,35.479339599609375,20.887649536132812,43.35640335083008,17.10338592529297,43.90149688720703,37.963226318359375,33.184104919433594,41.253047943115234,38.46146774291992,28.461429595947266,23.368650436401367,17.613248825073242,16.541839599609375,36.91595458984375,30.269290924072266,24.588529586791992,17.10080909729004,23.13125228881836,29.205055236816406,20.759151458740234,16.930400848388672,40.488948822021484,17.783828735351562,23.35785675048828,29.960344314575195,40.2270622253418,18.764760971069336,-7.059286117553711,26.35059356689453,22.48736572265625,37.927223205566406,37.161094665527344,27.79966163635254,26.024477005004883,15.487829208374023,24.324676513671875,27.241357803344727,23.58916664123535,45.21778106689453,24.433393478393555,42.068511962890625,29.667924880981445,38.45206069946289,36.16706848144531,38.83756637573242,24.769947052001953,39.73533248901367,31.125642776489258,30.04064178466797,28.465267181396484,40.84279251098633,37.638309478759766,27.820880889892578,16.545650482177734,29.735342025756836,44.447059631347656,33.267547607421875,30.524032592773438,41.706520080566406,37.28959655761719,27.16364860534668,38.00370407104492,37.24825668334961,37.40506362915039,41.90119552612305,37.33219528198242,23.566343307495117,42.76644515991211,21.7353458404541,29.163808822631836,27.35539436340332,26.14971351623535,45.409854888916016,43.34353256225586,27.966663360595703,38.398624420166016,22.374727249145508,21.576013565063477,30.581817626953125,27.38689613342285,45.34969711303711,46.17865753173828,29.165821075439453,45.09767150878906,22.10971450805664,22.578828811645508,30.680557250976562,18.39506721496582,21.436351776123047,26.42762565612793,43.581077575683594,44.65315246582031,34.74690246582031,17.699298858642578,23.986637115478516,24.268558502197266,28.59640121459961,18.073389053344727],\"xaxis\":\"x\",\"y\":[38.971702575683594,38.69753646850586,43.61398696899414,16.285926818847656,23.116744995117188,31.259864807128906,12.815125465393066,18.092498779296875,36.69975280761719,27.707775115966797,16.079195022583008,20.58706283569336,24.763391494750977,38.97272872924805,26.833768844604492,25.998483657836914,21.04636573791504,21.43548011779785,39.35930633544922,36.950801849365234,23.884689331054688,22.229507446289062,29.973791122436523,20.580249786376953,19.648773193359375,24.098491668701172,27.537065505981445,28.26420021057129,21.772323608398438,27.701419830322266,45.9978141784668,43.933876037597656,22.922693252563477,20.96935272216797,25.850879669189453,31.325223922729492,32.27730941772461,30.539175033569336,21.503154754638672,26.975990295410156,43.57122802734375,40.89216995239258,29.54710578918457,29.34227180480957,26.685422897338867,22.57331085205078,14.379541397094727,14.876826286315918,42.929237365722656,29.74652862548828,37.43218994140625,34.187225341796875,7.236544609069824,21.75074005126953,23.213285446166992,13.65338134765625,15.095772743225098,30.64601707458496,31.140260696411133,39.96916198730469,23.07982063293457,16.29033851623535,28.774682998657227,42.88251876831055,44.2291374206543,38.38538360595703,30.177465438842773,13.607338905334473,39.345069885253906,23.092262268066406,16.446956634521484,26.82659339904785,22.58667755126953,38.36262130737305,14.57613754272461,14.371590614318848,23.01612091064453,32.84846878051758,34.74693298339844,19.040597915649414,32.501441955566406,13.302225112915039,33.07247543334961,30.46446990966797,45.7575798034668,21.31931495666504,14.757258415222168,33.2667121887207,43.09816360473633,36.432254791259766,29.999073028564453,19.568458557128906,26.891372680664062,38.931121826171875,34.78572463989258,13.898256301879883,21.38758659362793,20.70897102355957,6.358786106109619,29.012666702270508,34.58165740966797,20.044076919555664,38.985382080078125,46.08020782470703,43.110504150390625,35.48358154296875,15.30962085723877,37.630043029785156,41.36885452270508,28.126718521118164,14.717841148376465,41.641822814941406,8.287881851196289,27.733882904052734,30.000320434570312,22.868927001953125,41.495365142822266,30.876468658447266,9.145646095275879,19.769737243652344,30.152563095092773,32.65699768066406,20.40940284729004,43.703285217285156,33.498741149902344,20.396936416625977,34.288963317871094,41.79658126831055,16.11686134338379,36.0472297668457,37.00693130493164,26.373706817626953,16.4846134185791,29.663610458374023,27.57827377319336,14.532251358032227,44.29545593261719,36.0047607421875,29.832090377807617,43.47301483154297,20.048664093017578,20.834117889404297,38.49758529663086,38.18477249145508,32.8277473449707,26.019147872924805,35.329429626464844,29.763154983520508,16.5799617767334,24.188764572143555,28.869264602661133,20.09658432006836,18.79151725769043,30.953943252563477,28.155248641967773,26.595928192138672,34.894737243652344,25.97893524169922,14.740073204040527,33.16378402709961,26.1186580657959,13.679231643676758,26.679279327392578,13.500374794006348,34.24509811401367,25.530405044555664,33.459373474121094,15.0693359375,42.65896224975586,23.332874298095703,27.553913116455078,28.4305477142334,44.980377197265625,30.057899475097656,21.22130012512207,22.216094970703125,16.478076934814453,18.940673828125,14.933686256408691,35.763267517089844,45.575870513916016,33.0854606628418,30.383647918701172,23.129243850708008,20.478981018066406,41.82709884643555,32.570770263671875,27.62867546081543,32.97300338745117,15.523171424865723,25.860742568969727,27.46019172668457,33.21147537231445,21.23560905456543,30.048425674438477,22.006752014160156,35.9840202331543,26.626628875732422,36.29332733154297,33.2782096862793,41.657127380371094,9.51662540435791,27.68761444091797,15.17484188079834,24.03324317932129,23.284770965576172,15.442914009094238,25.17432403564453,20.488243103027344,16.238088607788086,29.10742950439453,15.727836608886719,23.224576950073242,45.55686569213867,14.492826461791992,38.038211822509766,17.732818603515625,7.6416425704956055,42.164886474609375,36.98733139038086,26.95905876159668,37.124916076660156,22.951465606689453,14.165135383605957,31.01860237121582,19.969280242919922,31.62087059020996,30.665864944458008,22.320053100585938,42.75083923339844,34.19713592529297,32.4707145690918,31.842052459716797,26.564781188964844,38.739559173583984,24.257905960083008,37.74641418457031,34.133033752441406,30.688547134399414,26.458446502685547,18.35867691040039,37.75482940673828,31.253164291381836,27.6387939453125,12.474355697631836,23.95058250427246,23.72243881225586,37.95754623413086,32.18830108642578,23.72185707092285,43.319271087646484,29.96973419189453,20.56205940246582,33.151947021484375,27.78778839111328,31.18866539001465,23.47171401977539,27.05497169494629,26.621774673461914,19.274072647094727,40.73457336425781,20.053943634033203,20.853796005249023,42.1562614440918,22.9494686126709,30.537443161010742,23.142900466918945,30.04253387451172,45.52760314941406,20.62928009033203,28.742225646972656,23.695846557617188,15.188400268554688,23.766490936279297,19.693666458129883,28.662979125976562,36.957237243652344,25.97736167907715,16.501623153686523,39.24177932739258,36.886688232421875,24.019987106323242,27.899503707885742,6.7501301765441895,10.856955528259277,39.657981872558594,46.078121185302734,22.509279251098633,20.779531478881836,9.18443489074707,24.490631103515625,36.420310974121094,29.969100952148438,20.414897918701172,12.671350479125977,27.65964698791504,20.70018196105957,38.260047912597656,13.27216625213623,30.013757705688477,26.807676315307617,27.076618194580078,34.64496612548828,21.269393920898438,35.80221176147461,29.41696548461914,41.56949234008789,35.49778747558594,22.925722122192383,41.481895446777344,19.189332962036133,42.381736755371094,32.68465805053711,19.547794342041016,38.45458984375,20.52754020690918,42.48627853393555,43.05885696411133,44.28581619262695,26.559484481811523,43.151222229003906,34.094478607177734,27.0421142578125,18.279640197753906,39.23430252075195,23.402565002441406,37.25663375854492,21.1621036529541,23.219200134277344,30.511646270751953,42.89826583862305,18.813629150390625,23.408811569213867,33.214019775390625,22.28349494934082,21.969736099243164,21.322927474975586,37.483394622802734,23.344844818115234,19.435714721679688,33.325679779052734,32.36643600463867,26.789260864257812,19.329345703125,34.68564987182617,24.20018768310547,22.180238723754883,32.96498489379883,24.64418601989746,31.381160736083984,35.20100021362305,23.71604347229004,28.966068267822266],\"yaxis\":\"y\",\"type\":\"scattergl\"}],                        {\"template\":{\"data\":{\"histogram2dcontour\":[{\"type\":\"histogram2dcontour\",\"colorbar\":{\"outlinewidth\":0,\"ticks\":\"\"},\"colorscale\":[[0.0,\"#0d0887\"],[0.1111111111111111,\"#46039f\"],[0.2222222222222222,\"#7201a8\"],[0.3333333333333333,\"#9c179e\"],[0.4444444444444444,\"#bd3786\"],[0.5555555555555556,\"#d8576b\"],[0.6666666666666666,\"#ed7953\"],[0.7777777777777778,\"#fb9f3a\"],[0.8888888888888888,\"#fdca26\"],[1.0,\"#f0f921\"]]}],\"choropleth\":[{\"type\":\"choropleth\",\"colorbar\":{\"outlinewidth\":0,\"ticks\":\"\"}}],\"histogram2d\":[{\"type\":\"histogram2d\",\"colorbar\":{\"outlinewidth\":0,\"ticks\":\"\"},\"colorscale\":[[0.0,\"#0d0887\"],[0.1111111111111111,\"#46039f\"],[0.2222222222222222,\"#7201a8\"],[0.3333333333333333,\"#9c179e\"],[0.4444444444444444,\"#bd3786\"],[0.5555555555555556,\"#d8576b\"],[0.6666666666666666,\"#ed7953\"],[0.7777777777777778,\"#fb9f3a\"],[0.8888888888888888,\"#fdca26\"],[1.0,\"#f0f921\"]]}],\"heatmap\":[{\"type\":\"heatmap\",\"colorbar\":{\"outlinewidth\":0,\"ticks\":\"\"},\"colorscale\":[[0.0,\"#0d0887\"],[0.1111111111111111,\"#46039f\"],[0.2222222222222222,\"#7201a8\"],[0.3333333333333333,\"#9c179e\"],[0.4444444444444444,\"#bd3786\"],[0.5555555555555556,\"#d8576b\"],[0.6666666666666666,\"#ed7953\"],[0.7777777777777778,\"#fb9f3a\"],[0.8888888888888888,\"#fdca26\"],[1.0,\"#f0f921\"]]}],\"heatmapgl\":[{\"type\":\"heatmapgl\",\"colorbar\":{\"outlinewidth\":0,\"ticks\":\"\"},\"colorscale\":[[0.0,\"#0d0887\"],[0.1111111111111111,\"#46039f\"],[0.2222222222222222,\"#7201a8\"],[0.3333333333333333,\"#9c179e\"],[0.4444444444444444,\"#bd3786\"],[0.5555555555555556,\"#d8576b\"],[0.6666666666666666,\"#ed7953\"],[0.7777777777777778,\"#fb9f3a\"],[0.8888888888888888,\"#fdca26\"],[1.0,\"#f0f921\"]]}],\"contourcarpet\":[{\"type\":\"contourcarpet\",\"colorbar\":{\"outlinewidth\":0,\"ticks\":\"\"}}],\"contour\":[{\"type\":\"contour\",\"colorbar\":{\"outlinewidth\":0,\"ticks\":\"\"},\"colorscale\":[[0.0,\"#0d0887\"],[0.1111111111111111,\"#46039f\"],[0.2222222222222222,\"#7201a8\"],[0.3333333333333333,\"#9c179e\"],[0.4444444444444444,\"#bd3786\"],[0.5555555555555556,\"#d8576b\"],[0.6666666666666666,\"#ed7953\"],[0.7777777777777778,\"#fb9f3a\"],[0.8888888888888888,\"#fdca26\"],[1.0,\"#f0f921\"]]}],\"surface\":[{\"type\":\"surface\",\"colorbar\":{\"outlinewidth\":0,\"ticks\":\"\"},\"colorscale\":[[0.0,\"#0d0887\"],[0.1111111111111111,\"#46039f\"],[0.2222222222222222,\"#7201a8\"],[0.3333333333333333,\"#9c179e\"],[0.4444444444444444,\"#bd3786\"],[0.5555555555555556,\"#d8576b\"],[0.6666666666666666,\"#ed7953\"],[0.7777777777777778,\"#fb9f3a\"],[0.8888888888888888,\"#fdca26\"],[1.0,\"#f0f921\"]]}],\"mesh3d\":[{\"type\":\"mesh3d\",\"colorbar\":{\"outlinewidth\":0,\"ticks\":\"\"}}],\"scatter\":[{\"fillpattern\":{\"fillmode\":\"overlay\",\"size\":10,\"solidity\":0.2},\"type\":\"scatter\"}],\"parcoords\":[{\"type\":\"parcoords\",\"line\":{\"colorbar\":{\"outlinewidth\":0,\"ticks\":\"\"}}}],\"scatterpolargl\":[{\"type\":\"scatterpolargl\",\"marker\":{\"colorbar\":{\"outlinewidth\":0,\"ticks\":\"\"}}}],\"bar\":[{\"error_x\":{\"color\":\"#2a3f5f\"},\"error_y\":{\"color\":\"#2a3f5f\"},\"marker\":{\"line\":{\"color\":\"#E5ECF6\",\"width\":0.5},\"pattern\":{\"fillmode\":\"overlay\",\"size\":10,\"solidity\":0.2}},\"type\":\"bar\"}],\"scattergeo\":[{\"type\":\"scattergeo\",\"marker\":{\"colorbar\":{\"outlinewidth\":0,\"ticks\":\"\"}}}],\"scatterpolar\":[{\"type\":\"scatterpolar\",\"marker\":{\"colorbar\":{\"outlinewidth\":0,\"ticks\":\"\"}}}],\"histogram\":[{\"marker\":{\"pattern\":{\"fillmode\":\"overlay\",\"size\":10,\"solidity\":0.2}},\"type\":\"histogram\"}],\"scattergl\":[{\"type\":\"scattergl\",\"marker\":{\"colorbar\":{\"outlinewidth\":0,\"ticks\":\"\"}}}],\"scatter3d\":[{\"type\":\"scatter3d\",\"line\":{\"colorbar\":{\"outlinewidth\":0,\"ticks\":\"\"}},\"marker\":{\"colorbar\":{\"outlinewidth\":0,\"ticks\":\"\"}}}],\"scattermapbox\":[{\"type\":\"scattermapbox\",\"marker\":{\"colorbar\":{\"outlinewidth\":0,\"ticks\":\"\"}}}],\"scatterternary\":[{\"type\":\"scatterternary\",\"marker\":{\"colorbar\":{\"outlinewidth\":0,\"ticks\":\"\"}}}],\"scattercarpet\":[{\"type\":\"scattercarpet\",\"marker\":{\"colorbar\":{\"outlinewidth\":0,\"ticks\":\"\"}}}],\"carpet\":[{\"aaxis\":{\"endlinecolor\":\"#2a3f5f\",\"gridcolor\":\"white\",\"linecolor\":\"white\",\"minorgridcolor\":\"white\",\"startlinecolor\":\"#2a3f5f\"},\"baxis\":{\"endlinecolor\":\"#2a3f5f\",\"gridcolor\":\"white\",\"linecolor\":\"white\",\"minorgridcolor\":\"white\",\"startlinecolor\":\"#2a3f5f\"},\"type\":\"carpet\"}],\"table\":[{\"cells\":{\"fill\":{\"color\":\"#EBF0F8\"},\"line\":{\"color\":\"white\"}},\"header\":{\"fill\":{\"color\":\"#C8D4E3\"},\"line\":{\"color\":\"white\"}},\"type\":\"table\"}],\"barpolar\":[{\"marker\":{\"line\":{\"color\":\"#E5ECF6\",\"width\":0.5},\"pattern\":{\"fillmode\":\"overlay\",\"size\":10,\"solidity\":0.2}},\"type\":\"barpolar\"}],\"pie\":[{\"automargin\":true,\"type\":\"pie\"}]},\"layout\":{\"autotypenumbers\":\"strict\",\"colorway\":[\"#636efa\",\"#EF553B\",\"#00cc96\",\"#ab63fa\",\"#FFA15A\",\"#19d3f3\",\"#FF6692\",\"#B6E880\",\"#FF97FF\",\"#FECB52\"],\"font\":{\"color\":\"#2a3f5f\"},\"hovermode\":\"closest\",\"hoverlabel\":{\"align\":\"left\"},\"paper_bgcolor\":\"white\",\"plot_bgcolor\":\"#E5ECF6\",\"polar\":{\"bgcolor\":\"#E5ECF6\",\"angularaxis\":{\"gridcolor\":\"white\",\"linecolor\":\"white\",\"ticks\":\"\"},\"radialaxis\":{\"gridcolor\":\"white\",\"linecolor\":\"white\",\"ticks\":\"\"}},\"ternary\":{\"bgcolor\":\"#E5ECF6\",\"aaxis\":{\"gridcolor\":\"white\",\"linecolor\":\"white\",\"ticks\":\"\"},\"baxis\":{\"gridcolor\":\"white\",\"linecolor\":\"white\",\"ticks\":\"\"},\"caxis\":{\"gridcolor\":\"white\",\"linecolor\":\"white\",\"ticks\":\"\"}},\"coloraxis\":{\"colorbar\":{\"outlinewidth\":0,\"ticks\":\"\"}},\"colorscale\":{\"sequential\":[[0.0,\"#0d0887\"],[0.1111111111111111,\"#46039f\"],[0.2222222222222222,\"#7201a8\"],[0.3333333333333333,\"#9c179e\"],[0.4444444444444444,\"#bd3786\"],[0.5555555555555556,\"#d8576b\"],[0.6666666666666666,\"#ed7953\"],[0.7777777777777778,\"#fb9f3a\"],[0.8888888888888888,\"#fdca26\"],[1.0,\"#f0f921\"]],\"sequentialminus\":[[0.0,\"#0d0887\"],[0.1111111111111111,\"#46039f\"],[0.2222222222222222,\"#7201a8\"],[0.3333333333333333,\"#9c179e\"],[0.4444444444444444,\"#bd3786\"],[0.5555555555555556,\"#d8576b\"],[0.6666666666666666,\"#ed7953\"],[0.7777777777777778,\"#fb9f3a\"],[0.8888888888888888,\"#fdca26\"],[1.0,\"#f0f921\"]],\"diverging\":[[0,\"#8e0152\"],[0.1,\"#c51b7d\"],[0.2,\"#de77ae\"],[0.3,\"#f1b6da\"],[0.4,\"#fde0ef\"],[0.5,\"#f7f7f7\"],[0.6,\"#e6f5d0\"],[0.7,\"#b8e186\"],[0.8,\"#7fbc41\"],[0.9,\"#4d9221\"],[1,\"#276419\"]]},\"xaxis\":{\"gridcolor\":\"white\",\"linecolor\":\"white\",\"ticks\":\"\",\"title\":{\"standoff\":15},\"zerolinecolor\":\"white\",\"automargin\":true,\"zerolinewidth\":2},\"yaxis\":{\"gridcolor\":\"white\",\"linecolor\":\"white\",\"ticks\":\"\",\"title\":{\"standoff\":15},\"zerolinecolor\":\"white\",\"automargin\":true,\"zerolinewidth\":2},\"scene\":{\"xaxis\":{\"backgroundcolor\":\"#E5ECF6\",\"gridcolor\":\"white\",\"linecolor\":\"white\",\"showbackground\":true,\"ticks\":\"\",\"zerolinecolor\":\"white\",\"gridwidth\":2},\"yaxis\":{\"backgroundcolor\":\"#E5ECF6\",\"gridcolor\":\"white\",\"linecolor\":\"white\",\"showbackground\":true,\"ticks\":\"\",\"zerolinecolor\":\"white\",\"gridwidth\":2},\"zaxis\":{\"backgroundcolor\":\"#E5ECF6\",\"gridcolor\":\"white\",\"linecolor\":\"white\",\"showbackground\":true,\"ticks\":\"\",\"zerolinecolor\":\"white\",\"gridwidth\":2}},\"shapedefaults\":{\"line\":{\"color\":\"#2a3f5f\"}},\"annotationdefaults\":{\"arrowcolor\":\"#2a3f5f\",\"arrowhead\":0,\"arrowwidth\":1},\"geo\":{\"bgcolor\":\"white\",\"landcolor\":\"#E5ECF6\",\"subunitcolor\":\"white\",\"showland\":true,\"showlakes\":true,\"lakecolor\":\"white\"},\"title\":{\"x\":0.05},\"mapbox\":{\"style\":\"light\"}}},\"xaxis\":{\"anchor\":\"y\",\"domain\":[0.0,1.0],\"title\":{\"text\":\"Componente 1\"}},\"yaxis\":{\"anchor\":\"x\",\"domain\":[0.0,1.0],\"title\":{\"text\":\"Componente 2\"}},\"legend\":{\"title\":{\"text\":\"color\"},\"tracegroupgap\":0},\"margin\":{\"t\":60},\"title\":{\"text\":\"Clusters seg\\u00fan LRMFP\"}},                        {\"responsive\": true}                    ).then(function(){\n",
              "                            \n",
              "var gd = document.getElementById('4fc2a917-e6bc-42d6-bd8d-47635961d3b0');\n",
              "var x = new MutationObserver(function (mutations, observer) {{\n",
              "        var display = window.getComputedStyle(gd).display;\n",
              "        if (!display || display === 'none') {{\n",
              "            console.log([gd, 'removed!']);\n",
              "            Plotly.purge(gd);\n",
              "            observer.disconnect();\n",
              "        }}\n",
              "}});\n",
              "\n",
              "// Listen for the removal of the full notebook cells\n",
              "var notebookContainer = gd.closest('#notebook-container');\n",
              "if (notebookContainer) {{\n",
              "    x.observe(notebookContainer, {childList: true});\n",
              "}}\n",
              "\n",
              "// Listen for the clearing of the current output cell\n",
              "var outputEl = gd.closest('.output');\n",
              "if (outputEl) {{\n",
              "    x.observe(outputEl, {childList: true});\n",
              "}}\n",
              "\n",
              "                        })                };                            </script>        </div>\n",
              "</body>\n",
              "</html>"
            ]
          },
          "metadata": {}
        }
      ]
    },
    {
      "cell_type": "markdown",
      "metadata": {
        "id": "Rg4ZMq8ezAH6",
        "cell_id": "94721075d5ff44bd83601c871797ae2a",
        "deepnote_cell_height": 514.4666748046875,
        "deepnote_cell_type": "markdown"
      },
      "source": [
        "# Conclusión\n",
        "Eso ha sido todo para el lab de hoy, recuerden que el laboratorio tiene un plazo de entrega de una semana. Cualquier duda del laboratorio, no duden en contactarnos por correo, Discord o U-cursos.\n",
        "\n",
        "![Gracias Totales!](https://i.pinimg.com/originals/65/ae/27/65ae270df87c3c4adcea997e48f60852.gif \"bruno\")\n"
      ]
    },
    {
      "cell_type": "markdown",
      "metadata": {
        "id": "wCL1lACBzAH7",
        "cell_id": "7e31a91f8cb744cabd0ed0287ac5257e",
        "deepnote_cell_height": 171.28334045410156,
        "deepnote_cell_type": "markdown"
      },
      "source": [
        "<br>\n",
        "<center>\n",
        "<img src=\"https://i.kym-cdn.com/photos/images/original/001/194/195/b18.png\" width=100 height=50 />\n",
        "</center>\n",
        "<br>"
      ]
    },
    {
      "cell_type": "markdown",
      "source": [
        "<a style='text-decoration:none;line-height:16px;display:flex;color:#5B5B62;padding:10px;justify-content:end;' href='https://deepnote.com?utm_source=created-in-deepnote-cell&projectId=87110296-876e-426f-b91d-aaf681223468' target=\"_blank\">\n",
        "<img alt='Created in deepnote.com' style='display:inline;max-height:16px;margin:0px;margin-right:7.5px;' src='data:image/svg+xml;base64,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' > </img>\n",
        "Created in <span style='font-weight:600;margin-left:4px;'>Deepnote</span></a>"
      ],
      "metadata": {
        "created_in_deepnote_cell": true,
        "deepnote_cell_type": "markdown",
        "id": "eYMpYn3Je3Bl"
      }
    }
  ],
  "nbformat": 4,
  "nbformat_minor": 0,
  "metadata": {
    "toc": {
      "sideBar": true,
      "nav_menu": {},
      "toc_cell": false,
      "title_cell": "Tabla de Contenidos",
      "toc_position": {
        "top": "150px",
        "left": "10px",
        "width": "241.867px",
        "height": "calc(100% - 180px)"
      },
      "skip_h1_title": true,
      "title_sidebar": "Contenidos",
      "base_numbering": 1,
      "number_sections": true,
      "toc_window_display": true,
      "toc_section_display": true
    },
    "colab": {
      "provenance": [],
      "toc_visible": true
    },
    "deepnote": {},
    "kernelspec": {
      "name": "python3",
      "language": "python",
      "display_name": "Python 3"
    },
    "varInspector": {
      "cols": {
        "lenVar": 40,
        "lenName": 16,
        "lenType": 16
      },
      "kernels_config": {
        "r": {
          "library": "var_list.r",
          "varRefreshCmd": "cat(var_dic_list()) ",
          "delete_cmd_prefix": "rm(",
          "delete_cmd_postfix": ") "
        },
        "python": {
          "library": "var_list.py",
          "varRefreshCmd": "print(var_dic_list())",
          "delete_cmd_prefix": "del ",
          "delete_cmd_postfix": ""
        }
      },
      "window_display": false,
      "types_to_exclude": [
        "module",
        "function",
        "builtin_function_or_method",
        "instance",
        "_Feature"
      ]
    },
    "language_info": {
      "name": "python",
      "version": "3.8.3",
      "mimetype": "text/x-python",
      "file_extension": ".py",
      "pygments_lexer": "ipython3",
      "codemirror_mode": {
        "name": "ipython",
        "version": 3
      },
      "nbconvert_exporter": "python"
    },
    "deepnote_notebook_id": "33c253a4f84d40a091bd5023e95abb64",
    "deepnote_execution_queue": []
  }
}