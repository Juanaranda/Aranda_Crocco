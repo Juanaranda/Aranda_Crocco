{
  "cells": [
    {
      "cell_type": "markdown",
      "metadata": {
        "cell_id": "097fce6dce21405c911254a775ae3d26",
        "deepnote_cell_type": "markdown",
        "id": "J4_IcuuKZj9Y"
      },
      "source": [
        "<h1><center>Laboratorio 1: Git 👾</center></h1>\n",
        "\n",
        "<center><strong>MDS7202: Laboratorio de Programación Científica para Ciencia de Datos - Primavera 2023</strong></center>"
      ]
    },
    {
      "cell_type": "markdown",
      "metadata": {
        "cell_id": "9e8e8f2ae34e461da4f44508a96d2cf4",
        "deepnote_cell_type": "markdown",
        "id": "AEXIACc7aADv"
      },
      "source": [
        "### Cuerpo Docente:\n",
        "\n",
        "- Profesores: Ignacio Meza, Gabriel Iturra\n",
        "- Auxiliar: Sebastián Tinoco\n",
        "- Ayudante: Arturo Lazcano, Angelo Muñoz"
      ]
    },
    {
      "cell_type": "markdown",
      "metadata": {
        "cell_id": "3e5b48c23e1b48f6a64de41899166179",
        "deepnote_cell_type": "markdown",
        "id": "0HgMMyoCaG8X"
      },
      "source": [
        "### Equipo: SUPER IMPORTANTE - notebooks sin nombre no serán revisados\n",
        "\n",
        "- Nombre de alumno 1: Nicolás Crocco\n",
        "- Nombre de alumno 2: Juan Aranda"
      ]
    },
    {
      "cell_type": "markdown",
      "metadata": {
        "cell_id": "1db7c82b68614d19b112ba3b0d0abe4d",
        "deepnote_cell_type": "markdown",
        "id": "fz77X6glaK6y"
      },
      "source": [
        "### **Link de repositorio de GitHub:** `https://github.com/Juanaranda/Aranda_Crocco`"
      ]
    },
    {
      "cell_type": "markdown",
      "metadata": {
        "cell_id": "bc3dac65089d4ae6a43c079547dee179",
        "deepnote_cell_type": "markdown",
        "id": "rRwqaxIZaNx3"
      },
      "source": [
        "## Reglas:\n",
        "\n",
        "- Fecha de entrega: 6 días desde la publicación, 3 días de atraso con 1 punto de descuento c/u. Pueden utilizar días bonus sin descuento.\n",
        "- **Grupos de 2 personas**\n",
        "- Asistencia **obligatoria** a instrucciones del lab (viernes 16.15). Luego, pueden quedarse trabajando en las salas o irse.\n",
        "- **Ausentes tienen nota máxima 6.0**.  \n",
        "- Cualquier duda fuera del horario de clases al foro. Mensajes al equipo docente serán respondidos por este medio.\n",
        "- <u>Prohibidas las copias</u>. Cualquier intento de copia será debidamente penalizado con el reglamento de la escuela.\n",
        "- Pueden usar cualquer material del curso que estimen conveniente.\n",
        "- Asistencia obligatoria a instrucciones del lab (viernes 16.15). Luego, pueden quedarse trabajando en las salas o irse."
      ]
    },
    {
      "cell_type": "markdown",
      "metadata": {
        "cell_id": "05e4729411a24153837fd13b7f198bd9",
        "deepnote_cell_type": "markdown",
        "id": "bmToL27JaSrf"
      },
      "source": [
        "## Objetivos del lab:\n",
        "\n",
        "\n",
        "- Conocer los elementos básicos que conformar `Git`\n",
        "- Clonar repositorios\n",
        "- Identificar ramas de un repositorio\n",
        "- Reconocer y solucionar problemas entre ramas\n",
        "- Subir cambios a un repositorio"
      ]
    },
    {
      "cell_type": "markdown",
      "metadata": {
        "cell_id": "5ebae9d601bd4d508349ab55297e9f82",
        "deepnote_cell_type": "markdown",
        "id": "bvnPCvrVbJLK"
      },
      "source": [
        "## Parte 1: Conocimiento Teórico (2.5 pts)\n",
        "\n",
        "<p align=\"center\">\n",
        "  <img src=\"https://cdn.thedesigninspiration.com/wp-content/uploads/sites/3/2019/04/macintosh-hdusersbrittanyloefflerdownloadsanig-1.gif\" width=\"350\">\n",
        "</p>"
      ]
    },
    {
      "cell_type": "markdown",
      "metadata": {
        "cell_id": "627494dba4f84520b3ee8b9cbf58ee79",
        "deepnote_cell_type": "markdown",
        "id": "JHl-24XnbNLF"
      },
      "source": [
        "Responda las siguientes preguntas (0.2 pts c/u):\n",
        "\n",
        "1. ¿Qué es `Git` y cómo se relaciona con el control de versiones?\n",
        "\n",
        "2. Nombre y explique 3 diferencias entre `Git` y `Github`.\n",
        "\n",
        "3. ¿Qué es un `hash` y cómo se representa en un `commit`? De un ejemplo.\n",
        "\n",
        "4. ¿Que elementos componen a la estructura de datos de `Git`?\n",
        "\n",
        "5. ¿Que comandos de `Git` sirven para crear un repositorio y hacer seguimiento a cambios en los archivos?"
      ]
    },
    {
      "cell_type": "markdown",
      "metadata": {
        "cell_id": "6d06c40f429044a298b27c666f51f46f",
        "deepnote_cell_type": "markdown",
        "id": "2tXCSkf0caG8"
      },
      "source": [
        "<code>Respuestas:</code>\n",
        "1. Git es un software de control de versiones distribuido para archivos locales, esto significa, que permite registrar los cambios que se le hagan a un archivo a lo largo del tiempo de manera local en tu computadora. Esto permite mantener un historial de versiones de un mismo proyecto, lo que facilita la colaboración en equipo y permite volver a versiones anteriores de un archivo en caso de erroes.\n",
        "\n",
        "\n",
        "2. En primer lugar, Git y Github son **herramientas diferentes**. Como se menciona en la pregunta anterior, Git es un sistema de control de versiones que funciona de manera local en las computadoras. En general, este se utiliza mediante líneas de comando para monitorear cambios en diferentes archivos y directorios. Además, al funcionar de forma local, no necesita de acceso a internet. Por otro lado, Github es una software en línea, que se utiliza para almacenar proyectos y trabajar en ellos de forma colaborativa. Github entrega servicios de nube que complementan el uso de los repositorios de Git.\n",
        "Una segunda diferencia, que fue mencionada en el párrafo anterior, es que Git funciona de forma **local**, mientras que Github necesita de **acceso a internet**.\n",
        "Una tercera diferencia es que, al ser Github una plataforma en línea, **facilita el trabajo colaborativo en archivos**. Si bien el control de versiones de Git permite esto de forma local, Github entrega una experiencia más completa, funcionando como una especie de red social, propiciando el trabajo con diferentes \"comunidades\" on-line.\n",
        "\n",
        "\n",
        "\n",
        "3. El hash es un identificador alfanumérico único de 40 caracteres hexadecimales que Git asigna a cada versión de un archivo. En el contexto de un commit, estos hashes están asociados a comentarios de confirmación que describen de manera concisa los cambios realizados. Estos comentarios son conocidos como mensajes de commit. El hash se asigna a cada mensaje de commit, y cumple la función de identificar de forma única los cambios efectuados en un archivo, registrando cuándo se realizaron y quién los efectuó. Por ejemplo, si se realiza un commit de un archivo, se le asignará un hash específico que servirá como una etiqueta única para ese conjunto de cambios en particular.\n",
        "Por ejemplo, supongamos que se realiza un commit con la siguiente información:\n",
        "* Autor: Nicolas Crocco\n",
        "* Mensaje del commit: \"Actualizado el botón de like\"\n",
        "* Cambios: se han realizado cambios en los archivos \"like.html\". y \"like.js\"\n",
        "\n",
        "El hash puede ser de la siguiente forma: <code>4015b5b9f55bc2b45ce22c8f77dabe7967e24aef</code>\n",
        "\n",
        "\n",
        "4. En Git existen tres elementos que componen la estructura de datos: blob, tree y commit.\n",
        "\n",
        "\n",
        "5. Para crear un repositorio vacío se puede usar el comando <code>git init {directorio} </code>. Para hacer seguimiento a cambios en los archivos primero se deben agregar los archivos o directorios que se quieren monitorear al área de staging, para esto se debe usar el siguiente comando: <code>git add {nombre dir o archivo/s} </code>. Para confirmar un cambio realizado a un archivo se debe realizar un commit, para ello se utiliza el siguiente comando: <code>git commit -m \"{mensaje describiendo cambios}\" </code>."
      ]
    },
    {
      "cell_type": "markdown",
      "metadata": {
        "cell_id": "ec9855406e324cc98b59e33500faea84",
        "deepnote_cell_type": "markdown",
        "id": "MACccbP4gU43"
      },
      "source": [
        "Responda si las siguientes afirmaciones son Verdaderas (V) o Falsas (F). Justifique en **cualquiera** de los casos (0.2 pts c/u):\n",
        "\n",
        "\n",
        "6. `Git` siempre resuelve automáticamente los problemas de lineas al hacer merge entre diferentes ramas.\n",
        "7. Ejecutar `git pull` sobre un repositorio es equivalente a ejecutar `git clone`.\n",
        "8. `git status` genera los mismos resultados que `git log`.\n",
        "9. En `Git` es posible deshacer cambios y volver a versiones anteriores del código.\n",
        "10. El comando `git commit` se utiliza para enviar cambios al repositorio remoto."
      ]
    },
    {
      "cell_type": "markdown",
      "metadata": {
        "cell_id": "7e6a5a6e15b045cc9d104cf017825f1a",
        "deepnote_cell_type": "markdown",
        "id": "DFnmCToOgeM3"
      },
      "source": [
        "<code>Respuestas:</code>\n",
        "\n",
        "6. **Falso**. Git no siempre resuelve automáticamente los problemas de líneas al hacer un merge entre diferentes ramas. En algunos casos, puede haber conflictos en los cambios realizados en las mismas líneas de diferentes ramas, lo que requerirá que el usuario resuelva manualmente los conflictos.\n",
        "\n",
        "\n",
        "7. **Falso**. Ejecutar git pull sobre un repositorio no es equivalente a ejecutar git clone. git pull trae los cambios desde un repositorio remoto y los fusiona con la rama actual. Por otro lado, git clone se utiliza para crear una copia completa de un repositorio remoto en tu computadora.\n",
        "\n",
        "\n",
        "8. **Falso**. git status y git log generan resultados diferentes. git status muestra información sobre el estado actual del repositorio, como los archivos modificados, los archivos sin rastrear, etc. En cambio, git log muestra el historial de commits del repositorio.\n",
        "\n",
        "\n",
        "9. **Verdadero**. En Git es posible deshacer cambios y volver a versiones anteriores del código utilizando comandos como git reset, git checkout, y también mediante la creación de ramas y commits específicos.\n",
        "\n",
        "\n",
        "10. **Falso**. El comando git commit se utiliza para confirmar los cambios en el repositorio local. Para enviar los cambios al repositorio remoto, se utiliza el comando git push."
      ]
    },
    {
      "cell_type": "markdown",
      "metadata": {
        "cell_id": "54317cad024744ebaf4938df55ba3b95",
        "deepnote_cell_type": "markdown",
        "id": "Yg0pRNkDfMfK"
      },
      "source": [
        "Por último, investigue y comente para qué sirven los siguientes comandos:\n",
        "\n",
        "11. `git stash` (0.25 puntos)\n",
        "\n",
        "**R:** Este comando se utiliza para almacenar temporalmente (o guardar en un stash) los cambios que se hayan efectuado en un código en el que se esté trabajando, para poder seguir trabajando en otra cosa y, más tarde, regresar y volver a aplicar los cambios.\n",
        "\n",
        "12. `git reset`. ¿Cuál es la diferencia de este comando con `git revert`?. (0.25 puntos)\n",
        "\n",
        "**R:** El comando `git reset` se utiliza para reorganizar la historia y puede eliminar commits, mientras que `git revert` se utiliza para deshacer cambios de manera segura sin alterar la historia existente.\n",
        "\n",
        "\n",
        "\n",
        "\n",
        "\n"
      ]
    },
    {
      "cell_type": "markdown",
      "metadata": {
        "cell_id": "3e4d8b9974e4426ca38fd20f4b835a55",
        "deepnote_cell_type": "markdown",
        "id": "i7Em9JkbbRLo"
      },
      "source": [
        "## Parte 2: Creando una presentación personal (1.5 pts)\n",
        "\n",
        "<p align=\"center\">\n",
        "  <img src=\"https://media.tenor.com/arqlNu8gyJYAAAAC/cat-cat-jumping.gif\" width=\"150\">\n",
        "</p>\n",
        "\n"
      ]
    },
    {
      "cell_type": "markdown",
      "metadata": {
        "cell_id": "988648005dba4b9782c6625dfe6ae4ef",
        "deepnote_cell_type": "markdown",
        "id": "XWIHfyrlbYOJ"
      },
      "source": [
        "Para empezar a \"*soltar las manos*\" con `Git`, se les encomienda crear un repositorio con una presentación personal. El repositorio debe contener un breve resumen de quienes son ustedes, sus gustos, experiencias, y cualquier otro detalle interesante que ustedes consideren relevante.\n",
        "\n",
        "Para realizar esto, deben seguir los siguientes pasos:\n",
        "\n",
        "1. Contar con una cuenta de github (1 por persona)\n",
        "2. Crear un repositorio con su nombre de usuario\n",
        "3. Vincular el repositorio a su ambiente local ¿Qué comando(s) me permiten hacer esto?\n",
        "4. Crear un archivo `readme.md` con la información que ustedes deseen compartir.\n",
        "5. Realizar `push` con los cambios generados\n",
        "\n",
        "A modo de ejemplo, pueden guiarse por esta *suculenta* [presentación](https://github.com/Mezosky)\n",
        "\n",
        "**Nota: Deben trabajar todos estos puntos desde su ambiente local**\n",
        "\n",
        "*Hint: Una buena opción es usar templates de presentación personal que encuentren en Google, como los que ofrece este [sitio](https://durgeshsamariya.github.io/awesome-github-profile-readme-templates/#/)*.\n",
        "\n",
        "**Entregable:**\n",
        "\n",
        "Enlace al repositorio con la presentación personal.\n",
        "\n",
        "IMPORTANTE: DEBEN ADJUNTAR UN ENLACE POR PERSONA"
      ]
    },
    {
      "cell_type": "markdown",
      "metadata": {
        "cell_id": "081b38d55dc54282bc8e3cd300ce9d3e",
        "deepnote_cell_type": "markdown",
        "id": "IIkWyl9tf0Sg"
      },
      "source": [
        "<code>Link Presentacion 1:</code> https://github.com/NicoCrocco\n",
        "\n",
        "<code>Link Presentacion 2:</code> https://github.com/JuanAranda"
      ]
    },
    {
      "cell_type": "markdown",
      "metadata": {
        "cell_id": "0481a05d2d1a46928f6cfb7762720980",
        "deepnote_cell_type": "markdown",
        "id": "CAzXOwvDY-IG"
      },
      "source": [
        "## Parte 3: Trabajando sobre un repositorio externo (2 pts)\n",
        "\n",
        "<p align=\"center\">\n",
        "  <img src=\"https://media.tenor.com/YXL-0SK15j4AAAAC/dance-animals.gif\" width=\"300\">\n",
        "</p>\n",
        "\n",
        "Tras muchos dolores de cabeza, un grupo de entusiastas académicos decidieron aprender sobre `Git` y así trabajar colaborativamente de forma más ordenada y eficiente. Después de una infinidad de intentos y aprender de sus errores \"*a la mala*\", los académicos lograron levantar un [repositorio](https://github.com/MDS7202/lab1) en `Github`. Usando el repositorio de los académicos, responda las siguientes preguntas (**incluya también los comandos en `Git` ocupados**):\n"
      ]
    },
    {
      "cell_type": "markdown",
      "metadata": {
        "cell_id": "bcef73b2e8604579bde90ed6622abfe9",
        "deepnote_cell_type": "markdown",
        "id": "BFRnAw0rfguR"
      },
      "source": [
        "1. Clone el repositorio a su ambiente local. (0.25 pts)"
      ]
    },
    {
      "cell_type": "markdown",
      "metadata": {
        "cell_id": "5d126ac3819c44479af94d3895bc4c97",
        "deepnote_cell_type": "markdown",
        "id": "KXro32yBeilN"
      },
      "source": [
        "<code>Respuesta:</code><br>\n",
        "<code>git clone https://github.com/MDS7202/lab1 /Users/nicocrocco/Desktop/Universidad/Semestres/12vo Semestre/Laboratorio de Programación Científica/Labs/Lab_1/lab1</code>"
      ]
    },
    {
      "cell_type": "markdown",
      "metadata": {
        "cell_id": "e215e4e25b2440f09ac273ba63603986",
        "deepnote_cell_type": "markdown",
        "id": "FzNd9xhmfMfN"
      },
      "source": [
        "2. Descomprima los archivos subidos con la tarea en U-cursos en la carpeta recién clonada de github. Una vez realizado esto, cree un archivo `.gitignore` con el cual omita la carpeta `videos` y los archivos con la extensión `.txt` exceptuando el archivo `171.txt` de la carpeta `texts`. (0.25 pts)"
      ]
    },
    {
      "cell_type": "markdown",
      "metadata": {
        "cell_id": "186233b44d004e3bbd86262d010188b5",
        "deepnote_cell_type": "markdown",
        "id": "lsxPc0nlfMfN"
      },
      "source": [
        "<code>Para esta pregunta usted deberá adjuntar el .gitignore creado en su repo.</code>"
      ]
    },
    {
      "cell_type": "markdown",
      "metadata": {
        "cell_id": "1de150590a41484a988b8e46616a2324",
        "deepnote_cell_type": "markdown",
        "id": "q2qmiDyjt2M_"
      },
      "source": [
        "3. Inspeccione brevemente el repositorio: ¿Cual es el objetivo del proyecto? Explique brevemente la estructura del proyecto, asi como también cada elemento que lo conforma. (0.25 pts)"
      ]
    },
    {
      "cell_type": "markdown",
      "metadata": {
        "cell_id": "082ca01c865e48e28352b280400c47b6",
        "deepnote_cell_type": "markdown",
        "id": "aBHpR8VTftkT"
      },
      "source": [
        "<code>Respuesta:</code> <br>\n",
        "El objetivo del proyecto es emular sonidos de animales.\n",
        "El proyecto cuenta con 3 archivos:\n",
        "- Un archivo readme.md que cuenta con una imagen de animales y el objetivo del proyecto.\n",
        "- Un archivo llamado animales.py, que cuenta con una función que a partir de un input entrega el sonido que hace un gato, un perro y un zorro.\n",
        "- Un archivo llamado main.py, que cuenta con una clase que recibe el input con el nombre del animal y trae los \"sonidos\" desde el archivo animal.py."
      ]
    },
    {
      "cell_type": "markdown",
      "metadata": {
        "cell_id": "3aab4a3ee0c246e1be955680ad653fb8",
        "deepnote_cell_type": "markdown",
        "id": "XFwqcpLZfylf"
      },
      "source": [
        "4. Identifique los últimos cambios al repositorio, reconociendo las principales ramas de trabajo. ¿Son informativos los `commit` realizados? (0.25 pts)\n",
        "*Hint: Se recomienda usar los argumentos `all`, `graph` y `decorate`*"
      ]
    },
    {
      "cell_type": "markdown",
      "metadata": {
        "cell_id": "0fab79a360ac4c6a9ca0ab884f85c7e1",
        "deepnote_cell_type": "markdown",
        "id": "cmWfXBkOhog0"
      },
      "source": [
        "<code>Respuesta:</code><br>\n",
        "En primer lugar, el comando utilizado para obtener los cambios al repositorio fue el siguiente: <code>git log --all --graph --decorate</code><br>\n",
        "Con esto, se pudo identificar la realización de cuatro cambios, o commits, en el repositorio. Las principales ramas de trabajo son: main, new_features y fix-ifs.<br>\n",
        "El primer commit, realizado por seba, crea el proyecto.\n",
        "El segundo commit o cambio fue también realizado por seba, donde se agregó una función.\n",
        "El tercer fue realizado por mezaosky, creando las tres ramas del proyecto, es decir, separando el proyecto en módulos.<br>\n",
        "El cuarto cambio fue realizado por Pablo Badilla, a la rama \"fix-ifs\", donde se modificaron los ifs del archivo animales.py."
      ]
    },
    {
      "cell_type": "markdown",
      "metadata": {
        "cell_id": "d07b24d21f2343fb9a7e6a5db74e98c3",
        "deepnote_cell_type": "markdown",
        "id": "Vqbj9HdXrUnN"
      },
      "source": [
        "5. Uno de los académicos se da cuenta que la rama principal de trabajo no se ejecuta correctamente para todos los argumentos. Señale y explique el error en el código e identifique a la persona que lo cometió usando `git blame` (0.25 pts)\n",
        "\n",
        "*Hint: Le puede ser útil esta [documentación](https://www.atlassian.com/es/git/tutorials/inspecting-a-repository/git-blame).*"
      ]
    },
    {
      "cell_type": "markdown",
      "metadata": {
        "cell_id": "bc5b0f9c639643108f8e66687b721732",
        "deepnote_cell_type": "markdown",
        "id": "5ajhV2Iar3tV"
      },
      "source": [
        "<code>Respuesta:</code>\n",
        "Luego de realizar git blame a los archivos mani.py y animales.py (<code>git blame animales.py</code>) se obtuvo lo siguiente:\n",
        "\n",
        "<code>362fe21e (mezosky 2023-03-23 21:47:34 -0300  1) def animales(input):</code>\n",
        "\n",
        "<code>362fe21e (mezosky 2023-03-23 21:47:34 -0300  2)</code>\n",
        "\n",
        "<code>362fe21e (mezosky 2023-03-23 21:47:34 -0300  3)     '''</code>\n",
        "\n",
        "<code>362fe21e (mezosky 2023-03-23 21:47:34 -0300  4)     Como hace el animalito?</code>\n",
        "\n",
        "<code>362fe21e (mezosky 2023-03-23 21:47:34 -0300  5)     '''</code>\n",
        "\n",
        "<code>362fe21e (mezosky 2023-03-23 21:47:34 -0300  6) </code>\n",
        "\n",
        "<code>362fe21e (mezosky 2023-03-23 21:47:34 -0300  7)     if input.lower() == 'gato':</code>\n",
        "\n",
        "<code>362fe21e (mezosky 2023-03-23 21:47:34 -0300  8)         print('miau')</code>\n",
        "\n",
        "<code>362fe21e (mezosky 2023-03-23 21:47:34 -0300  9)     if input.lower() == 'perro':</code>\n",
        "\n",
        "<code>362fe21e (mezosky 2023-03-23 21:47:34 -0300 10)         print('guau')</code>\n",
        "\n",
        "<code>362fe21e (mezosky 2023-03-23 21:47:34 -0300 11)     if input.lower() == 'fox':</code>\n",
        "\n",
        "<code>362fe21e (mezosky 2023-03-23 21:47:34 -0300 12)         print('https://www.youtube.com/watch?v=jofNR_WkoCE')</code>\n",
        "\n",
        "<code>362fe21e (mezosky 2023-03-23 21:47:34 -0300 13)     else:</code>\n",
        "\n",
        "<code>362fe21e (mezosky 2023-03-23 21:47:34 -0300 14)         raise ValueError('animal no reconocido :(')</code>\n",
        "\n",
        "Donde se puede observar que el error de este código fue cometido por Ignacio Meza, alias Mezosky y está en los \"if\" de las líneas 7 y 8. Ya que al ejecutar el código de esta manera, el \"else\" de la línea 13 se tomará como si estuviese solamente relacionado con el \"if\" de la fila 11, por lo que si en el input se introduce cualquier animal que no sea zorro el código nos entregaría el mensaje de error: \"animal no reconocido\". Para solucionar esto, ambos \"if\" mencionados deberían ser reemplazados por \"elif\"."
      ]
    },
    {
      "cell_type": "markdown",
      "metadata": {
        "cell_id": "f3f4e78e6d9145ebbb120c0a2e4aade6",
        "deepnote_cell_type": "markdown",
        "id": "m8J3uE7MhqTA"
      },
      "source": [
        "6. Busque los siguientes `commit`:\n",
        "\n",
        "- `c8b1a62d7299552b0654f930d695b33109214111`\n",
        "- `362fe21ee44f53ee944cee4ba484600308f83d78`\n",
        "- `25543a3baf77292baf849726784ca005473acab1`\n",
        "\n",
        "¿Qué diferencias existen entre cada uno? (0.25 pts)"
      ]
    },
    {
      "cell_type": "markdown",
      "metadata": {
        "cell_id": "696ed361ac0c41c8a214cfad9dcb39e6",
        "deepnote_cell_type": "markdown",
        "id": "sNHnZsgIitGh"
      },
      "source": [
        "<code>Respuesta:</code><br>\n",
        "El primer commit realizado de esos tres es el <code>25543a3...</code>, en el cual se agregó una función al proyecto.<br>\n",
        "El segundo commit realizado fue el <code>25543a3...</code>, donde se separó el proyecto en tres ramas.<br>\n",
        "El último commit realizado fue el <code>c8b1a62...</code>, en el cual se modificaron los ifs del archivo animales.py en una rama remota, razón por la cual al clonar el repositorio, este cambio no se visualizó.<br>\n",
        "La principal diferencia que se puede notar de los distintos commits, a parte de los diferentes cambios que cada uno de ellos realiza, es que cada uno se hizo en diferentes ramas del proyecto."
      ]
    },
    {
      "cell_type": "markdown",
      "metadata": {
        "cell_id": "b4e18f8ce94c430f85915c4e2732d05b",
        "deepnote_cell_type": "markdown",
        "id": "WQIPbfNCgpxC"
      },
      "source": [
        "7. Realice una `merge` de la rama `fix-ifs` con la rama `main` y describa lo que ocurre. ¿Qué parte del código podría estar ocasionando esto? (0.25 pts)"
      ]
    },
    {
      "cell_type": "markdown",
      "metadata": {
        "cell_id": "36da6a0d4f4a427bbccac09e2ae965fd",
        "deepnote_cell_type": "markdown",
        "id": "ypH_6lL5ioZz"
      },
      "source": [
        "<code>Respuesta:</code>\n",
        "\n",
        "Luego de entrar a la rama main con el comando <code>git checkout main</code>, se realizó una <code>merge</code> de la rama <code>fix-ifs</code> con el comando <code>git merge origin/fix-ifs</code>. Este no se pudo llevar a cabo debido a un conflicto de \"fusión\", y además, solicita \"arreglar el conflicto y luego realizar un commit con el resultado.\" Lo anterior se produce por el cambio que se hizo al archivo desde una rama rempota, como se mencionó en la pregunta pasada.\n",
        "\n"
      ]
    },
    {
      "cell_type": "markdown",
      "metadata": {
        "cell_id": "09787ab449c543479e5cc54c2a3b6c19",
        "deepnote_cell_type": "markdown",
        "id": "GYfODCjeivkU"
      },
      "source": [
        "8. Cree una rama nueva y proponga una solución al problema anterior, adjuntando el código corregido y señalando las líneas modificadas. (0.25 pts)"
      ]
    },
    {
      "cell_type": "markdown",
      "metadata": {
        "cell_id": "6d963fba3f2d4c17a4b281c7d3f4fb8b",
        "deepnote_cell_type": "markdown",
        "id": "8heBxDU9iziT"
      },
      "source": [
        "<code>Respuesta:</code>\n",
        "Utilizando el código <code>git checkout -b fix-error</code>, se creó una nueva rama para resolver el error. En esta, se corrigió el código incorrecto en la rama fix-ifs, donde no se realizó la separación de los módulos y no existe el módulo animales.py, de esta forma, el nuevo código del archivo main.py queda de la siguiente manera:\n",
        "\n",
        "```\n",
        "def animales(input):\n",
        "    \n",
        "    '''\n",
        "    Como hace el animalito?\n",
        "    '''\n",
        "    \n",
        "    if input.lower() == 'gato':\n",
        "        print('miau')\n",
        "    elif input.lower() == 'perro':\n",
        "        print('guau')\n",
        "    elif input.lower() == 'fox':\n",
        "        print('https://www.youtube.com/watch?v=jofNR_WkoCE')\n",
        "    else:\n",
        "        raise ValueError('animal no reconocido :(')\n",
        "\n",
        "if __name__ == '__main__':\n",
        "    print(\\\"Ingrese el animalito para saber que dice:\\\")\n",
        "    animal = input()\n",
        "    animales(animal)\n",
        "```\n",
        "\n",
        "Con esto, no hay poroblemas para realizar el merge y el programa puede ejecutarse sin problemas."
      ]
    },
    {
      "cell_type": "markdown",
      "metadata": {
        "cell_id": "8a47d4bf8b3045d68e4f29bb449c87f1",
        "deepnote_cell_type": "markdown",
        "id": "Av8ebB9jkALO"
      },
      "source": [
        "## Fin"
      ]
    },
    {
      "cell_type": "markdown",
      "metadata": {
        "cell_id": "cec4b53942ed489f8f8b63d0e9d4f3e5",
        "deepnote_cell_type": "markdown",
        "id": "aQqZT9fSkBK8"
      },
      "source": [
        "Eso ha sido todo por ahora!! Esperamos que este laboratorio les haya gustado y servido para trabajar con `Git`. Recuerden los dias de plazo que tienen disponibles y que ante cualquier duda no duden en contactar al equipo docente.\n",
        "\n",
        "Nos vemos!!\n",
        "\n",
        "<p align=\"center\">\n",
        "  <img src=\"https://media.tenor.com/OYLdav9k9LkAAAAd/kitty-cat.gif\" width=\"350\">\n",
        "</p>\n"
      ]
    },
    {
      "cell_type": "markdown",
      "metadata": {
        "created_in_deepnote_cell": true,
        "deepnote_cell_type": "markdown",
        "id": "xHqCNJ7qfMfT"
      },
      "source": [
        "<a style='text-decoration:none;line-height:16px;display:flex;color:#5B5B62;padding:10px;justify-content:end;' href='https://deepnote.com?utm_source=created-in-deepnote-cell&projectId=87110296-876e-426f-b91d-aaf681223468' target=\"_blank\">\n",
        "<img alt='Created in deepnote.com' style='display:inline;max-height:16px;margin:0px;margin-right:7.5px;' src='data:image/svg+xml;base64,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' > </img>\n",
        "Created in <span style='font-weight:600;margin-left:4px;'>Deepnote</span></a>"
      ]
    }
  ],
  "metadata": {
    "colab": {
      "provenance": []
    },
    "deepnote": {},
    "deepnote_execution_queue": [],
    "deepnote_notebook_id": "62cd20d52b9a4810ada15644630456dc",
    "kernelspec": {
      "display_name": "Python 3",
      "language": "python",
      "name": "python3"
    },
    "language_info": {
      "codemirror_mode": {
        "name": "ipython",
        "version": 3
      },
      "file_extension": ".py",
      "mimetype": "text/x-python",
      "name": "python",
      "nbconvert_exporter": "python",
      "pygments_lexer": "ipython3",
      "version": "3.8.3"
    }
  },
  "nbformat": 4,
  "nbformat_minor": 0
}