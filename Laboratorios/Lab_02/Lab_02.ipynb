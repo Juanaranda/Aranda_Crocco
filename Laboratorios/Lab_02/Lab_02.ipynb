{
  "cells": [
    {
      "cell_type": "markdown",
      "metadata": {
        "id": "cd7b1b55",
        "deepnote_cell_height": 104.390625,
        "cell_id": "567e3e8f1ac2430483c12975f41b3306",
        "deepnote_cell_type": "markdown"
      },
      "source": [
        "<h1><center>Laboratorio 2: Primeros pasos 👣</center></h1>\n",
        "\n",
        "<center><strong>MDS7202: Laboratorio de Programación Científica para Ciencia de Datos - Primavera 2023</strong></center>"
      ]
    },
    {
      "cell_type": "markdown",
      "metadata": {
        "id": "Vp_vOHK7V97e",
        "deepnote_cell_height": 165.1875,
        "cell_id": "4464ba8e552d41a19d445e7746b72ef6",
        "deepnote_cell_type": "markdown"
      },
      "source": [
        "### Cuerpo Docente:\n",
        "\n",
        "- Profesores: Ignacio Meza, Gabriel Iturra\n",
        "- Auxiliar: Sebastián Tinoco\n",
        "- Ayudante: Arturo Lazcano, Angelo Muñoz"
      ]
    },
    {
      "cell_type": "markdown",
      "metadata": {
        "id": "4N_5AYgyWKyA",
        "cell_id": "4979683740cb498ab200a981cfafc91c",
        "deepnote_cell_height": 171.796875,
        "deepnote_cell_type": "markdown"
      },
      "source": [
        "### Equipo: SUPER IMPORTANTE - notebooks sin nombre no serán revisados\n",
        "\n",
        "- Nombre de alumno 1: Nicolás Crocco\n",
        "- Nombre de alumno 2: Juan Aranda\n"
      ]
    },
    {
      "cell_type": "markdown",
      "metadata": {
        "id": "1rjlaJDEWxd9",
        "cell_id": "1470f393cb414d2094db386ff745702c",
        "deepnote_cell_height": 62,
        "deepnote_cell_type": "markdown"
      },
      "source": [
        "### **Link de repositorio de GitHub:** `https://github.com/Juanaranda/Aranda_Crocco`"
      ]
    },
    {
      "cell_type": "markdown",
      "metadata": {
        "id": "9el9ERaKWW3i",
        "deepnote_cell_height": 271.796875,
        "cell_id": "e30789b4d0e545569e96fe8c91897281",
        "deepnote_cell_type": "markdown"
      },
      "source": [
        "## Reglas:\n",
        "\n",
        "- Fecha de entrega: 6 días desde la publicación, 3 días de atraso con 1 punto de descuento c/u. Pueden utilizar días bonus sin descuento.\n",
        "- **Grupos de 2 personas**\n",
        "- Asistencia **obligatoria** a instrucciones del lab (viernes 16.15). Luego, pueden quedarse trabajando en las salas o irse.\n",
        "- **Ausentes tienen nota máxima 6.0**.\n",
        "- Cualquier duda fuera del horario de clases al foro. Mensajes al equipo docente serán respondidos por este medio.\n",
        "- Prohibidas las copias.\n",
        "- Pueden usar cualquer material del curso que estimen conveniente."
      ]
    },
    {
      "cell_type": "markdown",
      "metadata": {
        "id": "4708b9b7",
        "cell_id": "6cb6045130834122bfa5a6c323983a68",
        "deepnote_cell_height": 249.390625,
        "deepnote_cell_type": "markdown"
      },
      "source": [
        "\n",
        "## Objetivos del lab:\n",
        "\n",
        "Poner en práctica los tópicos básicos del lenguaje de programación Python vistos en clases.\n",
        "\n",
        "- Variables, Operadores y Expresiones.\n",
        "- Estructuras de Control (if/else).\n",
        "- Iteraciones.\n",
        "- Listas y Diccionarios.\n",
        "- Funciones\n",
        "- Programación Orientada a Objetos (Encapsulamiento, Polimorfismo y Herencia)"
      ]
    },
    {
      "cell_type": "markdown",
      "metadata": {
        "id": "d58b089c",
        "deepnote_cell_height": 567.09375,
        "cell_id": "9085bd920a594bc2a52a3bfdce32e21f",
        "deepnote_cell_type": "markdown"
      },
      "source": [
        "## Parte 1: 🍋 Frutas 🍓 [2.5 puntos]\n",
        "\n",
        "\n",
        "<div align='center'>\n",
        "<img src='https://upload.wikimedia.org/wikipedia/commons/a/a2/Berries_in_Berlin.jpg' width=600/>\n",
        "</div>"
      ]
    },
    {
      "cell_type": "markdown",
      "metadata": {
        "id": "5fdf6b19",
        "cell_id": "f6bb1ca25b6c4e159a32bf0b9630447d",
        "deepnote_cell_height": 259.59375,
        "deepnote_cell_type": "markdown"
      },
      "source": [
        "Defina las siguientes frutas como diccionarios a partir de sus características (nombre, color, tipo y si posee o no pepas):\n",
        "\n",
        "| Nombre    | Tipo     | Color    | Pepas |\n",
        "|-----------|----------|----------|-------|\n",
        "| limon     | cítrica  | amarillo | True  |\n",
        "| naranja   | cítrica  | naranjo  | True  |\n",
        "| plátano   | tropical | amarillo | False |\n",
        "| piña      | tropical | amarillo | False |\n",
        "| frutilla  | bosque   | rojo     | True |\n",
        "| frambuesa | bosque   | rojo     | True |"
      ]
    },
    {
      "cell_type": "markdown",
      "metadata": {
        "id": "33aed47b",
        "deepnote_cell_height": 122.796875,
        "cell_id": "4566ac14c4fc4a9c9dec81e5def40a60",
        "deepnote_cell_type": "markdown"
      },
      "source": [
        "### Estructurar Datos [0.5 puntos]\n",
        "\n",
        "Agregue Piña, Frutilla y Frambuesa como diccionarios (siga los ejemplos de las frutas dadas) y luego cree una lista que contenga estas frutas.\n"
      ]
    },
    {
      "cell_type": "code",
      "metadata": {
        "id": "26d23e26",
        "source_hash": "56db5a38",
        "execution_start": 1648863016482,
        "execution_millis": 22,
        "deepnote_to_be_reexecuted": false,
        "cell_id": "85cec9afb1044dfc9e588800f2ec12cf",
        "deepnote_cell_type": "code"
      },
      "source": [
        "limon = {\n",
        "    \"nombre\": \"limón\",\n",
        "    \"tipo\": \"cítrica\",\n",
        "    \"color\": \"amarillo\",\n",
        "    \"pepas\": True\n",
        "    }\n",
        "\n",
        "naranja = {\"nombre\": \"naranja\",\n",
        "           \"tipo\": \"cítrica\",\n",
        "           \"color\": \"naranjo\",\n",
        "           \"pepas\": True\n",
        "          }\n",
        "\n",
        "platano = {\"nombre\": \"plátano\",\n",
        "           \"tipo\": \"tropical\",\n",
        "           \"color\": \"amarillo\",\n",
        "           \"pepas\": False\n",
        "          }\n",
        "\n",
        "# agregar las frutas que faltan aquí\n",
        "piña = {\"nombre\": \"piña\",\n",
        "           \"tipo\": \"tropical\",\n",
        "           \"color\": \"amarillo\",\n",
        "           \"pepas\": False\n",
        "          }\n",
        "\n",
        "frutilla = {\"nombre\": \"frutilla\",\n",
        "           \"tipo\": \"bosque\",\n",
        "           \"color\": \"rojo\",\n",
        "           \"pepas\": True\n",
        "          }\n",
        "\n",
        "frambuesa = {\"nombre\": \"frambuesa\",\n",
        "           \"tipo\": \"bosque\",\n",
        "           \"color\": \"rojo\",\n",
        "           \"pepas\": True\n",
        "          }"
      ],
      "execution_count": 9,
      "outputs": []
    },
    {
      "cell_type": "markdown",
      "metadata": {
        "id": "259ee333",
        "cell_id": "450f0542818f4605b92e4aa94d47ce25",
        "deepnote_cell_height": 52.390625,
        "deepnote_cell_type": "markdown"
      },
      "source": [
        "Ahora, agregue todas las frutas a una lista."
      ]
    },
    {
      "cell_type": "code",
      "metadata": {
        "id": "fcf62186",
        "source_hash": "78d4e62",
        "execution_start": 1648863016524,
        "execution_millis": 29,
        "deepnote_to_be_reexecuted": false,
        "cell_id": "fcf275e66bb44531b98ec3f19a7da467",
        "deepnote_cell_type": "code"
      },
      "source": [
        "# Ojo: agregue los datos en el mismo orden que aparecen en la tabla\n",
        "datos = [limon, naranja, platano, piña, frutilla, frambuesa]"
      ],
      "execution_count": 10,
      "outputs": []
    },
    {
      "cell_type": "markdown",
      "metadata": {
        "id": "2ed7730e",
        "cell_id": "6368768f93684ef3a2684d4dbcfdb6df",
        "deepnote_cell_height": 52.390625,
        "deepnote_cell_type": "markdown"
      },
      "source": [
        "Esta lista será la información con la que se trabajará durante el lab."
      ]
    },
    {
      "cell_type": "markdown",
      "metadata": {
        "id": "e9b1e46d",
        "deepnote_cell_height": 62,
        "cell_id": "27cab0ecd65b4b5db1687a40be370a1c",
        "deepnote_cell_type": "markdown"
      },
      "source": [
        "### Funciones Aplicadas a los Datos [2.0 puntos]\n",
        "\n",
        "En esta sección se les pide generar una serie de funciones que cumplan diferentes propósitos. Un aspecto clave de la programación funcional es la apropiada **documentación** de lo que ustedes generen. Si bien existen diferentes formas de documentar código, una de las mas usadas es el formato docstring de `numpy`:\n",
        "\n",
        "```python\n",
        "# manual para describir:\n",
        "# https://numpydoc.readthedocs.io/en/latest/format.html\n",
        "\n",
        "# plantilla (agregar todos los argumentos que sean necesarios)\n",
        "# pensar _type_ como los tipos básicos que hemos visto hasta ahora: int, float, string, list, dict, tuple, set, etc...\n",
        "\n",
        "def funcion_generica(arg1, arg2):\n",
        "    \"\"\"_summary_\n",
        "\n",
        "    Parameters\n",
        "    ----------\n",
        "    arg1 : _type_\n",
        "        _description_\n",
        "    arg2 : _type_\n",
        "        _description_\n",
        "\n",
        "    Returns\n",
        "    -------\n",
        "    _type_\n",
        "        _description_\n",
        "    \"\"\"\n",
        "    return ...\n",
        "```\n"
      ]
    },
    {
      "cell_type": "markdown",
      "metadata": {
        "cell_id": "521da380d1c94a21a3bbdec5077e4cba",
        "deepnote_cell_type": "markdown",
        "id": "EHgE6SqhawEq"
      },
      "source": [
        "Considerando esto y **sin olvidar la documentación**, se les pide generar las siguientes funciones:\n",
        "\n",
        "**1. La función `generar_descripcion(fruta)` que reciba una fruta genere una descripción de la fruta de la siguiente manera:**\n",
        "\n",
        "```{El/La} {...} es una fruta de tipo {...} de color {...}. {Presenta/No presenta} pepas en su interior.```\n",
        "    \n",
        "Por ejemplo, `generar_descripcion(plátano)` debe generar el siguiente string:\n",
        "    \n",
        "```\n",
        "'El plátano es una fruta de tipo tropical de color amarillo. No presenta pepas en su interior.'\n",
        "```\n",
        "    \n",
        "Indicaciones:\n",
        "- Usen formateo o suma de strings, if, else y for.\n",
        "- Para saber si ocupar 'El' o 'La', pueden acceder al nombre de la fruta y ver cual es el último carácter a través de indexadores `string[indice]`.\n",
        "- Utilice los siguientes test para corroborar el funcionamiento de su código:\n",
        "\n",
        "```python\n",
        "assert generar_descripcion(limon) == \"El limón es una fruta de tipo cítrica de color amarillo. Presenta pepas en su interior.\"\n",
        "assert generar_descripcion(naranja) == \"La naranja es una fruta de tipo cítrica de color naranjo. Presenta pepas en su interior.\"\n",
        "assert generar_descripcion(platano) == \"El plátano es una fruta de tipo tropical de color amarillo. No presenta pepas en su interior.\"\n",
        "assert generar_descripcion(piña) == \"La piña es una fruta de tipo tropical de color amarillo. No presenta pepas en su interior.\"\n",
        "assert generar_descripcion(frutilla) == \"La frutilla es una fruta de tipo bosque de color rojo. Presenta pepas en su interior.\"\n",
        "assert generar_descripcion(frambuesa) == \"La frambuesa es una fruta de tipo bosque de color rojo. Presenta pepas en su interior.\"\n",
        "```"
      ]
    },
    {
      "cell_type": "code",
      "metadata": {
        "cell_id": "533c38d09f7546a9ba5ede71227f9409",
        "deepnote_cell_type": "code",
        "id": "Pgw8_FoaawEq"
      },
      "source": [
        "def generar_descripcion(fruta):\n",
        "    \"\"\"\n",
        "    generar_descripcion(fruta)\n",
        "    Generates a description of a fruit based in it's characteristics\n",
        "\n",
        "    Parameters\n",
        "    ----------\n",
        "    fruta : dict\n",
        "        Dictionary that contains the characteristics of the fruit, such as its name, type, colour and if it has seeds inside.\n",
        "\n",
        "    Returns\n",
        "    -------\n",
        "    str\n",
        "        Description of the indicated fruit\n",
        "    \"\"\"\n",
        "\n",
        "    if fruta['nombre'][-1] == 'a':\n",
        "        name = 'La ' + fruta['nombre']\n",
        "    else:\n",
        "        name = 'El ' + fruta['nombre']\n",
        "\n",
        "    # analizamos si la fruta tiene o no pepas\n",
        "    # luego guardamos la data correspondiente en la variable seed\n",
        "    if fruta['pepas'] == False:\n",
        "        seed = '. No presenta pepas en su interior.'\n",
        "\n",
        "    else:\n",
        "        seed = '. Presenta pepas en su interior.'\n",
        "\n",
        "    # creamos el string con la descripción de la fruta\n",
        "    descripcion = name + ' es una fruta de tipo ' + fruta['tipo'] + ' de color ' + fruta['color'] + seed\n",
        "\n",
        "    return descripcion"
      ],
      "execution_count": null,
      "outputs": []
    },
    {
      "cell_type": "code",
      "source": [
        "assert generar_descripcion(limon) == \"El limón es una fruta de tipo cítrica de color amarillo. Presenta pepas en su interior.\"\n",
        "assert generar_descripcion(naranja) == \"La naranja es una fruta de tipo cítrica de color naranjo. Presenta pepas en su interior.\"\n",
        "assert generar_descripcion(platano) == \"El plátano es una fruta de tipo tropical de color amarillo. No presenta pepas en su interior.\"\n",
        "assert generar_descripcion(piña) == \"La piña es una fruta de tipo tropical de color amarillo. No presenta pepas en su interior.\"\n",
        "assert generar_descripcion(frutilla) == \"La frutilla es una fruta de tipo bosque de color rojo. Presenta pepas en su interior.\"\n",
        "assert generar_descripcion(frambuesa) == \"La frambuesa es una fruta de tipo bosque de color rojo. Presenta pepas en su interior.\""
      ],
      "metadata": {
        "id": "mQgZDigbf8QH"
      },
      "execution_count": null,
      "outputs": []
    },
    {
      "cell_type": "markdown",
      "metadata": {
        "cell_id": "40f4763a10004bf9ac8f8d94a8cbe482",
        "deepnote_cell_type": "markdown",
        "id": "TTJk5J9tawEr"
      },
      "source": [
        "**2. La función `describir(datos)` que generalice la función `generar_descripcion` para recibir una lista de frutas y devolver una lista con las descripciones de cada una:**\n",
        "\n",
        "Por ejemplo, `describir([limon, naranja]])` deberá devolver una lista de la forma `[descripcion_limon, descripcion_naranja]`"
      ]
    },
    {
      "cell_type": "code",
      "metadata": {
        "cell_id": "5b9a31f617b84bb9b8af2aa71a8249a8",
        "deepnote_cell_type": "code",
        "id": "XfJ7mm7dawEs"
      },
      "source": [
        "def describir(datos):\n",
        "    \"\"\"\n",
        "    describir(datos)\n",
        "    Creates a list with descriptions of fruits\n",
        "    The descriptions are generated using the function 'generar_descripcion(fruta)'\n",
        "\n",
        "    Parameters\n",
        "    ----------\n",
        "    datos : list\n",
        "        List that contains dictionaries of fruits\n",
        "\n",
        "    Returns\n",
        "    -------\n",
        "    list\n",
        "        List with the descriptions of the fruits indicated in 'datos'\n",
        "    \"\"\"\n",
        "\n",
        "    # definimos una lista vacía\n",
        "    descripciones = []\n",
        "\n",
        "    # agregamos las descripciones a la lsta vacía usando la función generar_descripcion\n",
        "    for x in datos:\n",
        "        descripcion = generar_descripcion(x)\n",
        "        descripciones.append(descripcion)\n",
        "\n",
        "    return descripciones"
      ],
      "execution_count": null,
      "outputs": []
    },
    {
      "cell_type": "code",
      "source": [
        "# Test\n",
        "describir([limon, naranja])"
      ],
      "metadata": {
        "colab": {
          "base_uri": "https://localhost:8080/"
        },
        "id": "etqcpCA7kYfC",
        "outputId": "71cfa98c-3843-4d61-f7af-b50c3eca525a"
      },
      "execution_count": null,
      "outputs": [
        {
          "output_type": "execute_result",
          "data": {
            "text/plain": [
              "['El limón es una fruta de tipo cítrica de color amarillo. Presenta pepas en su interior.',\n",
              " 'La naranja es una fruta de tipo cítrica de color naranjo. Presenta pepas en su interior.']"
            ]
          },
          "metadata": {},
          "execution_count": 6
        }
      ]
    },
    {
      "cell_type": "markdown",
      "metadata": {
        "cell_id": "096d40181b344935a8daed1ef59e1ed3",
        "deepnote_cell_type": "markdown",
        "id": "nKfGEkdVawEs"
      },
      "source": [
        "**3. La función `filtrar_por_pepa(datos, tiene_pepas)` que dado un tipo de fruta y un booleano, retorne las frutas que tienen o no tienen pepas (según el valor de `tiene_pepas`).**\n",
        "    \n",
        "\n",
        "Por ejemplo, `filtrar_por_pepa(datos, True)` deberá retornar una lista con los diccionarios de: naranja, limon, frutilla y frambuesa."
      ]
    },
    {
      "cell_type": "code",
      "metadata": {
        "cell_id": "4b929adaff504132824ce55493656849",
        "deepnote_cell_type": "code",
        "id": "st-vo-9nawEt"
      },
      "source": [
        "def filtrar_por_pepa(datos, tiene_pepas):\n",
        "    \"\"\"\n",
        "    filtrar_por_pepa(datos, tiene_pepas)\n",
        "    Creates a filtered list with fruits if they have or not seeds\n",
        "\n",
        "    Parameters\n",
        "    ----------\n",
        "    datos : list\n",
        "        List that contains dictionaries of fruits\n",
        "    tiene_pepas: bool\n",
        "        Defines if the filter will look for fruits with or without seeds\n",
        "\n",
        "    Returns\n",
        "    -------\n",
        "    list\n",
        "        List with the descriptions of the filtered fruits indicated in 'datos' according to 'tiene_pepas'\n",
        "    \"\"\"\n",
        "\n",
        "    # definimos dos listas\n",
        "    # siPepas contiene las frutas con pepas\n",
        "    siPepas = [datos[x] for x in range(0, len(datos)) if datos[x]['pepas'] == True]\n",
        "    # noPepas contiene las frutas sin pepas\n",
        "    noPepas = [datos[x] for x in range(0, len(datos)) if datos[x]['pepas'] == False]\n",
        "\n",
        "    # si el input pide frutas con pepas\n",
        "    if tiene_pepas == True:\n",
        "        # igualamos una lista filtrados a la lista siPepas\n",
        "        filtrados = siPepas\n",
        "    # si el input pide frutas con pepas\n",
        "    else:\n",
        "        # igualamos la lista filtrados a la lista noPepas\n",
        "        filtrados = noPepas\n",
        "    # retornamos la lista filtrados\n",
        "    return filtrados"
      ],
      "execution_count": null,
      "outputs": []
    },
    {
      "cell_type": "code",
      "source": [
        "# Test\n",
        "filtrar_por_pepa(datos, True)"
      ],
      "metadata": {
        "colab": {
          "base_uri": "https://localhost:8080/"
        },
        "id": "piwQhHJGmjma",
        "outputId": "61482c12-5c1e-4b1f-a210-cbe0ad79a8ab"
      },
      "execution_count": null,
      "outputs": [
        {
          "output_type": "execute_result",
          "data": {
            "text/plain": [
              "[{'nombre': 'limón', 'tipo': 'cítrica', 'color': 'amarillo', 'pepas': True},\n",
              " {'nombre': 'naranja', 'tipo': 'cítrica', 'color': 'naranjo', 'pepas': True},\n",
              " {'nombre': 'frutilla', 'tipo': 'bosque', 'color': 'rojo', 'pepas': True},\n",
              " {'nombre': 'frambuesa', 'tipo': 'bosque', 'color': 'rojo', 'pepas': True}]"
            ]
          },
          "metadata": {},
          "execution_count": 8
        }
      ]
    },
    {
      "cell_type": "markdown",
      "metadata": {
        "cell_id": "31929b2f72f84543b98fa78cbac46745",
        "deepnote_cell_type": "markdown",
        "id": "-GT3EWTBawEu"
      },
      "source": [
        "**4. La función `conteo_colores(datos)` que cree un diccionario que haga un conteo los colores de las frutas.**\n",
        "\n",
        "Para estos datos, la función debería retornar el siguiente diccionario:\n",
        "    \n",
        "```python\n",
        "{\"amarillo\": 3, \"naranjo\": 1, \"rojo\": 2}\n",
        "```"
      ]
    },
    {
      "cell_type": "code",
      "source": [
        "def conteo_colores(datos):\n",
        "    \"\"\"\n",
        "    conteo_colores(datos)\n",
        "    Counts the amount of fruit for each colour\n",
        "\n",
        "    Parameters\n",
        "    ----------\n",
        "    datos : list\n",
        "        List that contains dictionaries of fruits\n",
        "\n",
        "    Returns\n",
        "    -------\n",
        "    dict\n",
        "        Dictionary containing the amount of fruits for each colour\n",
        "    \"\"\"\n",
        "\n",
        "    # definimos un diccionario vacío para almacenar la cantidad de fruta que hay de cada color\n",
        "    conteo = {}\n",
        "    # recorremos los datos\n",
        "    for fruta in datos:\n",
        "        color = fruta[\"color\"]\n",
        "        # vemos si el color ya está presente en el diccionario\n",
        "        # si está, le sumamos 1 a su valor\n",
        "        if color in conteo:\n",
        "            conteo[color] += 1\n",
        "        # si no está, lo agregamos al diccionario con valor 1\n",
        "        else:\n",
        "            conteo[color] = 1\n",
        "    #retornamos el diccionario conteo\n",
        "    return conteo"
      ],
      "metadata": {
        "id": "LjK5-pLQp_mO"
      },
      "execution_count": null,
      "outputs": []
    },
    {
      "cell_type": "code",
      "source": [
        "# Test\n",
        "conteo_colores(datos)"
      ],
      "metadata": {
        "colab": {
          "base_uri": "https://localhost:8080/"
        },
        "id": "5VFwKQXJoMhA",
        "outputId": "81077b60-0d79-4504-bc5d-332255c0e71a"
      },
      "execution_count": null,
      "outputs": [
        {
          "output_type": "execute_result",
          "data": {
            "text/plain": [
              "{'amarillo': 3, 'naranjo': 1, 'rojo': 2}"
            ]
          },
          "metadata": {},
          "execution_count": 10
        }
      ]
    },
    {
      "cell_type": "markdown",
      "metadata": {
        "cell_id": "680376561e244482aef7b577c1753252",
        "deepnote_cell_type": "markdown",
        "id": "wOinQ2s7awEu"
      },
      "source": [
        "**5. La función `obtener_tipos` que devuelva una lista con los tipos únicos de fruta usando `set()`**.\n",
        "\n",
        "Por ejemplo, `obtener_tipos([limon, naranja, platano])` debería devolver `[\"citrica\", \"tropical\"]`"
      ]
    },
    {
      "cell_type": "code",
      "metadata": {
        "cell_id": "0815c695d16d4e10afdc0de3e9e75edd",
        "deepnote_cell_type": "code",
        "id": "TFspbr-aawEv"
      },
      "source": [
        "def obtener_tipos(datos):\n",
        "\n",
        "    \"\"\"\n",
        "    obtener_tipos(datos)\n",
        "    Shows the different kinds of fruit\n",
        "\n",
        "    Parameters\n",
        "    ----------\n",
        "    datos : list\n",
        "        List that contains dictionaries of fruits\n",
        "\n",
        "    Returns\n",
        "    -------\n",
        "    list\n",
        "        List containing the different kinds of fruit\n",
        "    \"\"\"\n",
        "\n",
        "    # definimos un arreglo vacío para almacenar los datos únicos presentes en la data\n",
        "    tipos = set()\n",
        "\n",
        "    # recorremos los datos y agregamos los tipos al arreglo\n",
        "    for fruta in datos:\n",
        "        tipos.add(fruta['tipo'])\n",
        "\n",
        "    # retornamos el arreglo tipo en forma de lista\n",
        "    return list(tipos)"
      ],
      "execution_count": null,
      "outputs": []
    },
    {
      "cell_type": "code",
      "source": [
        "# Test\n",
        "obtener_tipos(datos)"
      ],
      "metadata": {
        "colab": {
          "base_uri": "https://localhost:8080/"
        },
        "id": "jSJ2MEoEpfSs",
        "outputId": "d684964b-b613-4405-f6b2-3780e5477088"
      },
      "execution_count": null,
      "outputs": [
        {
          "output_type": "execute_result",
          "data": {
            "text/plain": [
              "['bosque', 'cítrica', 'tropical']"
            ]
          },
          "metadata": {},
          "execution_count": 12
        }
      ]
    },
    {
      "cell_type": "markdown",
      "metadata": {
        "cell_id": "362d8b70b71b46eea57663b8cba43d9a",
        "deepnote_cell_type": "markdown",
        "id": "gMhQT14IawEv"
      },
      "source": [
        "**6. Genere tres test para cada una de las funciones de la pregunta 5 y así comprobar que funcionan correctamente.**\n",
        "\n",
        "Se <u>sugiere</u> que se apoyen en las siguientes directrices:\n",
        "- Test para tratar resultados nulos\n",
        "- Test para un subconjunto interesante cuyo resultado no sea nulo\n",
        "- Test para todos los datos"
      ]
    },
    {
      "cell_type": "markdown",
      "metadata": {
        "id": "F2mt7aIusap8",
        "cell_id": "fae9a28ed4b24531910f59386004a311",
        "deepnote_cell_height": 52.390625,
        "deepnote_cell_type": "markdown"
      },
      "source": [
        "**Ejecuten esta celda para comprobar su código:**"
      ]
    },
    {
      "cell_type": "code",
      "metadata": {
        "id": "c39b58c0",
        "source_hash": "af520603",
        "execution_start": 1648863016644,
        "execution_millis": 0,
        "deepnote_to_be_reexecuted": false,
        "cell_id": "8ab5b3ce3d804416821fb8f1a880b6af",
        "deepnote_cell_type": "code"
      },
      "source": [
        "nulos = []\n",
        "test_1 = [limon, naranja]\n",
        "test_2 = [naranja, platano]\n",
        "# ---------------------------------------------------------------------\n",
        "# test descripciones\n",
        "\n",
        "assert describir(nulos) == []\n",
        "assert describir(test_1) == ['El limón es una fruta de tipo cítrica de color amarillo. Presenta pepas en su interior.',\n",
        "'La naranja es una fruta de tipo cítrica de color naranjo. Presenta pepas en su interior.']\n",
        "assert describir(datos) == ['El limón es una fruta de tipo cítrica de color amarillo. Presenta pepas en su interior.',\n",
        " 'La naranja es una fruta de tipo cítrica de color naranjo. Presenta pepas en su interior.',\n",
        " 'El plátano es una fruta de tipo tropical de color amarillo. No presenta pepas en su interior.',\n",
        " 'La piña es una fruta de tipo tropical de color amarillo. No presenta pepas en su interior.',\n",
        " 'La frutilla es una fruta de tipo bosque de color rojo. Presenta pepas en su interior.',\n",
        " 'La frambuesa es una fruta de tipo bosque de color rojo. Presenta pepas en su interior.']\n",
        "\n",
        "\n",
        "# ---------------------------------------------------------------------\n",
        "# test filtro\n",
        "\n",
        "assert filtrar_por_pepa(nulos, True) == []\n",
        "assert filtrar_por_pepa(test_1, True) == [{'nombre': 'limón', 'tipo': 'cítrica', 'color': 'amarillo', 'pepas': True},\n",
        "{'nombre': 'naranja', 'tipo': 'cítrica', 'color': 'naranjo', 'pepas': True}]\n",
        "assert filtrar_por_pepa(datos, False) == [{'nombre': 'plátano','tipo': 'tropical','color': 'amarillo','pepas': False},\n",
        " {'nombre': 'piña', 'tipo': 'tropical', 'color': 'amarillo', 'pepas': False}]\n",
        "\n",
        "# ---------------------------------------------------------------------\n",
        "# test conteo\n",
        "\n",
        "assert conteo_colores(nulos) == {}\n",
        "assert conteo_colores(test_1) == {'amarillo': 1, 'naranjo': 1}\n",
        "assert conteo_colores(datos) == {'amarillo': 3, 'naranjo': 1, 'rojo': 2}\n",
        "\n",
        "# ---------------------------------------------------------------------\n",
        "# test tipos\n",
        "\n",
        "assert obtener_tipos(nulos) == []\n",
        "assert obtener_tipos(test_2) == ['cítrica', 'tropical']\n",
        "assert obtener_tipos(datos) == ['bosque', 'cítrica', 'tropical']"
      ],
      "execution_count": null,
      "outputs": []
    },
    {
      "cell_type": "markdown",
      "metadata": {
        "cell_id": "745ed4bbc60044f182fbc3c4caec5c84",
        "deepnote_cell_type": "markdown",
        "id": "omW2k6QuawEz"
      },
      "source": [
        "**7. Programe nuevamente las funciones `describir`, `filtrar_por_pepa` y `obtener_tipos`, pero esta vez usando *comprehensions*.**\n",
        "\n",
        "*Hint: Pueden reutilizar la documentación escrita en la pregunta 5*"
      ]
    },
    {
      "cell_type": "code",
      "metadata": {
        "cell_id": "18b1fa6908a3456483d9bc7f87788b8d",
        "deepnote_cell_type": "code",
        "id": "FYh10UffawEz"
      },
      "source": [
        "def obtener_descripciones_v2(datos):\n",
        "    \"\"\"\n",
        "    obtener_descripciones_v2(datos)\n",
        "    Creates a list with descriptions of fruits\n",
        "    The descriptions are generated using the function 'generar_descripcion(fruta)'\n",
        "\n",
        "    Parameters\n",
        "    ----------\n",
        "    datos : list\n",
        "        List that contains dictionaries of fruits\n",
        "\n",
        "    Returns\n",
        "    -------\n",
        "    list\n",
        "        List with the descriptions of the fruits indicated in 'datos'\n",
        "    \"\"\"\n",
        "\n",
        "    # definimos una lista que almacena las descripciones de las frutas indicadas en el input\n",
        "    descripciones = [generar_descripcion(x) for x in datos]\n",
        "\n",
        "    return descripciones\n",
        "\n",
        "def filtrar_por_pepa_v2(datos, tiene_pepas):\n",
        "    \"\"\"\n",
        "    filtrar_por_pepa_v2(datos, tiene_pepas)\n",
        "    Creates a filtered list with fruits if they have or not seeds\n",
        "\n",
        "    Parameters\n",
        "    ----------\n",
        "    datos : list\n",
        "        List that contains dictionaries of fruits\n",
        "    tiene_pepas: bool\n",
        "        Defines if the filter will look for fruits with or without seeds\n",
        "\n",
        "    Returns\n",
        "    -------\n",
        "    list\n",
        "        List with the descriptions of the filtered fruits indicated in 'datos' according to 'tiene_pepas'\n",
        "    \"\"\"\n",
        "\n",
        "    # definimos un arreglo que almacena las frutas que tienen o no pepas según el input dado\n",
        "    filtrados = [fruta for fruta in datos if fruta['pepas'] == tiene_pepas]\n",
        "\n",
        "    return filtrados\n",
        "\n",
        "def obtener_tipos_v2(datos):\n",
        "    \"\"\"\n",
        "    obtener_tipos_v2(datos)\n",
        "    Shows the different kinds of fruit\n",
        "\n",
        "    Parameters\n",
        "    ----------\n",
        "    datos : list\n",
        "        List that contains dictionaries of fruits\n",
        "\n",
        "    Returns\n",
        "    -------\n",
        "    list\n",
        "        List containing the different kinds of fruit\n",
        "    \"\"\"\n",
        "\n",
        "    # definimos un arreglo que almacenanlos los tipos de fruta únicos en la data\n",
        "    tipos = set({fruta['tipo'] for fruta in datos})\n",
        "\n",
        "    return list(tipos)"
      ],
      "execution_count": 29,
      "outputs": []
    },
    {
      "cell_type": "code",
      "source": [
        "# Test obtener_descripciones_v2\n",
        "obtener_descripciones_v2(datos)"
      ],
      "metadata": {
        "colab": {
          "base_uri": "https://localhost:8080/"
        },
        "id": "Wgm4Bt9At63G",
        "outputId": "e70e18ff-b4ab-436e-f4e1-a896a7e0a43b"
      },
      "execution_count": null,
      "outputs": [
        {
          "output_type": "execute_result",
          "data": {
            "text/plain": [
              "['El limón es una fruta de tipo cítrica de color amarillo. Presenta pepas en su interior.',\n",
              " 'La naranja es una fruta de tipo cítrica de color naranjo. Presenta pepas en su interior.',\n",
              " 'El plátano es una fruta de tipo tropical de color amarillo. No presenta pepas en su interior.',\n",
              " 'La piña es una fruta de tipo tropical de color amarillo. No presenta pepas en su interior.',\n",
              " 'La frutilla es una fruta de tipo bosque de color rojo. Presenta pepas en su interior.',\n",
              " 'La frambuesa es una fruta de tipo bosque de color rojo. Presenta pepas en su interior.']"
            ]
          },
          "metadata": {},
          "execution_count": 15
        }
      ]
    },
    {
      "cell_type": "code",
      "source": [
        "# Test filtrar_por_pepa_v2\n",
        "filtrar_por_pepa_v2(datos, True)"
      ],
      "metadata": {
        "colab": {
          "base_uri": "https://localhost:8080/"
        },
        "id": "OnljdeX8usf8",
        "outputId": "80ac1b9b-3f6e-4afe-c8f3-a202c04c4163"
      },
      "execution_count": null,
      "outputs": [
        {
          "output_type": "execute_result",
          "data": {
            "text/plain": [
              "[{'nombre': 'limón', 'tipo': 'cítrica', 'color': 'amarillo', 'pepas': True},\n",
              " {'nombre': 'naranja', 'tipo': 'cítrica', 'color': 'naranjo', 'pepas': True},\n",
              " {'nombre': 'frutilla', 'tipo': 'bosque', 'color': 'rojo', 'pepas': True},\n",
              " {'nombre': 'frambuesa', 'tipo': 'bosque', 'color': 'rojo', 'pepas': True}]"
            ]
          },
          "metadata": {},
          "execution_count": 16
        }
      ]
    },
    {
      "cell_type": "code",
      "source": [
        "# Test obtener_tipos_v2\n",
        "obtener_tipos_v2(datos)"
      ],
      "metadata": {
        "colab": {
          "base_uri": "https://localhost:8080/"
        },
        "id": "XQHH2cW9f7Ey",
        "outputId": "d4b91350-955c-4b15-86fa-ff17f9f9fef1"
      },
      "execution_count": null,
      "outputs": [
        {
          "output_type": "execute_result",
          "data": {
            "text/plain": [
              "['bosque', 'cítrica', 'tropical']"
            ]
          },
          "metadata": {},
          "execution_count": 17
        }
      ]
    },
    {
      "cell_type": "markdown",
      "metadata": {
        "id": "492b941a",
        "deepnote_cell_height": 723.59375,
        "cell_id": "70857dcf13464ee2969cc1ce546cce0c",
        "deepnote_cell_type": "markdown"
      },
      "source": [
        "## Parte 2: Electrodomésticos [2.5 puntos]\n",
        "\n",
        "En esta parte se solicitarán un par de clases que permitirá jugar con la Programación Orientada a Objetos.\n",
        "\n",
        "<div align='center'>\n",
        "<img src='https://upload.wikimedia.org/wikipedia/commons/6/67/Breville.jpg' width=400/>\n",
        "</div>\n",
        "\n",
        "\n",
        "### Clase Electrodoméstico [0.5 puntos]\n",
        "\n",
        "Defina la clase `Electrodomestico` que implemente:\n",
        "\n",
        "\n",
        "- Un constructor que defina un atributo de instancia llamado `enchufado` que almacene valores booleanos.\n",
        "- Un método llamado `esta_enchufado(self)` que levante una excepción `Exception` y que termine con la ejecución del programa cuando el atributo enchufado sea `False`. La excepción debe levantar el mensaje `'Alerta ⚠️: El electrodoméstico no está enchufado'`\n",
        "- Un método llamado `enchufar(self)` que cambia el estado de `enchufado` a True.\n",
        "\n"
      ]
    },
    {
      "cell_type": "code",
      "metadata": {
        "id": "9f8aa475",
        "source_hash": "43ca10f0",
        "execution_start": 1648863016745,
        "execution_millis": 21,
        "deepnote_to_be_reexecuted": false,
        "cell_id": "3c65e471110f49fe9f5b54287ce74c9b",
        "deepnote_cell_type": "code"
      },
      "source": [
        "class Electrodomestico:\n",
        "\n",
        "    def __init__(self):\n",
        "       self.enchufado = False\n",
        "\n",
        "    def esta_enchufado(self):\n",
        "       if not self.enchufado:\n",
        "         raise Exception('Alerta ⚠️: El electrodoméstico no está enchufado')\n",
        "\n",
        "    def enchufar(self):\n",
        "       self.enchufado = True"
      ],
      "execution_count": 11,
      "outputs": []
    },
    {
      "cell_type": "markdown",
      "metadata": {
        "id": "d7d477b5",
        "deepnote_cell_height": 1059.59375,
        "cell_id": "56f3ae20d61d4fcab7763a14531ecbfd",
        "deepnote_cell_type": "markdown"
      },
      "source": [
        "### Clase Jugera [1.0 puntos]\n",
        "\n",
        "\n",
        "<div align='center'>\n",
        "<img src='https://upload.wikimedia.org/wikipedia/commons/b/bb/Liquadora_%28parts%29.JPG' width=400/>\n",
        "</div>\n",
        "\n",
        "\n",
        "Implemente la clase `Jugera` que extiende `Electrodomestico` y que implemente:\n",
        "\n",
        "\n",
        "- Un constructor que tenga una lista de ingredientes frutales (llamado `bandeja`).\n",
        "\n",
        "\n",
        "- Un método llamado `agregar_ingrediente(self, nueva_fruta)` que dado una fruta, agregue esa fruta a la `bandeja`.\n",
        "\n",
        "- Un método llamado `listar_ingredientes(self)` que imprima (con `print`) los ingredientes actuales de la `bandeja` de la siguiente forma:\n",
        "\n",
        "    `Ingredientes en la bandeja: frutilla, frambuesa, piña.`\n",
        "\n",
        "De lo contrario si no tiene ingredientes imprima:\n",
        "\n",
        "    `Bandeja vacía`\n",
        "\n",
        "\n",
        "**Hint:** Investigar el método `join` de un string para generar el string con los nombres de las frutas.\n",
        "    \n",
        "    \n",
        "    \n",
        "\n",
        "- Un método llamado `preparar_jugo(self)` que:\n",
        "    - Primero verifique que el electrodoméstico esté enchufado usando `self.esta_enchufado()`.\n",
        "    - Verifique que haya por lo menos un ingrediente en la `bandeja`. En el caso que no haya, levantar una excepción con contenido `'Error ❌: La bandeja no tiene ingredientes.'`\n",
        "    - Verifique que ninguna fruta tenga pepas. En el caso que haya alguna, imprimir (con `print`) el mensaje de advertencia `'Alerta ⚠️: El jugo puede contener restos de pepas.'`. Puede usar la función definida en la sección anterior.\n",
        "    - Genere un mensaje indicado `Jugo de {nombres de las frutas separadas por una ,} listo. 🏖️🥤 Que lo disfrutes!!! 🥤🏖️. ` (Hint: Usar nuevamente `join`).\n",
        "    - Vacie la `bandeja` (es decir, eliminar todas las frutas de la bandeja).\n",
        "    - Retorne el mensaje generado.\n"
      ]
    },
    {
      "cell_type": "code",
      "metadata": {
        "id": "d9db037b",
        "source_hash": "fe592b51",
        "execution_start": 1648863366156,
        "execution_millis": 0,
        "deepnote_to_be_reexecuted": false,
        "cell_id": "9f42c023a75b4b16b24e5b09d7276e88",
        "deepnote_cell_type": "code"
      },
      "source": [
        "class Jugera(Electrodomestico):\n",
        "\n",
        "    def __init__(self):\n",
        "        super().__init__()\n",
        "        self.bandeja = []\n",
        "\n",
        "    def agregar_ingrediente(self, nueva_fruta):\n",
        "        if isinstance(nueva_fruta, dict) and 'nombre' in nueva_fruta:\n",
        "            self.bandeja.append(nueva_fruta['nombre'])\n",
        "        else:\n",
        "            print(\"Error: La fruta debe ser un diccionario con la clave 'nombre'.\")\n",
        "\n",
        "    def listar_ingredientes(self):\n",
        "        if self.bandeja:\n",
        "            ingredientes = \", \".join(self.bandeja)\n",
        "            print(f\"Ingredientes en la bandeja: {ingredientes}.\")\n",
        "        else:\n",
        "            print(\"Bandeja vacía\")\n",
        "\n",
        "    def preparar_jugo(self):\n",
        "        self.esta_enchufado()\n",
        "\n",
        "        if not self.bandeja:\n",
        "            raise Exception('Error ❌: La bandeja no tiene ingredientes.')\n",
        "\n",
        "        for fruta_nombre in self.bandeja:\n",
        "            fruta = obtener_fruta_por_nombre(fruta_nombre)\n",
        "            if fruta['pepas']:\n",
        "                print('Alerta ⚠️: El jugo puede contener restos de pepas.')\n",
        "                break\n",
        "\n",
        "        ingredientes = \", \".join(self.bandeja)\n",
        "        mensaje = f\"Jugo de {ingredientes} listo. 🏖️🥤 Que lo disfrutes!!! 🥤🏖️\"\n",
        "        self.bandeja = []  # Vaciar la bandeja\n",
        "        return mensaje\n",
        "\n",
        "# Función para obtener una fruta por su nombre\n",
        "def obtener_fruta_por_nombre(nombre):\n",
        "    frutas = [limon, naranja, platano, piña, frutilla, frambuesa]\n",
        "    for fruta in frutas:\n",
        "        if fruta['nombre'] == nombre:\n",
        "            return fruta\n",
        "    return None  # Fruta no encontrada"
      ],
      "execution_count": 12,
      "outputs": []
    },
    {
      "cell_type": "markdown",
      "metadata": {
        "id": "6889015a",
        "cell_id": "73d709b368c84bc6a3c5336a6f549eac",
        "deepnote_cell_height": 122.796875,
        "deepnote_cell_type": "markdown"
      },
      "source": [
        "### Interacciones\n",
        "\n",
        "Las siguientes celdas les permitirán probar las interacciones de esta clase.\n",
        "La ejecución es solo referencial y no lleva puntaje. La idea es que la utilice como guía para desarrollar la clase."
      ]
    },
    {
      "cell_type": "code",
      "metadata": {
        "id": "913af660",
        "colab": {
          "base_uri": "https://localhost:8080/"
        },
        "outputId": "ad2ba623-9cca-44d3-e32f-f82b1db72c4a",
        "source_hash": "239b8903",
        "execution_start": 1648863369348,
        "execution_millis": 8,
        "deepnote_to_be_reexecuted": false,
        "cell_id": "5c47280064504e948d21f495ca2f8053",
        "deepnote_cell_type": "code"
      },
      "source": [
        "jugera = Jugera()\n",
        "\n",
        "# Como no tenemos ingredientes, listar_ingredientes deberá imprimir 'Bandeja vacía'\n",
        "jugera.listar_ingredientes()"
      ],
      "execution_count": 3,
      "outputs": [
        {
          "output_type": "stream",
          "name": "stdout",
          "text": [
            "Bandeja vacía\n"
          ]
        }
      ]
    },
    {
      "cell_type": "code",
      "metadata": {
        "id": "9d06bf3e",
        "colab": {
          "height": 327,
          "base_uri": "https://localhost:8080/"
        },
        "outputId": "960e9c8d-a722-478f-cceb-c2b5ad356d7d",
        "scrolled": false,
        "source_hash": "77689b24",
        "execution_start": 1648863371573,
        "execution_millis": 20,
        "deepnote_to_be_reexecuted": false,
        "cell_id": "7cfdd145bbff42d4a3c66c50d2559120",
        "deepnote_cell_type": "code"
      },
      "source": [
        "# Esta celda debería levantar una excepcion indicando que no está enchufada la jugera.\n",
        "jugera.preparar_jugo()"
      ],
      "execution_count": 4,
      "outputs": [
        {
          "output_type": "error",
          "ename": "Exception",
          "evalue": "ignored",
          "traceback": [
            "\u001b[0;31m---------------------------------------------------------------------------\u001b[0m",
            "\u001b[0;31mException\u001b[0m                                 Traceback (most recent call last)",
            "\u001b[0;32m<ipython-input-4-12a82fa67e1d>\u001b[0m in \u001b[0;36m<cell line: 2>\u001b[0;34m()\u001b[0m\n\u001b[1;32m      1\u001b[0m \u001b[0;31m# Esta celda debería levantar una excepcion indicando que no está enchufada la jugera.\u001b[0m\u001b[0;34m\u001b[0m\u001b[0;34m\u001b[0m\u001b[0m\n\u001b[0;32m----> 2\u001b[0;31m \u001b[0mjugera\u001b[0m\u001b[0;34m.\u001b[0m\u001b[0mpreparar_jugo\u001b[0m\u001b[0;34m(\u001b[0m\u001b[0;34m)\u001b[0m\u001b[0;34m\u001b[0m\u001b[0;34m\u001b[0m\u001b[0m\n\u001b[0m",
            "\u001b[0;32m<ipython-input-2-699de39384d8>\u001b[0m in \u001b[0;36mpreparar_jugo\u001b[0;34m(self)\u001b[0m\n\u001b[1;32m     19\u001b[0m \u001b[0;34m\u001b[0m\u001b[0m\n\u001b[1;32m     20\u001b[0m     \u001b[0;32mdef\u001b[0m \u001b[0mpreparar_jugo\u001b[0m\u001b[0;34m(\u001b[0m\u001b[0mself\u001b[0m\u001b[0;34m)\u001b[0m\u001b[0;34m:\u001b[0m\u001b[0;34m\u001b[0m\u001b[0;34m\u001b[0m\u001b[0m\n\u001b[0;32m---> 21\u001b[0;31m         \u001b[0mself\u001b[0m\u001b[0;34m.\u001b[0m\u001b[0mesta_enchufado\u001b[0m\u001b[0;34m(\u001b[0m\u001b[0;34m)\u001b[0m\u001b[0;34m\u001b[0m\u001b[0;34m\u001b[0m\u001b[0m\n\u001b[0m\u001b[1;32m     22\u001b[0m \u001b[0;34m\u001b[0m\u001b[0m\n\u001b[1;32m     23\u001b[0m         \u001b[0;32mif\u001b[0m \u001b[0;32mnot\u001b[0m \u001b[0mself\u001b[0m\u001b[0;34m.\u001b[0m\u001b[0mbandeja\u001b[0m\u001b[0;34m:\u001b[0m\u001b[0;34m\u001b[0m\u001b[0;34m\u001b[0m\u001b[0m\n",
            "\u001b[0;32m<ipython-input-1-63860f26449b>\u001b[0m in \u001b[0;36mesta_enchufado\u001b[0;34m(self)\u001b[0m\n\u001b[1;32m      6\u001b[0m     \u001b[0;32mdef\u001b[0m \u001b[0mesta_enchufado\u001b[0m\u001b[0;34m(\u001b[0m\u001b[0mself\u001b[0m\u001b[0;34m)\u001b[0m\u001b[0;34m:\u001b[0m\u001b[0;34m\u001b[0m\u001b[0;34m\u001b[0m\u001b[0m\n\u001b[1;32m      7\u001b[0m        \u001b[0;32mif\u001b[0m \u001b[0;32mnot\u001b[0m \u001b[0mself\u001b[0m\u001b[0;34m.\u001b[0m\u001b[0menchufado\u001b[0m\u001b[0;34m:\u001b[0m\u001b[0;34m\u001b[0m\u001b[0;34m\u001b[0m\u001b[0m\n\u001b[0;32m----> 8\u001b[0;31m          \u001b[0;32mraise\u001b[0m \u001b[0mException\u001b[0m\u001b[0;34m(\u001b[0m\u001b[0;34m'Alerta ⚠️: El electrodoméstico no está enchufado'\u001b[0m\u001b[0;34m)\u001b[0m\u001b[0;34m\u001b[0m\u001b[0;34m\u001b[0m\u001b[0m\n\u001b[0m\u001b[1;32m      9\u001b[0m \u001b[0;34m\u001b[0m\u001b[0m\n\u001b[1;32m     10\u001b[0m     \u001b[0;32mdef\u001b[0m \u001b[0menchufar\u001b[0m\u001b[0;34m(\u001b[0m\u001b[0mself\u001b[0m\u001b[0;34m)\u001b[0m\u001b[0;34m:\u001b[0m\u001b[0;34m\u001b[0m\u001b[0;34m\u001b[0m\u001b[0m\n",
            "\u001b[0;31mException\u001b[0m: Alerta ⚠️: El electrodoméstico no está enchufado"
          ]
        }
      ]
    },
    {
      "cell_type": "code",
      "metadata": {
        "id": "3ad38f18",
        "source_hash": "36a2ab49",
        "execution_start": 1648863372430,
        "execution_millis": 0,
        "deepnote_to_be_reexecuted": false,
        "cell_id": "6a19f22b8c684cad81373a1a3d0fb64c",
        "deepnote_cell_type": "code"
      },
      "source": [
        "# Enchufamos el electrodoméstico\n",
        "jugera.enchufar()"
      ],
      "execution_count": 5,
      "outputs": []
    },
    {
      "cell_type": "code",
      "metadata": {
        "id": "48009872",
        "colab": {
          "height": 304,
          "base_uri": "https://localhost:8080/"
        },
        "outputId": "53962bda-146c-43e0-8748-69e84775b2a9",
        "scrolled": true,
        "source_hash": "27514b2c",
        "execution_start": 1648863376136,
        "execution_millis": 173,
        "deepnote_to_be_reexecuted": false,
        "cell_id": "c6d5077fdb3d4025b877769428edc14a",
        "deepnote_cell_type": "code"
      },
      "source": [
        "# Esta celda debería levantar ina excepción informandoles que la bandeja no tiene ingredientes.\n",
        "jugera.preparar_jugo()"
      ],
      "execution_count": 6,
      "outputs": [
        {
          "output_type": "error",
          "ename": "Exception",
          "evalue": "ignored",
          "traceback": [
            "\u001b[0;31m---------------------------------------------------------------------------\u001b[0m",
            "\u001b[0;31mException\u001b[0m                                 Traceback (most recent call last)",
            "\u001b[0;32m<ipython-input-6-763feb2b9970>\u001b[0m in \u001b[0;36m<cell line: 2>\u001b[0;34m()\u001b[0m\n\u001b[1;32m      1\u001b[0m \u001b[0;31m# Esta celda debería levantar ina excepción informandoles que la bandeja no tiene ingredientes.\u001b[0m\u001b[0;34m\u001b[0m\u001b[0;34m\u001b[0m\u001b[0m\n\u001b[0;32m----> 2\u001b[0;31m \u001b[0mjugera\u001b[0m\u001b[0;34m.\u001b[0m\u001b[0mpreparar_jugo\u001b[0m\u001b[0;34m(\u001b[0m\u001b[0;34m)\u001b[0m\u001b[0;34m\u001b[0m\u001b[0;34m\u001b[0m\u001b[0m\n\u001b[0m",
            "\u001b[0;32m<ipython-input-2-699de39384d8>\u001b[0m in \u001b[0;36mpreparar_jugo\u001b[0;34m(self)\u001b[0m\n\u001b[1;32m     22\u001b[0m \u001b[0;34m\u001b[0m\u001b[0m\n\u001b[1;32m     23\u001b[0m         \u001b[0;32mif\u001b[0m \u001b[0;32mnot\u001b[0m \u001b[0mself\u001b[0m\u001b[0;34m.\u001b[0m\u001b[0mbandeja\u001b[0m\u001b[0;34m:\u001b[0m\u001b[0;34m\u001b[0m\u001b[0;34m\u001b[0m\u001b[0m\n\u001b[0;32m---> 24\u001b[0;31m             \u001b[0;32mraise\u001b[0m \u001b[0mException\u001b[0m\u001b[0;34m(\u001b[0m\u001b[0;34m'Error ❌: La bandeja no tiene ingredientes.'\u001b[0m\u001b[0;34m)\u001b[0m\u001b[0;34m\u001b[0m\u001b[0;34m\u001b[0m\u001b[0m\n\u001b[0m\u001b[1;32m     25\u001b[0m \u001b[0;34m\u001b[0m\u001b[0m\n\u001b[1;32m     26\u001b[0m         \u001b[0;32mfor\u001b[0m \u001b[0mfruta_nombre\u001b[0m \u001b[0;32min\u001b[0m \u001b[0mself\u001b[0m\u001b[0;34m.\u001b[0m\u001b[0mbandeja\u001b[0m\u001b[0;34m:\u001b[0m\u001b[0;34m\u001b[0m\u001b[0;34m\u001b[0m\u001b[0m\n",
            "\u001b[0;31mException\u001b[0m: Error ❌: La bandeja no tiene ingredientes."
          ]
        }
      ]
    },
    {
      "cell_type": "code",
      "metadata": {
        "id": "4873e0bf",
        "colab": {
          "base_uri": "https://localhost:8080/"
        },
        "outputId": "f1da72f8-0a89-4040-cc5a-99427c122e2f",
        "source_hash": "a8f0979e",
        "execution_start": 1648863377052,
        "execution_millis": 6,
        "deepnote_to_be_reexecuted": false,
        "cell_id": "c29aa5b7dc3745ff90ddadee72e24b3f",
        "deepnote_cell_type": "code"
      },
      "source": [
        "# Agregamos algunos ingredientes\n",
        "jugera.agregar_ingrediente(naranja)\n",
        "jugera.agregar_ingrediente(platano)\n",
        "\n",
        "# Y los listamos (debería imprimir: 'Ingredientes en la bandeja: naranja, plátano')\n",
        "jugera.listar_ingredientes()"
      ],
      "execution_count": 13,
      "outputs": [
        {
          "output_type": "stream",
          "name": "stdout",
          "text": [
            "Ingredientes en la bandeja: naranja, plátano.\n"
          ]
        }
      ]
    },
    {
      "cell_type": "code",
      "metadata": {
        "id": "ff555151",
        "colab": {
          "height": 53,
          "base_uri": "https://localhost:8080/"
        },
        "outputId": "63dfa8a6-2b81-4667-8946-c1ed35ede01d",
        "source_hash": "7086345e",
        "execution_start": 1648863380098,
        "execution_millis": 5,
        "deepnote_to_be_reexecuted": false,
        "cell_id": "d1890bc44c104a85a090ee3e997e1df9",
        "deepnote_cell_type": "code"
      },
      "source": [
        "# Preparamos el jugo: 'Jugo de naranja, plátano listo. 🏖️🥤 Que lo disfrutes!!! 🥤🏖️.'\n",
        "jugera.preparar_jugo()"
      ],
      "execution_count": 14,
      "outputs": [
        {
          "output_type": "stream",
          "name": "stdout",
          "text": [
            "Alerta ⚠️: El jugo puede contener restos de pepas.\n"
          ]
        },
        {
          "output_type": "execute_result",
          "data": {
            "text/plain": [
              "'Jugo de naranja, plátano listo. 🏖️🥤 Que lo disfrutes!!! 🥤🏖️'"
            ],
            "application/vnd.google.colaboratory.intrinsic+json": {
              "type": "string"
            }
          },
          "metadata": {},
          "execution_count": 14
        }
      ]
    },
    {
      "cell_type": "code",
      "metadata": {
        "id": "bbc532b2",
        "colab": {
          "base_uri": "https://localhost:8080/"
        },
        "outputId": "1b83b3a1-b5d7-4bad-eeca-7af1732944fe",
        "source_hash": "6a032d0a",
        "execution_start": 1648863382273,
        "execution_millis": 0,
        "deepnote_to_be_reexecuted": false,
        "cell_id": "323edee62a1d432d9ca2eadaa8a9f2c4",
        "deepnote_cell_type": "code"
      },
      "source": [
        "# Una vez preparado el jugo, debería vaciarse la bandeja (imprimir Bandeja vacía)\n",
        "jugera.listar_ingredientes()"
      ],
      "execution_count": 15,
      "outputs": [
        {
          "output_type": "stream",
          "name": "stdout",
          "text": [
            "Bandeja vacía\n"
          ]
        }
      ]
    },
    {
      "cell_type": "markdown",
      "metadata": {
        "id": "972dbcac",
        "deepnote_cell_height": 297.1875,
        "cell_id": "aa7c6610855d48bb85848283fe9fcca0",
        "deepnote_cell_type": "markdown"
      },
      "source": [
        "### Clase Jugera + Properties  [1.0 puntos]\n",
        "\n",
        "Implementar `bandeja` usando una `property` que permita setear una `nueva_bandeja` como `bandeja` según las siguientes condiciones:\n",
        "\n",
        "\n",
        "- Compruebe que `nueva_bandeja` sea una lista. En caso contrario, levante una excepción.\n",
        "- No permita agregar más de 3 ingredientes a la bandeja a la vez. Si se entregan más de 3 frutas, se levante una excepción.\n",
        "- Se compruebe que todos los elementos de la lista sean frutas. Para esto, por cada fruta compruebe que:\n",
        "    1. La fruta sea diccionario.\n",
        "    2. El diccionario entregado tenga las llaves `nombre`, `tipo`, `color` y `pepas`."
      ]
    },
    {
      "cell_type": "code",
      "metadata": {
        "id": "X3RXI9nisGfa",
        "source_hash": "68977855",
        "execution_start": 1648863394051,
        "execution_millis": 5,
        "deepnote_to_be_reexecuted": false,
        "cell_id": "806570623e07479eb9eb68009e97af06",
        "deepnote_cell_type": "code"
      },
      "source": [
        "class Jugera(Electrodomestico):\n",
        "\n",
        "    def __init__(self):\n",
        "        super().__init__()\n",
        "        self.bandeja = []\n",
        "\n",
        "    @property\n",
        "    def bandeja(self):\n",
        "        return self._bandeja\n",
        "\n",
        "    @bandeja.setter\n",
        "    def bandeja(self, nueva_bandeja):\n",
        "        if len(nueva_bandeja) > 3:\n",
        "            raise Exception('Error ❌: No se pueden agregar más de 3 frutas a la bandeja a la vez. ' f'Entregado: {len(nueva_bandeja)} frutas')\n",
        "\n",
        "        elif not all(isinstance(fruta, dict) and all(key in fruta for key in (\"nombre\", \"tipo\", \"color\", \"pepas\")) for fruta in nueva_bandeja):\n",
        "            raise Exception('Error ❌: No todos los elementos de la bandeja son frutas')\n",
        "\n",
        "        else:\n",
        "            self._bandeja = nueva_bandeja\n",
        "\n",
        "    def agregar_ingrediente(self, nueva_fruta):\n",
        "        self._bandeja.append(nueva_fruta)\n",
        "        print(f'''Ingrediente {nueva_fruta['nombre']} agregado correctamente''')\n",
        "\n",
        "    def listar_ingredientes(self):\n",
        "        if len(self._bandeja) == 0:\n",
        "            print('Bandeja vacía')\n",
        "        else:\n",
        "            ingredientes = ', '.join(elemento['nombre'] for elemento in self._bandeja)\n",
        "            print(f'Ingredientes en la bandeja: {ingredientes}.')\n",
        "\n",
        "    def preparar_jugo(self):\n",
        "        mensaje = ''\n",
        "        self.esta_enchufado()\n",
        "\n",
        "        if len(self._bandeja) == 0:\n",
        "            raise Exception('Error ❌: La bandeja no tiene ingredientes.')\n",
        "\n",
        "        if len(filtrar_por_pepa_v2(self._bandeja,tiene_pepas=True)) != 0:\n",
        "            print('Alerta ⚠️: El jugo puede contener restos de pepas.')\n",
        "\n",
        "        mensaje = f'''Jugo de {', '.join(elemento['nombre'] for elemento in self._bandeja)} listo. 🏖️🥤 Que lo disfrutes!!! 🥤🏖️.'''\n",
        "        self._bandeja = []\n",
        "\n",
        "        return mensaje"
      ],
      "execution_count": 32,
      "outputs": []
    },
    {
      "cell_type": "markdown",
      "metadata": {
        "tags": [],
        "cell_id": "7002ed07ad6a435288ecbe4513d9d10e",
        "deepnote_cell_height": 122.796875,
        "deepnote_cell_type": "markdown",
        "id": "WW1aiV9GawFD"
      },
      "source": [
        "### Interacciones\n",
        "\n",
        "Las siguientes celdas les permitirán probar las interacciones de esta clase.\n",
        "La ejecución es solo referencial y no lleva puntaje. La idea es que la utilice como guía para desarrollar la clase."
      ]
    },
    {
      "cell_type": "code",
      "metadata": {
        "tags": [],
        "source_hash": "d7617c26",
        "execution_start": 1648863396777,
        "execution_millis": 4,
        "deepnote_to_be_reexecuted": false,
        "cell_id": "61fb1b1ad18b4e94a88a959780730c58",
        "deepnote_cell_type": "code",
        "id": "WR-GKzF7awFD",
        "outputId": "a55b8084-bbc0-4ff7-c820-f6011755057c",
        "colab": {
          "base_uri": "https://localhost:8080/"
        }
      },
      "source": [
        "jugera_2 = Jugera()\n",
        "\n",
        "jugera_2.listar_ingredientes()"
      ],
      "execution_count": 33,
      "outputs": [
        {
          "output_type": "stream",
          "name": "stdout",
          "text": [
            "Bandeja vacía\n"
          ]
        }
      ]
    },
    {
      "cell_type": "code",
      "metadata": {
        "tags": [],
        "source_hash": "480070d3",
        "execution_start": 1648863398145,
        "execution_millis": 18,
        "deepnote_to_be_reexecuted": false,
        "cell_id": "4089968aee614a0298c852722ac6b56c",
        "deepnote_cell_type": "code",
        "id": "JdsN42B0awFE",
        "outputId": "c0b06f2d-3ce8-4df5-f673-e4a086673bab",
        "colab": {
          "base_uri": "https://localhost:8080/",
          "height": 311
        }
      },
      "source": [
        "jugera_2.preparar_jugo()"
      ],
      "execution_count": 34,
      "outputs": [
        {
          "output_type": "error",
          "ename": "Exception",
          "evalue": "ignored",
          "traceback": [
            "\u001b[0;31m---------------------------------------------------------------------------\u001b[0m",
            "\u001b[0;31mException\u001b[0m                                 Traceback (most recent call last)",
            "\u001b[0;32m<ipython-input-34-b7b38da5dd79>\u001b[0m in \u001b[0;36m<cell line: 1>\u001b[0;34m()\u001b[0m\n\u001b[0;32m----> 1\u001b[0;31m \u001b[0mjugera_2\u001b[0m\u001b[0;34m.\u001b[0m\u001b[0mpreparar_jugo\u001b[0m\u001b[0;34m(\u001b[0m\u001b[0;34m)\u001b[0m\u001b[0;34m\u001b[0m\u001b[0;34m\u001b[0m\u001b[0m\n\u001b[0m",
            "\u001b[0;32m<ipython-input-32-be03ab58bc74>\u001b[0m in \u001b[0;36mpreparar_jugo\u001b[0;34m(self)\u001b[0m\n\u001b[1;32m     33\u001b[0m     \u001b[0;32mdef\u001b[0m \u001b[0mpreparar_jugo\u001b[0m\u001b[0;34m(\u001b[0m\u001b[0mself\u001b[0m\u001b[0;34m)\u001b[0m\u001b[0;34m:\u001b[0m\u001b[0;34m\u001b[0m\u001b[0;34m\u001b[0m\u001b[0m\n\u001b[1;32m     34\u001b[0m         \u001b[0mmensaje\u001b[0m \u001b[0;34m=\u001b[0m \u001b[0;34m''\u001b[0m\u001b[0;34m\u001b[0m\u001b[0;34m\u001b[0m\u001b[0m\n\u001b[0;32m---> 35\u001b[0;31m         \u001b[0mself\u001b[0m\u001b[0;34m.\u001b[0m\u001b[0mesta_enchufado\u001b[0m\u001b[0;34m(\u001b[0m\u001b[0;34m)\u001b[0m\u001b[0;34m\u001b[0m\u001b[0;34m\u001b[0m\u001b[0m\n\u001b[0m\u001b[1;32m     36\u001b[0m \u001b[0;34m\u001b[0m\u001b[0m\n\u001b[1;32m     37\u001b[0m         \u001b[0;32mif\u001b[0m \u001b[0mlen\u001b[0m\u001b[0;34m(\u001b[0m\u001b[0mself\u001b[0m\u001b[0;34m.\u001b[0m\u001b[0m_bandeja\u001b[0m\u001b[0;34m)\u001b[0m \u001b[0;34m==\u001b[0m \u001b[0;36m0\u001b[0m\u001b[0;34m:\u001b[0m\u001b[0;34m\u001b[0m\u001b[0;34m\u001b[0m\u001b[0m\n",
            "\u001b[0;32m<ipython-input-11-63860f26449b>\u001b[0m in \u001b[0;36mesta_enchufado\u001b[0;34m(self)\u001b[0m\n\u001b[1;32m      6\u001b[0m     \u001b[0;32mdef\u001b[0m \u001b[0mesta_enchufado\u001b[0m\u001b[0;34m(\u001b[0m\u001b[0mself\u001b[0m\u001b[0;34m)\u001b[0m\u001b[0;34m:\u001b[0m\u001b[0;34m\u001b[0m\u001b[0;34m\u001b[0m\u001b[0m\n\u001b[1;32m      7\u001b[0m        \u001b[0;32mif\u001b[0m \u001b[0;32mnot\u001b[0m \u001b[0mself\u001b[0m\u001b[0;34m.\u001b[0m\u001b[0menchufado\u001b[0m\u001b[0;34m:\u001b[0m\u001b[0;34m\u001b[0m\u001b[0;34m\u001b[0m\u001b[0m\n\u001b[0;32m----> 8\u001b[0;31m          \u001b[0;32mraise\u001b[0m \u001b[0mException\u001b[0m\u001b[0;34m(\u001b[0m\u001b[0;34m'Alerta ⚠️: El electrodoméstico no está enchufado'\u001b[0m\u001b[0;34m)\u001b[0m\u001b[0;34m\u001b[0m\u001b[0;34m\u001b[0m\u001b[0m\n\u001b[0m\u001b[1;32m      9\u001b[0m \u001b[0;34m\u001b[0m\u001b[0m\n\u001b[1;32m     10\u001b[0m     \u001b[0;32mdef\u001b[0m \u001b[0menchufar\u001b[0m\u001b[0;34m(\u001b[0m\u001b[0mself\u001b[0m\u001b[0;34m)\u001b[0m\u001b[0;34m:\u001b[0m\u001b[0;34m\u001b[0m\u001b[0;34m\u001b[0m\u001b[0m\n",
            "\u001b[0;31mException\u001b[0m: Alerta ⚠️: El electrodoméstico no está enchufado"
          ]
        }
      ]
    },
    {
      "cell_type": "code",
      "metadata": {
        "tags": [],
        "source_hash": "d3e1edd9",
        "execution_start": 1648863398900,
        "execution_millis": 3,
        "deepnote_to_be_reexecuted": false,
        "cell_id": "c22db666b01740409ea10d8c65c3f4f0",
        "deepnote_cell_type": "code",
        "id": "VcnFzcHjawFF"
      },
      "source": [
        "# Enchufamos el electrodoméstico\n",
        "jugera_2.enchufar()"
      ],
      "execution_count": 35,
      "outputs": []
    },
    {
      "cell_type": "code",
      "metadata": {
        "tags": [],
        "source_hash": "b81f1f5b",
        "execution_start": 1648863400238,
        "execution_millis": 17,
        "deepnote_to_be_reexecuted": false,
        "cell_id": "b278da54f71e446ab773a9be8e47a921",
        "deepnote_cell_type": "code",
        "id": "Y9vb_uFZawFF",
        "outputId": "71c39c0e-d7ee-40ac-e21c-ffe588a0bfc2",
        "colab": {
          "base_uri": "https://localhost:8080/",
          "height": 304
        }
      },
      "source": [
        "# Esta celda debería levantar ina excepción informandoles que la bandeja no tiene ingredientes.\n",
        "jugera_2.preparar_jugo()"
      ],
      "execution_count": 36,
      "outputs": [
        {
          "output_type": "error",
          "ename": "Exception",
          "evalue": "ignored",
          "traceback": [
            "\u001b[0;31m---------------------------------------------------------------------------\u001b[0m",
            "\u001b[0;31mException\u001b[0m                                 Traceback (most recent call last)",
            "\u001b[0;32m<ipython-input-36-50e6459dff43>\u001b[0m in \u001b[0;36m<cell line: 2>\u001b[0;34m()\u001b[0m\n\u001b[1;32m      1\u001b[0m \u001b[0;31m# Esta celda debería levantar ina excepción informandoles que la bandeja no tiene ingredientes.\u001b[0m\u001b[0;34m\u001b[0m\u001b[0;34m\u001b[0m\u001b[0m\n\u001b[0;32m----> 2\u001b[0;31m \u001b[0mjugera_2\u001b[0m\u001b[0;34m.\u001b[0m\u001b[0mpreparar_jugo\u001b[0m\u001b[0;34m(\u001b[0m\u001b[0;34m)\u001b[0m\u001b[0;34m\u001b[0m\u001b[0;34m\u001b[0m\u001b[0m\n\u001b[0m",
            "\u001b[0;32m<ipython-input-32-be03ab58bc74>\u001b[0m in \u001b[0;36mpreparar_jugo\u001b[0;34m(self)\u001b[0m\n\u001b[1;32m     36\u001b[0m \u001b[0;34m\u001b[0m\u001b[0m\n\u001b[1;32m     37\u001b[0m         \u001b[0;32mif\u001b[0m \u001b[0mlen\u001b[0m\u001b[0;34m(\u001b[0m\u001b[0mself\u001b[0m\u001b[0;34m.\u001b[0m\u001b[0m_bandeja\u001b[0m\u001b[0;34m)\u001b[0m \u001b[0;34m==\u001b[0m \u001b[0;36m0\u001b[0m\u001b[0;34m:\u001b[0m\u001b[0;34m\u001b[0m\u001b[0;34m\u001b[0m\u001b[0m\n\u001b[0;32m---> 38\u001b[0;31m             \u001b[0;32mraise\u001b[0m \u001b[0mException\u001b[0m\u001b[0;34m(\u001b[0m\u001b[0;34m'Error ❌: La bandeja no tiene ingredientes.'\u001b[0m\u001b[0;34m)\u001b[0m\u001b[0;34m\u001b[0m\u001b[0;34m\u001b[0m\u001b[0m\n\u001b[0m\u001b[1;32m     39\u001b[0m \u001b[0;34m\u001b[0m\u001b[0m\n\u001b[1;32m     40\u001b[0m         \u001b[0;32mif\u001b[0m \u001b[0mlen\u001b[0m\u001b[0;34m(\u001b[0m\u001b[0mfiltrar_por_pepa_v2\u001b[0m\u001b[0;34m(\u001b[0m\u001b[0mself\u001b[0m\u001b[0;34m.\u001b[0m\u001b[0m_bandeja\u001b[0m\u001b[0;34m,\u001b[0m\u001b[0mtiene_pepas\u001b[0m\u001b[0;34m=\u001b[0m\u001b[0;32mTrue\u001b[0m\u001b[0;34m)\u001b[0m\u001b[0;34m)\u001b[0m \u001b[0;34m!=\u001b[0m \u001b[0;36m0\u001b[0m\u001b[0;34m:\u001b[0m\u001b[0;34m\u001b[0m\u001b[0;34m\u001b[0m\u001b[0m\n",
            "\u001b[0;31mException\u001b[0m: Error ❌: La bandeja no tiene ingredientes."
          ]
        }
      ]
    },
    {
      "cell_type": "code",
      "metadata": {
        "tags": [],
        "source_hash": "a016a727",
        "execution_start": 1648863402271,
        "execution_millis": 482,
        "deepnote_to_be_reexecuted": false,
        "cell_id": "3ad3896a485947d99be890cffca26f08",
        "deepnote_cell_type": "code",
        "id": "KB-o5v9vawFG",
        "outputId": "a32dcdef-0c55-4b53-e218-a1c423d7e151",
        "colab": {
          "base_uri": "https://localhost:8080/",
          "height": 304
        }
      },
      "source": [
        "# Agregamos algunos ingredientes (en este caso, como son más de 3, fallará)\n",
        "jugera_2.bandeja = [naranja, platano, frutilla, limon]"
      ],
      "execution_count": 37,
      "outputs": [
        {
          "output_type": "error",
          "ename": "Exception",
          "evalue": "ignored",
          "traceback": [
            "\u001b[0;31m---------------------------------------------------------------------------\u001b[0m",
            "\u001b[0;31mException\u001b[0m                                 Traceback (most recent call last)",
            "\u001b[0;32m<ipython-input-37-a2a110761309>\u001b[0m in \u001b[0;36m<cell line: 2>\u001b[0;34m()\u001b[0m\n\u001b[1;32m      1\u001b[0m \u001b[0;31m# Agregamos algunos ingredientes (en este caso, como son más de 3, fallará)\u001b[0m\u001b[0;34m\u001b[0m\u001b[0;34m\u001b[0m\u001b[0m\n\u001b[0;32m----> 2\u001b[0;31m \u001b[0mjugera_2\u001b[0m\u001b[0;34m.\u001b[0m\u001b[0mbandeja\u001b[0m \u001b[0;34m=\u001b[0m \u001b[0;34m[\u001b[0m\u001b[0mnaranja\u001b[0m\u001b[0;34m,\u001b[0m \u001b[0mplatano\u001b[0m\u001b[0;34m,\u001b[0m \u001b[0mfrutilla\u001b[0m\u001b[0;34m,\u001b[0m \u001b[0mlimon\u001b[0m\u001b[0;34m]\u001b[0m\u001b[0;34m\u001b[0m\u001b[0;34m\u001b[0m\u001b[0m\n\u001b[0m",
            "\u001b[0;32m<ipython-input-32-be03ab58bc74>\u001b[0m in \u001b[0;36mbandeja\u001b[0;34m(self, nueva_bandeja)\u001b[0m\n\u001b[1;32m     12\u001b[0m     \u001b[0;32mdef\u001b[0m \u001b[0mbandeja\u001b[0m\u001b[0;34m(\u001b[0m\u001b[0mself\u001b[0m\u001b[0;34m,\u001b[0m \u001b[0mnueva_bandeja\u001b[0m\u001b[0;34m)\u001b[0m\u001b[0;34m:\u001b[0m\u001b[0;34m\u001b[0m\u001b[0;34m\u001b[0m\u001b[0m\n\u001b[1;32m     13\u001b[0m         \u001b[0;32mif\u001b[0m \u001b[0mlen\u001b[0m\u001b[0;34m(\u001b[0m\u001b[0mnueva_bandeja\u001b[0m\u001b[0;34m)\u001b[0m \u001b[0;34m>\u001b[0m \u001b[0;36m3\u001b[0m\u001b[0;34m:\u001b[0m\u001b[0;34m\u001b[0m\u001b[0;34m\u001b[0m\u001b[0m\n\u001b[0;32m---> 14\u001b[0;31m             \u001b[0;32mraise\u001b[0m \u001b[0mException\u001b[0m\u001b[0;34m(\u001b[0m\u001b[0;34m'Error ❌: No se pueden agregar más de 3 frutas a la bandeja a la vez. '\u001b[0m \u001b[0;34mf'Entregado: {len(nueva_bandeja)} frutas'\u001b[0m\u001b[0;34m)\u001b[0m\u001b[0;34m\u001b[0m\u001b[0;34m\u001b[0m\u001b[0m\n\u001b[0m\u001b[1;32m     15\u001b[0m \u001b[0;34m\u001b[0m\u001b[0m\n\u001b[1;32m     16\u001b[0m         \u001b[0;32melif\u001b[0m \u001b[0;32mnot\u001b[0m \u001b[0mall\u001b[0m\u001b[0;34m(\u001b[0m\u001b[0misinstance\u001b[0m\u001b[0;34m(\u001b[0m\u001b[0mfruta\u001b[0m\u001b[0;34m,\u001b[0m \u001b[0mdict\u001b[0m\u001b[0;34m)\u001b[0m \u001b[0;32mand\u001b[0m \u001b[0mall\u001b[0m\u001b[0;34m(\u001b[0m\u001b[0mkey\u001b[0m \u001b[0;32min\u001b[0m \u001b[0mfruta\u001b[0m \u001b[0;32mfor\u001b[0m \u001b[0mkey\u001b[0m \u001b[0;32min\u001b[0m \u001b[0;34m(\u001b[0m\u001b[0;34m\"nombre\"\u001b[0m\u001b[0;34m,\u001b[0m \u001b[0;34m\"tipo\"\u001b[0m\u001b[0;34m,\u001b[0m \u001b[0;34m\"color\"\u001b[0m\u001b[0;34m,\u001b[0m \u001b[0;34m\"pepas\"\u001b[0m\u001b[0;34m)\u001b[0m\u001b[0;34m)\u001b[0m \u001b[0;32mfor\u001b[0m \u001b[0mfruta\u001b[0m \u001b[0;32min\u001b[0m \u001b[0mnueva_bandeja\u001b[0m\u001b[0;34m)\u001b[0m\u001b[0;34m:\u001b[0m\u001b[0;34m\u001b[0m\u001b[0;34m\u001b[0m\u001b[0m\n",
            "\u001b[0;31mException\u001b[0m: Error ❌: No se pueden agregar más de 3 frutas a la bandeja a la vez. Entregado: 4 frutas"
          ]
        }
      ]
    },
    {
      "cell_type": "code",
      "metadata": {
        "tags": [],
        "source_hash": "561a3ff9",
        "execution_start": 1648863404537,
        "execution_millis": 20,
        "deepnote_to_be_reexecuted": false,
        "cell_id": "314f0f7e4621417b973ff5202c24e2b0",
        "deepnote_cell_type": "code",
        "id": "OjhuVR3wawFI",
        "outputId": "b52a9a35-e1cb-4b4b-9162-64cce7efb76f",
        "colab": {
          "base_uri": "https://localhost:8080/",
          "height": 320
        }
      },
      "source": [
        "# Agregamos algunos ingredientes\n",
        "# (en este caso debería fallar, ya que estamos entregando un string en el primer lugar)\n",
        "jugera_2.bandeja = [\"naranja\", platano, frutilla]"
      ],
      "execution_count": 38,
      "outputs": [
        {
          "output_type": "error",
          "ename": "Exception",
          "evalue": "ignored",
          "traceback": [
            "\u001b[0;31m---------------------------------------------------------------------------\u001b[0m",
            "\u001b[0;31mException\u001b[0m                                 Traceback (most recent call last)",
            "\u001b[0;32m<ipython-input-38-f082b06e4748>\u001b[0m in \u001b[0;36m<cell line: 3>\u001b[0;34m()\u001b[0m\n\u001b[1;32m      1\u001b[0m \u001b[0;31m# Agregamos algunos ingredientes\u001b[0m\u001b[0;34m\u001b[0m\u001b[0;34m\u001b[0m\u001b[0m\n\u001b[1;32m      2\u001b[0m \u001b[0;31m# (en este caso debería fallar, ya que estamos entregando un string en el primer lugar)\u001b[0m\u001b[0;34m\u001b[0m\u001b[0;34m\u001b[0m\u001b[0m\n\u001b[0;32m----> 3\u001b[0;31m \u001b[0mjugera_2\u001b[0m\u001b[0;34m.\u001b[0m\u001b[0mbandeja\u001b[0m \u001b[0;34m=\u001b[0m \u001b[0;34m[\u001b[0m\u001b[0;34m\"naranja\"\u001b[0m\u001b[0;34m,\u001b[0m \u001b[0mplatano\u001b[0m\u001b[0;34m,\u001b[0m \u001b[0mfrutilla\u001b[0m\u001b[0;34m]\u001b[0m\u001b[0;34m\u001b[0m\u001b[0;34m\u001b[0m\u001b[0m\n\u001b[0m",
            "\u001b[0;32m<ipython-input-32-be03ab58bc74>\u001b[0m in \u001b[0;36mbandeja\u001b[0;34m(self, nueva_bandeja)\u001b[0m\n\u001b[1;32m     15\u001b[0m \u001b[0;34m\u001b[0m\u001b[0m\n\u001b[1;32m     16\u001b[0m         \u001b[0;32melif\u001b[0m \u001b[0;32mnot\u001b[0m \u001b[0mall\u001b[0m\u001b[0;34m(\u001b[0m\u001b[0misinstance\u001b[0m\u001b[0;34m(\u001b[0m\u001b[0mfruta\u001b[0m\u001b[0;34m,\u001b[0m \u001b[0mdict\u001b[0m\u001b[0;34m)\u001b[0m \u001b[0;32mand\u001b[0m \u001b[0mall\u001b[0m\u001b[0;34m(\u001b[0m\u001b[0mkey\u001b[0m \u001b[0;32min\u001b[0m \u001b[0mfruta\u001b[0m \u001b[0;32mfor\u001b[0m \u001b[0mkey\u001b[0m \u001b[0;32min\u001b[0m \u001b[0;34m(\u001b[0m\u001b[0;34m\"nombre\"\u001b[0m\u001b[0;34m,\u001b[0m \u001b[0;34m\"tipo\"\u001b[0m\u001b[0;34m,\u001b[0m \u001b[0;34m\"color\"\u001b[0m\u001b[0;34m,\u001b[0m \u001b[0;34m\"pepas\"\u001b[0m\u001b[0;34m)\u001b[0m\u001b[0;34m)\u001b[0m \u001b[0;32mfor\u001b[0m \u001b[0mfruta\u001b[0m \u001b[0;32min\u001b[0m \u001b[0mnueva_bandeja\u001b[0m\u001b[0;34m)\u001b[0m\u001b[0;34m:\u001b[0m\u001b[0;34m\u001b[0m\u001b[0;34m\u001b[0m\u001b[0m\n\u001b[0;32m---> 17\u001b[0;31m             \u001b[0;32mraise\u001b[0m \u001b[0mException\u001b[0m\u001b[0;34m(\u001b[0m\u001b[0;34m'Error ❌: No todos los elementos de la bandeja son frutas'\u001b[0m\u001b[0;34m)\u001b[0m\u001b[0;34m\u001b[0m\u001b[0;34m\u001b[0m\u001b[0m\n\u001b[0m\u001b[1;32m     18\u001b[0m \u001b[0;34m\u001b[0m\u001b[0m\n\u001b[1;32m     19\u001b[0m         \u001b[0;32melse\u001b[0m\u001b[0;34m:\u001b[0m\u001b[0;34m\u001b[0m\u001b[0;34m\u001b[0m\u001b[0m\n",
            "\u001b[0;31mException\u001b[0m: Error ❌: No todos los elementos de la bandeja son frutas"
          ]
        }
      ]
    },
    {
      "cell_type": "code",
      "metadata": {
        "tags": [],
        "source_hash": "ecc3586",
        "execution_start": 1648863408300,
        "execution_millis": 2,
        "deepnote_to_be_reexecuted": false,
        "cell_id": "976577e8b66343e38704f8597e85f175",
        "deepnote_cell_type": "code",
        "id": "5mR7HjHuawFI",
        "outputId": "342aad5f-bf24-44ed-e6ac-a09af111f8ef",
        "colab": {
          "base_uri": "https://localhost:8080/",
          "height": 320
        }
      },
      "source": [
        "# Agregamos algunos ingredientes\n",
        "# (en este caso debería fallar, ya que arándando tiene solo la llave nombre)\n",
        "jugera_2.bandeja = [{'nombre': 'arándano'}, platano, frutilla]"
      ],
      "execution_count": 39,
      "outputs": [
        {
          "output_type": "error",
          "ename": "Exception",
          "evalue": "ignored",
          "traceback": [
            "\u001b[0;31m---------------------------------------------------------------------------\u001b[0m",
            "\u001b[0;31mException\u001b[0m                                 Traceback (most recent call last)",
            "\u001b[0;32m<ipython-input-39-781dcdfac548>\u001b[0m in \u001b[0;36m<cell line: 3>\u001b[0;34m()\u001b[0m\n\u001b[1;32m      1\u001b[0m \u001b[0;31m# Agregamos algunos ingredientes\u001b[0m\u001b[0;34m\u001b[0m\u001b[0;34m\u001b[0m\u001b[0m\n\u001b[1;32m      2\u001b[0m \u001b[0;31m# (en este caso debería fallar, ya que arándando tiene solo la llave nombre)\u001b[0m\u001b[0;34m\u001b[0m\u001b[0;34m\u001b[0m\u001b[0m\n\u001b[0;32m----> 3\u001b[0;31m \u001b[0mjugera_2\u001b[0m\u001b[0;34m.\u001b[0m\u001b[0mbandeja\u001b[0m \u001b[0;34m=\u001b[0m \u001b[0;34m[\u001b[0m\u001b[0;34m{\u001b[0m\u001b[0;34m'nombre'\u001b[0m\u001b[0;34m:\u001b[0m \u001b[0;34m'arándano'\u001b[0m\u001b[0;34m}\u001b[0m\u001b[0;34m,\u001b[0m \u001b[0mplatano\u001b[0m\u001b[0;34m,\u001b[0m \u001b[0mfrutilla\u001b[0m\u001b[0;34m]\u001b[0m\u001b[0;34m\u001b[0m\u001b[0;34m\u001b[0m\u001b[0m\n\u001b[0m",
            "\u001b[0;32m<ipython-input-32-be03ab58bc74>\u001b[0m in \u001b[0;36mbandeja\u001b[0;34m(self, nueva_bandeja)\u001b[0m\n\u001b[1;32m     15\u001b[0m \u001b[0;34m\u001b[0m\u001b[0m\n\u001b[1;32m     16\u001b[0m         \u001b[0;32melif\u001b[0m \u001b[0;32mnot\u001b[0m \u001b[0mall\u001b[0m\u001b[0;34m(\u001b[0m\u001b[0misinstance\u001b[0m\u001b[0;34m(\u001b[0m\u001b[0mfruta\u001b[0m\u001b[0;34m,\u001b[0m \u001b[0mdict\u001b[0m\u001b[0;34m)\u001b[0m \u001b[0;32mand\u001b[0m \u001b[0mall\u001b[0m\u001b[0;34m(\u001b[0m\u001b[0mkey\u001b[0m \u001b[0;32min\u001b[0m \u001b[0mfruta\u001b[0m \u001b[0;32mfor\u001b[0m \u001b[0mkey\u001b[0m \u001b[0;32min\u001b[0m \u001b[0;34m(\u001b[0m\u001b[0;34m\"nombre\"\u001b[0m\u001b[0;34m,\u001b[0m \u001b[0;34m\"tipo\"\u001b[0m\u001b[0;34m,\u001b[0m \u001b[0;34m\"color\"\u001b[0m\u001b[0;34m,\u001b[0m \u001b[0;34m\"pepas\"\u001b[0m\u001b[0;34m)\u001b[0m\u001b[0;34m)\u001b[0m \u001b[0;32mfor\u001b[0m \u001b[0mfruta\u001b[0m \u001b[0;32min\u001b[0m \u001b[0mnueva_bandeja\u001b[0m\u001b[0;34m)\u001b[0m\u001b[0;34m:\u001b[0m\u001b[0;34m\u001b[0m\u001b[0;34m\u001b[0m\u001b[0m\n\u001b[0;32m---> 17\u001b[0;31m             \u001b[0;32mraise\u001b[0m \u001b[0mException\u001b[0m\u001b[0;34m(\u001b[0m\u001b[0;34m'Error ❌: No todos los elementos de la bandeja son frutas'\u001b[0m\u001b[0;34m)\u001b[0m\u001b[0;34m\u001b[0m\u001b[0;34m\u001b[0m\u001b[0m\n\u001b[0m\u001b[1;32m     18\u001b[0m \u001b[0;34m\u001b[0m\u001b[0m\n\u001b[1;32m     19\u001b[0m         \u001b[0;32melse\u001b[0m\u001b[0;34m:\u001b[0m\u001b[0;34m\u001b[0m\u001b[0;34m\u001b[0m\u001b[0m\n",
            "\u001b[0;31mException\u001b[0m: Error ❌: No todos los elementos de la bandeja son frutas"
          ]
        }
      ]
    },
    {
      "cell_type": "code",
      "metadata": {
        "tags": [],
        "source_hash": "b2bcbf",
        "execution_start": 1648863409767,
        "execution_millis": 6,
        "deepnote_to_be_reexecuted": false,
        "cell_id": "4403aaea7e044305bb5a8488d71e42f9",
        "deepnote_cell_type": "code",
        "id": "p-3U5lzTawFJ",
        "outputId": "788eaf0e-fc73-4923-9fb2-cdf8414b30f5",
        "colab": {
          "base_uri": "https://localhost:8080/"
        }
      },
      "source": [
        "# Agregamos algunos ingredientes (en este caso, como son 3, debería funcionar)\n",
        "jugera_2.bandeja = [naranja, platano, frutilla]\n",
        "\n",
        "# Y los listamos (debería imprimir: 'Ingredientes en la bandeja: naranja, plátano')\n",
        "jugera_2.listar_ingredientes()"
      ],
      "execution_count": 40,
      "outputs": [
        {
          "output_type": "stream",
          "name": "stdout",
          "text": [
            "Ingredientes en la bandeja: naranja, plátano, frutilla.\n"
          ]
        }
      ]
    },
    {
      "cell_type": "code",
      "metadata": {
        "tags": [],
        "source_hash": "a9d685c1",
        "execution_start": 1648863411760,
        "execution_millis": 5,
        "deepnote_to_be_reexecuted": false,
        "cell_id": "4b88a24abdc44fcfb5ea294a852bf921",
        "deepnote_cell_type": "code",
        "id": "AcS6MPy1awFJ",
        "outputId": "c8123fbe-3134-4e23-92c3-7545a25820db",
        "colab": {
          "base_uri": "https://localhost:8080/",
          "height": 53
        }
      },
      "source": [
        "# Una vez preparado el jugo, imprima el contenido del jugo y si una alerta,\n",
        "# en el caso que el jugo tenga pepas.\n",
        "jugera_2.preparar_jugo()"
      ],
      "execution_count": 41,
      "outputs": [
        {
          "output_type": "stream",
          "name": "stdout",
          "text": [
            "Alerta ⚠️: El jugo puede contener restos de pepas.\n"
          ]
        },
        {
          "output_type": "execute_result",
          "data": {
            "text/plain": [
              "'Jugo de naranja, plátano, frutilla listo. 🏖️🥤 Que lo disfrutes!!! 🥤🏖️.'"
            ],
            "application/vnd.google.colaboratory.intrinsic+json": {
              "type": "string"
            }
          },
          "metadata": {},
          "execution_count": 41
        }
      ]
    },
    {
      "cell_type": "code",
      "metadata": {
        "cell_id": "5d8468e21edd4cecab85b9c04df71094",
        "deepnote_cell_type": "code",
        "id": "OGabpP48awFK",
        "colab": {
          "base_uri": "https://localhost:8080/"
        },
        "outputId": "89d087f4-55ca-4625-b344-45d147211b8d"
      },
      "source": [
        "# Una vez preparado el jugo, debería vaciarse la bandeja (imprimir Bandeja vacía)\n",
        "jugera_2.listar_ingredientes()"
      ],
      "execution_count": 42,
      "outputs": [
        {
          "output_type": "stream",
          "name": "stdout",
          "text": [
            "Bandeja vacía\n"
          ]
        }
      ]
    },
    {
      "cell_type": "markdown",
      "metadata": {
        "cell_id": "5e068559e86248d8bee152cdc577fdaa",
        "deepnote_cell_type": "markdown",
        "id": "gMmCJhD6awFK"
      },
      "source": [
        "## Parte 3 [1.0 puntos]"
      ]
    },
    {
      "cell_type": "markdown",
      "metadata": {
        "cell_id": "cd08daf60c5042bb8955ddbb82fe8dfd",
        "deepnote_cell_type": "markdown",
        "id": "-JjwM1hDawFK"
      },
      "source": [
        "Para esta última parte, deben responder las siguientes preguntas:\n",
        "\n",
        "1. ¿Qué es un virtual environment? ¿Para qué sirve? (0.25 ptos)\n",
        "\n",
        "Es una herramienta que sirve para crear un entorno Python aislado, donde pueden vivir diferentes directorios y archivos. Este sirve para trabajar con diferentes versiones de paquetes, que, de otra forma, podrían entrar en conflicto entre ellos.\n",
        "\n",
        "2. ¿Qué ventajas puede tener usar un virtual environment? Nombre y explique al menos 2. (0.25 ptos)\n",
        "\n",
        "Una ventaja es que los vistual enviroments permiten que, al trabajar edifernetes proyectos, estos puedan utilizar fdiferntens versiones de una misma biblioteca.\n",
        "Otra ventaja, es que al instalar paquetes en un entorno virtual, se puede crear un archivo llamado 'requierements.txt' que capture todas las dependencias del proyecto. Esto va a permitir que cuando otros desarrolladores quieran trabajar en el proyecto, pudan descargar todos los paquetes con una línea de comando.\n",
        "\n",
        "3. Escriba el comando para crear un virtual environment usando `conda`. ¿Existen otras formas de crear un virtual environment? (0.25 ptos)\n",
        "\n",
        "El código para crear un virtual enviroment con `conda` es el siguiente:\n",
        "`conda create --name myenv`\n",
        "Donde 'name' es el nombre que se le quiere dar al entorno virtual.<br>\n",
        "También se puede agregar el siguiente código para definir la versión específica de python con la que se quiere trabajar: `python = 3.9`, en caso de que se quiera trabajar con Python 3.9.<br>\n",
        "Otra forma de crear entornos virtuales es con el paquete `venv`, el cual viene integrado con Python a paartir de la versión 3.3. Este permite crear entornos virtuales utilizando la siguiente línea de comando: `python -m venv <ruta-al-venv>`\n",
        "\n",
        "4. ¿De qué forma podemos exportar las librerias instaladas en un virtual environment? Escriba el comando que nos permite realizar esto.  (0.25 ptos)\n",
        "\n",
        "Para exportar la lista de librerías instaladas en un entorno virtual de Python y así compartir o replicar ese entorno en otro lugar, se puede utilizar el comando `pip freeze`. Este comando genera una lista (en un archivo de texto) de todas las librerías instaladas en el entorno virtual, junto con sus versiones.\n",
        "\n",
        "Por ejemplo: `pip freeze > librerias.txt`.\n",
        "\n",
        "Luego, para poder instalar estas librerias en otro entorno virtual, se debe usar el siguiente comando: `pip install -r requirements.txt`.\n",
        "\n"
      ]
    },
    {
      "cell_type": "markdown",
      "metadata": {
        "cell_id": "f43d41efbd004176940992a92a1fe953",
        "deepnote_cell_type": "markdown",
        "id": "vEhkrsBOawFL"
      },
      "source": []
    },
    {
      "cell_type": "markdown",
      "source": [
        "<a style='text-decoration:none;line-height:16px;display:flex;color:#5B5B62;padding:10px;justify-content:end;' href='https://deepnote.com?utm_source=created-in-deepnote-cell&projectId=87110296-876e-426f-b91d-aaf681223468' target=\"_blank\">\n",
        "<img alt='Created in deepnote.com' style='display:inline;max-height:16px;margin:0px;margin-right:7.5px;' src='data:image/svg+xml;base64,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' > </img>\n",
        "Created in <span style='font-weight:600;margin-left:4px;'>Deepnote</span></a>"
      ],
      "metadata": {
        "created_in_deepnote_cell": true,
        "deepnote_cell_type": "markdown",
        "id": "JeC47mlAawFL"
      }
    }
  ],
  "nbformat": 4,
  "nbformat_minor": 0,
  "metadata": {
    "colab": {
      "provenance": []
    },
    "deepnote": {},
    "kernelspec": {
      "name": "python3",
      "language": "python",
      "display_name": "Python 3"
    },
    "language_info": {
      "name": "python",
      "version": "3.8.3",
      "mimetype": "text/x-python",
      "file_extension": ".py",
      "pygments_lexer": "ipython3",
      "codemirror_mode": {
        "name": "ipython",
        "version": 3
      },
      "nbconvert_exporter": "python"
    },
    "deepnote_notebook_id": "9ab947a9e176401fb56de9443c666a4a",
    "deepnote_execution_queue": []
  }
}